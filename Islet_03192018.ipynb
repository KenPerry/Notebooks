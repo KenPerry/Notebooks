{
 "cells": [
  {
   "cell_type": "code",
   "execution_count": 1,
   "metadata": {
    "collapsed": false
   },
   "outputs": [],
   "source": [
    "from IPython.core.interactiveshell import InteractiveShell\n",
    "InteractiveShell.ast_node_interactivity = \"all\"\n",
    "\n",
    "# Reload all modules imported with %aimport\n",
    "%load_ext autoreload\n",
    "%autoreload 1"
   ]
  },
  {
   "cell_type": "code",
   "execution_count": 2,
   "metadata": {
    "collapsed": true
   },
   "outputs": [],
   "source": [
    "%matplotlib inline \n",
    "\n",
    "import pandas as pd\n",
    "import os\n",
    "import datetime as dt\n",
    "from datetime import date\n",
    "from datetime import timedelta\n",
    "import dateutil.parser as dup\n",
    "import dateutil.relativedelta as rd"
   ]
  },
  {
   "cell_type": "code",
   "execution_count": 3,
   "metadata": {
    "collapsed": false
   },
   "outputs": [
    {
     "data": {
      "text/plain": [
       "datetime.datetime(2018, 3, 20, 0, 0)"
      ]
     },
     "execution_count": 3,
     "metadata": {},
     "output_type": "execute_result"
    }
   ],
   "source": [
    "%aimport trans.data\n",
    "from trans.data import GetData\n",
    "\n",
    "start = dt.datetime(2000, 1, 1)\n",
    "today = dt.datetime.combine( date.today(), dt.time.min)\n",
    "today\n",
    "gd = GetData()"
   ]
  },
  {
   "cell_type": "code",
   "execution_count": 4,
   "metadata": {
    "collapsed": true
   },
   "outputs": [],
   "source": [
    "\n",
    "from trans.gtrans import *\n",
    "from trans.reg import Reg, RegAttr\n",
    "from trans.regpipe import RegPipe"
   ]
  },
  {
   "cell_type": "markdown",
   "metadata": {},
   "source": [
    "## Usually the Adj Close and Close fields are close in value in Yahoo\n",
    "### However, around dividends, the fields diverge backwards in time from the payment date\n",
    "### It seems that eventually Yahoo repopulates the data and the difference disappears again\n",
    "### There is a SPY divident of 1.09 on 3/16/2018 that is causing a big divergence.\n",
    "### The percent changes are close EXCEPT on the start of the week of the dividend, i.e., 03/09/2018\n",
    "## Althoug Adj Close is more correct (since two tickers pay dividends at different times), we may need to use Close (which is what PX_LAST on Bloomber is) to eliminate one big returns"
   ]
  },
  {
   "cell_type": "code",
   "execution_count": 5,
   "metadata": {
    "collapsed": true
   },
   "outputs": [],
   "source": [
    "close_field = \"Adj Close\" # \"Close\""
   ]
  },
  {
   "cell_type": "code",
   "execution_count": 6,
   "metadata": {
    "collapsed": false
   },
   "outputs": [
    {
     "data": {
      "text/plain": [
       "911"
      ]
     },
     "execution_count": 6,
     "metadata": {},
     "output_type": "execute_result"
    }
   ],
   "source": [
    "existing_tickers = gd.existing()\n",
    "existing_tickers.sort()\n",
    "len(existing_tickers)"
   ]
  },
  {
   "cell_type": "code",
   "execution_count": 7,
   "metadata": {
    "collapsed": false
   },
   "outputs": [
    {
     "data": {
      "text/plain": [
       "911"
      ]
     },
     "execution_count": 7,
     "metadata": {},
     "output_type": "execute_result"
    }
   ],
   "source": [
    "req_tickers = [ \"FB\", \"NFLX\", \"BA\", \"AVGO\", \"MCHP\", \"AKAM\", \"MRVL\", \"EA\", \"MSFT\"]\n",
    "exp_tickers = list( set(existing_tickers).union( req_tickers ) )\n",
    "exp_tickers.sort()\n",
    "len(exp_tickers)"
   ]
  },
  {
   "cell_type": "code",
   "execution_count": 8,
   "metadata": {
    "collapsed": false
   },
   "outputs": [
    {
     "data": {
      "text/plain": [
       "[]"
      ]
     },
     "execution_count": 8,
     "metadata": {},
     "output_type": "execute_result"
    }
   ],
   "source": [
    "cleaned = gd.clean_data( exp_tickers )\n",
    "cleaned"
   ]
  },
  {
   "cell_type": "code",
   "execution_count": 9,
   "metadata": {
    "collapsed": false
   },
   "outputs": [],
   "source": [
    "update_data = False"
   ]
  },
  {
   "cell_type": "code",
   "execution_count": 10,
   "metadata": {
    "collapsed": false
   },
   "outputs": [],
   "source": [
    "if update_data:\n",
    "    changed_tickers = gd.get_data( exp_tickers, start, today )\n",
    "    print(\"Number of tickers updated: {}\", len(changed_tickers))\n",
    "        "
   ]
  },
  {
   "cell_type": "markdown",
   "metadata": {},
   "source": [
    "## Create sector residuals"
   ]
  },
  {
   "cell_type": "code",
   "execution_count": 11,
   "metadata": {
    "collapsed": false
   },
   "outputs": [],
   "source": [
    "sector_tickers = ['SPY',\n",
    " 'XLY',\n",
    " 'XLP',\n",
    " 'XLE',\n",
    " 'XLF',\n",
    " 'XLV',\n",
    " 'XLI',\n",
    " 'XLB',\n",
    " 'XLRE',\n",
    " 'XLK',\n",
    " 'XTL',\n",
    " 'XLU']\n",
    "\n",
    "price_df = GetDataTransformer(sector_tickers, cal_ticker=\"SPY\").fit_transform( pd.DataFrame())"
   ]
  },
  {
   "cell_type": "code",
   "execution_count": 12,
   "metadata": {
    "collapsed": false
   },
   "outputs": [
    {
     "name": "stdout",
     "output_type": "stream",
     "text": [
      "transform: pandas version <= 0.20.\n"
     ]
    }
   ],
   "source": [
    "pipe_pct   = make_pipeline(GenSelectAttrsTransformer([ close_field], dropSingle=False),\n",
    "                           pctTrans,\n",
    "                           GenRenameAttrsTransformer(lambda col: \"Pct\", level=0)\n",
    "                          )\n",
    "pct_df = pipe_pct.fit_transform(price_df)"
   ]
  },
  {
   "cell_type": "markdown",
   "metadata": {},
   "source": [
    "## NOTE: we are NOT using the Residual stack b/c that object only gives residuals, and not access to the betas (which we want to observe)"
   ]
  },
  {
   "cell_type": "code",
   "execution_count": 13,
   "metadata": {
    "collapsed": false
   },
   "outputs": [
    {
     "data": {
      "text/plain": [
       "(datetime.datetime(2017, 9, 17, 0, 0), datetime.datetime(2018, 3, 16, 0, 0))"
      ]
     },
     "execution_count": 13,
     "metadata": {},
     "output_type": "execute_result"
    },
    {
     "name": "stdout",
     "output_type": "stream",
     "text": [
      "IndCols: [('Pct', 'SPY')], depCol ('Pct', 'XLB'), cols [('Pct', 'SPY'), ('Pct', 'XLB')]\n",
      "IndCols: [('Pct', 'SPY')], depCol ('Pct', 'XLE'), cols [('Pct', 'SPY'), ('Pct', 'XLE')]\n",
      "IndCols: [('Pct', 'SPY')], depCol ('Pct', 'XLF'), cols [('Pct', 'SPY'), ('Pct', 'XLF')]\n",
      "IndCols: [('Pct', 'SPY')], depCol ('Pct', 'XLI'), cols [('Pct', 'SPY'), ('Pct', 'XLI')]\n",
      "IndCols: [('Pct', 'SPY')], depCol ('Pct', 'XLK'), cols [('Pct', 'SPY'), ('Pct', 'XLK')]\n",
      "IndCols: [('Pct', 'SPY')], depCol ('Pct', 'XLP'), cols [('Pct', 'SPY'), ('Pct', 'XLP')]\n",
      "IndCols: [('Pct', 'SPY')], depCol ('Pct', 'XLRE'), cols [('Pct', 'SPY'), ('Pct', 'XLRE')]\n",
      "IndCols: [('Pct', 'SPY')], depCol ('Pct', 'XLU'), cols [('Pct', 'SPY'), ('Pct', 'XLU')]\n",
      "IndCols: [('Pct', 'SPY')], depCol ('Pct', 'XLV'), cols [('Pct', 'SPY'), ('Pct', 'XLV')]\n",
      "IndCols: [('Pct', 'SPY')], depCol ('Pct', 'XLY'), cols [('Pct', 'SPY'), ('Pct', 'XLY')]\n",
      "IndCols: [('Pct', 'SPY')], depCol ('Pct', 'XTL'), cols [('Pct', 'SPY'), ('Pct', 'XTL')]\n"
     ]
    },
    {
     "data": {
      "text/plain": [
       "(1, 22)"
      ]
     },
     "execution_count": 13,
     "metadata": {},
     "output_type": "execute_result"
    }
   ],
   "source": [
    "end = dup.parse(\"03/16/2018\")\n",
    "window = rd.relativedelta(months=+6)\n",
    "\n",
    "regStarts = end - window + timedelta(days=1)\n",
    "regStarts, end\n",
    "pct_dfs = pct_df.loc[ regStarts:end,:]\n",
    "\n",
    "rps = RegPipe( pct_dfs )\n",
    "rps.indCols( [ idx[\"Pct\", \"SPY\"] ] )\n",
    "rps.regressSingle()\n",
    "\n",
    "rps.beta_df.shape"
   ]
  },
  {
   "cell_type": "code",
   "execution_count": 14,
   "metadata": {
    "collapsed": false
   },
   "outputs": [
    {
     "data": {
      "text/html": [
       "<div>\n",
       "<table border=\"1\" class=\"dataframe\">\n",
       "  <thead>\n",
       "    <tr>\n",
       "      <th></th>\n",
       "      <th colspan=\"10\" halign=\"left\">Beta 0</th>\n",
       "      <th>...</th>\n",
       "      <th colspan=\"10\" halign=\"left\">Beta 1</th>\n",
       "    </tr>\n",
       "    <tr>\n",
       "      <th></th>\n",
       "      <th>XLB</th>\n",
       "      <th>XLE</th>\n",
       "      <th>XLF</th>\n",
       "      <th>XLI</th>\n",
       "      <th>XLK</th>\n",
       "      <th>XLP</th>\n",
       "      <th>XLRE</th>\n",
       "      <th>XLU</th>\n",
       "      <th>XLV</th>\n",
       "      <th>XLY</th>\n",
       "      <th>...</th>\n",
       "      <th>XLE</th>\n",
       "      <th>XLF</th>\n",
       "      <th>XLI</th>\n",
       "      <th>XLK</th>\n",
       "      <th>XLP</th>\n",
       "      <th>XLRE</th>\n",
       "      <th>XLU</th>\n",
       "      <th>XLV</th>\n",
       "      <th>XLY</th>\n",
       "      <th>XTL</th>\n",
       "    </tr>\n",
       "    <tr>\n",
       "      <th>Dt</th>\n",
       "      <th></th>\n",
       "      <th></th>\n",
       "      <th></th>\n",
       "      <th></th>\n",
       "      <th></th>\n",
       "      <th></th>\n",
       "      <th></th>\n",
       "      <th></th>\n",
       "      <th></th>\n",
       "      <th></th>\n",
       "      <th></th>\n",
       "      <th></th>\n",
       "      <th></th>\n",
       "      <th></th>\n",
       "      <th></th>\n",
       "      <th></th>\n",
       "      <th></th>\n",
       "      <th></th>\n",
       "      <th></th>\n",
       "      <th></th>\n",
       "      <th></th>\n",
       "    </tr>\n",
       "  </thead>\n",
       "  <tbody>\n",
       "    <tr>\n",
       "      <th>2018-03-16</th>\n",
       "      <td>-0.000333</td>\n",
       "      <td>-0.000528</td>\n",
       "      <td>0.000396</td>\n",
       "      <td>0.000006</td>\n",
       "      <td>0.000453</td>\n",
       "      <td>-0.000767</td>\n",
       "      <td>-0.00081</td>\n",
       "      <td>-0.00088</td>\n",
       "      <td>-0.000456</td>\n",
       "      <td>0.00059</td>\n",
       "      <td>...</td>\n",
       "      <td>0.970388</td>\n",
       "      <td>1.097425</td>\n",
       "      <td>1.035374</td>\n",
       "      <td>1.18031</td>\n",
       "      <td>0.674372</td>\n",
       "      <td>0.582693</td>\n",
       "      <td>0.36258</td>\n",
       "      <td>0.94742</td>\n",
       "      <td>0.896174</td>\n",
       "      <td>0.834239</td>\n",
       "    </tr>\n",
       "  </tbody>\n",
       "</table>\n",
       "<p>1 rows × 22 columns</p>\n",
       "</div>"
      ],
      "text/plain": [
       "              Beta 0                                                    \\\n",
       "                 XLB       XLE       XLF       XLI       XLK       XLP   \n",
       "Dt                                                                       \n",
       "2018-03-16 -0.000333 -0.000528  0.000396  0.000006  0.000453 -0.000767   \n",
       "\n",
       "                                                   ...       Beta 1            \\\n",
       "               XLRE      XLU       XLV      XLY    ...          XLE       XLF   \n",
       "Dt                                                 ...                          \n",
       "2018-03-16 -0.00081 -0.00088 -0.000456  0.00059    ...     0.970388  1.097425   \n",
       "\n",
       "                                                                               \\\n",
       "                 XLI      XLK       XLP      XLRE      XLU      XLV       XLY   \n",
       "Dt                                                                              \n",
       "2018-03-16  1.035374  1.18031  0.674372  0.582693  0.36258  0.94742  0.896174   \n",
       "\n",
       "                      \n",
       "                 XTL  \n",
       "Dt                    \n",
       "2018-03-16  0.834239  \n",
       "\n",
       "[1 rows x 22 columns]"
      ]
     },
     "execution_count": 14,
     "metadata": {},
     "output_type": "execute_result"
    }
   ],
   "source": [
    "rps.beta_df\n",
    "rps.beta_df.to_csv(\"sector_residuals_beta_03162018.csv\")"
   ]
  },
  {
   "cell_type": "code",
   "execution_count": 15,
   "metadata": {
    "collapsed": false
   },
   "outputs": [
    {
     "data": {
      "text/plain": [
       "(125, 44)"
      ]
     },
     "execution_count": 15,
     "metadata": {},
     "output_type": "execute_result"
    }
   ],
   "source": [
    "rollAmount = 0\n",
    "fillMethod = \"bfill\"\n",
    "\n",
    "rps.attrib_setup(pct_dfs, rps.beta_df, rollAmount, fillMethod)\n",
    "rps.attrib()\n",
    "\n",
    "rps.retAttr_df.shape\n",
    "\n",
    "sector_residuals = rps.retAttr_df.loc[:, idx[\"Error\",:]]"
   ]
  },
  {
   "cell_type": "code",
   "execution_count": 16,
   "metadata": {
    "collapsed": true
   },
   "outputs": [],
   "source": [
    "sector_residuals.to_csv(\"sector_residuals_03162018.csv\")"
   ]
  },
  {
   "cell_type": "markdown",
   "metadata": {},
   "source": [
    "## Rename residuals attribute from Error to Tilt"
   ]
  },
  {
   "cell_type": "code",
   "execution_count": 17,
   "metadata": {
    "collapsed": false
   },
   "outputs": [
    {
     "name": "stdout",
     "output_type": "stream",
     "text": [
      "transform: pandas version <= 0.20.\n"
     ]
    }
   ],
   "source": [
    "pipe_rename   = make_pipeline(GenSelectAttrsTransformer(['Error'], dropSingle=False),\n",
    "                              GenRenameAttrsTransformer(lambda col: \"Tilt\", level=0)\n",
    "                          )\n",
    "sector_residuals = pipe_rename.fit_transform(sector_residuals)"
   ]
  },
  {
   "cell_type": "markdown",
   "metadata": {},
   "source": [
    "## Retrieve the non-tilt tickers and compute returns"
   ]
  },
  {
   "cell_type": "code",
   "execution_count": 18,
   "metadata": {
    "collapsed": false
   },
   "outputs": [
    {
     "name": "stdout",
     "output_type": "stream",
     "text": [
      "transform: pandas version <= 0.20.\n"
     ]
    }
   ],
   "source": [
    "price_df = GetDataTransformer(req_tickers, cal_ticker=\"SPY\").fit_transform( pd.DataFrame())\n",
    "pct_df = pipe_pct.fit_transform(price_df)\n"
   ]
  },
  {
   "cell_type": "markdown",
   "metadata": {},
   "source": [
    "## Create single DataFrame with ticker and tilt returns"
   ]
  },
  {
   "cell_type": "code",
   "execution_count": 19,
   "metadata": {
    "collapsed": false
   },
   "outputs": [
    {
     "data": {
      "text/plain": [
       "(Timestamp('2000-01-03 00:00:00'), Timestamp('2018-03-19 00:00:00'))"
      ]
     },
     "execution_count": 19,
     "metadata": {},
     "output_type": "execute_result"
    },
    {
     "data": {
      "text/plain": [
       "(Timestamp('2017-09-18 00:00:00'), Timestamp('2018-03-16 00:00:00'))"
      ]
     },
     "execution_count": 19,
     "metadata": {},
     "output_type": "execute_result"
    }
   ],
   "source": [
    "pct_df.index.min(), pct_df.index.max()\n",
    "sector_residuals.index.min(), sector_residuals.index.max()"
   ]
  },
  {
   "cell_type": "code",
   "execution_count": 20,
   "metadata": {
    "collapsed": false
   },
   "outputs": [],
   "source": [
    "reg_df = DataFrameConcat( [ pct_df.loc[ sector_residuals.index.min():sector_residuals.index.max(),:], sector_residuals]).fit_transform( pd.DataFrame())"
   ]
  },
  {
   "cell_type": "markdown",
   "metadata": {},
   "source": [
    "## Do the regression for the Info Tech sector"
   ]
  },
  {
   "cell_type": "code",
   "execution_count": 22,
   "metadata": {
    "collapsed": false
   },
   "outputs": [],
   "source": [
    "xlk = tuple((\"Tilt\", \"XLK\"))"
   ]
  },
  {
   "cell_type": "code",
   "execution_count": 23,
   "metadata": {
    "collapsed": false
   },
   "outputs": [
    {
     "data": {
      "text/plain": [
       "[('Pct', 'SPY'),\n",
       " ('Pct', 'FB'),\n",
       " ('Pct', 'NFLX'),\n",
       " ('Pct', 'BA'),\n",
       " ('Pct', 'AVGO'),\n",
       " ('Pct', 'MCHP'),\n",
       " ('Pct', 'AKAM'),\n",
       " ('Pct', 'MRVL'),\n",
       " ('Pct', 'EA'),\n",
       " ('Pct', 'MSFT'),\n",
       " ('Tilt', 'XLK')]"
      ]
     },
     "execution_count": 23,
     "metadata": {},
     "output_type": "execute_result"
    }
   ],
   "source": [
    "cols = list( (map(lambda t: (\"Pct\", t), req_tickers)) )\n",
    "cols.append( (\"Tilt\", \"XLK\"))\n",
    "cols\n",
    "\n",
    "# cols = [ (\"Pct\", \"BA\"), (\"Pct\", \"SPY\") , (\"Tilt\", \"XLK\")]"
   ]
  },
  {
   "cell_type": "code",
   "execution_count": 24,
   "metadata": {
    "collapsed": false
   },
   "outputs": [
    {
     "data": {
      "text/plain": [
       "(datetime.datetime(2017, 9, 17, 0, 0), datetime.datetime(2018, 3, 16, 0, 0))"
      ]
     },
     "execution_count": 24,
     "metadata": {},
     "output_type": "execute_result"
    },
    {
     "name": "stdout",
     "output_type": "stream",
     "text": [
      "IndCols: [('Pct', 'SPY'), ('Tilt', 'XLK')], depCol ('Pct', 'FB'), cols [('Pct', 'SPY'), ('Tilt', 'XLK'), ('Pct', 'FB')]\n",
      "IndCols: [('Pct', 'SPY'), ('Tilt', 'XLK')], depCol ('Pct', 'NFLX'), cols [('Pct', 'SPY'), ('Tilt', 'XLK'), ('Pct', 'NFLX')]\n",
      "IndCols: [('Pct', 'SPY'), ('Tilt', 'XLK')], depCol ('Pct', 'BA'), cols [('Pct', 'SPY'), ('Tilt', 'XLK'), ('Pct', 'BA')]\n",
      "IndCols: [('Pct', 'SPY'), ('Tilt', 'XLK')], depCol ('Pct', 'AVGO'), cols [('Pct', 'SPY'), ('Tilt', 'XLK'), ('Pct', 'AVGO')]\n",
      "IndCols: [('Pct', 'SPY'), ('Tilt', 'XLK')], depCol ('Pct', 'MCHP'), cols [('Pct', 'SPY'), ('Tilt', 'XLK'), ('Pct', 'MCHP')]\n",
      "IndCols: [('Pct', 'SPY'), ('Tilt', 'XLK')], depCol ('Pct', 'AKAM'), cols [('Pct', 'SPY'), ('Tilt', 'XLK'), ('Pct', 'AKAM')]\n",
      "IndCols: [('Pct', 'SPY'), ('Tilt', 'XLK')], depCol ('Pct', 'MRVL'), cols [('Pct', 'SPY'), ('Tilt', 'XLK'), ('Pct', 'MRVL')]\n",
      "IndCols: [('Pct', 'SPY'), ('Tilt', 'XLK')], depCol ('Pct', 'EA'), cols [('Pct', 'SPY'), ('Tilt', 'XLK'), ('Pct', 'EA')]\n",
      "IndCols: [('Pct', 'SPY'), ('Tilt', 'XLK')], depCol ('Pct', 'MSFT'), cols [('Pct', 'SPY'), ('Tilt', 'XLK'), ('Pct', 'MSFT')]\n"
     ]
    },
    {
     "data": {
      "text/plain": [
       "(1, 27)"
      ]
     },
     "execution_count": 24,
     "metadata": {},
     "output_type": "execute_result"
    }
   ],
   "source": [
    "end = dup.parse(\"03/16/2018\")\n",
    "window = rd.relativedelta(months=+6)\n",
    "\n",
    "regStarts = end - window + timedelta(days=1)\n",
    "regStarts, end\n",
    "reg_dfs = reg_df.loc[ regStarts:end,cols]\n",
    "\n",
    "rps = RegPipe( reg_dfs )\n",
    "rps.indCols( [ idx[\"Pct\", \"SPY\"],\n",
    "               idx[\"Tilt\", \"XLK\"] ] )\n",
    "rps.regressSingle()\n",
    "\n",
    "rps.beta_df.shape"
   ]
  },
  {
   "cell_type": "code",
   "execution_count": 25,
   "metadata": {
    "collapsed": false
   },
   "outputs": [
    {
     "data": {
      "text/html": [
       "<div>\n",
       "<table border=\"1\" class=\"dataframe\">\n",
       "  <thead>\n",
       "    <tr>\n",
       "      <th></th>\n",
       "      <th colspan=\"10\" halign=\"left\">Pct</th>\n",
       "      <th>Tilt</th>\n",
       "    </tr>\n",
       "    <tr>\n",
       "      <th></th>\n",
       "      <th>SPY</th>\n",
       "      <th>FB</th>\n",
       "      <th>NFLX</th>\n",
       "      <th>BA</th>\n",
       "      <th>AVGO</th>\n",
       "      <th>MCHP</th>\n",
       "      <th>AKAM</th>\n",
       "      <th>MRVL</th>\n",
       "      <th>EA</th>\n",
       "      <th>MSFT</th>\n",
       "      <th>XLK</th>\n",
       "    </tr>\n",
       "    <tr>\n",
       "      <th>Dt</th>\n",
       "      <th></th>\n",
       "      <th></th>\n",
       "      <th></th>\n",
       "      <th></th>\n",
       "      <th></th>\n",
       "      <th></th>\n",
       "      <th></th>\n",
       "      <th></th>\n",
       "      <th></th>\n",
       "      <th></th>\n",
       "      <th></th>\n",
       "    </tr>\n",
       "  </thead>\n",
       "  <tbody>\n",
       "    <tr>\n",
       "      <th>2018-03-12</th>\n",
       "      <td>-0.004847</td>\n",
       "      <td>-0.002537</td>\n",
       "      <td>-0.030594</td>\n",
       "      <td>-0.029138</td>\n",
       "      <td>0.035700</td>\n",
       "      <td>0.012832</td>\n",
       "      <td>-0.014460</td>\n",
       "      <td>0.001233</td>\n",
       "      <td>-0.002880</td>\n",
       "      <td>0.002382</td>\n",
       "      <td>0.005259</td>\n",
       "    </tr>\n",
       "    <tr>\n",
       "      <th>2018-03-13</th>\n",
       "      <td>-0.006463</td>\n",
       "      <td>-0.015588</td>\n",
       "      <td>-0.016869</td>\n",
       "      <td>-0.016038</td>\n",
       "      <td>-0.006163</td>\n",
       "      <td>-0.022047</td>\n",
       "      <td>-0.022276</td>\n",
       "      <td>-0.058679</td>\n",
       "      <td>-0.012098</td>\n",
       "      <td>-0.024388</td>\n",
       "      <td>-0.004278</td>\n",
       "    </tr>\n",
       "    <tr>\n",
       "      <th>2018-03-14</th>\n",
       "      <td>-0.005132</td>\n",
       "      <td>0.012701</td>\n",
       "      <td>0.017950</td>\n",
       "      <td>-0.024832</td>\n",
       "      <td>-0.002412</td>\n",
       "      <td>-0.007957</td>\n",
       "      <td>-0.000682</td>\n",
       "      <td>0.020052</td>\n",
       "      <td>0.011061</td>\n",
       "      <td>-0.005932</td>\n",
       "      <td>0.004745</td>\n",
       "    </tr>\n",
       "    <tr>\n",
       "      <th>2018-03-15</th>\n",
       "      <td>-0.001090</td>\n",
       "      <td>-0.001792</td>\n",
       "      <td>-0.001431</td>\n",
       "      <td>-0.000848</td>\n",
       "      <td>0.027515</td>\n",
       "      <td>0.002879</td>\n",
       "      <td>0.019932</td>\n",
       "      <td>-0.008974</td>\n",
       "      <td>0.008986</td>\n",
       "      <td>0.003516</td>\n",
       "      <td>0.001405</td>\n",
       "    </tr>\n",
       "    <tr>\n",
       "      <th>2018-03-16</th>\n",
       "      <td>0.001084</td>\n",
       "      <td>0.006690</td>\n",
       "      <td>-0.008222</td>\n",
       "      <td>0.001485</td>\n",
       "      <td>-0.048140</td>\n",
       "      <td>0.006665</td>\n",
       "      <td>-0.009236</td>\n",
       "      <td>-0.000431</td>\n",
       "      <td>-0.004647</td>\n",
       "      <td>0.004460</td>\n",
       "      <td>-0.002767</td>\n",
       "    </tr>\n",
       "  </tbody>\n",
       "</table>\n",
       "</div>"
      ],
      "text/plain": [
       "                 Pct                                                    \\\n",
       "                 SPY        FB      NFLX        BA      AVGO      MCHP   \n",
       "Dt                                                                       \n",
       "2018-03-12 -0.004847 -0.002537 -0.030594 -0.029138  0.035700  0.012832   \n",
       "2018-03-13 -0.006463 -0.015588 -0.016869 -0.016038 -0.006163 -0.022047   \n",
       "2018-03-14 -0.005132  0.012701  0.017950 -0.024832 -0.002412 -0.007957   \n",
       "2018-03-15 -0.001090 -0.001792 -0.001431 -0.000848  0.027515  0.002879   \n",
       "2018-03-16  0.001084  0.006690 -0.008222  0.001485 -0.048140  0.006665   \n",
       "\n",
       "                                                        Tilt  \n",
       "                AKAM      MRVL        EA      MSFT       XLK  \n",
       "Dt                                                            \n",
       "2018-03-12 -0.014460  0.001233 -0.002880  0.002382  0.005259  \n",
       "2018-03-13 -0.022276 -0.058679 -0.012098 -0.024388 -0.004278  \n",
       "2018-03-14 -0.000682  0.020052  0.011061 -0.005932  0.004745  \n",
       "2018-03-15  0.019932 -0.008974  0.008986  0.003516  0.001405  \n",
       "2018-03-16 -0.009236 -0.000431 -0.004647  0.004460 -0.002767  "
      ]
     },
     "execution_count": 25,
     "metadata": {},
     "output_type": "execute_result"
    }
   ],
   "source": [
    "reg_dfs.to_csv(\"ticker_returns_03162018.csv\")\n",
    "reg_dfs.tail()"
   ]
  },
  {
   "cell_type": "code",
   "execution_count": 42,
   "metadata": {
    "collapsed": true
   },
   "outputs": [],
   "source": [
    "tech_tickers = [ \"AKAM\", \"AVGO\", \"EA\", \"FB\", \"MCHP\", \"MRVL\", \"MSFT\", \"NFLX\"]"
   ]
  },
  {
   "cell_type": "code",
   "execution_count": 43,
   "metadata": {
    "collapsed": false
   },
   "outputs": [
    {
     "data": {
      "text/html": [
       "<div>\n",
       "<table border=\"1\" class=\"dataframe\">\n",
       "  <thead>\n",
       "    <tr>\n",
       "      <th></th>\n",
       "      <th colspan=\"8\" halign=\"left\">Beta 1</th>\n",
       "    </tr>\n",
       "    <tr>\n",
       "      <th></th>\n",
       "      <th>FB</th>\n",
       "      <th>NFLX</th>\n",
       "      <th>AVGO</th>\n",
       "      <th>MCHP</th>\n",
       "      <th>AKAM</th>\n",
       "      <th>MRVL</th>\n",
       "      <th>EA</th>\n",
       "      <th>MSFT</th>\n",
       "    </tr>\n",
       "    <tr>\n",
       "      <th>Dt</th>\n",
       "      <th></th>\n",
       "      <th></th>\n",
       "      <th></th>\n",
       "      <th></th>\n",
       "      <th></th>\n",
       "      <th></th>\n",
       "      <th></th>\n",
       "      <th></th>\n",
       "    </tr>\n",
       "  </thead>\n",
       "  <tbody>\n",
       "    <tr>\n",
       "      <th>2018-03-16</th>\n",
       "      <td>1.141179</td>\n",
       "      <td>1.443145</td>\n",
       "      <td>1.058509</td>\n",
       "      <td>1.201167</td>\n",
       "      <td>1.036827</td>\n",
       "      <td>0.969648</td>\n",
       "      <td>1.010714</td>\n",
       "      <td>1.318552</td>\n",
       "    </tr>\n",
       "  </tbody>\n",
       "</table>\n",
       "</div>"
      ],
      "text/plain": [
       "              Beta 1                                                    \\\n",
       "                  FB      NFLX      AVGO      MCHP      AKAM      MRVL   \n",
       "Dt                                                                       \n",
       "2018-03-16  1.141179  1.443145  1.058509  1.201167  1.036827  0.969648   \n",
       "\n",
       "                                \n",
       "                  EA      MSFT  \n",
       "Dt                              \n",
       "2018-03-16  1.010714  1.318552  "
      ]
     },
     "execution_count": 43,
     "metadata": {},
     "output_type": "execute_result"
    },
    {
     "data": {
      "text/html": [
       "<div>\n",
       "<table border=\"1\" class=\"dataframe\">\n",
       "  <thead>\n",
       "    <tr>\n",
       "      <th></th>\n",
       "      <th colspan=\"8\" halign=\"left\">Beta 2</th>\n",
       "    </tr>\n",
       "    <tr>\n",
       "      <th></th>\n",
       "      <th>FB</th>\n",
       "      <th>NFLX</th>\n",
       "      <th>AVGO</th>\n",
       "      <th>MCHP</th>\n",
       "      <th>AKAM</th>\n",
       "      <th>MRVL</th>\n",
       "      <th>EA</th>\n",
       "      <th>MSFT</th>\n",
       "    </tr>\n",
       "    <tr>\n",
       "      <th>Dt</th>\n",
       "      <th></th>\n",
       "      <th></th>\n",
       "      <th></th>\n",
       "      <th></th>\n",
       "      <th></th>\n",
       "      <th></th>\n",
       "      <th></th>\n",
       "      <th></th>\n",
       "    </tr>\n",
       "  </thead>\n",
       "  <tbody>\n",
       "    <tr>\n",
       "      <th>2018-03-16</th>\n",
       "      <td>1.693825</td>\n",
       "      <td>0.802953</td>\n",
       "      <td>2.009849</td>\n",
       "      <td>1.396006</td>\n",
       "      <td>-0.089622</td>\n",
       "      <td>0.90979</td>\n",
       "      <td>1.799792</td>\n",
       "      <td>1.345075</td>\n",
       "    </tr>\n",
       "  </tbody>\n",
       "</table>\n",
       "</div>"
      ],
      "text/plain": [
       "              Beta 2                                                   \\\n",
       "                  FB      NFLX      AVGO      MCHP      AKAM     MRVL   \n",
       "Dt                                                                      \n",
       "2018-03-16  1.693825  0.802953  2.009849  1.396006 -0.089622  0.90979   \n",
       "\n",
       "                                \n",
       "                  EA      MSFT  \n",
       "Dt                              \n",
       "2018-03-16  1.799792  1.345075  "
      ]
     },
     "execution_count": 43,
     "metadata": {},
     "output_type": "execute_result"
    }
   ],
   "source": [
    "rps.beta_df.loc[:, idx[\"Beta 1\", tech_tickers]]\n",
    "rps.beta_df.loc[:, idx[\"Beta 2\", tech_tickers]]\n",
    "rps.beta_df.to_csv(\"ticker_betas_03162018.csv\")"
   ]
  },
  {
   "cell_type": "markdown",
   "metadata": {},
   "source": [
    "## Do the attribution"
   ]
  },
  {
   "cell_type": "code",
   "execution_count": 27,
   "metadata": {
    "collapsed": false
   },
   "outputs": [
    {
     "data": {
      "text/plain": [
       "(125, 45)"
      ]
     },
     "execution_count": 27,
     "metadata": {},
     "output_type": "execute_result"
    }
   ],
   "source": [
    "rollAmount = 0\n",
    "fillMethod = \"bfill\"\n",
    "\n",
    "rps.attrib_setup(reg_dfs, rps.beta_df, rollAmount, fillMethod)\n",
    "rps.attrib()\n",
    "\n",
    "rps.retAttr_df.shape\n",
    "rps.retAttr_df.to_csv(\"ticker_attr_03162018.csv\")\n",
    "ticker_alpha = rps.retAttr_df.loc[:, idx[\"Error\",:]]"
   ]
  },
  {
   "cell_type": "code",
   "execution_count": 28,
   "metadata": {
    "collapsed": false
   },
   "outputs": [
    {
     "data": {
      "text/html": [
       "<div>\n",
       "<table border=\"1\" class=\"dataframe\">\n",
       "  <thead>\n",
       "    <tr>\n",
       "      <th></th>\n",
       "      <th colspan=\"9\" halign=\"left\">Contrib from SPY</th>\n",
       "    </tr>\n",
       "    <tr>\n",
       "      <th></th>\n",
       "      <th>AKAM</th>\n",
       "      <th>AVGO</th>\n",
       "      <th>BA</th>\n",
       "      <th>EA</th>\n",
       "      <th>FB</th>\n",
       "      <th>MCHP</th>\n",
       "      <th>MRVL</th>\n",
       "      <th>MSFT</th>\n",
       "      <th>NFLX</th>\n",
       "    </tr>\n",
       "    <tr>\n",
       "      <th>Dt</th>\n",
       "      <th></th>\n",
       "      <th></th>\n",
       "      <th></th>\n",
       "      <th></th>\n",
       "      <th></th>\n",
       "      <th></th>\n",
       "      <th></th>\n",
       "      <th></th>\n",
       "      <th></th>\n",
       "    </tr>\n",
       "  </thead>\n",
       "  <tbody>\n",
       "    <tr>\n",
       "      <th>2018-03-12</th>\n",
       "      <td>-50.252206</td>\n",
       "      <td>-51.303070</td>\n",
       "      <td>-62.838715</td>\n",
       "      <td>-48.986566</td>\n",
       "      <td>-55.309863</td>\n",
       "      <td>-58.217323</td>\n",
       "      <td>-46.996227</td>\n",
       "      <td>-63.906655</td>\n",
       "      <td>-69.945318</td>\n",
       "    </tr>\n",
       "    <tr>\n",
       "      <th>2018-03-13</th>\n",
       "      <td>-67.006120</td>\n",
       "      <td>-68.407338</td>\n",
       "      <td>-83.788928</td>\n",
       "      <td>-65.318520</td>\n",
       "      <td>-73.749982</td>\n",
       "      <td>-77.626779</td>\n",
       "      <td>-62.664609</td>\n",
       "      <td>-85.212916</td>\n",
       "      <td>-93.264848</td>\n",
       "    </tr>\n",
       "    <tr>\n",
       "      <th>2018-03-14</th>\n",
       "      <td>-53.206443</td>\n",
       "      <td>-54.319085</td>\n",
       "      <td>-66.532890</td>\n",
       "      <td>-51.866399</td>\n",
       "      <td>-58.561430</td>\n",
       "      <td>-61.639814</td>\n",
       "      <td>-49.759051</td>\n",
       "      <td>-67.663612</td>\n",
       "      <td>-74.057277</td>\n",
       "    </tr>\n",
       "    <tr>\n",
       "      <th>2018-03-15</th>\n",
       "      <td>-11.298282</td>\n",
       "      <td>-11.534550</td>\n",
       "      <td>-14.128127</td>\n",
       "      <td>-11.013727</td>\n",
       "      <td>-12.435403</td>\n",
       "      <td>-13.089092</td>\n",
       "      <td>-10.566236</td>\n",
       "      <td>-14.368234</td>\n",
       "      <td>-15.725916</td>\n",
       "    </tr>\n",
       "    <tr>\n",
       "      <th>2018-03-16</th>\n",
       "      <td>11.243606</td>\n",
       "      <td>11.478730</td>\n",
       "      <td>14.059756</td>\n",
       "      <td>10.960428</td>\n",
       "      <td>12.375224</td>\n",
       "      <td>13.025750</td>\n",
       "      <td>10.515102</td>\n",
       "      <td>14.298701</td>\n",
       "      <td>15.649813</td>\n",
       "    </tr>\n",
       "  </tbody>\n",
       "</table>\n",
       "</div>"
      ],
      "text/plain": [
       "           Contrib from SPY                                              \\\n",
       "                       AKAM       AVGO         BA         EA         FB   \n",
       "Dt                                                                        \n",
       "2018-03-12       -50.252206 -51.303070 -62.838715 -48.986566 -55.309863   \n",
       "2018-03-13       -67.006120 -68.407338 -83.788928 -65.318520 -73.749982   \n",
       "2018-03-14       -53.206443 -54.319085 -66.532890 -51.866399 -58.561430   \n",
       "2018-03-15       -11.298282 -11.534550 -14.128127 -11.013727 -12.435403   \n",
       "2018-03-16        11.243606  11.478730  14.059756  10.960428  12.375224   \n",
       "\n",
       "                                                        \n",
       "                 MCHP       MRVL       MSFT       NFLX  \n",
       "Dt                                                      \n",
       "2018-03-12 -58.217323 -46.996227 -63.906655 -69.945318  \n",
       "2018-03-13 -77.626779 -62.664609 -85.212916 -93.264848  \n",
       "2018-03-14 -61.639814 -49.759051 -67.663612 -74.057277  \n",
       "2018-03-15 -13.089092 -10.566236 -14.368234 -15.725916  \n",
       "2018-03-16  13.025750  10.515102  14.298701  15.649813  "
      ]
     },
     "execution_count": 28,
     "metadata": {},
     "output_type": "execute_result"
    }
   ],
   "source": [
    "10000* rps.retAttr_df.loc[:, idx[\"Contrib from SPY\",:]].tail()"
   ]
  },
  {
   "cell_type": "code",
   "execution_count": 29,
   "metadata": {
    "collapsed": false
   },
   "outputs": [
    {
     "data": {
      "text/html": [
       "<div>\n",
       "<table border=\"1\" class=\"dataframe\">\n",
       "  <thead>\n",
       "    <tr>\n",
       "      <th></th>\n",
       "      <th colspan=\"9\" halign=\"left\">Contrib from XLK</th>\n",
       "    </tr>\n",
       "    <tr>\n",
       "      <th></th>\n",
       "      <th>AKAM</th>\n",
       "      <th>AVGO</th>\n",
       "      <th>BA</th>\n",
       "      <th>EA</th>\n",
       "      <th>FB</th>\n",
       "      <th>MCHP</th>\n",
       "      <th>MRVL</th>\n",
       "      <th>MSFT</th>\n",
       "      <th>NFLX</th>\n",
       "    </tr>\n",
       "    <tr>\n",
       "      <th>Dt</th>\n",
       "      <th></th>\n",
       "      <th></th>\n",
       "      <th></th>\n",
       "      <th></th>\n",
       "      <th></th>\n",
       "      <th></th>\n",
       "      <th></th>\n",
       "      <th></th>\n",
       "      <th></th>\n",
       "    </tr>\n",
       "  </thead>\n",
       "  <tbody>\n",
       "    <tr>\n",
       "      <th>2018-03-12</th>\n",
       "      <td>-4.713073</td>\n",
       "      <td>105.694953</td>\n",
       "      <td>-25.643567</td>\n",
       "      <td>94.648355</td>\n",
       "      <td>89.075741</td>\n",
       "      <td>73.413844</td>\n",
       "      <td>47.844494</td>\n",
       "      <td>70.735490</td>\n",
       "      <td>42.226112</td>\n",
       "    </tr>\n",
       "    <tr>\n",
       "      <th>2018-03-13</th>\n",
       "      <td>3.833723</td>\n",
       "      <td>-85.974721</td>\n",
       "      <td>20.859071</td>\n",
       "      <td>-76.989162</td>\n",
       "      <td>-72.456269</td>\n",
       "      <td>-59.716520</td>\n",
       "      <td>-38.917819</td>\n",
       "      <td>-57.537885</td>\n",
       "      <td>-34.347697</td>\n",
       "    </tr>\n",
       "    <tr>\n",
       "      <th>2018-03-14</th>\n",
       "      <td>-4.252948</td>\n",
       "      <td>95.376227</td>\n",
       "      <td>-23.140052</td>\n",
       "      <td>85.408079</td>\n",
       "      <td>80.379505</td>\n",
       "      <td>66.246639</td>\n",
       "      <td>43.173559</td>\n",
       "      <td>63.829766</td>\n",
       "      <td>38.103685</td>\n",
       "    </tr>\n",
       "    <tr>\n",
       "      <th>2018-03-15</th>\n",
       "      <td>-1.259389</td>\n",
       "      <td>28.242944</td>\n",
       "      <td>-6.852265</td>\n",
       "      <td>25.291162</td>\n",
       "      <td>23.802093</td>\n",
       "      <td>19.617049</td>\n",
       "      <td>12.784616</td>\n",
       "      <td>18.901361</td>\n",
       "      <td>11.283318</td>\n",
       "    </tr>\n",
       "    <tr>\n",
       "      <th>2018-03-16</th>\n",
       "      <td>2.479529</td>\n",
       "      <td>-55.605688</td>\n",
       "      <td>13.490977</td>\n",
       "      <td>-49.794117</td>\n",
       "      <td>-46.862387</td>\n",
       "      <td>-38.622727</td>\n",
       "      <td>-25.170795</td>\n",
       "      <td>-37.213656</td>\n",
       "      <td>-22.214987</td>\n",
       "    </tr>\n",
       "  </tbody>\n",
       "</table>\n",
       "</div>"
      ],
      "text/plain": [
       "           Contrib from XLK                                               \\\n",
       "                       AKAM        AVGO         BA         EA         FB   \n",
       "Dt                                                                         \n",
       "2018-03-12        -4.713073  105.694953 -25.643567  94.648355  89.075741   \n",
       "2018-03-13         3.833723  -85.974721  20.859071 -76.989162 -72.456269   \n",
       "2018-03-14        -4.252948   95.376227 -23.140052  85.408079  80.379505   \n",
       "2018-03-15        -1.259389   28.242944  -6.852265  25.291162  23.802093   \n",
       "2018-03-16         2.479529  -55.605688  13.490977 -49.794117 -46.862387   \n",
       "\n",
       "                                                        \n",
       "                 MCHP       MRVL       MSFT       NFLX  \n",
       "Dt                                                      \n",
       "2018-03-12  73.413844  47.844494  70.735490  42.226112  \n",
       "2018-03-13 -59.716520 -38.917819 -57.537885 -34.347697  \n",
       "2018-03-14  66.246639  43.173559  63.829766  38.103685  \n",
       "2018-03-15  19.617049  12.784616  18.901361  11.283318  \n",
       "2018-03-16 -38.622727 -25.170795 -37.213656 -22.214987  "
      ]
     },
     "execution_count": 29,
     "metadata": {},
     "output_type": "execute_result"
    }
   ],
   "source": [
    "10000* rps.retAttr_df.loc[:, idx[\"Contrib from XLK\",:]].tail()"
   ]
  },
  {
   "cell_type": "code",
   "execution_count": 30,
   "metadata": {
    "collapsed": false
   },
   "outputs": [
    {
     "data": {
      "text/html": [
       "<div>\n",
       "<table border=\"1\" class=\"dataframe\">\n",
       "  <thead>\n",
       "    <tr>\n",
       "      <th></th>\n",
       "      <th colspan=\"9\" halign=\"left\">Error</th>\n",
       "    </tr>\n",
       "    <tr>\n",
       "      <th></th>\n",
       "      <th>AKAM</th>\n",
       "      <th>AVGO</th>\n",
       "      <th>BA</th>\n",
       "      <th>EA</th>\n",
       "      <th>FB</th>\n",
       "      <th>MCHP</th>\n",
       "      <th>MRVL</th>\n",
       "      <th>MSFT</th>\n",
       "      <th>NFLX</th>\n",
       "    </tr>\n",
       "    <tr>\n",
       "      <th>Dt</th>\n",
       "      <th></th>\n",
       "      <th></th>\n",
       "      <th></th>\n",
       "      <th></th>\n",
       "      <th></th>\n",
       "      <th></th>\n",
       "      <th></th>\n",
       "      <th></th>\n",
       "      <th></th>\n",
       "    </tr>\n",
       "  </thead>\n",
       "  <tbody>\n",
       "    <tr>\n",
       "      <th>2018-03-12</th>\n",
       "      <td>-118.350040</td>\n",
       "      <td>307.634558</td>\n",
       "      <td>-216.389362</td>\n",
       "      <td>-73.389783</td>\n",
       "      <td>-56.824930</td>\n",
       "      <td>113.919363</td>\n",
       "      <td>-1.612797</td>\n",
       "      <td>8.438741</td>\n",
       "      <td>-313.259146</td>\n",
       "    </tr>\n",
       "    <tr>\n",
       "      <th>2018-03-13</th>\n",
       "      <td>-188.294898</td>\n",
       "      <td>97.772224</td>\n",
       "      <td>-110.938467</td>\n",
       "      <td>22.396535</td>\n",
       "      <td>-7.356245</td>\n",
       "      <td>-82.333000</td>\n",
       "      <td>-498.294913</td>\n",
       "      <td>-109.682048</td>\n",
       "      <td>-76.116835</td>\n",
       "    </tr>\n",
       "    <tr>\n",
       "      <th>2018-03-14</th>\n",
       "      <td>21.925903</td>\n",
       "      <td>-60.150504</td>\n",
       "      <td>-172.143573</td>\n",
       "      <td>78.137926</td>\n",
       "      <td>107.503437</td>\n",
       "      <td>-83.379728</td>\n",
       "      <td>194.017820</td>\n",
       "      <td>-64.038867</td>\n",
       "      <td>180.411390</td>\n",
       "    </tr>\n",
       "    <tr>\n",
       "      <th>2018-03-15</th>\n",
       "      <td>183.163145</td>\n",
       "      <td>263.461441</td>\n",
       "      <td>-0.989854</td>\n",
       "      <td>76.655705</td>\n",
       "      <td>-26.968164</td>\n",
       "      <td>23.058189</td>\n",
       "      <td>-105.051873</td>\n",
       "      <td>22.073250</td>\n",
       "      <td>-44.903065</td>\n",
       "    </tr>\n",
       "    <tr>\n",
       "      <th>2018-03-16</th>\n",
       "      <td>-134.792314</td>\n",
       "      <td>-432.250409</td>\n",
       "      <td>-26.193760</td>\n",
       "      <td>-6.565219</td>\n",
       "      <td>103.700480</td>\n",
       "      <td>93.037716</td>\n",
       "      <td>-2.747272</td>\n",
       "      <td>58.953868</td>\n",
       "      <td>-110.694471</td>\n",
       "    </tr>\n",
       "  </tbody>\n",
       "</table>\n",
       "</div>"
      ],
      "text/plain": [
       "                 Error                                                 \\\n",
       "                  AKAM        AVGO          BA         EA          FB   \n",
       "Dt                                                                      \n",
       "2018-03-12 -118.350040  307.634558 -216.389362 -73.389783  -56.824930   \n",
       "2018-03-13 -188.294898   97.772224 -110.938467  22.396535   -7.356245   \n",
       "2018-03-14   21.925903  -60.150504 -172.143573  78.137926  107.503437   \n",
       "2018-03-15  183.163145  263.461441   -0.989854  76.655705  -26.968164   \n",
       "2018-03-16 -134.792314 -432.250409  -26.193760  -6.565219  103.700480   \n",
       "\n",
       "                                                            \n",
       "                  MCHP        MRVL        MSFT        NFLX  \n",
       "Dt                                                          \n",
       "2018-03-12  113.919363   -1.612797    8.438741 -313.259146  \n",
       "2018-03-13  -82.333000 -498.294913 -109.682048  -76.116835  \n",
       "2018-03-14  -83.379728  194.017820  -64.038867  180.411390  \n",
       "2018-03-15   23.058189 -105.051873   22.073250  -44.903065  \n",
       "2018-03-16   93.037716   -2.747272   58.953868 -110.694471  "
      ]
     },
     "execution_count": 30,
     "metadata": {},
     "output_type": "execute_result"
    }
   ],
   "source": [
    "10000* rps.retAttr_df.loc[:, idx[\"Error\",:]].tail()"
   ]
  },
  {
   "cell_type": "markdown",
   "metadata": {},
   "source": [
    "## Combine the returns and attribution DataFrames to ease presentation"
   ]
  },
  {
   "cell_type": "code",
   "execution_count": 31,
   "metadata": {
    "collapsed": false
   },
   "outputs": [],
   "source": [
    "comb_df = DataFrameConcat( [ reg_dfs, rps.retAttr_df]).fit_transform( pd.DataFrame())"
   ]
  },
  {
   "cell_type": "code",
   "execution_count": 78,
   "metadata": {
    "collapsed": false
   },
   "outputs": [
    {
     "data": {
      "text/html": [
       "<div>\n",
       "<table border=\"1\" class=\"dataframe\">\n",
       "  <thead>\n",
       "    <tr style=\"text-align: right;\">\n",
       "      <th></th>\n",
       "      <th>NFLX</th>\n",
       "    </tr>\n",
       "  </thead>\n",
       "  <tbody>\n",
       "    <tr>\n",
       "      <th>Contrib from 1</th>\n",
       "      <td>-45.016973</td>\n",
       "    </tr>\n",
       "    <tr>\n",
       "      <th>Contrib from SPY</th>\n",
       "      <td>60.090344</td>\n",
       "    </tr>\n",
       "    <tr>\n",
       "      <th>Contrib from XLK</th>\n",
       "      <td>-8.894423</td>\n",
       "    </tr>\n",
       "    <tr>\n",
       "      <th>Error</th>\n",
       "      <td>93.219182</td>\n",
       "    </tr>\n",
       "    <tr>\n",
       "      <th>Pct</th>\n",
       "      <td>100.000000</td>\n",
       "    </tr>\n",
       "    <tr>\n",
       "      <th>Predicted</th>\n",
       "      <td>7.035782</td>\n",
       "    </tr>\n",
       "  </tbody>\n",
       "</table>\n",
       "</div>"
      ],
      "text/plain": [
       "                        NFLX\n",
       "Contrib from 1    -45.016973\n",
       "Contrib from SPY   60.090344\n",
       "Contrib from XLK   -8.894423\n",
       "Error              93.219182\n",
       "Pct               100.000000\n",
       "Predicted           7.035782"
      ]
     },
     "execution_count": 78,
     "metadata": {},
     "output_type": "execute_result"
    },
    {
     "data": {
      "text/html": [
       "<div>\n",
       "<table border=\"1\" class=\"dataframe\">\n",
       "  <thead>\n",
       "    <tr style=\"text-align: right;\">\n",
       "      <th></th>\n",
       "      <th>AKAM</th>\n",
       "      <th>AVGO</th>\n",
       "      <th>EA</th>\n",
       "      <th>FB</th>\n",
       "      <th>MCHP</th>\n",
       "      <th>MRVL</th>\n",
       "      <th>MSFT</th>\n",
       "      <th>NFLX</th>\n",
       "    </tr>\n",
       "  </thead>\n",
       "  <tbody>\n",
       "    <tr>\n",
       "      <th>Contrib from 1</th>\n",
       "      <td>144.385719</td>\n",
       "      <td>-25.096920</td>\n",
       "      <td>-5.342848</td>\n",
       "      <td>-11.568955</td>\n",
       "      <td>-3.971745</td>\n",
       "      <td>65.623235</td>\n",
       "      <td>42.854923</td>\n",
       "      <td>176.433148</td>\n",
       "    </tr>\n",
       "    <tr>\n",
       "      <th>Contrib from SPY</th>\n",
       "      <td>-169.572188</td>\n",
       "      <td>-173.098058</td>\n",
       "      <td>-165.324603</td>\n",
       "      <td>-186.534120</td>\n",
       "      <td>-196.276254</td>\n",
       "      <td>-158.642447</td>\n",
       "      <td>-215.321442</td>\n",
       "      <td>-235.509583</td>\n",
       "    </tr>\n",
       "    <tr>\n",
       "      <th>Contrib from XLK</th>\n",
       "      <td>-3.914529</td>\n",
       "      <td>86.532640</td>\n",
       "      <td>77.601887</td>\n",
       "      <td>73.086564</td>\n",
       "      <td>60.360078</td>\n",
       "      <td>39.468895</td>\n",
       "      <td>58.178385</td>\n",
       "      <td>34.859541</td>\n",
       "    </tr>\n",
       "    <tr>\n",
       "      <th>Error</th>\n",
       "      <td>-238.555843</td>\n",
       "      <td>159.399697</td>\n",
       "      <td>96.806906</td>\n",
       "      <td>119.453457</td>\n",
       "      <td>62.707297</td>\n",
       "      <td>-419.877122</td>\n",
       "      <td>-84.905410</td>\n",
       "      <td>-365.350058</td>\n",
       "    </tr>\n",
       "    <tr>\n",
       "      <th>Pct</th>\n",
       "      <td>-269.489023</td>\n",
       "      <td>42.950430</td>\n",
       "      <td>2.334734</td>\n",
       "      <td>-7.558171</td>\n",
       "      <td>-79.822269</td>\n",
       "      <td>-476.581758</td>\n",
       "      <td>-200.953282</td>\n",
       "      <td>-391.925836</td>\n",
       "    </tr>\n",
       "    <tr>\n",
       "      <th>Predicted</th>\n",
       "      <td>-31.062531</td>\n",
       "      <td>-112.435304</td>\n",
       "      <td>-93.839445</td>\n",
       "      <td>-125.773736</td>\n",
       "      <td>-140.594247</td>\n",
       "      <td>-54.573370</td>\n",
       "      <td>-115.622721</td>\n",
       "      <td>-27.575048</td>\n",
       "    </tr>\n",
       "  </tbody>\n",
       "</table>\n",
       "</div>"
      ],
      "text/plain": [
       "                        AKAM        AVGO          EA          FB        MCHP  \\\n",
       "Contrib from 1    144.385719  -25.096920   -5.342848  -11.568955   -3.971745   \n",
       "Contrib from SPY -169.572188 -173.098058 -165.324603 -186.534120 -196.276254   \n",
       "Contrib from XLK   -3.914529   86.532640   77.601887   73.086564   60.360078   \n",
       "Error            -238.555843  159.399697   96.806906  119.453457   62.707297   \n",
       "Pct              -269.489023   42.950430    2.334734   -7.558171  -79.822269   \n",
       "Predicted         -31.062531 -112.435304  -93.839445 -125.773736 -140.594247   \n",
       "\n",
       "                        MRVL        MSFT        NFLX  \n",
       "Contrib from 1     65.623235   42.854923  176.433148  \n",
       "Contrib from SPY -158.642447 -215.321442 -235.509583  \n",
       "Contrib from XLK   39.468895   58.178385   34.859541  \n",
       "Error            -419.877122  -84.905410 -365.350058  \n",
       "Pct              -476.581758 -200.953282 -391.925836  \n",
       "Predicted         -54.573370 -115.622721  -27.575048  "
      ]
     },
     "execution_count": 78,
     "metadata": {},
     "output_type": "execute_result"
    },
    {
     "data": {
      "text/html": [
       "<div>\n",
       "<table border=\"1\" class=\"dataframe\">\n",
       "  <thead>\n",
       "    <tr style=\"text-align: right;\">\n",
       "      <th></th>\n",
       "      <th>AKAM</th>\n",
       "      <th>AVGO</th>\n",
       "      <th>EA</th>\n",
       "      <th>FB</th>\n",
       "      <th>MCHP</th>\n",
       "      <th>MRVL</th>\n",
       "      <th>MSFT</th>\n",
       "      <th>NFLX</th>\n",
       "    </tr>\n",
       "  </thead>\n",
       "  <tbody>\n",
       "    <tr>\n",
       "      <th>Contrib from 1</th>\n",
       "      <td>-53.577588</td>\n",
       "      <td>-58.432291</td>\n",
       "      <td>-228.841798</td>\n",
       "      <td>153.065536</td>\n",
       "      <td>4.975735</td>\n",
       "      <td>-13.769565</td>\n",
       "      <td>-21.325814</td>\n",
       "      <td>-45.016973</td>\n",
       "    </tr>\n",
       "    <tr>\n",
       "      <th>Contrib from SPY</th>\n",
       "      <td>62.923597</td>\n",
       "      <td>-403.018221</td>\n",
       "      <td>-7081.089055</td>\n",
       "      <td>2467.979593</td>\n",
       "      <td>245.891601</td>\n",
       "      <td>33.287562</td>\n",
       "      <td>107.150000</td>\n",
       "      <td>60.090344</td>\n",
       "    </tr>\n",
       "    <tr>\n",
       "      <th>Contrib from XLK</th>\n",
       "      <td>1.452575</td>\n",
       "      <td>201.470953</td>\n",
       "      <td>3323.799761</td>\n",
       "      <td>-966.987420</td>\n",
       "      <td>-75.618094</td>\n",
       "      <td>-8.281663</td>\n",
       "      <td>-28.951199</td>\n",
       "      <td>-8.894423</td>\n",
       "    </tr>\n",
       "    <tr>\n",
       "      <th>Error</th>\n",
       "      <td>88.521543</td>\n",
       "      <td>371.124803</td>\n",
       "      <td>4146.378160</td>\n",
       "      <td>-1580.454532</td>\n",
       "      <td>-78.558651</td>\n",
       "      <td>88.101803</td>\n",
       "      <td>42.251318</td>\n",
       "      <td>93.219182</td>\n",
       "    </tr>\n",
       "    <tr>\n",
       "      <th>Pct</th>\n",
       "      <td>100.000000</td>\n",
       "      <td>100.000000</td>\n",
       "      <td>100.000000</td>\n",
       "      <td>100.000000</td>\n",
       "      <td>100.000000</td>\n",
       "      <td>100.000000</td>\n",
       "      <td>100.000000</td>\n",
       "      <td>100.000000</td>\n",
       "    </tr>\n",
       "    <tr>\n",
       "      <th>Predicted</th>\n",
       "      <td>11.526455</td>\n",
       "      <td>-261.779230</td>\n",
       "      <td>-4019.277553</td>\n",
       "      <td>1664.076325</td>\n",
       "      <td>176.134116</td>\n",
       "      <td>11.450999</td>\n",
       "      <td>57.537115</td>\n",
       "      <td>7.035782</td>\n",
       "    </tr>\n",
       "  </tbody>\n",
       "</table>\n",
       "</div>"
      ],
      "text/plain": [
       "                        AKAM        AVGO           EA           FB  \\\n",
       "Contrib from 1    -53.577588  -58.432291  -228.841798   153.065536   \n",
       "Contrib from SPY   62.923597 -403.018221 -7081.089055  2467.979593   \n",
       "Contrib from XLK    1.452575  201.470953  3323.799761  -966.987420   \n",
       "Error              88.521543  371.124803  4146.378160 -1580.454532   \n",
       "Pct               100.000000  100.000000   100.000000   100.000000   \n",
       "Predicted          11.526455 -261.779230 -4019.277553  1664.076325   \n",
       "\n",
       "                        MCHP        MRVL        MSFT        NFLX  \n",
       "Contrib from 1      4.975735  -13.769565  -21.325814  -45.016973  \n",
       "Contrib from SPY  245.891601   33.287562  107.150000   60.090344  \n",
       "Contrib from XLK  -75.618094   -8.281663  -28.951199   -8.894423  \n",
       "Error             -78.558651   88.101803   42.251318   93.219182  \n",
       "Pct               100.000000  100.000000  100.000000  100.000000  \n",
       "Predicted         176.134116   11.450999   57.537115    7.035782  "
      ]
     },
     "execution_count": 78,
     "metadata": {},
     "output_type": "execute_result"
    }
   ],
   "source": [
    "%aimport trans.gtrans\n",
    "from trans.gtrans import *\n",
    "\n",
    "# PnL attribution period: should end no later than regression end \"end\"ullpass\n",
    "\n",
    "last  = end #\"2018-03-16\"\n",
    "first = \"2018-03-12\"\n",
    "\n",
    "# Create cumulative returns\n",
    "cumret_pl = make_pipeline( CumRetTransformer() )\n",
    "cumret_df = cumret_pl.fit_transform( comb_df.loc[ first:last,:]) \n",
    "\n",
    "# Create attribution, denominated in percent of ticker retrun\n",
    "attrs_pct = []\n",
    "attrs = []\n",
    "for t in tech_tickers:\n",
    "    ret_per = cumret_df.loc[ last, idx[:,t]]\n",
    "    # ret_per\n",
    "    ticker_ret_per = cumret_df.loc[last, idx[\"Pct\", t]]\n",
    "\n",
    "    attr_for_t_pct = 100 *ret_per/ticker_ret_per\n",
    "    attrs_pct.append(attr_for_t_pct.unstack(level=1))\n",
    "    attrs.append(10000 * ret_per.unstack(level=1))\n",
    "\n",
    "attr_for_t.unstack(level=1)\n",
    "\n",
    "# Glue together the ticker attributes horizontally\n",
    "summary     = pd.concat( attrs, axis=1)\n",
    "summary\n",
    "summary_pct = pd.concat( attrs_pct, axis=1)\n",
    "summary_pct\n",
    "summary_pct.to_csv(\"summary_pct_03162018.csv\")"
   ]
  },
  {
   "cell_type": "code",
   "execution_count": 33,
   "metadata": {
    "collapsed": false
   },
   "outputs": [
    {
     "data": {
      "text/plain": [
       "<matplotlib.axes._subplots.AxesSubplot at 0x7f18518a1a58>"
      ]
     },
     "execution_count": 33,
     "metadata": {},
     "output_type": "execute_result"
    },
    {
     "data": {
      "image/png": "[encoded data removed]",
      "text/plain": [
       "<matplotlib.figure.Figure at 0x7f18518a47b8>"
      ]
     },
     "metadata": {},
     "output_type": "display_data"
    }
   ],
   "source": [
    "sector_residuals.loc[\"2018-01-02\":\"2018-03-16\", idx[\"Tilt\", [ \"XLI\", \"XLK\"]]].plot()"
   ]
  },
  {
   "cell_type": "markdown",
   "metadata": {},
   "source": [
    "## Verify one regression"
   ]
  },
  {
   "cell_type": "code",
   "execution_count": 34,
   "metadata": {
    "collapsed": false
   },
   "outputs": [
    {
     "data": {
      "text/plain": [
       "(125, 11)"
      ]
     },
     "execution_count": 34,
     "metadata": {},
     "output_type": "execute_result"
    },
    {
     "data": {
      "text/plain": [
       "array([ 0.00287118])"
      ]
     },
     "execution_count": 34,
     "metadata": {},
     "output_type": "execute_result"
    },
    {
     "data": {
      "text/plain": [
       "array([[ 1.0368274 , -0.08962175]])"
      ]
     },
     "execution_count": 34,
     "metadata": {},
     "output_type": "execute_result"
    }
   ],
   "source": [
    "from sklearn import linear_model\n",
    "lm = linear_model.LinearRegression()\n",
    "\n",
    "reg_dfs.shape\n",
    "ind_df = reg_dfs.loc[:, [ (\"Pct\", \"SPY\"), (\"Tilt\", \"XLK\")]]\n",
    "dep_df = reg_dfs.loc[:, [ (\"Pct\", \"AKAM\")]]\n",
    "model = lm.fit(ind_df, dep_df)\n",
    "model.intercept_\n",
    "model.coef_"
   ]
  }
 ],
 "metadata": {
  "kernelspec": {
   "display_name": "Python 3",
   "language": "python",
   "name": "python3"
  },
  "language_info": {
   "codemirror_mode": {
    "name": "ipython",
    "version": 3
   },
   "file_extension": ".py",
   "mimetype": "text/x-python",
   "name": "python",
   "nbconvert_exporter": "python",
   "pygments_lexer": "ipython3",
   "version": "3.6.0"
  }
 },
 "nbformat": 4,
 "nbformat_minor": 2
}
