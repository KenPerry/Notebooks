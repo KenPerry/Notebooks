{
 "cells": [
  {
   "cell_type": "markdown",
   "metadata": {},
   "source": [
    "http://docs.sqlalchemy.org/en/latest/_modules/examples/performance/bulk_inserts.html"
   ]
  },
  {
   "cell_type": "code",
   "execution_count": 1,
   "metadata": {
    "collapsed": true
   },
   "outputs": [],
   "source": [
    "\n",
    "from odo import *\n"
   ]
  },
  {
   "cell_type": "code",
   "execution_count": 16,
   "metadata": {
    "collapsed": false
   },
   "outputs": [],
   "source": [
    "fname = \"/tmp/a.csv\"\n",
    "ds = discover( resource(fname) )"
   ]
  },
  {
   "cell_type": "code",
   "execution_count": 18,
   "metadata": {
    "collapsed": false
   },
   "outputs": [
    {
     "data": {
      "text/plain": [
       "dshape(\"\"\"var * {\n",
       "  Date: ?datetime,\n",
       "  'Adj Close': float64,\n",
       "  Close: float64,\n",
       "  High: float64,\n",
       "  Low: float64,\n",
       "  Open: float64,\n",
       "  Volume: float64\n",
       "  }\"\"\")"
      ]
     },
     "execution_count": 18,
     "metadata": {},
     "output_type": "execute_result"
    }
   ],
   "source": [
    "ds"
   ]
  },
  {
   "cell_type": "code",
   "execution_count": 52,
   "metadata": {
    "collapsed": false
   },
   "outputs": [
    {
     "data": {
      "text/plain": [
       "Index(['Date', 'AdjClose', 'Close', 'High', 'Low', 'Open', 'Volume'], dtype='object')"
      ]
     },
     "execution_count": 52,
     "metadata": {},
     "output_type": "execute_result"
    }
   ],
   "source": [
    "df = pd.read_csv(\"/tmp/a.csv\")\n",
    "df.columns\n",
    "df.rename( columns={ \"Adj Close\": \"AdjClose\"}, inplace=True)\n",
    "df.columns"
   ]
  },
  {
   "cell_type": "code",
   "execution_count": 3,
   "metadata": {
    "collapsed": true
   },
   "outputs": [],
   "source": [
    "dburl_table = 'sqlite:////tmp/foo.db::bozo'\n",
    "#engine = create_engine()"
   ]
  },
  {
   "cell_type": "code",
   "execution_count": 51,
   "metadata": {
    "collapsed": false
   },
   "outputs": [],
   "source": [
    "t = odo(fname, dburl_table, dshape=ds )"
   ]
  },
  {
   "cell_type": "code",
   "execution_count": 36,
   "metadata": {
    "collapsed": false
   },
   "outputs": [
    {
     "data": {
      "text/plain": [
       "sqlalchemy.sql.schema.Table"
      ]
     },
     "execution_count": 36,
     "metadata": {},
     "output_type": "execute_result"
    }
   ],
   "source": [
    "type(t)"
   ]
  },
  {
   "cell_type": "code",
   "execution_count": 101,
   "metadata": {
    "collapsed": true
   },
   "outputs": [],
   "source": [
    "from sqlalchemy.ext.declarative import declarative_base\n",
    "from sqlalchemy import Column, Integer, String, create_engine, bindparam\n",
    "from sqlalchemy.orm import Session\n",
    "from sqlalchemy.exc import SQLAlchemyError\n",
    "\n",
    "Base = declarative_base()"
   ]
  },
  {
   "cell_type": "code",
   "execution_count": 5,
   "metadata": {
    "collapsed": true
   },
   "outputs": [],
   "source": [
    "dburl = 'sqlite:////tmp/foo.db'"
   ]
  },
  {
   "cell_type": "code",
   "execution_count": 102,
   "metadata": {
    "collapsed": false
   },
   "outputs": [],
   "source": [
    "from sqlalchemy.ext.declarative import declarative_base\n",
    "from sqlalchemy import Column, Integer, String, Date, Float,create_engine, bindparam\n",
    "from sqlalchemy.orm import Session\n",
    "\n",
    "Base = declarative_base()\n",
    "engine = create_engine(dburl, echo=True)\n",
    "\n"
   ]
  },
  {
   "cell_type": "code",
   "execution_count": 106,
   "metadata": {
    "collapsed": false
   },
   "outputs": [],
   "source": [
    "class Price(Base):\n",
    "    __tablename__ = \"prices\"\n",
    "    Ticker = Column(String(255), primary_key=True)\n",
    "    Date   = Column(Date, primary_key=True)\n",
    "    AdjClose = Column(Float)\n",
    "    Close   = Column(Float)\n",
    "    High    = Column(Float)\n",
    "    Low     = Column(Float)\n",
    "    Open    = Column(Float)\n",
    "    Volume  = Column(Float)\n",
    "    "
   ]
  },
  {
   "cell_type": "code",
   "execution_count": 77,
   "metadata": {
    "collapsed": false
   },
   "outputs": [
    {
     "name": "stdout",
     "output_type": "stream",
     "text": [
      "2018-02-24 19:25:31,510 INFO sqlalchemy.engine.base.Engine SELECT CAST('test plain returns' AS VARCHAR(60)) AS anon_1\n",
      "2018-02-24 19:25:31,513 INFO sqlalchemy.engine.base.Engine ()\n",
      "2018-02-24 19:25:31,517 INFO sqlalchemy.engine.base.Engine SELECT CAST('test unicode returns' AS VARCHAR(60)) AS anon_1\n",
      "2018-02-24 19:25:31,518 INFO sqlalchemy.engine.base.Engine ()\n",
      "2018-02-24 19:25:31,520 INFO sqlalchemy.engine.base.Engine PRAGMA table_info(\"prices\")\n",
      "2018-02-24 19:25:31,522 INFO sqlalchemy.engine.base.Engine ()\n",
      "2018-02-24 19:25:31,526 INFO sqlalchemy.engine.base.Engine \n",
      "DROP TABLE prices\n",
      "2018-02-24 19:25:31,527 INFO sqlalchemy.engine.base.Engine ()\n",
      "2018-02-24 19:25:31,533 INFO sqlalchemy.engine.base.Engine COMMIT\n",
      "2018-02-24 19:25:31,539 INFO sqlalchemy.engine.base.Engine PRAGMA table_info(\"prices\")\n",
      "2018-02-24 19:25:31,540 INFO sqlalchemy.engine.base.Engine ()\n",
      "2018-02-24 19:25:31,543 INFO sqlalchemy.engine.base.Engine \n",
      "CREATE TABLE prices (\n",
      "\t\"Ticker\" VARCHAR(255) NOT NULL, \n",
      "\t\"Date\" DATE NOT NULL, \n",
      "\t\"AdjClose\" FLOAT, \n",
      "\t\"Close\" FLOAT, \n",
      "\t\"High\" FLOAT, \n",
      "\t\"Low\" FLOAT, \n",
      "\t\"Open\" FLOAT, \n",
      "\t\"Volume\" FLOAT, \n",
      "\tPRIMARY KEY (\"Ticker\", \"Date\")\n",
      ")\n",
      "\n",
      "\n",
      "2018-02-24 19:25:31,544 INFO sqlalchemy.engine.base.Engine ()\n",
      "2018-02-24 19:25:31,550 INFO sqlalchemy.engine.base.Engine COMMIT\n"
     ]
    }
   ],
   "source": [
    "Base.metadata.drop_all(engine)\n",
    "Base.metadata.create_all(engine)"
   ]
  },
  {
   "cell_type": "code",
   "execution_count": 109,
   "metadata": {
    "collapsed": true
   },
   "outputs": [],
   "source": [
    "session = Session(bind=engine)"
   ]
  },
  {
   "cell_type": "code",
   "execution_count": 110,
   "metadata": {
    "collapsed": false
   },
   "outputs": [
    {
     "name": "stdout",
     "output_type": "stream",
     "text": [
      "Reading a\n",
      "2018-02-24 20:07:04,092 INFO sqlalchemy.engine.base.Engine BEGIN (implicit)\n",
      "2018-02-24 20:07:04,095 INFO sqlalchemy.engine.base.Engine INSERT INTO prices (\"Ticker\", \"Date\", \"AdjClose\", \"Close\", \"High\", \"Low\", \"Open\", \"Volume\") VALUES (?, ?, ?, ?, ?, ?, ?, ?)\n",
      "2018-02-24 20:07:04,097 INFO sqlalchemy.engine.base.Engine (('a', '2000-01-03', 43.515522, 55.5, 59.125, 53.4375, 59.0312, 1199600.0), ('a', '2000-01-04', 41.408337, 52.8125, 55.0, 52.5, 54.625, 816100.0), ('a', '2000-01-05', 41.359328999999995, 52.75, 53.25, 51.0625, 52.75, 1124700.0), ('a', '2000-01-06', 41.947392, 53.5, 54.9375, 52.375, 52.75, 1112100.0), ('a', '2000-01-07', 42.045390999999995, 53.625, 54.25, 53.3125, 53.75, 782000.0), ('a', '2000-01-10', 41.285782, 52.6562, 53.75, 51.5, 53.6875, 408800.0))\n",
      "2018-02-24 20:07:04,099 INFO sqlalchemy.engine.base.Engine ROLLBACK\n",
      "Flush error: (sqlite3.IntegrityError) UNIQUE constraint failed: prices.Ticker, prices.Date [SQL: 'INSERT INTO prices (\"Ticker\", \"Date\", \"AdjClose\", \"Close\", \"High\", \"Low\", \"Open\", \"Volume\") VALUES (?, ?, ?, ?, ?, ?, ?, ?)'] [parameters: (('a', '2000-01-03', 43.515522, 55.5, 59.125, 53.4375, 59.0312, 1199600.0), ('a', '2000-01-04', 41.408337, 52.8125, 55.0, 52.5, 54.625, 816100.0), ('a', '2000-01-05', 41.359328999999995, 52.75, 53.25, 51.0625, 52.75, 1124700.0), ('a', '2000-01-06', 41.947392, 53.5, 54.9375, 52.375, 52.75, 1112100.0), ('a', '2000-01-07', 42.045390999999995, 53.625, 54.25, 53.3125, 53.75, 782000.0), ('a', '2000-01-10', 41.285782, 52.6562, 53.75, 51.5, 53.6875, 408800.0))]\n",
      "Reading b\n",
      "Flush error: This Session's transaction has been rolled back due to a previous exception during flush. To begin a new transaction with this Session, first issue Session.rollback(). Original exception was: (sqlite3.IntegrityError) UNIQUE constraint failed: prices.Ticker, prices.Date [SQL: 'INSERT INTO prices (\"Ticker\", \"Date\", \"AdjClose\", \"Close\", \"High\", \"Low\", \"Open\", \"Volume\") VALUES (?, ?, ?, ?, ?, ?, ?, ?)'] [parameters: (('a', '2000-01-03', 43.515522, 55.5, 59.125, 53.4375, 59.0312, 1199600.0), ('a', '2000-01-04', 41.408337, 52.8125, 55.0, 52.5, 54.625, 816100.0), ('a', '2000-01-05', 41.359328999999995, 52.75, 53.25, 51.0625, 52.75, 1124700.0), ('a', '2000-01-06', 41.947392, 53.5, 54.9375, 52.375, 52.75, 1112100.0), ('a', '2000-01-07', 42.045390999999995, 53.625, 54.25, 53.3125, 53.75, 782000.0), ('a', '2000-01-10', 41.285782, 52.6562, 53.75, 51.5, 53.6875, 408800.0))]\n"
     ]
    },
    {
     "ename": "InvalidRequestError",
     "evalue": "This Session's transaction has been rolled back due to a previous exception during flush. To begin a new transaction with this Session, first issue Session.rollback(). Original exception was: (sqlite3.IntegrityError) UNIQUE constraint failed: prices.Ticker, prices.Date [SQL: 'INSERT INTO prices (\"Ticker\", \"Date\", \"AdjClose\", \"Close\", \"High\", \"Low\", \"Open\", \"Volume\") VALUES (?, ?, ?, ?, ?, ?, ?, ?)'] [parameters: (('a', '2000-01-03', 43.515522, 55.5, 59.125, 53.4375, 59.0312, 1199600.0), ('a', '2000-01-04', 41.408337, 52.8125, 55.0, 52.5, 54.625, 816100.0), ('a', '2000-01-05', 41.359328999999995, 52.75, 53.25, 51.0625, 52.75, 1124700.0), ('a', '2000-01-06', 41.947392, 53.5, 54.9375, 52.375, 52.75, 1112100.0), ('a', '2000-01-07', 42.045390999999995, 53.625, 54.25, 53.3125, 53.75, 782000.0), ('a', '2000-01-10', 41.285782, 52.6562, 53.75, 51.5, 53.6875, 408800.0))]",
     "output_type": "error",
     "traceback": [
      "\u001b[0;31m---------------------------------------------------------------------------\u001b[0m",
      "\u001b[0;31mInvalidRequestError\u001b[0m                       Traceback (most recent call last)",
      "\u001b[0;32m<ipython-input-110-97c3c925bee6>\u001b[0m in \u001b[0;36m<module>\u001b[0;34m()\u001b[0m\n\u001b[1;32m     22\u001b[0m         \u001b[0mprint\u001b[0m\u001b[0;34m(\u001b[0m\u001b[0;34m\"Flush error: {}\"\u001b[0m\u001b[0;34m.\u001b[0m\u001b[0mformat\u001b[0m\u001b[0;34m(\u001b[0m\u001b[0me\u001b[0m\u001b[0;34m)\u001b[0m\u001b[0;34m)\u001b[0m\u001b[0;34m\u001b[0m\u001b[0m\n\u001b[1;32m     23\u001b[0m \u001b[0;34m\u001b[0m\u001b[0m\n\u001b[0;32m---> 24\u001b[0;31m \u001b[0msession\u001b[0m\u001b[0;34m.\u001b[0m\u001b[0mcommit\u001b[0m\u001b[0;34m(\u001b[0m\u001b[0;34m)\u001b[0m\u001b[0;34m\u001b[0m\u001b[0m\n\u001b[0m\u001b[1;32m     25\u001b[0m \u001b[0;34m\u001b[0m\u001b[0m\n\u001b[1;32m     26\u001b[0m \u001b[0;34m\u001b[0m\u001b[0m\n",
      "\u001b[0;32m/home/ubuntu/anaconda3/lib/python3.6/site-packages/sqlalchemy/orm/session.py\u001b[0m in \u001b[0;36mcommit\u001b[0;34m(self)\u001b[0m\n\u001b[1;32m    872\u001b[0m                 \u001b[0;32mraise\u001b[0m \u001b[0msa_exc\u001b[0m\u001b[0;34m.\u001b[0m\u001b[0mInvalidRequestError\u001b[0m\u001b[0;34m(\u001b[0m\u001b[0;34m\"No transaction is begun.\"\u001b[0m\u001b[0;34m)\u001b[0m\u001b[0;34m\u001b[0m\u001b[0m\n\u001b[1;32m    873\u001b[0m \u001b[0;34m\u001b[0m\u001b[0m\n\u001b[0;32m--> 874\u001b[0;31m         \u001b[0mself\u001b[0m\u001b[0;34m.\u001b[0m\u001b[0mtransaction\u001b[0m\u001b[0;34m.\u001b[0m\u001b[0mcommit\u001b[0m\u001b[0;34m(\u001b[0m\u001b[0;34m)\u001b[0m\u001b[0;34m\u001b[0m\u001b[0m\n\u001b[0m\u001b[1;32m    875\u001b[0m \u001b[0;34m\u001b[0m\u001b[0m\n\u001b[1;32m    876\u001b[0m     \u001b[0;32mdef\u001b[0m \u001b[0mprepare\u001b[0m\u001b[0;34m(\u001b[0m\u001b[0mself\u001b[0m\u001b[0;34m)\u001b[0m\u001b[0;34m:\u001b[0m\u001b[0;34m\u001b[0m\u001b[0m\n",
      "\u001b[0;32m/home/ubuntu/anaconda3/lib/python3.6/site-packages/sqlalchemy/orm/session.py\u001b[0m in \u001b[0;36mcommit\u001b[0;34m(self)\u001b[0m\n\u001b[1;32m    457\u001b[0m \u001b[0;34m\u001b[0m\u001b[0m\n\u001b[1;32m    458\u001b[0m     \u001b[0;32mdef\u001b[0m \u001b[0mcommit\u001b[0m\u001b[0;34m(\u001b[0m\u001b[0mself\u001b[0m\u001b[0;34m)\u001b[0m\u001b[0;34m:\u001b[0m\u001b[0;34m\u001b[0m\u001b[0m\n\u001b[0;32m--> 459\u001b[0;31m         \u001b[0mself\u001b[0m\u001b[0;34m.\u001b[0m\u001b[0m_assert_active\u001b[0m\u001b[0;34m(\u001b[0m\u001b[0mprepared_ok\u001b[0m\u001b[0;34m=\u001b[0m\u001b[0;32mTrue\u001b[0m\u001b[0;34m)\u001b[0m\u001b[0;34m\u001b[0m\u001b[0m\n\u001b[0m\u001b[1;32m    460\u001b[0m         \u001b[0;32mif\u001b[0m \u001b[0mself\u001b[0m\u001b[0;34m.\u001b[0m\u001b[0m_state\u001b[0m \u001b[0;32mis\u001b[0m \u001b[0;32mnot\u001b[0m \u001b[0mPREPARED\u001b[0m\u001b[0;34m:\u001b[0m\u001b[0;34m\u001b[0m\u001b[0m\n\u001b[1;32m    461\u001b[0m             \u001b[0mself\u001b[0m\u001b[0;34m.\u001b[0m\u001b[0m_prepare_impl\u001b[0m\u001b[0;34m(\u001b[0m\u001b[0;34m)\u001b[0m\u001b[0;34m\u001b[0m\u001b[0m\n",
      "\u001b[0;32m/home/ubuntu/anaconda3/lib/python3.6/site-packages/sqlalchemy/orm/session.py\u001b[0m in \u001b[0;36m_assert_active\u001b[0;34m(self, prepared_ok, rollback_ok, deactive_ok, closed_msg)\u001b[0m\n\u001b[1;32m    274\u001b[0m                         \u001b[0;34m\"first issue Session.rollback().\"\u001b[0m\u001b[0;34m\u001b[0m\u001b[0m\n\u001b[1;32m    275\u001b[0m                         \u001b[0;34m\" Original exception was: %s\"\u001b[0m\u001b[0;34m\u001b[0m\u001b[0m\n\u001b[0;32m--> 276\u001b[0;31m                         \u001b[0;34m%\u001b[0m \u001b[0mself\u001b[0m\u001b[0;34m.\u001b[0m\u001b[0m_rollback_exception\u001b[0m\u001b[0;34m\u001b[0m\u001b[0m\n\u001b[0m\u001b[1;32m    277\u001b[0m                     )\n\u001b[1;32m    278\u001b[0m                 \u001b[0;32melif\u001b[0m \u001b[0;32mnot\u001b[0m \u001b[0mdeactive_ok\u001b[0m\u001b[0;34m:\u001b[0m\u001b[0;34m\u001b[0m\u001b[0m\n",
      "\u001b[0;31mInvalidRequestError\u001b[0m: This Session's transaction has been rolled back due to a previous exception during flush. To begin a new transaction with this Session, first issue Session.rollback(). Original exception was: (sqlite3.IntegrityError) UNIQUE constraint failed: prices.Ticker, prices.Date [SQL: 'INSERT INTO prices (\"Ticker\", \"Date\", \"AdjClose\", \"Close\", \"High\", \"Low\", \"Open\", \"Volume\") VALUES (?, ?, ?, ?, ?, ?, ?, ?)'] [parameters: (('a', '2000-01-03', 43.515522, 55.5, 59.125, 53.4375, 59.0312, 1199600.0), ('a', '2000-01-04', 41.408337, 52.8125, 55.0, 52.5, 54.625, 816100.0), ('a', '2000-01-05', 41.359328999999995, 52.75, 53.25, 51.0625, 52.75, 1124700.0), ('a', '2000-01-06', 41.947392, 53.5, 54.9375, 52.375, 52.75, 1112100.0), ('a', '2000-01-07', 42.045390999999995, 53.625, 54.25, 53.3125, 53.75, 782000.0), ('a', '2000-01-10', 41.285782, 52.6562, 53.75, 51.5, 53.6875, 408800.0))]"
     ]
    }
   ],
   "source": [
    "\n",
    "for t in (\"a\", \"b\"):\n",
    "    print(\"Reading {}\".format(t))\n",
    "    \n",
    "    df = pd.read_csv(\"/tmp/\" + t +  \".csv\")\n",
    "    df = df.rename( columns={ \"Adj Close\": \"AdjClose\"} )\n",
    "    \n",
    "    df[\"Date\"] = pd.to_datetime( df[\"Date\"])\n",
    "    \n",
    "    rows = df.to_dict(\"records\")\n",
    "   \n",
    "    for row in rows:\n",
    "        row[\"Ticker\"] = t\n",
    "        # print (\"Row: {}\".format(row))\n",
    "        rec= Price(**row)\n",
    "        \n",
    "        session.add(rec)\n",
    " \n",
    "    try:\n",
    "        session.flush()\n",
    "    except SQLAlchemyError as e:\n",
    "        print(\"Flush error: {}\".format(e))\n",
    "    \n",
    "session.commit()\n",
    "            \n",
    "                        "
   ]
  },
  {
   "cell_type": "code",
   "execution_count": 103,
   "metadata": {
    "collapsed": true
   },
   "outputs": [],
   "source": [
    "rsession = Session(bind=engine)"
   ]
  },
  {
   "cell_type": "code",
   "execution_count": 122,
   "metadata": {
    "collapsed": false
   },
   "outputs": [
    {
     "name": "stdout",
     "output_type": "stream",
     "text": [
      "2018-02-24 20:17:15,204 INFO sqlalchemy.engine.base.Engine SELECT prices.\"Ticker\" AS \"prices_Ticker\", prices.\"Date\" AS \"prices_Date\", prices.\"AdjClose\" AS \"prices_AdjClose\", prices.\"Close\" AS \"prices_Close\", prices.\"High\" AS \"prices_High\", prices.\"Low\" AS \"prices_Low\", prices.\"Open\" AS \"prices_Open\", prices.\"Volume\" AS \"prices_Volume\" \n",
      "FROM prices\n",
      "2018-02-24 20:17:15,207 INFO sqlalchemy.engine.base.Engine ()\n",
      "a 2000-01-03\n",
      "a 2000-01-04\n",
      "a 2000-01-05\n",
      "a 2000-01-06\n",
      "a 2000-01-07\n",
      "a 2000-01-10\n",
      "b 2000-01-03\n",
      "b 2000-01-04\n",
      "b 2000-01-05\n",
      "b 2000-01-06\n",
      "b 2000-01-07\n",
      "b 2000-01-10\n",
      "b 2000-01-11\n",
      "b 2000-01-12\n",
      "b 2000-01-13\n",
      "b 2000-01-14\n",
      "b 2000-01-18\n"
     ]
    }
   ],
   "source": [
    "q = rsession.query(Price)\n",
    "for r in q.all():\n",
    "    print(r.Ticker, r.Date)\n"
   ]
  },
  {
   "cell_type": "code",
   "execution_count": 111,
   "metadata": {
    "collapsed": false
   },
   "outputs": [
    {
     "name": "stdout",
     "output_type": "stream",
     "text": [
      "2018-02-24 20:08:57,275 INFO sqlalchemy.engine.base.Engine SELECT prices.\"Ticker\", prices.\"Date\", prices.\"AdjClose\", prices.\"Close\", prices.\"High\", prices.\"Low\", prices.\"Open\", prices.\"Volume\" \n",
      "FROM prices\n",
      "2018-02-24 20:08:57,279 INFO sqlalchemy.engine.base.Engine ()\n"
     ]
    },
    {
     "data": {
      "text/html": [
       "<div>\n",
       "<table border=\"1\" class=\"dataframe\">\n",
       "  <thead>\n",
       "    <tr style=\"text-align: right;\">\n",
       "      <th></th>\n",
       "      <th>Ticker</th>\n",
       "      <th>Date</th>\n",
       "      <th>AdjClose</th>\n",
       "      <th>Close</th>\n",
       "      <th>High</th>\n",
       "      <th>Low</th>\n",
       "      <th>Open</th>\n",
       "      <th>Volume</th>\n",
       "    </tr>\n",
       "  </thead>\n",
       "  <tbody>\n",
       "    <tr>\n",
       "      <th>0</th>\n",
       "      <td>a</td>\n",
       "      <td>2000-01-03</td>\n",
       "      <td>43.515522</td>\n",
       "      <td>55.5000</td>\n",
       "      <td>59.1250</td>\n",
       "      <td>53.4375</td>\n",
       "      <td>59.0312</td>\n",
       "      <td>1199600.0</td>\n",
       "    </tr>\n",
       "    <tr>\n",
       "      <th>1</th>\n",
       "      <td>a</td>\n",
       "      <td>2000-01-04</td>\n",
       "      <td>41.408337</td>\n",
       "      <td>52.8125</td>\n",
       "      <td>55.0000</td>\n",
       "      <td>52.5000</td>\n",
       "      <td>54.6250</td>\n",
       "      <td>816100.0</td>\n",
       "    </tr>\n",
       "    <tr>\n",
       "      <th>2</th>\n",
       "      <td>a</td>\n",
       "      <td>2000-01-05</td>\n",
       "      <td>41.359329</td>\n",
       "      <td>52.7500</td>\n",
       "      <td>53.2500</td>\n",
       "      <td>51.0625</td>\n",
       "      <td>52.7500</td>\n",
       "      <td>1124700.0</td>\n",
       "    </tr>\n",
       "    <tr>\n",
       "      <th>3</th>\n",
       "      <td>a</td>\n",
       "      <td>2000-01-06</td>\n",
       "      <td>41.947392</td>\n",
       "      <td>53.5000</td>\n",
       "      <td>54.9375</td>\n",
       "      <td>52.3750</td>\n",
       "      <td>52.7500</td>\n",
       "      <td>1112100.0</td>\n",
       "    </tr>\n",
       "    <tr>\n",
       "      <th>4</th>\n",
       "      <td>a</td>\n",
       "      <td>2000-01-07</td>\n",
       "      <td>42.045391</td>\n",
       "      <td>53.6250</td>\n",
       "      <td>54.2500</td>\n",
       "      <td>53.3125</td>\n",
       "      <td>53.7500</td>\n",
       "      <td>782000.0</td>\n",
       "    </tr>\n",
       "  </tbody>\n",
       "</table>\n",
       "</div>"
      ],
      "text/plain": [
       "  Ticker        Date   AdjClose    Close     High      Low     Open     Volume\n",
       "0      a  2000-01-03  43.515522  55.5000  59.1250  53.4375  59.0312  1199600.0\n",
       "1      a  2000-01-04  41.408337  52.8125  55.0000  52.5000  54.6250   816100.0\n",
       "2      a  2000-01-05  41.359329  52.7500  53.2500  51.0625  52.7500  1124700.0\n",
       "3      a  2000-01-06  41.947392  53.5000  54.9375  52.3750  52.7500  1112100.0\n",
       "4      a  2000-01-07  42.045391  53.6250  54.2500  53.3125  53.7500   782000.0"
      ]
     },
     "execution_count": 111,
     "metadata": {},
     "output_type": "execute_result"
    }
   ],
   "source": [
    "df_r = pd.read_sql(session.query(Price).statement, rsession.bind)\n",
    "df_r.head()"
   ]
  },
  {
   "cell_type": "code",
   "execution_count": 105,
   "metadata": {
    "collapsed": false
   },
   "outputs": [
    {
     "name": "stdout",
     "output_type": "stream",
     "text": [
      "2018-02-24 20:04:58,390 INFO sqlalchemy.engine.base.Engine SELECT prices.\"Ticker\", prices.\"Date\", prices.\"AdjClose\", prices.\"Close\", prices.\"High\", prices.\"Low\", prices.\"Open\", prices.\"Volume\" \n",
      "FROM prices \n",
      "WHERE prices.\"Ticker\" = ?\n",
      "2018-02-24 20:04:58,392 INFO sqlalchemy.engine.base.Engine ('b',)\n"
     ]
    },
    {
     "data": {
      "text/html": [
       "<div>\n",
       "<table border=\"1\" class=\"dataframe\">\n",
       "  <thead>\n",
       "    <tr style=\"text-align: right;\">\n",
       "      <th></th>\n",
       "      <th>Ticker</th>\n",
       "      <th>Date</th>\n",
       "      <th>AdjClose</th>\n",
       "      <th>Close</th>\n",
       "      <th>High</th>\n",
       "      <th>Low</th>\n",
       "      <th>Open</th>\n",
       "      <th>Volume</th>\n",
       "    </tr>\n",
       "  </thead>\n",
       "  <tbody>\n",
       "    <tr>\n",
       "      <th>0</th>\n",
       "      <td>b</td>\n",
       "      <td>2000-01-03</td>\n",
       "      <td>34.724194</td>\n",
       "      <td>46.7500</td>\n",
       "      <td>48.1250</td>\n",
       "      <td>45.1875</td>\n",
       "      <td>47.9375</td>\n",
       "      <td>7698700.0</td>\n",
       "    </tr>\n",
       "    <tr>\n",
       "      <th>1</th>\n",
       "      <td>b</td>\n",
       "      <td>2000-01-04</td>\n",
       "      <td>33.935005</td>\n",
       "      <td>45.6875</td>\n",
       "      <td>48.5000</td>\n",
       "      <td>45.3750</td>\n",
       "      <td>45.5625</td>\n",
       "      <td>7399600.0</td>\n",
       "    </tr>\n",
       "    <tr>\n",
       "      <th>2</th>\n",
       "      <td>b</td>\n",
       "      <td>2000-01-05</td>\n",
       "      <td>33.192238</td>\n",
       "      <td>44.6875</td>\n",
       "      <td>45.4375</td>\n",
       "      <td>42.0000</td>\n",
       "      <td>45.0000</td>\n",
       "      <td>6607300.0</td>\n",
       "    </tr>\n",
       "    <tr>\n",
       "      <th>3</th>\n",
       "      <td>b</td>\n",
       "      <td>2000-01-06</td>\n",
       "      <td>30.314034</td>\n",
       "      <td>40.8125</td>\n",
       "      <td>44.0000</td>\n",
       "      <td>40.5000</td>\n",
       "      <td>43.8750</td>\n",
       "      <td>8556600.0</td>\n",
       "    </tr>\n",
       "    <tr>\n",
       "      <th>4</th>\n",
       "      <td>b</td>\n",
       "      <td>2000-01-07</td>\n",
       "      <td>33.749325</td>\n",
       "      <td>45.4375</td>\n",
       "      <td>45.4375</td>\n",
       "      <td>40.7500</td>\n",
       "      <td>40.9375</td>\n",
       "      <td>10617800.0</td>\n",
       "    </tr>\n",
       "  </tbody>\n",
       "</table>\n",
       "</div>"
      ],
      "text/plain": [
       "  Ticker        Date   AdjClose    Close     High      Low     Open  \\\n",
       "0      b  2000-01-03  34.724194  46.7500  48.1250  45.1875  47.9375   \n",
       "1      b  2000-01-04  33.935005  45.6875  48.5000  45.3750  45.5625   \n",
       "2      b  2000-01-05  33.192238  44.6875  45.4375  42.0000  45.0000   \n",
       "3      b  2000-01-06  30.314034  40.8125  44.0000  40.5000  43.8750   \n",
       "4      b  2000-01-07  33.749325  45.4375  45.4375  40.7500  40.9375   \n",
       "\n",
       "       Volume  \n",
       "0   7698700.0  \n",
       "1   7399600.0  \n",
       "2   6607300.0  \n",
       "3   8556600.0  \n",
       "4  10617800.0  "
      ]
     },
     "execution_count": 105,
     "metadata": {},
     "output_type": "execute_result"
    }
   ],
   "source": [
    "df_r_b = pd.read_sql( rsession.query(Price).filter(Price.Ticker== \"b\").statement, rsession.bind)\n",
    "df_r_b.head()"
   ]
  },
  {
   "cell_type": "code",
   "execution_count": 8,
   "metadata": {
    "collapsed": true
   },
   "outputs": [],
   "source": [
    "def setup_database(dburl, echo, num):\n",
    "    engine = create_engine(dburl, echo=echo)\n",
    "    Base.metadata.drop_all(engine)\n",
    "    Base.metadata.create_all(engine)\n",
    "    \n",
    "    return engine\n",
    "\n"
   ]
  },
  {
   "cell_type": "code",
   "execution_count": 9,
   "metadata": {
    "collapsed": true
   },
   "outputs": [],
   "source": [
    "def test_flush_no_pk(n):\n",
    "    \"\"\"Individual INSERT statements via the ORM, calling upon last row id\"\"\"\n",
    "    session = Session(bind=engine)\n",
    "    for chunk in range(0, n, 1000):\n",
    "        session.add_all([\n",
    "            Customer(\n",
    "                name='customer name %d' % i,\n",
    "                description='customer description %d' % i)\n",
    "            for i in range(chunk, chunk + 1000)\n",
    "        ])\n",
    "        session.flush()\n",
    "    session.commit()\n"
   ]
  },
  {
   "cell_type": "code",
   "execution_count": null,
   "metadata": {
    "collapsed": true
   },
   "outputs": [],
   "source": []
  }
 ],
 "metadata": {
  "kernelspec": {
   "display_name": "Python 3",
   "language": "python",
   "name": "python3"
  },
  "language_info": {
   "codemirror_mode": {
    "name": "ipython",
    "version": 3
   },
   "file_extension": ".py",
   "mimetype": "text/x-python",
   "name": "python",
   "nbconvert_exporter": "python",
   "pygments_lexer": "ipython3",
   "version": "3.6.0"
  }
 },
 "nbformat": 4,
 "nbformat_minor": 2
}
