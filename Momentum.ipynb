{
 "cells": [
  {
   "cell_type": "code",
   "execution_count": 1,
   "metadata": {
    "collapsed": false
   },
   "outputs": [],
   "source": [
    "from IPython.core.interactiveshell import InteractiveShell\n",
    "InteractiveShell.ast_node_interactivity = \"all\"\n",
    "\n",
    "# Reload all modules imported with %aimport\n",
    "%load_ext autoreload\n",
    "%autoreload 1"
   ]
  },
  {
   "cell_type": "code",
   "execution_count": 2,
   "metadata": {
    "collapsed": true
   },
   "outputs": [],
   "source": [
    "import pandas as pd\n",
    "idx = pd.IndexSlice\n",
    "\n",
    "import datetime as dt\n",
    "from datetime import date\n",
    "from datetime import timedelta\n",
    "import dateutil.parser as dup\n",
    "\n",
    "%aimport trans.data\n",
    "%aimport trans.gtrans\n",
    "%aimport trans.reg\n",
    "%aimport trans.regpipe\n",
    "%aimport trans.qfactors\n",
    "\n",
    "from trans.data import GetData\n",
    "gd = GetData()\n",
    "from trans.gtrans import *\n",
    "from trans.reg import Reg, RegAttr\n",
    "from trans.regpipe import RegPipe\n"
   ]
  },
  {
   "cell_type": "code",
   "execution_count": 3,
   "metadata": {
    "collapsed": false
   },
   "outputs": [
    {
     "data": {
      "text/plain": [
       "(datetime.datetime(2017, 1, 1, 0, 0), datetime.datetime(2018, 3, 15, 0, 0))"
      ]
     },
     "execution_count": 3,
     "metadata": {},
     "output_type": "execute_result"
    }
   ],
   "source": [
    "start = dup.parse(\"01/01/2017\")\n",
    "end =   dup.parse(\"03/15/2018\")\n",
    "#end = date.today()\n",
    "start, end"
   ]
  },
  {
   "cell_type": "code",
   "execution_count": 4,
   "metadata": {
    "collapsed": false
   },
   "outputs": [],
   "source": [
    "import trans.qfactors as qf\n",
    "\n",
    "from trans.date_manip import Date_Manipulator"
   ]
  },
  {
   "cell_type": "markdown",
   "metadata": {},
   "source": [
    "## Define the universe"
   ]
  },
  {
   "cell_type": "code",
   "execution_count": 5,
   "metadata": {
    "collapsed": false
   },
   "outputs": [
    {
     "data": {
      "text/plain": [
       "987"
      ]
     },
     "execution_count": 5,
     "metadata": {},
     "output_type": "execute_result"
    }
   ],
   "source": [
    "universe = gd.get_r1000_tickers()\n",
    "len(universe)\n",
    "universe = [ \"FB\", \"AAPL\", \"AMZN\", \"NFLX\", \"GOOG\"]"
   ]
  },
  {
   "cell_type": "code",
   "execution_count": 6,
   "metadata": {
    "collapsed": false
   },
   "outputs": [],
   "source": [
    "mom = qf.MomentumPipe(universe)"
   ]
  },
  {
   "cell_type": "markdown",
   "metadata": {},
   "source": [
    "## Memorialize: save intermediate data as \"blessed\" output"
   ]
  },
  {
   "cell_type": "code",
   "execution_count": 7,
   "metadata": {
    "collapsed": true
   },
   "outputs": [],
   "source": [
    "memorialize = False\n",
    "#memorialize = True"
   ]
  },
  {
   "cell_type": "markdown",
   "metadata": {},
   "source": [
    "## Load prices"
   ]
  },
  {
   "cell_type": "code",
   "execution_count": 8,
   "metadata": {
    "collapsed": false
   },
   "outputs": [],
   "source": [
    "price_df = mom.load_prices( start, end)\n"
   ]
  },
  {
   "cell_type": "code",
   "execution_count": 9,
   "metadata": {
    "collapsed": false
   },
   "outputs": [],
   "source": [
    "if memorialize:\n",
    "    gd.save_data(price_df.loc[:, \"Adj Close\"], \"verify_mom_raw_df.pkl\")\n",
    "    "
   ]
  },
  {
   "cell_type": "markdown",
   "metadata": {},
   "source": [
    "## Set period-end dates\n",
    "### end-of-month dates, subject to those dates being in price_df.index"
   ]
  },
  {
   "cell_type": "code",
   "execution_count": 10,
   "metadata": {
    "collapsed": true
   },
   "outputs": [],
   "source": [
    "dm = Date_Manipulator( mom.price_df.index )"
   ]
  },
  {
   "cell_type": "code",
   "execution_count": 11,
   "metadata": {
    "collapsed": false
   },
   "outputs": [
    {
     "name": "stdout",
     "output_type": "stream",
     "text": [
      "End 2018-03-15 00:00:00, last 2018-03-31 00:00:00\n"
     ]
    }
   ],
   "source": [
    "eom_in_idx = dm.periodic_in_idx_end_of_month(end)\n",
    "mom.set_endDates( eom_in_idx )"
   ]
  },
  {
   "cell_type": "markdown",
   "metadata": {},
   "source": [
    "## Create daily returns\n",
    "### Needed to create the daily factor series"
   ]
  },
  {
   "cell_type": "code",
   "execution_count": 12,
   "metadata": {
    "collapsed": false
   },
   "outputs": [],
   "source": [
    "price_attr = \"Adj Close\"\n",
    "ret_attr = \"Ret\"\n",
    "daily_ret_df = mom.create_dailyReturns(price_attr, ret_attr )"
   ]
  },
  {
   "cell_type": "markdown",
   "metadata": {},
   "source": [
    "## Create period returns\n",
    "### Needed to create the ranks"
   ]
  },
  {
   "cell_type": "code",
   "execution_count": 13,
   "metadata": {
    "collapsed": false
   },
   "outputs": [],
   "source": [
    "period_ret_attr = ret_attr + \" yearly\"\n",
    "yearly_ret_df = mom.create_periodReturns(price_attr, period_ret_attr, periods=12 )"
   ]
  },
  {
   "cell_type": "code",
   "execution_count": 14,
   "metadata": {
    "collapsed": false
   },
   "outputs": [],
   "source": [
    "if memorialize:\n",
    "    gd.save_data(daily_ret_df,  \"verify_mom_daily_ret_df.pkl\")\n",
    "    gd.save_data(yearly_ret_df, \"verify_mom_yearly_ret_df.pkl\")\n",
    "    "
   ]
  },
  {
   "cell_type": "markdown",
   "metadata": {},
   "source": [
    "## Create ranks\n",
    "### Ranks are based on self.period_ret_df, calculated on each period-end date\n",
    "### These ranks are then applied in the subsequent period, on a daily basis\n",
    "### i.e.,  shifted one-day forward  and then forward filled dail\n"
   ]
  },
  {
   "cell_type": "code",
   "execution_count": 15,
   "metadata": {
    "collapsed": false
   },
   "outputs": [],
   "source": [
    "daily_rank_df = mom.create_ranks()"
   ]
  },
  {
   "cell_type": "code",
   "execution_count": 16,
   "metadata": {
    "collapsed": false
   },
   "outputs": [],
   "source": [
    "factor_ret_attr = ret_attr + \" Factor\"\n",
    "factor_df = mom.create_factor()"
   ]
  },
  {
   "cell_type": "code",
   "execution_count": 17,
   "metadata": {
    "collapsed": false
   },
   "outputs": [],
   "source": [
    "if memorialize:\n",
    "    gd.save_data(daily_rank_df, \"verify_mom_daily_rank_df.pkl\")\n",
    "    gd.save_data(factor_df,     \"verify_mom_factor_df.pkl\")"
   ]
  },
  {
   "cell_type": "code",
   "execution_count": 18,
   "metadata": {
    "collapsed": false
   },
   "outputs": [
    {
     "data": {
      "text/html": [
       "<div>\n",
       "<table border=\"1\" class=\"dataframe\">\n",
       "  <thead>\n",
       "    <tr>\n",
       "      <th></th>\n",
       "      <th colspan=\"5\" halign=\"left\">weight</th>\n",
       "      <th colspan=\"10\" halign=\"left\">Ret</th>\n",
       "    </tr>\n",
       "    <tr>\n",
       "      <th></th>\n",
       "      <th>AAPL</th>\n",
       "      <th>AMZN</th>\n",
       "      <th>FB</th>\n",
       "      <th>GOOG</th>\n",
       "      <th>NFLX</th>\n",
       "      <th>AAPL</th>\n",
       "      <th>AMZN</th>\n",
       "      <th>FB</th>\n",
       "      <th>GOOG</th>\n",
       "      <th>NFLX</th>\n",
       "      <th>Port</th>\n",
       "      <th>Port &lt; 0</th>\n",
       "      <th>Port &gt; 0</th>\n",
       "      <th>Port net</th>\n",
       "      <th>SPY</th>\n",
       "    </tr>\n",
       "    <tr>\n",
       "      <th>Dt</th>\n",
       "      <th></th>\n",
       "      <th></th>\n",
       "      <th></th>\n",
       "      <th></th>\n",
       "      <th></th>\n",
       "      <th></th>\n",
       "      <th></th>\n",
       "      <th></th>\n",
       "      <th></th>\n",
       "      <th></th>\n",
       "      <th></th>\n",
       "      <th></th>\n",
       "      <th></th>\n",
       "      <th></th>\n",
       "      <th></th>\n",
       "    </tr>\n",
       "  </thead>\n",
       "  <tbody>\n",
       "    <tr>\n",
       "      <th>2018-03-09</th>\n",
       "      <td>-1</td>\n",
       "      <td>0</td>\n",
       "      <td>0</td>\n",
       "      <td>0</td>\n",
       "      <td>1</td>\n",
       "      <td>-0.017181</td>\n",
       "      <td>0.0</td>\n",
       "      <td>0.0</td>\n",
       "      <td>0.0</td>\n",
       "      <td>0.045552</td>\n",
       "      <td>0.028371</td>\n",
       "      <td>-0.017181</td>\n",
       "      <td>0.045552</td>\n",
       "      <td>0.028371</td>\n",
       "      <td>NaN</td>\n",
       "    </tr>\n",
       "    <tr>\n",
       "      <th>2018-03-12</th>\n",
       "      <td>-1</td>\n",
       "      <td>0</td>\n",
       "      <td>0</td>\n",
       "      <td>0</td>\n",
       "      <td>1</td>\n",
       "      <td>-0.009668</td>\n",
       "      <td>0.0</td>\n",
       "      <td>-0.0</td>\n",
       "      <td>0.0</td>\n",
       "      <td>-0.030594</td>\n",
       "      <td>-0.040262</td>\n",
       "      <td>-0.009668</td>\n",
       "      <td>-0.030594</td>\n",
       "      <td>-0.040262</td>\n",
       "      <td>NaN</td>\n",
       "    </tr>\n",
       "    <tr>\n",
       "      <th>2018-03-13</th>\n",
       "      <td>-1</td>\n",
       "      <td>0</td>\n",
       "      <td>0</td>\n",
       "      <td>0</td>\n",
       "      <td>1</td>\n",
       "      <td>0.009630</td>\n",
       "      <td>-0.0</td>\n",
       "      <td>-0.0</td>\n",
       "      <td>-0.0</td>\n",
       "      <td>-0.016869</td>\n",
       "      <td>-0.007239</td>\n",
       "      <td>0.009630</td>\n",
       "      <td>-0.016869</td>\n",
       "      <td>-0.007239</td>\n",
       "      <td>NaN</td>\n",
       "    </tr>\n",
       "    <tr>\n",
       "      <th>2018-03-14</th>\n",
       "      <td>-1</td>\n",
       "      <td>0</td>\n",
       "      <td>0</td>\n",
       "      <td>0</td>\n",
       "      <td>1</td>\n",
       "      <td>0.008501</td>\n",
       "      <td>0.0</td>\n",
       "      <td>0.0</td>\n",
       "      <td>0.0</td>\n",
       "      <td>0.017950</td>\n",
       "      <td>0.026451</td>\n",
       "      <td>0.008501</td>\n",
       "      <td>0.017950</td>\n",
       "      <td>0.026451</td>\n",
       "      <td>NaN</td>\n",
       "    </tr>\n",
       "    <tr>\n",
       "      <th>2018-03-15</th>\n",
       "      <td>-1</td>\n",
       "      <td>0</td>\n",
       "      <td>0</td>\n",
       "      <td>0</td>\n",
       "      <td>1</td>\n",
       "      <td>-0.001177</td>\n",
       "      <td>-0.0</td>\n",
       "      <td>-0.0</td>\n",
       "      <td>0.0</td>\n",
       "      <td>-0.001431</td>\n",
       "      <td>-0.002607</td>\n",
       "      <td>-0.001177</td>\n",
       "      <td>-0.001431</td>\n",
       "      <td>-0.002607</td>\n",
       "      <td>NaN</td>\n",
       "    </tr>\n",
       "  </tbody>\n",
       "</table>\n",
       "</div>"
      ],
      "text/plain": [
       "           weight                         Ret                           \\\n",
       "             AAPL AMZN FB GOOG NFLX      AAPL AMZN   FB GOOG      NFLX   \n",
       "Dt                                                                       \n",
       "2018-03-09     -1    0  0    0    1 -0.017181  0.0  0.0  0.0  0.045552   \n",
       "2018-03-12     -1    0  0    0    1 -0.009668  0.0 -0.0  0.0 -0.030594   \n",
       "2018-03-13     -1    0  0    0    1  0.009630 -0.0 -0.0 -0.0 -0.016869   \n",
       "2018-03-14     -1    0  0    0    1  0.008501  0.0  0.0  0.0  0.017950   \n",
       "2018-03-15     -1    0  0    0    1 -0.001177 -0.0 -0.0  0.0 -0.001431   \n",
       "\n",
       "                                                        \n",
       "                Port  Port < 0  Port > 0  Port net SPY  \n",
       "Dt                                                      \n",
       "2018-03-09  0.028371 -0.017181  0.045552  0.028371 NaN  \n",
       "2018-03-12 -0.040262 -0.009668 -0.030594 -0.040262 NaN  \n",
       "2018-03-13 -0.007239  0.009630 -0.016869 -0.007239 NaN  \n",
       "2018-03-14  0.026451  0.008501  0.017950  0.026451 NaN  \n",
       "2018-03-15 -0.002607 -0.001177 -0.001431 -0.002607 NaN  "
      ]
     },
     "execution_count": 18,
     "metadata": {},
     "output_type": "execute_result"
    }
   ],
   "source": [
    "factor_df.tail()"
   ]
  }
 ],
 "metadata": {
  "kernelspec": {
   "display_name": "Python 3",
   "language": "python",
   "name": "python3"
  },
  "language_info": {
   "codemirror_mode": {
    "name": "ipython",
    "version": 3
   },
   "file_extension": ".py",
   "mimetype": "text/x-python",
   "name": "python",
   "nbconvert_exporter": "python",
   "pygments_lexer": "ipython3",
   "version": "3.6.0"
  }
 },
 "nbformat": 4,
 "nbformat_minor": 2
}
