{
 "cells": [
  {
   "cell_type": "code",
   "execution_count": 1,
   "metadata": {
    "collapsed": true
   },
   "outputs": [],
   "source": [
    "from IPython.core.interactiveshell import InteractiveShell\n",
    "InteractiveShell.ast_node_interactivity = \"all\"\n",
    "\n",
    "# Reload all modules imported with %aimport\n",
    "%load_ext autoreload\n",
    "%autoreload 1"
   ]
  },
  {
   "cell_type": "code",
   "execution_count": 2,
   "metadata": {
    "collapsed": false
   },
   "outputs": [],
   "source": [
    "import pandas as pd\n",
    "idx = pd.IndexSlice\n",
    "\n",
    "import datetime as dt\n",
    "from datetime import date\n",
    "from datetime import timedelta\n",
    "import dateutil.parser as dup\n",
    "\n",
    "%aimport trans.data\n",
    "%aimport trans.gtrans\n",
    "%aimport trans.reg\n",
    "%aimport trans.regpipe\n",
    "%aimport trans.pca\n",
    "\n",
    "from trans.data import GetData\n",
    "gd = GetData()\n",
    "from trans.gtrans import *\n",
    "from trans.reg import Reg, RegAttr\n",
    "from trans.regpipe import RegPipe\n",
    "\n",
    "import numpy as np\n",
    "import matplotlib.pyplot as plt\n",
    "from sklearn.decomposition import PCA\n",
    "from sklearn.preprocessing import StandardScaler\n",
    "%matplotlib inline"
   ]
  },
  {
   "cell_type": "code",
   "execution_count": 3,
   "metadata": {
    "collapsed": false
   },
   "outputs": [
    {
     "data": {
      "text/plain": [
       "'sector_residuals_20180228.pkl'"
      ]
     },
     "execution_count": 3,
     "metadata": {},
     "output_type": "execute_result"
    }
   ],
   "source": [
    "residuals_file = \"sector_residuals.pkl\"\n",
    "residuals_file = \"sector_residuals_{}.pkl\".format(dup.parse(\"02/28/2018\").strftime(\"%Y%m%d\"))\n",
    "residuals_file"
   ]
  },
  {
   "cell_type": "code",
   "execution_count": 4,
   "metadata": {
    "collapsed": false
   },
   "outputs": [],
   "source": [
    "sector_residuals = gd.load_data(residuals_file)"
   ]
  },
  {
   "cell_type": "code",
   "execution_count": 5,
   "metadata": {
    "collapsed": false
   },
   "outputs": [
    {
     "data": {
      "text/html": [
       "<div>\n",
       "<table border=\"1\" class=\"dataframe\">\n",
       "  <thead>\n",
       "    <tr>\n",
       "      <th></th>\n",
       "      <th colspan=\"11\" halign=\"left\">Error</th>\n",
       "    </tr>\n",
       "    <tr>\n",
       "      <th></th>\n",
       "      <th>XLB</th>\n",
       "      <th>XLE</th>\n",
       "      <th>XLF</th>\n",
       "      <th>XLI</th>\n",
       "      <th>XLK</th>\n",
       "      <th>XLP</th>\n",
       "      <th>XLRE</th>\n",
       "      <th>XLU</th>\n",
       "      <th>XLV</th>\n",
       "      <th>XLY</th>\n",
       "      <th>XTL</th>\n",
       "    </tr>\n",
       "    <tr>\n",
       "      <th>Dt</th>\n",
       "      <th></th>\n",
       "      <th></th>\n",
       "      <th></th>\n",
       "      <th></th>\n",
       "      <th></th>\n",
       "      <th></th>\n",
       "      <th></th>\n",
       "      <th></th>\n",
       "      <th></th>\n",
       "      <th></th>\n",
       "      <th></th>\n",
       "    </tr>\n",
       "  </thead>\n",
       "  <tbody>\n",
       "    <tr>\n",
       "      <th>2017-08-29</th>\n",
       "      <td>-1.267245</td>\n",
       "      <td>-0.294920</td>\n",
       "      <td>-0.849623</td>\n",
       "      <td>1.597715</td>\n",
       "      <td>0.619651</td>\n",
       "      <td>0.644662</td>\n",
       "      <td>-0.039047</td>\n",
       "      <td>-0.190933</td>\n",
       "      <td>0.239745</td>\n",
       "      <td>-0.608847</td>\n",
       "      <td>0.297138</td>\n",
       "    </tr>\n",
       "    <tr>\n",
       "      <th>2017-08-30</th>\n",
       "      <td>0.582329</td>\n",
       "      <td>-0.534029</td>\n",
       "      <td>-0.253758</td>\n",
       "      <td>-0.219857</td>\n",
       "      <td>0.295891</td>\n",
       "      <td>-0.520649</td>\n",
       "      <td>0.398266</td>\n",
       "      <td>-0.453495</td>\n",
       "      <td>0.206929</td>\n",
       "      <td>0.611166</td>\n",
       "      <td>-0.223132</td>\n",
       "    </tr>\n",
       "    <tr>\n",
       "      <th>2017-08-31</th>\n",
       "      <td>0.366117</td>\n",
       "      <td>-0.120517</td>\n",
       "      <td>-0.999323</td>\n",
       "      <td>-0.767451</td>\n",
       "      <td>-0.350550</td>\n",
       "      <td>-0.581231</td>\n",
       "      <td>0.330280</td>\n",
       "      <td>-0.112850</td>\n",
       "      <td>2.453685</td>\n",
       "      <td>-0.303413</td>\n",
       "      <td>-0.826243</td>\n",
       "    </tr>\n",
       "    <tr>\n",
       "      <th>2017-09-01</th>\n",
       "      <td>1.138802</td>\n",
       "      <td>1.153297</td>\n",
       "      <td>0.165596</td>\n",
       "      <td>-0.195671</td>\n",
       "      <td>-0.658676</td>\n",
       "      <td>0.851778</td>\n",
       "      <td>0.025367</td>\n",
       "      <td>-0.322937</td>\n",
       "      <td>-0.369247</td>\n",
       "      <td>0.695963</td>\n",
       "      <td>0.324480</td>\n",
       "    </tr>\n",
       "    <tr>\n",
       "      <th>2017-09-05</th>\n",
       "      <td>-0.854611</td>\n",
       "      <td>1.727538</td>\n",
       "      <td>-2.440519</td>\n",
       "      <td>-0.821128</td>\n",
       "      <td>-0.124794</td>\n",
       "      <td>1.333760</td>\n",
       "      <td>0.624551</td>\n",
       "      <td>0.811454</td>\n",
       "      <td>0.605418</td>\n",
       "      <td>0.460404</td>\n",
       "      <td>-0.128842</td>\n",
       "    </tr>\n",
       "  </tbody>\n",
       "</table>\n",
       "</div>"
      ],
      "text/plain": [
       "               Error                                                    \\\n",
       "                 XLB       XLE       XLF       XLI       XLK       XLP   \n",
       "Dt                                                                       \n",
       "2017-08-29 -1.267245 -0.294920 -0.849623  1.597715  0.619651  0.644662   \n",
       "2017-08-30  0.582329 -0.534029 -0.253758 -0.219857  0.295891 -0.520649   \n",
       "2017-08-31  0.366117 -0.120517 -0.999323 -0.767451 -0.350550 -0.581231   \n",
       "2017-09-01  1.138802  1.153297  0.165596 -0.195671 -0.658676  0.851778   \n",
       "2017-09-05 -0.854611  1.727538 -2.440519 -0.821128 -0.124794  1.333760   \n",
       "\n",
       "                                                              \n",
       "                XLRE       XLU       XLV       XLY       XTL  \n",
       "Dt                                                            \n",
       "2017-08-29 -0.039047 -0.190933  0.239745 -0.608847  0.297138  \n",
       "2017-08-30  0.398266 -0.453495  0.206929  0.611166 -0.223132  \n",
       "2017-08-31  0.330280 -0.112850  2.453685 -0.303413 -0.826243  \n",
       "2017-09-01  0.025367 -0.322937 -0.369247  0.695963  0.324480  \n",
       "2017-09-05  0.624551  0.811454  0.605418  0.460404 -0.128842  "
      ]
     },
     "execution_count": 5,
     "metadata": {},
     "output_type": "execute_result"
    }
   ],
   "source": [
    "scale_pl = make_pipeline( SklearnPreproccessingTransformer( StandardScaler() ) )\n",
    "\n",
    "scaled_df = scale_pl.fit_transform(sector_residuals)\n",
    "    \n",
    "scaled_df.head()"
   ]
  },
  {
   "cell_type": "code",
   "execution_count": 6,
   "metadata": {
    "collapsed": false
   },
   "outputs": [
    {
     "data": {
      "text/html": [
       "<div>\n",
       "<table border=\"1\" class=\"dataframe\">\n",
       "  <thead>\n",
       "    <tr style=\"text-align: right;\">\n",
       "      <th></th>\n",
       "      <th>principal component 1</th>\n",
       "      <th>principal component 2</th>\n",
       "    </tr>\n",
       "  </thead>\n",
       "  <tbody>\n",
       "    <tr>\n",
       "      <th>0</th>\n",
       "      <td>-0.609890</td>\n",
       "      <td>-0.293321</td>\n",
       "    </tr>\n",
       "    <tr>\n",
       "      <th>1</th>\n",
       "      <td>0.027888</td>\n",
       "      <td>0.517567</td>\n",
       "    </tr>\n",
       "    <tr>\n",
       "      <th>2</th>\n",
       "      <td>-1.006794</td>\n",
       "      <td>-0.430009</td>\n",
       "    </tr>\n",
       "    <tr>\n",
       "      <th>3</th>\n",
       "      <td>0.924632</td>\n",
       "      <td>-0.580885</td>\n",
       "    </tr>\n",
       "    <tr>\n",
       "      <th>4</th>\n",
       "      <td>-2.085322</td>\n",
       "      <td>-0.337845</td>\n",
       "    </tr>\n",
       "  </tbody>\n",
       "</table>\n",
       "</div>"
      ],
      "text/plain": [
       "   principal component 1  principal component 2\n",
       "0              -0.609890              -0.293321\n",
       "1               0.027888               0.517567\n",
       "2              -1.006794              -0.430009\n",
       "3               0.924632              -0.580885\n",
       "4              -2.085322              -0.337845"
      ]
     },
     "execution_count": 6,
     "metadata": {},
     "output_type": "execute_result"
    },
    {
     "data": {
      "text/plain": [
       "{'components_': array([[ 0.25222441,  0.13745524,  0.42556254,  0.27590342, -0.28616915,\n",
       "         -0.1768479 , -0.47210883, -0.45423497, -0.1308355 ,  0.26688844,\n",
       "          0.17184655],\n",
       "        [-0.16744332, -0.01216821, -0.12812096, -0.40114519,  0.60182963,\n",
       "         -0.45848535, -0.14582819, -0.26891066, -0.26359745,  0.16585255,\n",
       "          0.1774965 ]]),\n",
       " 'copy': True,\n",
       " 'explained_variance_': array([ 2.52230391,  1.77736203]),\n",
       " 'explained_variance_ratio_': array([ 0.22930036,  0.16157837]),\n",
       " 'iterated_power': 'auto',\n",
       " 'mean_': array([ -5.28677631e-18,  -3.17206578e-17,   1.85037171e-17,\n",
       "          3.52451754e-18,   7.04903508e-18,  -2.29093640e-17,\n",
       "         -1.76225877e-18,  -5.28677631e-18,   2.46716228e-17,\n",
       "         -2.29093640e-17,   7.48959977e-18]),\n",
       " 'n_components': 2,\n",
       " 'n_components_': 2,\n",
       " 'n_features_': 11,\n",
       " 'n_samples_': 126,\n",
       " 'noise_variance_': 0.7444815630269157,\n",
       " 'random_state': None,\n",
       " 'svd_solver': 'auto',\n",
       " 'tol': 0.0,\n",
       " 'whiten': False}"
      ]
     },
     "execution_count": 6,
     "metadata": {},
     "output_type": "execute_result"
    },
    {
     "data": {
      "text/plain": [
       "(2, 11)"
      ]
     },
     "execution_count": 6,
     "metadata": {},
     "output_type": "execute_result"
    }
   ],
   "source": [
    "pca = PCA(n_components=2)\n",
    "\n",
    "principalComponents = pca.fit_transform(scaled_df)\n",
    "\n",
    "principalDf = pd.DataFrame(data = principalComponents\n",
    "             , columns = ['principal component 1', 'principal component 2'])\n",
    "\n",
    "principalDf.head(5)\n",
    "pca.__dict__\n",
    "pca.components_.shape"
   ]
  },
  {
   "cell_type": "code",
   "execution_count": 7,
   "metadata": {
    "collapsed": false
   },
   "outputs": [
    {
     "data": {
      "text/plain": [
       "{'XLB': 'Materials',\n",
       " 'XLE': 'Energy',\n",
       " 'XLF': 'Financial',\n",
       " 'XLI': 'Industrial',\n",
       " 'XLK': 'Technology',\n",
       " 'XLP': 'Consumer Staples',\n",
       " 'XLRE': 'Real Estate',\n",
       " 'XLU': 'Utilities',\n",
       " 'XLV': 'Health',\n",
       " 'XLY': 'Consumer Discretionary',\n",
       " 'XTL': 'Telecom'}"
      ]
     },
     "execution_count": 7,
     "metadata": {},
     "output_type": "execute_result"
    }
   ],
   "source": [
    "\n",
    "sectors =  { \n",
    "    \"Consumer Discretionary\": \"XLY\",\n",
    "    \"Consumer Staples\": \"XLP\",\n",
    "    \"Energy\": \"XLE\",\n",
    "    \"Financial\": \"XLF\",\n",
    "    \"Health\": \"XLV\",\n",
    "    \"Industrial\": \"XLI\", \n",
    "    \"Materials\" : \"XLB\",\n",
    "    \"Real Estate\": \"XLRE\",\n",
    "    \"Technology\": \"XLK\", \n",
    "    \"Telecom\": \"XTL\",\n",
    "    \"Utilities\": \"XLU\"\n",
    "}\n",
    "\n",
    "to_label = {}\n",
    "\n",
    "for key, val in sectors.items():\n",
    "    to_label[val] = key\n",
    "    \n",
    "to_label"
   ]
  },
  {
   "cell_type": "code",
   "execution_count": 8,
   "metadata": {
    "collapsed": true
   },
   "outputs": [],
   "source": [
    "tickers = scaled_df.columns.get_level_values(1).tolist()\n",
    "tickers = [ to_label[t] for t in tickers]"
   ]
  },
  {
   "cell_type": "code",
   "execution_count": 9,
   "metadata": {
    "collapsed": false
   },
   "outputs": [
    {
     "data": {
      "text/plain": [
       "<matplotlib.text.Text at 0x7f627aeeaa90>"
      ]
     },
     "execution_count": 9,
     "metadata": {},
     "output_type": "execute_result"
    },
    {
     "data": {
      "text/plain": [
       "<matplotlib.text.Text at 0x7f627af09198>"
      ]
     },
     "execution_count": 9,
     "metadata": {},
     "output_type": "execute_result"
    },
    {
     "data": {
      "text/plain": [
       "[<matplotlib.axis.XTick at 0x7f627aea29b0>,\n",
       " <matplotlib.axis.XTick at 0x7f627aea2fd0>,\n",
       " <matplotlib.axis.XTick at 0x7f627af03470>,\n",
       " <matplotlib.axis.XTick at 0x7f627adcf438>,\n",
       " <matplotlib.axis.XTick at 0x7f627adcfe10>,\n",
       " <matplotlib.axis.XTick at 0x7f627add5828>,\n",
       " <matplotlib.axis.XTick at 0x7f627addb240>,\n",
       " <matplotlib.axis.XTick at 0x7f627addbc18>,\n",
       " <matplotlib.axis.XTick at 0x7f627ade0630>,\n",
       " <matplotlib.axis.XTick at 0x7f627ade9048>,\n",
       " <matplotlib.axis.XTick at 0x7f627ade9a20>]"
      ]
     },
     "execution_count": 9,
     "metadata": {},
     "output_type": "execute_result"
    },
    {
     "data": {
      "text/plain": [
       "[<matplotlib.text.Text at 0x7f627aea9cf8>,\n",
       " <matplotlib.text.Text at 0x7f627aeae0f0>,\n",
       " <matplotlib.text.Text at 0x7f627adcf240>,\n",
       " <matplotlib.text.Text at 0x7f627adcfc18>,\n",
       " <matplotlib.text.Text at 0x7f627add5630>,\n",
       " <matplotlib.text.Text at 0x7f627addb048>,\n",
       " <matplotlib.text.Text at 0x7f627addba20>,\n",
       " <matplotlib.text.Text at 0x7f627ade0438>,\n",
       " <matplotlib.text.Text at 0x7f627ade0e10>,\n",
       " <matplotlib.text.Text at 0x7f627ade9828>,\n",
       " <matplotlib.text.Text at 0x7f627adee240>]"
      ]
     },
     "execution_count": 9,
     "metadata": {},
     "output_type": "execute_result"
    },
    {
     "data": {
      "text/plain": [
       "(array([  0.5,   4.5,   8.5,  12.5,  16.5,  20.5,  24.5,  28.5,  32.5,\n",
       "         36.5,  40.5]), <a list of 11 Text xticklabel objects>)"
      ]
     },
     "execution_count": 9,
     "metadata": {},
     "output_type": "execute_result"
    },
    {
     "data": {
      "text/plain": [
       "<matplotlib.legend.Legend at 0x7f627af095c0>"
      ]
     },
     "execution_count": 9,
     "metadata": {},
     "output_type": "execute_result"
    },
    {
     "data": {
      "image/png": "[encoded data removed]",
      "text/plain": [
       "<matplotlib.figure.Figure at 0x7f627aee2358>"
      ]
     },
     "metadata": {},
     "output_type": "display_data"
    }
   ],
   "source": [
    "fig = plt.figure(figsize = (8,8))\n",
    "\n",
    "ax = fig.add_subplot(1,1,1) \n",
    "ax.set_xlabel('Ticker', fontsize = 15)\n",
    "ax.set_ylabel('Weight', fontsize = 15)\n",
    "\n",
    "width = 1\n",
    "ind = np.arange( len(tickers))\n",
    "bars_pc0 = ax.bar( 4*ind, pca.components_[0], color=\"r\")\n",
    "bars_pc1 = ax.bar( 4*ind + width, pca.components_[1], color=\"b\")\n",
    "\n",
    "ax.set_xticks(4*ind + width / 2)\n",
    "ax.set_xticklabels(tickers)\n",
    "plt.xticks(rotation=60)\n",
    "ax.legend( (bars_pc0, bars_pc1), [ \"PC {:d}\".format(i) for i in np.arange(2)])"
   ]
  },
  {
   "cell_type": "code",
   "execution_count": 10,
   "metadata": {
    "collapsed": false
   },
   "outputs": [
    {
     "data": {
      "text/html": [
       "<div>\n",
       "<table border=\"1\" class=\"dataframe\">\n",
       "  <thead>\n",
       "    <tr>\n",
       "      <th></th>\n",
       "      <th colspan=\"11\" halign=\"left\">Error</th>\n",
       "    </tr>\n",
       "    <tr>\n",
       "      <th></th>\n",
       "      <th>XLB</th>\n",
       "      <th>XLE</th>\n",
       "      <th>XLF</th>\n",
       "      <th>XLI</th>\n",
       "      <th>XLK</th>\n",
       "      <th>XLP</th>\n",
       "      <th>XLRE</th>\n",
       "      <th>XLU</th>\n",
       "      <th>XLV</th>\n",
       "      <th>XLY</th>\n",
       "      <th>XTL</th>\n",
       "    </tr>\n",
       "    <tr>\n",
       "      <th>Dt</th>\n",
       "      <th></th>\n",
       "      <th></th>\n",
       "      <th></th>\n",
       "      <th></th>\n",
       "      <th></th>\n",
       "      <th></th>\n",
       "      <th></th>\n",
       "      <th></th>\n",
       "      <th></th>\n",
       "      <th></th>\n",
       "      <th></th>\n",
       "    </tr>\n",
       "  </thead>\n",
       "  <tbody>\n",
       "    <tr>\n",
       "      <th>2017-08-29</th>\n",
       "      <td>-0.005811</td>\n",
       "      <td>-0.002179</td>\n",
       "      <td>-0.004842</td>\n",
       "      <td>0.005931</td>\n",
       "      <td>0.002665</td>\n",
       "      <td>0.003375</td>\n",
       "      <td>-0.000274</td>\n",
       "      <td>-0.001471</td>\n",
       "      <td>0.001135</td>\n",
       "      <td>-0.002442</td>\n",
       "      <td>0.002079</td>\n",
       "    </tr>\n",
       "    <tr>\n",
       "      <th>2017-08-30</th>\n",
       "      <td>0.002670</td>\n",
       "      <td>-0.003945</td>\n",
       "      <td>-0.001446</td>\n",
       "      <td>-0.000816</td>\n",
       "      <td>0.001272</td>\n",
       "      <td>-0.002726</td>\n",
       "      <td>0.002798</td>\n",
       "      <td>-0.003494</td>\n",
       "      <td>0.000980</td>\n",
       "      <td>0.002451</td>\n",
       "      <td>-0.001562</td>\n",
       "    </tr>\n",
       "    <tr>\n",
       "      <th>2017-08-31</th>\n",
       "      <td>0.001679</td>\n",
       "      <td>-0.000890</td>\n",
       "      <td>-0.005695</td>\n",
       "      <td>-0.002849</td>\n",
       "      <td>-0.001507</td>\n",
       "      <td>-0.003043</td>\n",
       "      <td>0.002321</td>\n",
       "      <td>-0.000870</td>\n",
       "      <td>0.011621</td>\n",
       "      <td>-0.001217</td>\n",
       "      <td>-0.005782</td>\n",
       "    </tr>\n",
       "    <tr>\n",
       "      <th>2017-09-01</th>\n",
       "      <td>0.005222</td>\n",
       "      <td>0.008520</td>\n",
       "      <td>0.000944</td>\n",
       "      <td>-0.000726</td>\n",
       "      <td>-0.002832</td>\n",
       "      <td>0.004459</td>\n",
       "      <td>0.000178</td>\n",
       "      <td>-0.002488</td>\n",
       "      <td>-0.001749</td>\n",
       "      <td>0.002791</td>\n",
       "      <td>0.002271</td>\n",
       "    </tr>\n",
       "    <tr>\n",
       "      <th>2017-09-05</th>\n",
       "      <td>-0.003919</td>\n",
       "      <td>0.012762</td>\n",
       "      <td>-0.013908</td>\n",
       "      <td>-0.003048</td>\n",
       "      <td>-0.000537</td>\n",
       "      <td>0.006983</td>\n",
       "      <td>0.004388</td>\n",
       "      <td>0.006252</td>\n",
       "      <td>0.002867</td>\n",
       "      <td>0.001846</td>\n",
       "      <td>-0.000902</td>\n",
       "    </tr>\n",
       "  </tbody>\n",
       "</table>\n",
       "</div>"
      ],
      "text/plain": [
       "               Error                                                    \\\n",
       "                 XLB       XLE       XLF       XLI       XLK       XLP   \n",
       "Dt                                                                       \n",
       "2017-08-29 -0.005811 -0.002179 -0.004842  0.005931  0.002665  0.003375   \n",
       "2017-08-30  0.002670 -0.003945 -0.001446 -0.000816  0.001272 -0.002726   \n",
       "2017-08-31  0.001679 -0.000890 -0.005695 -0.002849 -0.001507 -0.003043   \n",
       "2017-09-01  0.005222  0.008520  0.000944 -0.000726 -0.002832  0.004459   \n",
       "2017-09-05 -0.003919  0.012762 -0.013908 -0.003048 -0.000537  0.006983   \n",
       "\n",
       "                                                              \n",
       "                XLRE       XLU       XLV       XLY       XTL  \n",
       "Dt                                                            \n",
       "2017-08-29 -0.000274 -0.001471  0.001135 -0.002442  0.002079  \n",
       "2017-08-30  0.002798 -0.003494  0.000980  0.002451 -0.001562  \n",
       "2017-08-31  0.002321 -0.000870  0.011621 -0.001217 -0.005782  \n",
       "2017-09-01  0.000178 -0.002488 -0.001749  0.002791  0.002271  \n",
       "2017-09-05  0.004388  0.006252  0.002867  0.001846 -0.000902  "
      ]
     },
     "execution_count": 10,
     "metadata": {},
     "output_type": "execute_result"
    }
   ],
   "source": [
    "sector_residuals.head()"
   ]
  },
  {
   "cell_type": "code",
   "execution_count": 12,
   "metadata": {
    "collapsed": false
   },
   "outputs": [],
   "source": [
    "%aimport trans.pca\n",
    "import trans.pca as pct\n",
    "\n",
    "pco = pct.PrincipalComp(sector_residuals, )\n",
    "\n",
    "pca_df = pco.singlePCA()"
   ]
  },
  {
   "cell_type": "code",
   "execution_count": 13,
   "metadata": {
    "collapsed": false
   },
   "outputs": [
    {
     "data": {
      "text/html": [
       "<div>\n",
       "<table border=\"1\" class=\"dataframe\">\n",
       "  <thead>\n",
       "    <tr>\n",
       "      <th></th>\n",
       "      <th colspan=\"2\" halign=\"left\">Explained Var</th>\n",
       "      <th colspan=\"2\" halign=\"left\">Explained Var Ratio</th>\n",
       "      <th colspan=\"6\" halign=\"left\">PC 0</th>\n",
       "      <th>...</th>\n",
       "      <th colspan=\"10\" halign=\"left\">PC 1</th>\n",
       "    </tr>\n",
       "    <tr>\n",
       "      <th></th>\n",
       "      <th>0</th>\n",
       "      <th>1</th>\n",
       "      <th>0</th>\n",
       "      <th>1</th>\n",
       "      <th>XLB</th>\n",
       "      <th>XLE</th>\n",
       "      <th>XLF</th>\n",
       "      <th>XLI</th>\n",
       "      <th>XLK</th>\n",
       "      <th>XLP</th>\n",
       "      <th>...</th>\n",
       "      <th>XLE</th>\n",
       "      <th>XLF</th>\n",
       "      <th>XLI</th>\n",
       "      <th>XLK</th>\n",
       "      <th>XLP</th>\n",
       "      <th>XLRE</th>\n",
       "      <th>XLU</th>\n",
       "      <th>XLV</th>\n",
       "      <th>XLY</th>\n",
       "      <th>XTL</th>\n",
       "    </tr>\n",
       "    <tr>\n",
       "      <th>Dt</th>\n",
       "      <th></th>\n",
       "      <th></th>\n",
       "      <th></th>\n",
       "      <th></th>\n",
       "      <th></th>\n",
       "      <th></th>\n",
       "      <th></th>\n",
       "      <th></th>\n",
       "      <th></th>\n",
       "      <th></th>\n",
       "      <th></th>\n",
       "      <th></th>\n",
       "      <th></th>\n",
       "      <th></th>\n",
       "      <th></th>\n",
       "      <th></th>\n",
       "      <th></th>\n",
       "      <th></th>\n",
       "      <th></th>\n",
       "      <th></th>\n",
       "      <th></th>\n",
       "    </tr>\n",
       "  </thead>\n",
       "  <tbody>\n",
       "    <tr>\n",
       "      <th>2018-02-28</th>\n",
       "      <td>2.522304</td>\n",
       "      <td>1.777362</td>\n",
       "      <td>0.2293</td>\n",
       "      <td>0.161578</td>\n",
       "      <td>0.252224</td>\n",
       "      <td>0.137455</td>\n",
       "      <td>0.425563</td>\n",
       "      <td>0.275903</td>\n",
       "      <td>-0.286169</td>\n",
       "      <td>-0.176848</td>\n",
       "      <td>...</td>\n",
       "      <td>-0.012168</td>\n",
       "      <td>-0.128121</td>\n",
       "      <td>-0.401145</td>\n",
       "      <td>0.60183</td>\n",
       "      <td>-0.458485</td>\n",
       "      <td>-0.145828</td>\n",
       "      <td>-0.268911</td>\n",
       "      <td>-0.263597</td>\n",
       "      <td>0.165853</td>\n",
       "      <td>0.177496</td>\n",
       "    </tr>\n",
       "  </tbody>\n",
       "</table>\n",
       "<p>1 rows × 26 columns</p>\n",
       "</div>"
      ],
      "text/plain": [
       "           Explained Var           Explained Var Ratio                PC 0  \\\n",
       "                       0         1                   0         1       XLB   \n",
       "Dt                                                                           \n",
       "2018-02-28      2.522304  1.777362              0.2293  0.161578  0.252224   \n",
       "\n",
       "                                                                ...     \\\n",
       "                 XLE       XLF       XLI       XLK       XLP    ...      \n",
       "Dt                                                              ...      \n",
       "2018-02-28  0.137455  0.425563  0.275903 -0.286169 -0.176848    ...      \n",
       "\n",
       "                PC 1                                                   \\\n",
       "                 XLE       XLF       XLI      XLK       XLP      XLRE   \n",
       "Dt                                                                      \n",
       "2018-02-28 -0.012168 -0.128121 -0.401145  0.60183 -0.458485 -0.145828   \n",
       "\n",
       "                                                    \n",
       "                 XLU       XLV       XLY       XTL  \n",
       "Dt                                                  \n",
       "2018-02-28 -0.268911 -0.263597  0.165853  0.177496  \n",
       "\n",
       "[1 rows x 26 columns]"
      ]
     },
     "execution_count": 13,
     "metadata": {},
     "output_type": "execute_result"
    },
    {
     "data": {
      "text/plain": [
       "DatetimeIndex(['2018-02-28'], dtype='datetime64[ns]', name='Dt', freq=None)"
      ]
     },
     "execution_count": 13,
     "metadata": {},
     "output_type": "execute_result"
    }
   ],
   "source": [
    "pca_df.head()\n",
    "pca_df.index"
   ]
  },
  {
   "cell_type": "code",
   "execution_count": 14,
   "metadata": {
    "collapsed": false
   },
   "outputs": [
    {
     "data": {
      "text/html": [
       "<div>\n",
       "<table border=\"1\" class=\"dataframe\">\n",
       "  <thead>\n",
       "    <tr style=\"text-align: right;\">\n",
       "      <th></th>\n",
       "      <th></th>\n",
       "      <th>PC 0</th>\n",
       "      <th>PC 1</th>\n",
       "    </tr>\n",
       "    <tr>\n",
       "      <th>Dt</th>\n",
       "      <th></th>\n",
       "      <th></th>\n",
       "      <th></th>\n",
       "    </tr>\n",
       "  </thead>\n",
       "  <tbody>\n",
       "    <tr>\n",
       "      <th rowspan=\"11\" valign=\"top\">2018-02-28</th>\n",
       "      <th>XLB</th>\n",
       "      <td>0.252224</td>\n",
       "      <td>-0.167443</td>\n",
       "    </tr>\n",
       "    <tr>\n",
       "      <th>XLE</th>\n",
       "      <td>0.137455</td>\n",
       "      <td>-0.012168</td>\n",
       "    </tr>\n",
       "    <tr>\n",
       "      <th>XLF</th>\n",
       "      <td>0.425563</td>\n",
       "      <td>-0.128121</td>\n",
       "    </tr>\n",
       "    <tr>\n",
       "      <th>XLI</th>\n",
       "      <td>0.275903</td>\n",
       "      <td>-0.401145</td>\n",
       "    </tr>\n",
       "    <tr>\n",
       "      <th>XLK</th>\n",
       "      <td>-0.286169</td>\n",
       "      <td>0.601830</td>\n",
       "    </tr>\n",
       "    <tr>\n",
       "      <th>XLP</th>\n",
       "      <td>-0.176848</td>\n",
       "      <td>-0.458485</td>\n",
       "    </tr>\n",
       "    <tr>\n",
       "      <th>XLRE</th>\n",
       "      <td>-0.472109</td>\n",
       "      <td>-0.145828</td>\n",
       "    </tr>\n",
       "    <tr>\n",
       "      <th>XLU</th>\n",
       "      <td>-0.454235</td>\n",
       "      <td>-0.268911</td>\n",
       "    </tr>\n",
       "    <tr>\n",
       "      <th>XLV</th>\n",
       "      <td>-0.130836</td>\n",
       "      <td>-0.263597</td>\n",
       "    </tr>\n",
       "    <tr>\n",
       "      <th>XLY</th>\n",
       "      <td>0.266888</td>\n",
       "      <td>0.165853</td>\n",
       "    </tr>\n",
       "    <tr>\n",
       "      <th>XTL</th>\n",
       "      <td>0.171847</td>\n",
       "      <td>0.177496</td>\n",
       "    </tr>\n",
       "  </tbody>\n",
       "</table>\n",
       "</div>"
      ],
      "text/plain": [
       "                     PC 0      PC 1\n",
       "Dt                                 \n",
       "2018-02-28 XLB   0.252224 -0.167443\n",
       "           XLE   0.137455 -0.012168\n",
       "           XLF   0.425563 -0.128121\n",
       "           XLI   0.275903 -0.401145\n",
       "           XLK  -0.286169  0.601830\n",
       "           XLP  -0.176848 -0.458485\n",
       "           XLRE -0.472109 -0.145828\n",
       "           XLU  -0.454235 -0.268911\n",
       "           XLV  -0.130836 -0.263597\n",
       "           XLY   0.266888  0.165853\n",
       "           XTL   0.171847  0.177496"
      ]
     },
     "execution_count": 14,
     "metadata": {},
     "output_type": "execute_result"
    },
    {
     "data": {
      "text/plain": [
       "<matplotlib.axes._subplots.AxesSubplot at 0x7f627aee2278>"
      ]
     },
     "execution_count": 14,
     "metadata": {},
     "output_type": "execute_result"
    },
    {
     "data": {
      "image/png": "[encoded data removed]",
      "text/plain": [
       "<matplotlib.figure.Figure at 0x7f627aedaeb8>"
      ]
     },
     "metadata": {},
     "output_type": "display_data"
    }
   ],
   "source": [
    "s_df = pca_df.loc[:, idx[ [\"PC 0\", \"PC 1\"],:]].stack()\n",
    "s_df\n",
    "s_df.plot.bar()"
   ]
  },
  {
   "cell_type": "code",
   "execution_count": null,
   "metadata": {
    "collapsed": true
   },
   "outputs": [],
   "source": []
  }
 ],
 "metadata": {
  "kernelspec": {
   "display_name": "Python 3",
   "language": "python",
   "name": "python3"
  },
  "language_info": {
   "codemirror_mode": {
    "name": "ipython",
    "version": 3
   },
   "file_extension": ".py",
   "mimetype": "text/x-python",
   "name": "python",
   "nbconvert_exporter": "python",
   "pygments_lexer": "ipython3",
   "version": "3.6.0"
  }
 },
 "nbformat": 4,
 "nbformat_minor": 2
}
