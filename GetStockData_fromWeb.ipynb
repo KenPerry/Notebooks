{
 "cells": [
  {
   "cell_type": "markdown",
   "metadata": {},
   "source": [
    "## From\n",
    "https://chrisconlan.com/download-historical-stock-data-google-r-python/"
   ]
  },
  {
   "cell_type": "code",
   "execution_count": 8,
   "metadata": {
    "collapsed": true
   },
   "outputs": [],
   "source": [
    "from IPython.core.interactiveshell import InteractiveShell\n",
    "InteractiveShell.ast_node_interactivity = \"all\""
   ]
  },
  {
   "cell_type": "markdown",
   "metadata": {},
   "source": [
    "## Demonstrates how to use Web request to fetch data from URL into\n",
    "## a Panda Dataframe"
   ]
  },
  {
   "cell_type": "code",
   "execution_count": 1,
   "metadata": {
    "collapsed": true
   },
   "outputs": [],
   "source": [
    "import pandas as pd\n",
    "import io\n",
    "import requests\n",
    "import time\n",
    " "
   ]
  },
  {
   "cell_type": "code",
   "execution_count": 2,
   "metadata": {
    "collapsed": true
   },
   "outputs": [],
   "source": [
    "def google_stocks(symbol, startdate = (1, 1, 2005), enddate = None):\n",
    " \n",
    "    startdate = str(startdate[0]) + '+' + str(startdate[1]) + '+' + str(startdate[2])\n",
    " \n",
    "    if not enddate:\n",
    "        enddate = time.strftime(\"%m+%d+%Y\")\n",
    "    else:\n",
    "        enddate = str(enddate[0]) + '+' + str(enddate[1]) + '+' + str(enddate[2])\n",
    " \n",
    "    stock_url = \"http://www.google.com/finance/historical?q=\" + symbol + \\\n",
    "                \"&startdate=\" + startdate + \"&enddate=\" + enddate + \"&output=csv\"\n",
    " \n",
    "    raw_response = requests.get(stock_url).content\n",
    " \n",
    "    stock_data = pd.read_csv(io.StringIO(raw_response.decode('utf-8')))\n",
    " \n",
    "    return stock_data\n",
    " \n",
    " "
   ]
  },
  {
   "cell_type": "code",
   "execution_count": 9,
   "metadata": {
    "collapsed": false
   },
   "outputs": [
    {
     "data": {
      "text/plain": [
       "Index(['﻿Date', 'Open', 'High', 'Low', 'Close', 'Volume'], dtype='object')"
      ]
     },
     "execution_count": 9,
     "metadata": {},
     "output_type": "execute_result"
    },
    {
     "data": {
      "text/plain": [
       "RangeIndex(start=0, stop=250, step=1)"
      ]
     },
     "execution_count": 9,
     "metadata": {},
     "output_type": "execute_result"
    }
   ],
   "source": [
    "apple_data = google_stocks('AAPL')\n",
    "# apple_data.info\n",
    "apple_data.columns\n",
    "apple_data.index"
   ]
  },
  {
   "cell_type": "code",
   "execution_count": 4,
   "metadata": {
    "collapsed": false
   },
   "outputs": [
    {
     "name": "stdout",
     "output_type": "stream",
     "text": [
      "         ﻿Date    Open    High     Low   Close    Volume\n",
      "0     8-Nov-17  174.66  176.24  174.33  176.24  24409527\n",
      "1     7-Nov-17  173.91  175.25  173.60  174.81  24361485\n",
      "2     6-Nov-17  172.36  174.99  171.72  174.25  35026306\n",
      "3     3-Nov-17  174.00  174.26  171.12  172.50  59398631\n",
      "4     2-Nov-17  166.60  168.50  165.28  168.11  41393373\n",
      "5     1-Nov-17  169.87  169.94  165.61  166.89  33637762\n",
      "6    31-Oct-17  167.90  169.65  166.94  169.04  36046828\n",
      "7    30-Oct-17  163.89  168.07  163.72  166.72  44700772\n",
      "8    27-Oct-17  159.29  163.60  158.70  163.05  44454160\n",
      "9    26-Oct-17  157.23  157.83  156.78  157.41  17000469\n",
      "10   25-Oct-17  156.91  157.55  155.27  156.41  21207098\n",
      "11   24-Oct-17  156.29  157.42  156.20  157.10  17757230\n",
      "12   23-Oct-17  156.89  157.69  155.50  156.17  21984327\n",
      "13   20-Oct-17  156.61  157.75  155.96  156.25  23974146\n",
      "14   19-Oct-17  156.75  157.08  155.02  155.98  42584166\n",
      "15   18-Oct-17  160.42  160.71  159.60  159.76  16374164\n",
      "16   17-Oct-17  159.78  160.87  159.23  160.47  18997275\n",
      "17   16-Oct-17  157.90  160.00  157.65  159.88  24121452\n",
      "18   13-Oct-17  156.73  157.28  156.41  156.99  16394188\n",
      "19   12-Oct-17  156.35  157.37  155.73  156.00  16125054\n",
      "20   11-Oct-17  155.97  156.98  155.75  156.55  16905640\n",
      "21   10-Oct-17  156.06  158.00  155.10  155.90  15617014\n",
      "22    9-Oct-17  155.81  156.73  155.48  155.84  16262923\n",
      "23    6-Oct-17  154.97  155.49  154.56  155.30  17407558\n",
      "24    5-Oct-17  154.18  155.44  154.05  155.39  21283769\n",
      "25    4-Oct-17  153.63  153.86  152.46  153.48  20163750\n",
      "26    3-Oct-17  154.01  155.09  153.91  154.48  16230293\n",
      "27    2-Oct-17  154.26  154.45  152.72  153.81  18698842\n",
      "28   29-Sep-17  153.21  154.13  152.00  154.12  26299810\n",
      "29   28-Sep-17  153.89  154.28  152.70  153.28  22005455\n",
      "..         ...     ...     ...     ...     ...       ...\n",
      "220  23-Dec-16  115.59  116.52  115.59  116.52  14249484\n",
      "221  22-Dec-16  116.35  116.51  115.64  116.29  26085854\n",
      "222  21-Dec-16  116.80  117.40  116.78  117.06  23783165\n",
      "223  20-Dec-16  116.74  117.50  116.68  116.95  21424965\n",
      "224  19-Dec-16  115.80  117.38  115.75  116.64  27779423\n",
      "225  16-Dec-16  116.47  116.50  115.64  115.97  44351134\n",
      "226  15-Dec-16  115.38  116.73  115.23  115.82  46524544\n",
      "227  14-Dec-16  115.04  116.20  114.98  115.19  34031834\n",
      "228  13-Dec-16  113.84  115.92  113.75  115.19  43733811\n",
      "229  12-Dec-16  113.29  115.00  112.49  113.30  26374377\n",
      "230   9-Dec-16  112.31  114.70  112.31  113.95  34402627\n",
      "231   8-Dec-16  110.86  112.43  110.60  112.12  27068316\n",
      "232   7-Dec-16  109.26  111.19  109.16  111.03  29998719\n",
      "233   6-Dec-16  109.50  110.36  109.19  109.95  26195462\n",
      "234   5-Dec-16  110.00  110.03  108.25  109.11  34324540\n",
      "235   2-Dec-16  109.17  110.09  108.85  109.90  26527997\n",
      "236   1-Dec-16  110.36  110.94  109.03  109.49  37086862\n",
      "237  30-Nov-16  111.60  112.20  110.27  110.52  36162258\n",
      "238  29-Nov-16  110.78  112.03  110.07  111.46  28528750\n",
      "239  28-Nov-16  111.43  112.46  111.39  111.57  27193983\n",
      "240  25-Nov-16  111.47  111.87  110.95  111.79  11475922\n",
      "241  23-Nov-16  111.36  111.51  110.33  111.23  27426394\n",
      "242  22-Nov-16  111.95  112.42  111.40  111.80  25965534\n",
      "243  21-Nov-16  110.12  111.99  110.01  111.73  29264571\n",
      "244  18-Nov-16  109.72  110.54  109.66  110.06  28428917\n",
      "245  17-Nov-16  109.81  110.35  108.83  109.95  26964598\n",
      "246  16-Nov-16  106.70  110.23  106.60  109.99  58840522\n",
      "247  15-Nov-16  106.57  107.68  106.16  107.11  32264510\n",
      "248  14-Nov-16  107.71  107.81  104.08  105.71  51175504\n",
      "249  11-Nov-16  107.12  108.87  106.55  108.43  34143898\n",
      "\n",
      "[250 rows x 6 columns]\n"
     ]
    }
   ],
   "source": [
    "apple_data = google_stocks('AAPL')\n",
    "print(apple_data)\n",
    " "
   ]
  },
  {
   "cell_type": "code",
   "execution_count": 10,
   "metadata": {
    "collapsed": false
   },
   "outputs": [
    {
     "name": "stdout",
     "output_type": "stream",
     "text": [
      "         ﻿Date    Open    High     Low   Close    Volume\n",
      "0     8-Nov-17  174.66  176.24  174.33  176.24  24409527\n",
      "1     7-Nov-17  173.91  175.25  173.60  174.81  24361485\n",
      "2     6-Nov-17  172.36  174.99  171.72  174.25  35026306\n",
      "3     3-Nov-17  174.00  174.26  171.12  172.50  59398631\n",
      "4     2-Nov-17  166.60  168.50  165.28  168.11  41393373\n",
      "5     1-Nov-17  169.87  169.94  165.61  166.89  33637762\n",
      "6    31-Oct-17  167.90  169.65  166.94  169.04  36046828\n",
      "7    30-Oct-17  163.89  168.07  163.72  166.72  44700772\n",
      "8    27-Oct-17  159.29  163.60  158.70  163.05  44454160\n",
      "9    26-Oct-17  157.23  157.83  156.78  157.41  17000469\n",
      "10   25-Oct-17  156.91  157.55  155.27  156.41  21207098\n",
      "11   24-Oct-17  156.29  157.42  156.20  157.10  17757230\n",
      "12   23-Oct-17  156.89  157.69  155.50  156.17  21984327\n",
      "13   20-Oct-17  156.61  157.75  155.96  156.25  23974146\n",
      "14   19-Oct-17  156.75  157.08  155.02  155.98  42584166\n",
      "15   18-Oct-17  160.42  160.71  159.60  159.76  16374164\n",
      "16   17-Oct-17  159.78  160.87  159.23  160.47  18997275\n",
      "17   16-Oct-17  157.90  160.00  157.65  159.88  24121452\n",
      "18   13-Oct-17  156.73  157.28  156.41  156.99  16394188\n",
      "19   12-Oct-17  156.35  157.37  155.73  156.00  16125054\n",
      "20   11-Oct-17  155.97  156.98  155.75  156.55  16905640\n",
      "21   10-Oct-17  156.06  158.00  155.10  155.90  15617014\n",
      "22    9-Oct-17  155.81  156.73  155.48  155.84  16262923\n",
      "23    6-Oct-17  154.97  155.49  154.56  155.30  17407558\n",
      "24    5-Oct-17  154.18  155.44  154.05  155.39  21283769\n",
      "25    4-Oct-17  153.63  153.86  152.46  153.48  20163750\n",
      "26    3-Oct-17  154.01  155.09  153.91  154.48  16230293\n",
      "27    2-Oct-17  154.26  154.45  152.72  153.81  18698842\n",
      "28   29-Sep-17  153.21  154.13  152.00  154.12  26299810\n",
      "29   28-Sep-17  153.89  154.28  152.70  153.28  22005455\n",
      "..         ...     ...     ...     ...     ...       ...\n",
      "220  23-Dec-16  115.59  116.52  115.59  116.52  14249484\n",
      "221  22-Dec-16  116.35  116.51  115.64  116.29  26085854\n",
      "222  21-Dec-16  116.80  117.40  116.78  117.06  23783165\n",
      "223  20-Dec-16  116.74  117.50  116.68  116.95  21424965\n",
      "224  19-Dec-16  115.80  117.38  115.75  116.64  27779423\n",
      "225  16-Dec-16  116.47  116.50  115.64  115.97  44351134\n",
      "226  15-Dec-16  115.38  116.73  115.23  115.82  46524544\n",
      "227  14-Dec-16  115.04  116.20  114.98  115.19  34031834\n",
      "228  13-Dec-16  113.84  115.92  113.75  115.19  43733811\n",
      "229  12-Dec-16  113.29  115.00  112.49  113.30  26374377\n",
      "230   9-Dec-16  112.31  114.70  112.31  113.95  34402627\n",
      "231   8-Dec-16  110.86  112.43  110.60  112.12  27068316\n",
      "232   7-Dec-16  109.26  111.19  109.16  111.03  29998719\n",
      "233   6-Dec-16  109.50  110.36  109.19  109.95  26195462\n",
      "234   5-Dec-16  110.00  110.03  108.25  109.11  34324540\n",
      "235   2-Dec-16  109.17  110.09  108.85  109.90  26527997\n",
      "236   1-Dec-16  110.36  110.94  109.03  109.49  37086862\n",
      "237  30-Nov-16  111.60  112.20  110.27  110.52  36162258\n",
      "238  29-Nov-16  110.78  112.03  110.07  111.46  28528750\n",
      "239  28-Nov-16  111.43  112.46  111.39  111.57  27193983\n",
      "240  25-Nov-16  111.47  111.87  110.95  111.79  11475922\n",
      "241  23-Nov-16  111.36  111.51  110.33  111.23  27426394\n",
      "242  22-Nov-16  111.95  112.42  111.40  111.80  25965534\n",
      "243  21-Nov-16  110.12  111.99  110.01  111.73  29264571\n",
      "244  18-Nov-16  109.72  110.54  109.66  110.06  28428917\n",
      "245  17-Nov-16  109.81  110.35  108.83  109.95  26964598\n",
      "246  16-Nov-16  106.70  110.23  106.60  109.99  58840522\n",
      "247  15-Nov-16  106.57  107.68  106.16  107.11  32264510\n",
      "248  14-Nov-16  107.71  107.81  104.08  105.71  51175504\n",
      "249  11-Nov-16  107.12  108.87  106.55  108.43  34143898\n",
      "\n",
      "[250 rows x 6 columns]\n"
     ]
    }
   ],
   "source": [
    "apple_truncated = google_stocks('AAPL', enddate = (1, 1, 2006))\n",
    "print(apple_truncated)"
   ]
  },
  {
   "cell_type": "markdown",
   "metadata": {},
   "source": [
    "## Use Quandl\n",
    "\n",
    "See https://www.quandl.com/tools/python"
   ]
  },
  {
   "cell_type": "code",
   "execution_count": 41,
   "metadata": {
    "collapsed": false
   },
   "outputs": [],
   "source": [
    "import quandl\n",
    "\n",
    "with open(\"quandl_apkey.txt\", \"r\") as keyfile:\n",
    "    key = keyfile.read()\n",
    "    \n",
    "quandl_key = key.rstrip()\n",
    "quandl.ApiConfig.api_key = quandl_key # \"evWfebtKvTVN_dxvWqau\""
   ]
  },
  {
   "cell_type": "code",
   "execution_count": 42,
   "metadata": {
    "collapsed": false
   },
   "outputs": [
    {
     "data": {
      "text/html": [
       "<div>\n",
       "<table border=\"1\" class=\"dataframe\">\n",
       "  <thead>\n",
       "    <tr style=\"text-align: right;\">\n",
       "      <th></th>\n",
       "      <th>Value</th>\n",
       "    </tr>\n",
       "    <tr>\n",
       "      <th>Date</th>\n",
       "      <th></th>\n",
       "    </tr>\n",
       "  </thead>\n",
       "  <tbody>\n",
       "    <tr>\n",
       "      <th>1947-01-01</th>\n",
       "      <td>243.080</td>\n",
       "    </tr>\n",
       "    <tr>\n",
       "      <th>1947-04-01</th>\n",
       "      <td>246.267</td>\n",
       "    </tr>\n",
       "    <tr>\n",
       "      <th>1947-07-01</th>\n",
       "      <td>250.115</td>\n",
       "    </tr>\n",
       "    <tr>\n",
       "      <th>1947-10-01</th>\n",
       "      <td>260.309</td>\n",
       "    </tr>\n",
       "    <tr>\n",
       "      <th>1948-01-01</th>\n",
       "      <td>266.173</td>\n",
       "    </tr>\n",
       "  </tbody>\n",
       "</table>\n",
       "</div>"
      ],
      "text/plain": [
       "              Value\n",
       "Date               \n",
       "1947-01-01  243.080\n",
       "1947-04-01  246.267\n",
       "1947-07-01  250.115\n",
       "1947-10-01  260.309\n",
       "1948-01-01  266.173"
      ]
     },
     "execution_count": 42,
     "metadata": {},
     "output_type": "execute_result"
    }
   ],
   "source": [
    "mydata = quandl.get(\"FRED/GDP\")\n",
    "\n",
    "mydata.head()"
   ]
  },
  {
   "cell_type": "code",
   "execution_count": 51,
   "metadata": {
    "collapsed": false
   },
   "outputs": [
    {
     "data": {
      "text/plain": [
       "MSFT    14\n",
       "AAPL    14\n",
       "Name: ticker, dtype: int64"
      ]
     },
     "execution_count": 51,
     "metadata": {},
     "output_type": "execute_result"
    },
    {
     "data": {
      "text/html": [
       "<div>\n",
       "<table border=\"1\" class=\"dataframe\">\n",
       "  <thead>\n",
       "    <tr style=\"text-align: right;\">\n",
       "      <th></th>\n",
       "      <th>ticker</th>\n",
       "      <th>per_end_date</th>\n",
       "    </tr>\n",
       "    <tr>\n",
       "      <th>None</th>\n",
       "      <th></th>\n",
       "      <th></th>\n",
       "    </tr>\n",
       "  </thead>\n",
       "  <tbody>\n",
       "    <tr>\n",
       "      <th>0</th>\n",
       "      <td>AAPL</td>\n",
       "      <td>2015-09-30</td>\n",
       "    </tr>\n",
       "    <tr>\n",
       "      <th>1</th>\n",
       "      <td>AAPL</td>\n",
       "      <td>2016-09-30</td>\n",
       "    </tr>\n",
       "    <tr>\n",
       "      <th>2</th>\n",
       "      <td>AAPL</td>\n",
       "      <td>2017-09-30</td>\n",
       "    </tr>\n",
       "    <tr>\n",
       "      <th>3</th>\n",
       "      <td>AAPL</td>\n",
       "      <td>2015-03-31</td>\n",
       "    </tr>\n",
       "    <tr>\n",
       "      <th>4</th>\n",
       "      <td>AAPL</td>\n",
       "      <td>2015-06-30</td>\n",
       "    </tr>\n",
       "  </tbody>\n",
       "</table>\n",
       "</div>"
      ],
      "text/plain": [
       "     ticker per_end_date\n",
       "None                    \n",
       "0      AAPL   2015-09-30\n",
       "1      AAPL   2016-09-30\n",
       "2      AAPL   2017-09-30\n",
       "3      AAPL   2015-03-31\n",
       "4      AAPL   2015-06-30"
      ]
     },
     "execution_count": 51,
     "metadata": {},
     "output_type": "execute_result"
    }
   ],
   "source": [
    "data = quandl.get_table('ZACKS/FC', paginate=True, \n",
    "                        ticker=['AAPL', 'MSFT'], \n",
    "                        per_end_date={'gte': '2015-01-01'}, \n",
    "                        qopts={'columns':['ticker', 'per_end_date']}\n",
    "                       )\n",
    "\n",
    "data['ticker'].value_counts()\n",
    "data.head()"
   ]
  },
  {
   "cell_type": "markdown",
   "metadata": {},
   "source": [
    "## Use Datareader\n",
    "### n.b., uses Panel, which is deprecated ?"
   ]
  },
  {
   "cell_type": "code",
   "execution_count": 11,
   "metadata": {
    "collapsed": true
   },
   "outputs": [],
   "source": [
    "from pandas_datareader import data\n",
    "import pandas as pd\n",
    "\n",
    "\n",
    "# Define the instruments to download. We would like to see Apple, Microsoft and the S&P500 index.\n",
    "tickers = ['AAPL', 'MSFT', 'SPY']\n",
    "\n",
    "# Define which online source one should use\n",
    "data_source = 'google'\n",
    "\n",
    "# We would like all available data from 01/01/2000 until 12/31/2016.\n",
    "start_date = '2010-01-01'\n",
    "end_date = '2016-12-31'\n",
    "\n",
    "# User pandas_reader.data.DataReader to load the desired data. As simple as that.\n",
    "panel_data = data.DataReader(tickers, data_source, start_date, end_date)"
   ]
  },
  {
   "cell_type": "code",
   "execution_count": 17,
   "metadata": {
    "collapsed": false
   },
   "outputs": [
    {
     "data": {
      "text/plain": [
       "pandas.core.panel.Panel"
      ]
     },
     "execution_count": 17,
     "metadata": {},
     "output_type": "execute_result"
    },
    {
     "data": {
      "text/html": [
       "<div>\n",
       "<table border=\"1\" class=\"dataframe\">\n",
       "  <thead>\n",
       "    <tr style=\"text-align: right;\">\n",
       "      <th></th>\n",
       "      <th>AAPL</th>\n",
       "      <th>MSFT</th>\n",
       "      <th>SPY</th>\n",
       "    </tr>\n",
       "    <tr>\n",
       "      <th>Date</th>\n",
       "      <th></th>\n",
       "      <th></th>\n",
       "      <th></th>\n",
       "    </tr>\n",
       "  </thead>\n",
       "  <tbody>\n",
       "    <tr>\n",
       "      <th>2016-11-11</th>\n",
       "      <td>108.43</td>\n",
       "      <td>59.02</td>\n",
       "      <td>216.42</td>\n",
       "    </tr>\n",
       "    <tr>\n",
       "      <th>2016-11-14</th>\n",
       "      <td>105.71</td>\n",
       "      <td>58.12</td>\n",
       "      <td>216.59</td>\n",
       "    </tr>\n",
       "    <tr>\n",
       "      <th>2016-11-15</th>\n",
       "      <td>107.11</td>\n",
       "      <td>58.87</td>\n",
       "      <td>218.28</td>\n",
       "    </tr>\n",
       "    <tr>\n",
       "      <th>2016-11-16</th>\n",
       "      <td>109.99</td>\n",
       "      <td>59.65</td>\n",
       "      <td>217.87</td>\n",
       "    </tr>\n",
       "    <tr>\n",
       "      <th>2016-11-17</th>\n",
       "      <td>109.95</td>\n",
       "      <td>60.64</td>\n",
       "      <td>218.99</td>\n",
       "    </tr>\n",
       "  </tbody>\n",
       "</table>\n",
       "</div>"
      ],
      "text/plain": [
       "              AAPL   MSFT     SPY\n",
       "Date                             \n",
       "2016-11-11  108.43  59.02  216.42\n",
       "2016-11-14  105.71  58.12  216.59\n",
       "2016-11-15  107.11  58.87  218.28\n",
       "2016-11-16  109.99  59.65  217.87\n",
       "2016-11-17  109.95  60.64  218.99"
      ]
     },
     "execution_count": 17,
     "metadata": {},
     "output_type": "execute_result"
    }
   ],
   "source": [
    "type(panel_data)\n",
    "panel_data.ix['Close'].head()"
   ]
  },
  {
   "cell_type": "code",
   "execution_count": 19,
   "metadata": {
    "collapsed": false
   },
   "outputs": [
    {
     "data": {
      "text/html": [
       "<div>\n",
       "<table border=\"1\" class=\"dataframe\">\n",
       "  <thead>\n",
       "    <tr style=\"text-align: right;\">\n",
       "      <th></th>\n",
       "      <th>AAPL</th>\n",
       "      <th>MSFT</th>\n",
       "      <th>SPY</th>\n",
       "    </tr>\n",
       "  </thead>\n",
       "  <tbody>\n",
       "    <tr>\n",
       "      <th>2016-12-19</th>\n",
       "      <td>116.64</td>\n",
       "      <td>63.62</td>\n",
       "      <td>225.53</td>\n",
       "    </tr>\n",
       "    <tr>\n",
       "      <th>2016-12-20</th>\n",
       "      <td>116.95</td>\n",
       "      <td>63.54</td>\n",
       "      <td>226.40</td>\n",
       "    </tr>\n",
       "    <tr>\n",
       "      <th>2016-12-21</th>\n",
       "      <td>117.06</td>\n",
       "      <td>63.54</td>\n",
       "      <td>225.77</td>\n",
       "    </tr>\n",
       "    <tr>\n",
       "      <th>2016-12-22</th>\n",
       "      <td>116.29</td>\n",
       "      <td>63.55</td>\n",
       "      <td>225.38</td>\n",
       "    </tr>\n",
       "    <tr>\n",
       "      <th>2016-12-23</th>\n",
       "      <td>116.52</td>\n",
       "      <td>63.24</td>\n",
       "      <td>225.71</td>\n",
       "    </tr>\n",
       "    <tr>\n",
       "      <th>2016-12-26</th>\n",
       "      <td>NaN</td>\n",
       "      <td>NaN</td>\n",
       "      <td>NaN</td>\n",
       "    </tr>\n",
       "    <tr>\n",
       "      <th>2016-12-27</th>\n",
       "      <td>117.26</td>\n",
       "      <td>63.28</td>\n",
       "      <td>226.27</td>\n",
       "    </tr>\n",
       "    <tr>\n",
       "      <th>2016-12-28</th>\n",
       "      <td>116.76</td>\n",
       "      <td>62.99</td>\n",
       "      <td>224.40</td>\n",
       "    </tr>\n",
       "    <tr>\n",
       "      <th>2016-12-29</th>\n",
       "      <td>116.73</td>\n",
       "      <td>62.90</td>\n",
       "      <td>224.35</td>\n",
       "    </tr>\n",
       "    <tr>\n",
       "      <th>2016-12-30</th>\n",
       "      <td>115.82</td>\n",
       "      <td>62.14</td>\n",
       "      <td>223.53</td>\n",
       "    </tr>\n",
       "  </tbody>\n",
       "</table>\n",
       "</div>"
      ],
      "text/plain": [
       "              AAPL   MSFT     SPY\n",
       "2016-12-19  116.64  63.62  225.53\n",
       "2016-12-20  116.95  63.54  226.40\n",
       "2016-12-21  117.06  63.54  225.77\n",
       "2016-12-22  116.29  63.55  225.38\n",
       "2016-12-23  116.52  63.24  225.71\n",
       "2016-12-26     NaN    NaN     NaN\n",
       "2016-12-27  117.26  63.28  226.27\n",
       "2016-12-28  116.76  62.99  224.40\n",
       "2016-12-29  116.73  62.90  224.35\n",
       "2016-12-30  115.82  62.14  223.53"
      ]
     },
     "execution_count": 19,
     "metadata": {},
     "output_type": "execute_result"
    }
   ],
   "source": [
    "# Getting just the adjusted closing prices. This will return a Pandas DataFrame\n",
    "# The index in this DataFrame is the major index of the panel_data.\n",
    "close = panel_data.ix['Close']\n",
    "\n",
    "# Getting all weekdays between 01/01/2000 and 12/31/2016\n",
    "all_weekdays = pd.date_range(start=start_date, end=end_date, freq='B')\n",
    "\n",
    "# How do we align the existing prices in adj_close with our new set of dates?\n",
    "# All we need to do is reindex close using all_weekdays as the new index\n",
    "close = close.reindex(all_weekdays)\n",
    "\n",
    "close.tail(10)"
   ]
  },
  {
   "cell_type": "code",
   "execution_count": 21,
   "metadata": {
    "collapsed": false
   },
   "outputs": [
    {
     "data": {
      "text/html": [
       "<div>\n",
       "<table border=\"1\" class=\"dataframe\">\n",
       "  <thead>\n",
       "    <tr style=\"text-align: right;\">\n",
       "      <th></th>\n",
       "      <th></th>\n",
       "      <th>Open</th>\n",
       "      <th>High</th>\n",
       "      <th>Low</th>\n",
       "      <th>Close</th>\n",
       "      <th>Volume</th>\n",
       "    </tr>\n",
       "    <tr>\n",
       "      <th>Date</th>\n",
       "      <th>minor</th>\n",
       "      <th></th>\n",
       "      <th></th>\n",
       "      <th></th>\n",
       "      <th></th>\n",
       "      <th></th>\n",
       "    </tr>\n",
       "  </thead>\n",
       "  <tbody>\n",
       "    <tr>\n",
       "      <th rowspan=\"3\" valign=\"top\">2016-11-11</th>\n",
       "      <th>AAPL</th>\n",
       "      <td>107.12</td>\n",
       "      <td>108.87</td>\n",
       "      <td>106.55</td>\n",
       "      <td>108.43</td>\n",
       "      <td>34143898.0</td>\n",
       "    </tr>\n",
       "    <tr>\n",
       "      <th>MSFT</th>\n",
       "      <td>58.23</td>\n",
       "      <td>59.12</td>\n",
       "      <td>58.01</td>\n",
       "      <td>59.02</td>\n",
       "      <td>38767843.0</td>\n",
       "    </tr>\n",
       "    <tr>\n",
       "      <th>SPY</th>\n",
       "      <td>216.08</td>\n",
       "      <td>216.70</td>\n",
       "      <td>215.32</td>\n",
       "      <td>216.42</td>\n",
       "      <td>100552732.0</td>\n",
       "    </tr>\n",
       "    <tr>\n",
       "      <th rowspan=\"2\" valign=\"top\">2016-11-14</th>\n",
       "      <th>AAPL</th>\n",
       "      <td>107.71</td>\n",
       "      <td>107.81</td>\n",
       "      <td>104.08</td>\n",
       "      <td>105.71</td>\n",
       "      <td>51175504.0</td>\n",
       "    </tr>\n",
       "    <tr>\n",
       "      <th>MSFT</th>\n",
       "      <td>59.02</td>\n",
       "      <td>59.08</td>\n",
       "      <td>57.28</td>\n",
       "      <td>58.12</td>\n",
       "      <td>41328422.0</td>\n",
       "    </tr>\n",
       "  </tbody>\n",
       "</table>\n",
       "</div>"
      ],
      "text/plain": [
       "                    Open    High     Low   Close       Volume\n",
       "Date       minor                                             \n",
       "2016-11-11 AAPL   107.12  108.87  106.55  108.43   34143898.0\n",
       "           MSFT    58.23   59.12   58.01   59.02   38767843.0\n",
       "           SPY    216.08  216.70  215.32  216.42  100552732.0\n",
       "2016-11-14 AAPL   107.71  107.81  104.08  105.71   51175504.0\n",
       "           MSFT    59.02   59.08   57.28   58.12   41328422.0"
      ]
     },
     "execution_count": 21,
     "metadata": {},
     "output_type": "execute_result"
    }
   ],
   "source": [
    "df = panel_data.to_frame()\n",
    "df.head()"
   ]
  },
  {
   "cell_type": "markdown",
   "metadata": {},
   "source": [
    "## Fama French"
   ]
  },
  {
   "cell_type": "code",
   "execution_count": 23,
   "metadata": {
    "collapsed": false
   },
   "outputs": [
    {
     "data": {
      "text/plain": [
       "262"
      ]
     },
     "execution_count": 23,
     "metadata": {},
     "output_type": "execute_result"
    },
    {
     "name": "stdout",
     "output_type": "stream",
     "text": [
      "5 Industry Portfolios\n",
      "---------------------\n",
      "\n",
      "This file was created by CMPT_IND_RETS using the 201709 CRSP database. It contains value- and equal-weighted returns for 5 industry portfolios. The portfolios are constructed at the end of June. The annual returns are from January to December. Missing data are indicated by -99.99 or -999. Copyright 2017 Kenneth R. French\n",
      "\n",
      "  0 : Average Value Weighted Returns -- Monthly (93 rows x 5 cols)\n",
      "  1 : Average Equal Weighted Returns -- Monthly (93 rows x 5 cols)\n",
      "  2 : Average Value Weighted Returns -- Annual (7 rows x 5 cols)\n",
      "  3 : Average Equal Weighted Returns -- Annual (7 rows x 5 cols)\n",
      "  4 : Number of Firms in Portfolios (93 rows x 5 cols)\n",
      "  5 : Average Firm Size (93 rows x 5 cols)\n",
      "  6 : Sum of BE / Sum of ME (8 rows x 5 cols)\n",
      "  7 : Value-Weighted Average of BE/ME (8 rows x 5 cols)\n"
     ]
    }
   ],
   "source": [
    "from pandas_datareader.famafrench import get_available_datasets\n",
    "\n",
    "import pandas_datareader.data as web\n",
    "\n",
    "len(get_available_datasets())\n",
    "ds = web.DataReader(\"5_Industry_Portfolios\", \"famafrench\")\n",
    "\n",
    "print(ds['DESCR'])"
   ]
  },
  {
   "cell_type": "code",
   "execution_count": 26,
   "metadata": {
    "collapsed": false
   },
   "outputs": [
    {
     "data": {
      "text/plain": [
       "dict"
      ]
     },
     "execution_count": 26,
     "metadata": {},
     "output_type": "execute_result"
    },
    {
     "data": {
      "text/plain": [
       "dict_keys([0, 1, 2, 3, 4, 5, 6, 7, 'DESCR'])"
      ]
     },
     "execution_count": 26,
     "metadata": {},
     "output_type": "execute_result"
    }
   ],
   "source": [
    "type(ds)\n",
    "ds.keys()"
   ]
  },
  {
   "cell_type": "code",
   "execution_count": 29,
   "metadata": {
    "collapsed": false
   },
   "outputs": [
    {
     "data": {
      "text/plain": [
       "pandas.core.frame.DataFrame"
      ]
     },
     "execution_count": 29,
     "metadata": {},
     "output_type": "execute_result"
    },
    {
     "data": {
      "text/html": [
       "<div>\n",
       "<table border=\"1\" class=\"dataframe\">\n",
       "  <thead>\n",
       "    <tr style=\"text-align: right;\">\n",
       "      <th></th>\n",
       "      <th>Cnsmr</th>\n",
       "      <th>Manuf</th>\n",
       "      <th>HiTec</th>\n",
       "      <th>Hlth</th>\n",
       "      <th>Other</th>\n",
       "    </tr>\n",
       "    <tr>\n",
       "      <th>Date</th>\n",
       "      <th></th>\n",
       "      <th></th>\n",
       "      <th></th>\n",
       "      <th></th>\n",
       "      <th></th>\n",
       "    </tr>\n",
       "  </thead>\n",
       "  <tbody>\n",
       "    <tr>\n",
       "      <th>2010-01</th>\n",
       "      <td>622</td>\n",
       "      <td>737</td>\n",
       "      <td>830</td>\n",
       "      <td>467</td>\n",
       "      <td>1232</td>\n",
       "    </tr>\n",
       "    <tr>\n",
       "      <th>2010-02</th>\n",
       "      <td>620</td>\n",
       "      <td>734</td>\n",
       "      <td>821</td>\n",
       "      <td>464</td>\n",
       "      <td>1221</td>\n",
       "    </tr>\n",
       "    <tr>\n",
       "      <th>2010-03</th>\n",
       "      <td>614</td>\n",
       "      <td>729</td>\n",
       "      <td>818</td>\n",
       "      <td>458</td>\n",
       "      <td>1215</td>\n",
       "    </tr>\n",
       "    <tr>\n",
       "      <th>2010-04</th>\n",
       "      <td>614</td>\n",
       "      <td>726</td>\n",
       "      <td>807</td>\n",
       "      <td>458</td>\n",
       "      <td>1203</td>\n",
       "    </tr>\n",
       "    <tr>\n",
       "      <th>2010-05</th>\n",
       "      <td>611</td>\n",
       "      <td>723</td>\n",
       "      <td>804</td>\n",
       "      <td>457</td>\n",
       "      <td>1195</td>\n",
       "    </tr>\n",
       "  </tbody>\n",
       "</table>\n",
       "</div>"
      ],
      "text/plain": [
       "         Cnsmr  Manuf  HiTec  Hlth   Other\n",
       "Date                                      \n",
       "2010-01    622    737    830    467   1232\n",
       "2010-02    620    734    821    464   1221\n",
       "2010-03    614    729    818    458   1215\n",
       "2010-04    614    726    807    458   1203\n",
       "2010-05    611    723    804    457   1195"
      ]
     },
     "execution_count": 29,
     "metadata": {},
     "output_type": "execute_result"
    }
   ],
   "source": [
    "type(ds[4])\n",
    "ds[4].head()"
   ]
  },
  {
   "cell_type": "markdown",
   "metadata": {},
   "source": [
    "## NASDAQ Symbols"
   ]
  },
  {
   "cell_type": "code",
   "execution_count": 31,
   "metadata": {
    "collapsed": false
   },
   "outputs": [
    {
     "name": "stdout",
     "output_type": "stream",
     "text": [
      "Nasdaq Traded                                                    True\n",
      "Security Name       International Business Machines Corporation Co...\n",
      "Listing Exchange                                                    N\n",
      "Market Category                                                      \n",
      "ETF                                                             False\n",
      "Round Lot Size                                                    100\n",
      "Test Issue                                                      False\n",
      "Financial Status                                                  NaN\n",
      "CQS Symbol                                                        IBM\n",
      "NASDAQ Symbol                                                     IBM\n",
      "NextShares                                                      False\n",
      "Name: IBM, dtype: object\n"
     ]
    }
   ],
   "source": [
    "from pandas_datareader.nasdaq_trader import get_nasdaq_symbols\n",
    "symbols = get_nasdaq_symbols()\n",
    "print(symbols.ix['IBM'])"
   ]
  }
 ],
 "metadata": {
  "anaconda-cloud": {},
  "kernelspec": {
   "display_name": "Python [default]",
   "language": "python",
   "name": "python3"
  },
  "language_info": {
   "codemirror_mode": {
    "name": "ipython",
    "version": 3
   },
   "file_extension": ".py",
   "mimetype": "text/x-python",
   "name": "python",
   "nbconvert_exporter": "python",
   "pygments_lexer": "ipython3",
   "version": "3.5.2"
  }
 },
 "nbformat": 4,
 "nbformat_minor": 1
}
