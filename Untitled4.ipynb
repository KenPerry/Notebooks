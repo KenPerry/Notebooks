{
 "cells": [
  {
   "cell_type": "code",
   "execution_count": 1,
   "metadata": {
    "collapsed": true
   },
   "outputs": [],
   "source": [
    "from IPython.core.interactiveshell import InteractiveShell\n",
    "InteractiveShell.ast_node_interactivity = \"all\"\n",
    "\n",
    "# Reload all modules imported with %aimport\n",
    "%load_ext autoreload\n",
    "%autoreload 1\n"
   ]
  },
  {
   "cell_type": "code",
   "execution_count": 2,
   "metadata": {
    "collapsed": true
   },
   "outputs": [],
   "source": [
    "import pandas as pd\n",
    "idx = pd.IndexSlice\n",
    "\n",
    "import datetime as dt\n",
    "from datetime import date\n",
    "from datetime import timedelta\n",
    "import dateutil.parser as dup"
   ]
  },
  {
   "cell_type": "code",
   "execution_count": 3,
   "metadata": {
    "collapsed": true
   },
   "outputs": [],
   "source": [
    "Memorialize = False"
   ]
  },
  {
   "cell_type": "code",
   "execution_count": 4,
   "metadata": {
    "collapsed": false
   },
   "outputs": [],
   "source": [
    "today = dt.datetime.combine( dt.date.today(), dt.time.min)\n",
    "if Memorialize:\n",
    "    today = dup.parse(\"03/09/2018\")\n",
    "    \n",
    "start = dup.parse(\"01/01/2018\")\n",
    "end   = today\n",
    "\n"
   ]
  },
  {
   "cell_type": "code",
   "execution_count": 5,
   "metadata": {
    "collapsed": true
   },
   "outputs": [],
   "source": [
    "import trans.dataprovider.alphavantage as aa\n",
    "%aimport trans.dataprovider.alphavantage\n",
    "\n",
    "aa_dp = aa.Alphavantage()"
   ]
  },
  {
   "cell_type": "code",
   "execution_count": 6,
   "metadata": {
    "collapsed": false
   },
   "outputs": [
    {
     "data": {
      "text/plain": [
       "(47, 40)"
      ]
     },
     "execution_count": 6,
     "metadata": {},
     "output_type": "execute_result"
    }
   ],
   "source": [
    "import trans.dataprovider.odo as odo_reader\n",
    "%aimport trans.dataprovider.odo\n",
    "\n",
    "from sqlalchemy.ext.declarative import declarative_base\n",
    "\n",
    "dburl=\"sqlite:////tmp/full.db\"\n",
    "decBase_r = declarative_base()\n",
    "\n",
    "odr = odo_reader.ODO(dburl, declarative_base=decBase_r, provider=aa_dp)\n",
    "\n",
    "df_aa = odr.get(tickers=[\"FB\", \"AAPL\", \"AMZN\", \"NFLX\", \"GOOG\" ], start=\"2018-03-01\")\n",
    "df_aa.shape"
   ]
  },
  {
   "cell_type": "code",
   "execution_count": 8,
   "metadata": {
    "collapsed": false
   },
   "outputs": [
    {
     "name": "stdout",
     "output_type": "stream",
     "text": [
      "init: need to override\n"
     ]
    }
   ],
   "source": [
    "import trans.quantfactor.volatility as vf\n",
    "%aimport trans.quantfactor.volatility\n",
    "\n",
    "v = vf.Volatility()"
   ]
  },
  {
   "cell_type": "code",
   "execution_count": null,
   "metadata": {
    "collapsed": true
   },
   "outputs": [],
   "source": [
    "dm = Date_Manipulator( mom.price_df.index )\n",
    "eom_in_idx = dm.periodic_in_idx_end_of_month(end)\n",
    "v.set_endDates( eom_in_idx )"
   ]
  }
 ],
 "metadata": {
  "kernelspec": {
   "display_name": "Python 3",
   "language": "python",
   "name": "python3"
  },
  "language_info": {
   "codemirror_mode": {
    "name": "ipython",
    "version": 3
   },
   "file_extension": ".py",
   "mimetype": "text/x-python",
   "name": "python",
   "nbconvert_exporter": "python",
   "pygments_lexer": "ipython3",
   "version": "3.6.0"
  }
 },
 "nbformat": 4,
 "nbformat_minor": 2
}
