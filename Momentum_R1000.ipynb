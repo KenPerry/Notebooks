{
 "cells": [
  {
   "cell_type": "code",
   "execution_count": 1,
   "metadata": {
    "collapsed": true
   },
   "outputs": [],
   "source": [
    "\n",
    "from IPython.core.interactiveshell import InteractiveShell\n",
    "InteractiveShell.ast_node_interactivity = \"all\"\n",
    "\n",
    "# Reload all modules imported with %aimport\n",
    "%load_ext autoreload\n",
    "%autoreload 1\n"
   ]
  },
  {
   "cell_type": "code",
   "execution_count": 2,
   "metadata": {
    "collapsed": false
   },
   "outputs": [],
   "source": [
    "import pandas as pd\n",
    "idx = pd.IndexSlice\n",
    "\n",
    "import datetime as dt\n",
    "from datetime import date\n",
    "from datetime import timedelta\n",
    "import dateutil.parser as dup\n",
    "\n",
    "%aimport trans.data\n",
    "%aimport trans.gtrans\n",
    "%aimport trans.reg\n",
    "%aimport trans.regpipe\n",
    "%aimport trans.qfactors\n",
    "\n",
    "from trans.data import GetData\n",
    "gd = GetData()\n",
    "from trans.gtrans import *\n",
    "from trans.reg import Reg, RegAttr\n",
    "from trans.regpipe import RegPipe\n",
    "\n",
    "import trans.qfactors as qf\n",
    "from trans.date_manip import Date_Manipulator"
   ]
  },
  {
   "cell_type": "code",
   "execution_count": 3,
   "metadata": {
    "collapsed": false
   },
   "outputs": [
    {
     "data": {
      "text/plain": [
       "(datetime.datetime(2015, 1, 1, 0, 0), datetime.datetime(2018, 3, 28, 0, 0))"
      ]
     },
     "execution_count": 3,
     "metadata": {},
     "output_type": "execute_result"
    }
   ],
   "source": [
    "start = dup.parse(\"01/01/2015\")\n",
    "#end =   dup.parse(\"03/15/2018\")\n",
    "\n",
    "today = dt.datetime.combine( date.today(), dt.time.min)\n",
    "# today = dup.parse( dt.datetime.today().strftime(\"%m/%d/%Y\"))\n",
    "end = today\n",
    "start, end\n",
    "\n",
    "refreshData = False"
   ]
  },
  {
   "cell_type": "code",
   "execution_count": 4,
   "metadata": {
    "collapsed": false
   },
   "outputs": [
    {
     "data": {
      "text/plain": [
       "1118"
      ]
     },
     "execution_count": 4,
     "metadata": {},
     "output_type": "execute_result"
    }
   ],
   "source": [
    "existing_tickers = gd.existing()\n",
    "len(existing_tickers)"
   ]
  },
  {
   "cell_type": "code",
   "execution_count": 5,
   "metadata": {
    "collapsed": false
   },
   "outputs": [],
   "source": [
    "existing_tickers.sort()\n",
    "changed_tickers = []\n",
    "if refreshData:\n",
    "    changed_tickers = gd.get_data( existing_tickers, start, end)\n",
    "    cleaned = gd.clean_data(existing_tickers)"
   ]
  },
  {
   "cell_type": "code",
   "execution_count": 6,
   "metadata": {
    "collapsed": false
   },
   "outputs": [
    {
     "data": {
      "text/plain": [
       "987"
      ]
     },
     "execution_count": 6,
     "metadata": {},
     "output_type": "execute_result"
    },
    {
     "name": "stdout",
     "output_type": "stream",
     "text": [
      "No data for following R1000 names: ALR, AMSG, AWH, BCR, BEAV, BF.A, BF.B, BHI, BKFS, BRCD, CAA, CAB, CCP, COH, CPGX, CSAL, CSC, CST, DD, DOW, EMC, ENH, EQY, FEIC, FNFG, GAS, HAR, HOT, IHS, IM, IMS, ITC, JW.A, KATE, LGF, LLTC, LNKD, LVLT, LXK, MDVN, MFS, MJN, MRD, N, NRF, NSAM, PNRA, PNY, PPS, Q, RAI, RAX, RICE, SCTY, SPLS, SSS, STJ, STR, TCB, TE, TSO, TYC, UA.C, VAL, VNTV, VWR, WFM, WOOF, WWAV, YHOO\n",
      "Available universe has 917 tickers\n"
     ]
    }
   ],
   "source": [
    "universe = gd.get_r1000_tickers()\n",
    "len(universe)\n",
    "\n",
    "missing_universe = list(set(universe) - set(existing_tickers))\n",
    "missing_universe.sort()\n",
    "print(\"No data for following R1000 names: {}\".format(\", \".join(missing_universe)))\n",
    "\n",
    "universe = list(set(universe) - set(missing_universe))\n",
    "universe.sort()\n",
    "print(\"Available universe has {} tickers\".format(len(universe)))\n",
    "\n",
    "mom = qf.MomentumPipe(universe)\n",
    "price_df = mom.load_prices( start, end)"
   ]
  },
  {
   "cell_type": "code",
   "execution_count": 7,
   "metadata": {
    "collapsed": false
   },
   "outputs": [
    {
     "data": {
      "text/plain": [
       "(815, 5508)"
      ]
     },
     "execution_count": 7,
     "metadata": {},
     "output_type": "execute_result"
    }
   ],
   "source": [
    "price_df.shape"
   ]
  },
  {
   "cell_type": "code",
   "execution_count": 8,
   "metadata": {
    "collapsed": false
   },
   "outputs": [
    {
     "name": "stdout",
     "output_type": "stream",
     "text": [
      "End 2018-03-28 00:00:00, last 2018-03-31 00:00:00\n"
     ]
    }
   ],
   "source": [
    "dm = Date_Manipulator( mom.price_df.index )\n",
    "eom_in_idx = dm.periodic_in_idx_end_of_month(end)\n",
    "mom.set_endDates( eom_in_idx )"
   ]
  },
  {
   "cell_type": "code",
   "execution_count": 9,
   "metadata": {
    "collapsed": true
   },
   "outputs": [],
   "source": [
    "price_attr = \"Adj Close\"\n",
    "ret_attr = \"Ret\"\n",
    "daily_ret_df = mom.create_dailyReturns(price_attr, ret_attr )"
   ]
  },
  {
   "cell_type": "markdown",
   "metadata": {},
   "source": [
    "## 12m1m: 11 month return beginning 12m ago and ending 1m ago\n",
    "- so 11 month return, shift forward 1 mo"
   ]
  },
  {
   "cell_type": "code",
   "execution_count": 10,
   "metadata": {
    "collapsed": true
   },
   "outputs": [],
   "source": [
    "period_ret_attr = ret_attr + \" yearly\"\n",
    "yearly_ret_df = mom.create_periodReturns(price_attr, period_ret_attr, periods=11)\n",
    "\n",
    "yearly_ret_df = mom.period_ret_df\n",
    "shifted_yearly_ret_df = ShiftTransformer(1).fit_transform(yearly_ret_df)\n",
    "mom.period_ret_df = shifted_yearly_ret_df"
   ]
  },
  {
   "cell_type": "code",
   "execution_count": 11,
   "metadata": {
    "collapsed": false
   },
   "outputs": [
    {
     "data": {
      "text/plain": [
       "Dt\n",
       "2017-12-29    0.364224\n",
       "2018-01-31    0.901780\n",
       "2018-02-28    0.971315\n",
       "Freq: BM, Name: (Ret yearly, NFLX), dtype: float64"
      ]
     },
     "execution_count": 11,
     "metadata": {},
     "output_type": "execute_result"
    },
    {
     "data": {
      "text/plain": [
       "Dt\n",
       "2017-12-29    0.515186\n",
       "2018-01-31    0.364224\n",
       "2018-02-28    0.901780\n",
       "Freq: BM, Name: (Ret yearly, NFLX), dtype: float64"
      ]
     },
     "execution_count": 11,
     "metadata": {},
     "output_type": "execute_result"
    }
   ],
   "source": [
    "\n",
    "yearly_ret_df.loc[\"2017-12-01\":\"2018-03-20\", idx[ period_ret_attr, \"NFLX\"]]\n",
    "shifted_yearly_ret_df.loc[\"2017-12-01\":\"2018-03-20\", idx[ period_ret_attr, \"NFLX\"]]"
   ]
  },
  {
   "cell_type": "code",
   "execution_count": 12,
   "metadata": {
    "collapsed": true
   },
   "outputs": [],
   "source": [
    "daily_rank_df = mom.create_ranks()"
   ]
  },
  {
   "cell_type": "code",
   "execution_count": 13,
   "metadata": {
    "collapsed": true
   },
   "outputs": [],
   "source": [
    "factor_ret_attr = ret_attr + \" Factor\"\n",
    "factor_df = mom.create_factor()"
   ]
  },
  {
   "cell_type": "code",
   "execution_count": 29,
   "metadata": {
    "collapsed": false
   },
   "outputs": [
    {
     "data": {
      "text/plain": [
       "Dt\n",
       "2018-01-23    0.000060\n",
       "2018-01-24    0.000549\n",
       "2018-01-25    0.008073\n",
       "2018-01-26    0.008339\n",
       "2018-01-29   -0.002029\n",
       "2018-01-30    0.009761\n",
       "2018-01-31    0.003208\n",
       "2018-02-01   -0.000456\n",
       "2018-02-02    0.003843\n",
       "2018-02-05   -0.001362\n",
       "2018-02-06    0.000603\n",
       "2018-02-07    0.005139\n",
       "2018-02-08   -0.008440\n",
       "2018-02-09    0.009649\n",
       "2018-02-12    0.003693\n",
       "2018-02-13    0.009485\n",
       "2018-02-14   -0.003262\n",
       "2018-02-15    0.001089\n",
       "2018-02-16   -0.005105\n",
       "2018-02-20    0.004916\n",
       "2018-02-21    0.008509\n",
       "2018-02-22   -0.002444\n",
       "2018-02-23   -0.003442\n",
       "2018-02-26    0.000891\n",
       "2018-02-27    0.002227\n",
       "2018-02-28    0.008274\n",
       "2018-03-01   -0.006584\n",
       "2018-03-02   -0.004009\n",
       "2018-03-05   -0.007916\n",
       "2018-03-06    0.004542\n",
       "2018-03-07    0.007474\n",
       "2018-03-08    0.002333\n",
       "2018-03-09    0.008626\n",
       "2018-03-12   -0.005707\n",
       "2018-03-13   -0.001778\n",
       "2018-03-14    0.002559\n",
       "2018-03-15    0.005930\n",
       "2018-03-16   -0.007541\n",
       "2018-03-19    0.004904\n",
       "2018-03-20    0.016063\n",
       "2018-03-21   -0.007176\n",
       "2018-03-22   -0.009638\n",
       "2018-03-23   -0.005407\n",
       "2018-03-26    0.015003\n",
       "2018-03-27   -0.012036\n",
       "2018-03-28   -0.016892\n",
       "Name: (Ret, Port net), dtype: float64"
      ]
     },
     "execution_count": 29,
     "metadata": {},
     "output_type": "execute_result"
    }
   ],
   "source": [
    "f_ret = factor_df.loc[:, idx[\"Ret\", \"Port net\"]]\n",
    "f_ret.loc[\"2018-01-23\":]"
   ]
  },
  {
   "cell_type": "markdown",
   "metadata": {},
   "source": [
    "## Standard deviation computed over last year"
   ]
  },
  {
   "cell_type": "code",
   "execution_count": 37,
   "metadata": {
    "collapsed": false
   },
   "outputs": [],
   "source": [
    "std_dev = f_ret.loc[end - dt.timedelta(days=365) :].std()"
   ]
  },
  {
   "cell_type": "code",
   "execution_count": 40,
   "metadata": {
    "collapsed": false
   },
   "outputs": [
    {
     "data": {
      "text/plain": [
       "<matplotlib.axes._subplots.AxesSubplot at 0x7fea983bacf8>"
      ]
     },
     "execution_count": 40,
     "metadata": {},
     "output_type": "execute_result"
    },
    {
     "data": {
      "text/plain": [
       "<matplotlib.axes._subplots.AxesSubplot at 0x7fea983bacf8>"
      ]
     },
     "execution_count": 40,
     "metadata": {},
     "output_type": "execute_result"
    },
    {
     "data": {
      "image/png": "[encoded data removed]",
      "text/plain": [
       "<matplotlib.figure.Figure at 0x7fea95673898>"
      ]
     },
     "metadata": {},
     "output_type": "display_data"
    }
   ],
   "source": [
    "%matplotlib inline\n",
    "f_ret_recent = f_ret.loc[\"2018-01-01\":]\n",
    "f_ret_recent.plot()\n",
    "f_ret_recent_z = f_ret_recent/std_dev\n",
    "\n",
    "f_ret_recent_z.plot()"
   ]
  },
  {
   "cell_type": "code",
   "execution_count": 42,
   "metadata": {
    "collapsed": false
   },
   "outputs": [],
   "source": [
    "gd.save_data(factor_df, \"mom_r1000_12m1m.pkl\")"
   ]
  },
  {
   "cell_type": "code",
   "execution_count": 43,
   "metadata": {
    "collapsed": true
   },
   "outputs": [],
   "source": [
    "factor_df.to_csv(\"mom_r1000_12m1m.csv\")"
   ]
  },
  {
   "cell_type": "code",
   "execution_count": 44,
   "metadata": {
    "collapsed": false,
    "scrolled": false
   },
   "outputs": [
    {
     "data": {
      "text/plain": [
       "Dt\n",
       "2018-03-22   -1.312744\n",
       "2018-03-23   -0.736394\n",
       "2018-03-26    2.043409\n",
       "2018-03-27   -1.639273\n",
       "2018-03-28   -2.300742\n",
       "Name: (Ret, Port net), dtype: float64"
      ]
     },
     "execution_count": 44,
     "metadata": {},
     "output_type": "execute_result"
    }
   ],
   "source": [
    "f_ret_recent_z.tail()"
   ]
  }
 ],
 "metadata": {
  "kernelspec": {
   "display_name": "Python 3",
   "language": "python",
   "name": "python3"
  },
  "language_info": {
   "codemirror_mode": {
    "name": "ipython",
    "version": 3
   },
   "file_extension": ".py",
   "mimetype": "text/x-python",
   "name": "python",
   "nbconvert_exporter": "python",
   "pygments_lexer": "ipython3",
   "version": "3.6.0"
  }
 },
 "nbformat": 4,
 "nbformat_minor": 2
}
