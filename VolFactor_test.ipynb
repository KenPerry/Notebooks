{
 "cells": [
  {
   "cell_type": "code",
   "execution_count": 1,
   "metadata": {
    "collapsed": true
   },
   "outputs": [],
   "source": [
    "from IPython.core.interactiveshell import InteractiveShell\n",
    "InteractiveShell.ast_node_interactivity = \"all\"\n",
    "\n",
    "# Reload all modules imported with %aimport\n",
    "%load_ext autoreload\n",
    "%autoreload 1\n"
   ]
  },
  {
   "cell_type": "code",
   "execution_count": 2,
   "metadata": {
    "collapsed": true
   },
   "outputs": [],
   "source": [
    "import pandas as pd\n",
    "idx = pd.IndexSlice\n",
    "\n",
    "import datetime as dt\n",
    "from datetime import date\n",
    "\n",
    "\n",
    "from datetime import timedelta\n",
    "import dateutil.relativedelta as rd\n",
    "import dateutil.parser as dup\n",
    "\n",
    "from trans.date_manip import Date_Manipulator"
   ]
  },
  {
   "cell_type": "code",
   "execution_count": 3,
   "metadata": {
    "collapsed": true
   },
   "outputs": [],
   "source": [
    "Memorialize = False"
   ]
  },
  {
   "cell_type": "code",
   "execution_count": 4,
   "metadata": {
    "collapsed": false
   },
   "outputs": [],
   "source": [
    "today = dt.datetime.combine( dt.date.today(), dt.time.min)\n",
    "if Memorialize:\n",
    "    today = dup.parse(\"03/09/2018\")\n",
    "    \n",
    "start = dup.parse(\"01/01/2018\")\n",
    "end   = today\n",
    "\n"
   ]
  },
  {
   "cell_type": "code",
   "execution_count": 5,
   "metadata": {
    "collapsed": true
   },
   "outputs": [],
   "source": [
    "import trans.dataprovider.alphavantage as aa\n",
    "%aimport trans.dataprovider.alphavantage\n",
    "\n",
    "aa_dp = aa.Alphavantage()"
   ]
  },
  {
   "cell_type": "code",
   "execution_count": 6,
   "metadata": {
    "collapsed": false
   },
   "outputs": [
    {
     "data": {
      "text/plain": [
       "(47, 40)"
      ]
     },
     "execution_count": 6,
     "metadata": {},
     "output_type": "execute_result"
    }
   ],
   "source": [
    "import trans.dataprovider.odo as odo_reader\n",
    "%aimport trans.dataprovider.odo\n",
    "\n",
    "from sqlalchemy.ext.declarative import declarative_base\n",
    "\n",
    "dburl=\"sqlite:////tmp/full.db\"\n",
    "decBase_r = declarative_base()\n",
    "\n",
    "odr = odo_reader.ODO(dburl, declarative_base=decBase_r, provider=aa_dp)\n",
    "\n",
    "df_aa = odr.get(tickers=[\"FB\", \"AAPL\", \"AMZN\", \"NFLX\", \"GOOG\" ], start=\"2018-03-01\")\n",
    "df_aa.shape"
   ]
  },
  {
   "cell_type": "code",
   "execution_count": 7,
   "metadata": {
    "collapsed": false
   },
   "outputs": [
    {
     "data": {
      "text/plain": [
       "987"
      ]
     },
     "execution_count": 7,
     "metadata": {},
     "output_type": "execute_result"
    }
   ],
   "source": [
    "from trans.data import GetData\n",
    "gd = GetData()\n",
    "\n",
    "universe = gd.get_r1000_tickers()\n",
    "universe.sort()\n",
    "len(universe)"
   ]
  },
  {
   "cell_type": "code",
   "execution_count": 8,
   "metadata": {
    "collapsed": false
   },
   "outputs": [
    {
     "name": "stdout",
     "output_type": "stream",
     "text": [
      "dataProvider passed\n",
      "init: need to override\n"
     ]
    }
   ],
   "source": [
    "import trans.quantfactor.volatility as vf\n",
    "%aimport trans.quantfactor.volatility\n",
    "\n",
    "%aimport trans.gtrans\n",
    "%aimport trans.quantfactor.base\n",
    "\n",
    "v = vf.Volatility(universe=[\"FB\", \"AAPL\", \"AMZN\", \"NFLX\", \"GOOG\" ], dataProvider=odr)"
   ]
  },
  {
   "cell_type": "code",
   "execution_count": 9,
   "metadata": {
    "collapsed": false
   },
   "outputs": [
    {
     "name": "stdout",
     "output_type": "stream",
     "text": [
      "dataProvider passed\n"
     ]
    }
   ],
   "source": [
    "daily_price_df = v.load_prices(start=start, end=end)"
   ]
  },
  {
   "cell_type": "code",
   "execution_count": 10,
   "metadata": {
    "collapsed": false
   },
   "outputs": [
    {
     "data": {
      "text/plain": [
       "(87, 48)"
      ]
     },
     "execution_count": 10,
     "metadata": {},
     "output_type": "execute_result"
    }
   ],
   "source": [
    "daily_price_df.shape"
   ]
  },
  {
   "cell_type": "code",
   "execution_count": 11,
   "metadata": {
    "collapsed": false
   },
   "outputs": [
    {
     "data": {
      "text/plain": [
       "['AAPL', 'AMZN', 'FB', 'GOOG', 'NFLX', 'SPY']"
      ]
     },
     "execution_count": 11,
     "metadata": {},
     "output_type": "execute_result"
    }
   ],
   "source": [
    "existing_tickers = list(daily_price_df.columns.get_level_values(1).unique())\n",
    "existing_tickers.sort()\n",
    "existing_tickers"
   ]
  },
  {
   "cell_type": "code",
   "execution_count": 12,
   "metadata": {
    "collapsed": false
   },
   "outputs": [
    {
     "name": "stdout",
     "output_type": "stream",
     "text": [
      "PANDA version > 0.20.0\n",
      "PANDA version > 0.20.0\n"
     ]
    },
    {
     "name": "stderr",
     "output_type": "stream",
     "text": [
      "/home/ubuntu/Notebooks/trans/gtrans.py:902: FutureWarning: sortlevel is deprecated, use sort_index(level= ...)\n",
      "  concatted.sortlevel(axis=0, inplace=True)\n",
      "/home/ubuntu/Notebooks/trans/gtrans.py:903: FutureWarning: sortlevel is deprecated, use sort_index(level= ...)\n",
      "  concatted.sortlevel(axis=1, inplace=True)\n"
     ]
    }
   ],
   "source": [
    "price_attr = \"Adj Close\"\n",
    "ret_attr = \"Pct\"\n",
    "daily_ret_df = v.create_dailyReturns(price_attr, ret_attr )"
   ]
  },
  {
   "cell_type": "code",
   "execution_count": 13,
   "metadata": {
    "collapsed": false
   },
   "outputs": [
    {
     "data": {
      "text/plain": [
       "(87, 12)"
      ]
     },
     "execution_count": 13,
     "metadata": {},
     "output_type": "execute_result"
    }
   ],
   "source": [
    "daily_ret_df.shape"
   ]
  },
  {
   "cell_type": "code",
   "execution_count": 14,
   "metadata": {
    "collapsed": false
   },
   "outputs": [],
   "source": [
    "dm = Date_Manipulator( v.price_df.index )\n",
    "eom_in_idx = dm.periodic_in_idx_end_of_month(end)\n",
    "v.set_endDates( eom_in_idx )"
   ]
  },
  {
   "cell_type": "code",
   "execution_count": 15,
   "metadata": {
    "collapsed": false
   },
   "outputs": [
    {
     "data": {
      "text/html": [
       "<div>\n",
       "<style scoped>\n",
       "    .dataframe tbody tr th:only-of-type {\n",
       "        vertical-align: middle;\n",
       "    }\n",
       "\n",
       "    .dataframe tbody tr th {\n",
       "        vertical-align: top;\n",
       "    }\n",
       "\n",
       "    .dataframe thead tr th {\n",
       "        text-align: left;\n",
       "    }\n",
       "\n",
       "    .dataframe thead tr:last-of-type th {\n",
       "        text-align: right;\n",
       "    }\n",
       "</style>\n",
       "<table border=\"1\" class=\"dataframe\">\n",
       "  <thead>\n",
       "    <tr>\n",
       "      <th></th>\n",
       "      <th colspan=\"6\" halign=\"left\">Volatility</th>\n",
       "    </tr>\n",
       "    <tr>\n",
       "      <th></th>\n",
       "      <th>AAPL</th>\n",
       "      <th>AMZN</th>\n",
       "      <th>FB</th>\n",
       "      <th>GOOG</th>\n",
       "      <th>NFLX</th>\n",
       "      <th>SPY</th>\n",
       "    </tr>\n",
       "    <tr>\n",
       "      <th>Dt</th>\n",
       "      <th></th>\n",
       "      <th></th>\n",
       "      <th></th>\n",
       "      <th></th>\n",
       "      <th></th>\n",
       "      <th></th>\n",
       "    </tr>\n",
       "  </thead>\n",
       "  <tbody>\n",
       "    <tr>\n",
       "      <th>2018-01-31</th>\n",
       "      <td>0.009462</td>\n",
       "      <td>0.009819</td>\n",
       "      <td>0.015685</td>\n",
       "      <td>0.007467</td>\n",
       "      <td>0.028084</td>\n",
       "      <td>0.005495</td>\n",
       "    </tr>\n",
       "    <tr>\n",
       "      <th>2018-02-28</th>\n",
       "      <td>0.021743</td>\n",
       "      <td>0.022927</td>\n",
       "      <td>0.023674</td>\n",
       "      <td>0.024222</td>\n",
       "      <td>0.028408</td>\n",
       "      <td>0.016685</td>\n",
       "    </tr>\n",
       "    <tr>\n",
       "      <th>2018-03-29</th>\n",
       "      <td>0.016277</td>\n",
       "      <td>0.020403</td>\n",
       "      <td>0.024933</td>\n",
       "      <td>0.022016</td>\n",
       "      <td>0.032206</td>\n",
       "      <td>0.012532</td>\n",
       "    </tr>\n",
       "    <tr>\n",
       "      <th>2018-04-30</th>\n",
       "      <td>0.016128</td>\n",
       "      <td>0.025275</td>\n",
       "      <td>0.026855</td>\n",
       "      <td>0.017441</td>\n",
       "      <td>0.029001</td>\n",
       "      <td>0.010767</td>\n",
       "    </tr>\n",
       "  </tbody>\n",
       "</table>\n",
       "</div>"
      ],
      "text/plain": [
       "           Volatility                                                  \n",
       "                 AAPL      AMZN        FB      GOOG      NFLX       SPY\n",
       "Dt                                                                     \n",
       "2018-01-31   0.009462  0.009819  0.015685  0.007467  0.028084  0.005495\n",
       "2018-02-28   0.021743  0.022927  0.023674  0.024222  0.028408  0.016685\n",
       "2018-03-29   0.016277  0.020403  0.024933  0.022016  0.032206  0.012532\n",
       "2018-04-30   0.016128  0.025275  0.026855  0.017441  0.029001  0.010767"
      ]
     },
     "execution_count": 15,
     "metadata": {},
     "output_type": "execute_result"
    }
   ],
   "source": [
    "from datetime import timedelta\n",
    "vol_window = timedelta(days=30)\n",
    " \n",
    "v.create_period_attr( v.daily_ret_df.loc[:, idx[ret_attr,:]], start, end, vol_window, \"Volatility\")"
   ]
  },
  {
   "cell_type": "code",
   "execution_count": 16,
   "metadata": {
    "collapsed": false
   },
   "outputs": [
    {
     "name": "stdout",
     "output_type": "stream",
     "text": [
      "PANDA version > 0.20.0\n"
     ]
    }
   ],
   "source": [
    "daily_rank_df = v.create_ranks()"
   ]
  },
  {
   "cell_type": "code",
   "execution_count": 17,
   "metadata": {
    "collapsed": false
   },
   "outputs": [
    {
     "data": {
      "text/html": [
       "<div>\n",
       "<style scoped>\n",
       "    .dataframe tbody tr th:only-of-type {\n",
       "        vertical-align: middle;\n",
       "    }\n",
       "\n",
       "    .dataframe tbody tr th {\n",
       "        vertical-align: top;\n",
       "    }\n",
       "\n",
       "    .dataframe thead tr th {\n",
       "        text-align: left;\n",
       "    }\n",
       "\n",
       "    .dataframe thead tr:last-of-type th {\n",
       "        text-align: right;\n",
       "    }\n",
       "</style>\n",
       "<table border=\"1\" class=\"dataframe\">\n",
       "  <thead>\n",
       "    <tr>\n",
       "      <th></th>\n",
       "      <th colspan=\"5\" halign=\"left\">Rank</th>\n",
       "    </tr>\n",
       "    <tr>\n",
       "      <th></th>\n",
       "      <th>AAPL</th>\n",
       "      <th>AMZN</th>\n",
       "      <th>FB</th>\n",
       "      <th>GOOG</th>\n",
       "      <th>NFLX</th>\n",
       "    </tr>\n",
       "    <tr>\n",
       "      <th>Dt</th>\n",
       "      <th></th>\n",
       "      <th></th>\n",
       "      <th></th>\n",
       "      <th></th>\n",
       "      <th></th>\n",
       "    </tr>\n",
       "  </thead>\n",
       "  <tbody>\n",
       "    <tr>\n",
       "      <th>2018-01-31</th>\n",
       "      <td>NaN</td>\n",
       "      <td>NaN</td>\n",
       "      <td>NaN</td>\n",
       "      <td>NaN</td>\n",
       "      <td>NaN</td>\n",
       "    </tr>\n",
       "    <tr>\n",
       "      <th>2018-02-01</th>\n",
       "      <td>2.0</td>\n",
       "      <td>3.0</td>\n",
       "      <td>4.0</td>\n",
       "      <td>1.0</td>\n",
       "      <td>5.0</td>\n",
       "    </tr>\n",
       "    <tr>\n",
       "      <th>2018-02-02</th>\n",
       "      <td>2.0</td>\n",
       "      <td>3.0</td>\n",
       "      <td>4.0</td>\n",
       "      <td>1.0</td>\n",
       "      <td>5.0</td>\n",
       "    </tr>\n",
       "    <tr>\n",
       "      <th>2018-02-05</th>\n",
       "      <td>2.0</td>\n",
       "      <td>3.0</td>\n",
       "      <td>4.0</td>\n",
       "      <td>1.0</td>\n",
       "      <td>5.0</td>\n",
       "    </tr>\n",
       "    <tr>\n",
       "      <th>2018-02-06</th>\n",
       "      <td>2.0</td>\n",
       "      <td>3.0</td>\n",
       "      <td>4.0</td>\n",
       "      <td>1.0</td>\n",
       "      <td>5.0</td>\n",
       "    </tr>\n",
       "    <tr>\n",
       "      <th>2018-02-07</th>\n",
       "      <td>2.0</td>\n",
       "      <td>3.0</td>\n",
       "      <td>4.0</td>\n",
       "      <td>1.0</td>\n",
       "      <td>5.0</td>\n",
       "    </tr>\n",
       "    <tr>\n",
       "      <th>2018-02-08</th>\n",
       "      <td>2.0</td>\n",
       "      <td>3.0</td>\n",
       "      <td>4.0</td>\n",
       "      <td>1.0</td>\n",
       "      <td>5.0</td>\n",
       "    </tr>\n",
       "    <tr>\n",
       "      <th>2018-02-09</th>\n",
       "      <td>2.0</td>\n",
       "      <td>3.0</td>\n",
       "      <td>4.0</td>\n",
       "      <td>1.0</td>\n",
       "      <td>5.0</td>\n",
       "    </tr>\n",
       "    <tr>\n",
       "      <th>2018-02-12</th>\n",
       "      <td>2.0</td>\n",
       "      <td>3.0</td>\n",
       "      <td>4.0</td>\n",
       "      <td>1.0</td>\n",
       "      <td>5.0</td>\n",
       "    </tr>\n",
       "    <tr>\n",
       "      <th>2018-02-13</th>\n",
       "      <td>2.0</td>\n",
       "      <td>3.0</td>\n",
       "      <td>4.0</td>\n",
       "      <td>1.0</td>\n",
       "      <td>5.0</td>\n",
       "    </tr>\n",
       "    <tr>\n",
       "      <th>2018-02-14</th>\n",
       "      <td>2.0</td>\n",
       "      <td>3.0</td>\n",
       "      <td>4.0</td>\n",
       "      <td>1.0</td>\n",
       "      <td>5.0</td>\n",
       "    </tr>\n",
       "    <tr>\n",
       "      <th>2018-02-15</th>\n",
       "      <td>2.0</td>\n",
       "      <td>3.0</td>\n",
       "      <td>4.0</td>\n",
       "      <td>1.0</td>\n",
       "      <td>5.0</td>\n",
       "    </tr>\n",
       "    <tr>\n",
       "      <th>2018-02-16</th>\n",
       "      <td>2.0</td>\n",
       "      <td>3.0</td>\n",
       "      <td>4.0</td>\n",
       "      <td>1.0</td>\n",
       "      <td>5.0</td>\n",
       "    </tr>\n",
       "    <tr>\n",
       "      <th>2018-02-20</th>\n",
       "      <td>2.0</td>\n",
       "      <td>3.0</td>\n",
       "      <td>4.0</td>\n",
       "      <td>1.0</td>\n",
       "      <td>5.0</td>\n",
       "    </tr>\n",
       "    <tr>\n",
       "      <th>2018-02-21</th>\n",
       "      <td>2.0</td>\n",
       "      <td>3.0</td>\n",
       "      <td>4.0</td>\n",
       "      <td>1.0</td>\n",
       "      <td>5.0</td>\n",
       "    </tr>\n",
       "    <tr>\n",
       "      <th>2018-02-22</th>\n",
       "      <td>2.0</td>\n",
       "      <td>3.0</td>\n",
       "      <td>4.0</td>\n",
       "      <td>1.0</td>\n",
       "      <td>5.0</td>\n",
       "    </tr>\n",
       "    <tr>\n",
       "      <th>2018-02-23</th>\n",
       "      <td>2.0</td>\n",
       "      <td>3.0</td>\n",
       "      <td>4.0</td>\n",
       "      <td>1.0</td>\n",
       "      <td>5.0</td>\n",
       "    </tr>\n",
       "    <tr>\n",
       "      <th>2018-02-26</th>\n",
       "      <td>2.0</td>\n",
       "      <td>3.0</td>\n",
       "      <td>4.0</td>\n",
       "      <td>1.0</td>\n",
       "      <td>5.0</td>\n",
       "    </tr>\n",
       "    <tr>\n",
       "      <th>2018-02-27</th>\n",
       "      <td>2.0</td>\n",
       "      <td>3.0</td>\n",
       "      <td>4.0</td>\n",
       "      <td>1.0</td>\n",
       "      <td>5.0</td>\n",
       "    </tr>\n",
       "    <tr>\n",
       "      <th>2018-02-28</th>\n",
       "      <td>2.0</td>\n",
       "      <td>3.0</td>\n",
       "      <td>4.0</td>\n",
       "      <td>1.0</td>\n",
       "      <td>5.0</td>\n",
       "    </tr>\n",
       "    <tr>\n",
       "      <th>2018-03-01</th>\n",
       "      <td>1.0</td>\n",
       "      <td>2.0</td>\n",
       "      <td>3.0</td>\n",
       "      <td>4.0</td>\n",
       "      <td>5.0</td>\n",
       "    </tr>\n",
       "    <tr>\n",
       "      <th>2018-03-02</th>\n",
       "      <td>1.0</td>\n",
       "      <td>2.0</td>\n",
       "      <td>3.0</td>\n",
       "      <td>4.0</td>\n",
       "      <td>5.0</td>\n",
       "    </tr>\n",
       "  </tbody>\n",
       "</table>\n",
       "</div>"
      ],
      "text/plain": [
       "           Rank                    \n",
       "           AAPL AMZN   FB GOOG NFLX\n",
       "Dt                                 \n",
       "2018-01-31  NaN  NaN  NaN  NaN  NaN\n",
       "2018-02-01  2.0  3.0  4.0  1.0  5.0\n",
       "2018-02-02  2.0  3.0  4.0  1.0  5.0\n",
       "2018-02-05  2.0  3.0  4.0  1.0  5.0\n",
       "2018-02-06  2.0  3.0  4.0  1.0  5.0\n",
       "2018-02-07  2.0  3.0  4.0  1.0  5.0\n",
       "2018-02-08  2.0  3.0  4.0  1.0  5.0\n",
       "2018-02-09  2.0  3.0  4.0  1.0  5.0\n",
       "2018-02-12  2.0  3.0  4.0  1.0  5.0\n",
       "2018-02-13  2.0  3.0  4.0  1.0  5.0\n",
       "2018-02-14  2.0  3.0  4.0  1.0  5.0\n",
       "2018-02-15  2.0  3.0  4.0  1.0  5.0\n",
       "2018-02-16  2.0  3.0  4.0  1.0  5.0\n",
       "2018-02-20  2.0  3.0  4.0  1.0  5.0\n",
       "2018-02-21  2.0  3.0  4.0  1.0  5.0\n",
       "2018-02-22  2.0  3.0  4.0  1.0  5.0\n",
       "2018-02-23  2.0  3.0  4.0  1.0  5.0\n",
       "2018-02-26  2.0  3.0  4.0  1.0  5.0\n",
       "2018-02-27  2.0  3.0  4.0  1.0  5.0\n",
       "2018-02-28  2.0  3.0  4.0  1.0  5.0\n",
       "2018-03-01  1.0  2.0  3.0  4.0  5.0\n",
       "2018-03-02  1.0  2.0  3.0  4.0  5.0"
      ]
     },
     "execution_count": 17,
     "metadata": {},
     "output_type": "execute_result"
    }
   ],
   "source": [
    "daily_rank_df.loc[ \"2018-01-31\":\"2018-03-02\"]"
   ]
  },
  {
   "cell_type": "code",
   "execution_count": 18,
   "metadata": {
    "collapsed": false
   },
   "outputs": [
    {
     "name": "stdout",
     "output_type": "stream",
     "text": [
      "PANDA version > 0.20.0\n",
      "PANDA version > 0.20.0\n"
     ]
    },
    {
     "name": "stderr",
     "output_type": "stream",
     "text": [
      "/home/ubuntu/Notebooks/trans/gtrans.py:902: FutureWarning: sortlevel is deprecated, use sort_index(level= ...)\n",
      "  concatted.sortlevel(axis=0, inplace=True)\n",
      "/home/ubuntu/Notebooks/trans/gtrans.py:903: FutureWarning: sortlevel is deprecated, use sort_index(level= ...)\n",
      "  concatted.sortlevel(axis=1, inplace=True)\n"
     ]
    }
   ],
   "source": [
    "factor_df = v.create_factor()"
   ]
  },
  {
   "cell_type": "code",
   "execution_count": 19,
   "metadata": {
    "collapsed": false
   },
   "outputs": [
    {
     "data": {
      "text/html": [
       "<div>\n",
       "<style scoped>\n",
       "    .dataframe tbody tr th:only-of-type {\n",
       "        vertical-align: middle;\n",
       "    }\n",
       "\n",
       "    .dataframe tbody tr th {\n",
       "        vertical-align: top;\n",
       "    }\n",
       "\n",
       "    .dataframe thead tr th {\n",
       "        text-align: left;\n",
       "    }\n",
       "\n",
       "    .dataframe thead tr:last-of-type th {\n",
       "        text-align: right;\n",
       "    }\n",
       "</style>\n",
       "<table border=\"1\" class=\"dataframe\">\n",
       "  <thead>\n",
       "    <tr>\n",
       "      <th></th>\n",
       "      <th colspan=\"10\" halign=\"left\">Pct</th>\n",
       "      <th colspan=\"5\" halign=\"left\">weight</th>\n",
       "    </tr>\n",
       "    <tr>\n",
       "      <th></th>\n",
       "      <th>AAPL</th>\n",
       "      <th>AMZN</th>\n",
       "      <th>FB</th>\n",
       "      <th>GOOG</th>\n",
       "      <th>NFLX</th>\n",
       "      <th>Port</th>\n",
       "      <th>Port &lt; 0</th>\n",
       "      <th>Port &gt; 0</th>\n",
       "      <th>Port net</th>\n",
       "      <th>SPY</th>\n",
       "      <th>AAPL</th>\n",
       "      <th>AMZN</th>\n",
       "      <th>FB</th>\n",
       "      <th>GOOG</th>\n",
       "      <th>NFLX</th>\n",
       "    </tr>\n",
       "    <tr>\n",
       "      <th>Dt</th>\n",
       "      <th></th>\n",
       "      <th></th>\n",
       "      <th></th>\n",
       "      <th></th>\n",
       "      <th></th>\n",
       "      <th></th>\n",
       "      <th></th>\n",
       "      <th></th>\n",
       "      <th></th>\n",
       "      <th></th>\n",
       "      <th></th>\n",
       "      <th></th>\n",
       "      <th></th>\n",
       "      <th></th>\n",
       "      <th></th>\n",
       "    </tr>\n",
       "  </thead>\n",
       "  <tbody>\n",
       "    <tr>\n",
       "      <th>2018-05-01</th>\n",
       "      <td>-0.023236</td>\n",
       "      <td>0.0</td>\n",
       "      <td>0.0</td>\n",
       "      <td>0.0</td>\n",
       "      <td>0.002688</td>\n",
       "      <td>-0.020548</td>\n",
       "      <td>-0.023236</td>\n",
       "      <td>0.002688</td>\n",
       "      <td>-0.020548</td>\n",
       "      <td>NaN</td>\n",
       "      <td>-1</td>\n",
       "      <td>0</td>\n",
       "      <td>0</td>\n",
       "      <td>0</td>\n",
       "      <td>1</td>\n",
       "    </tr>\n",
       "    <tr>\n",
       "      <th>2018-05-02</th>\n",
       "      <td>-0.044175</td>\n",
       "      <td>-0.0</td>\n",
       "      <td>0.0</td>\n",
       "      <td>-0.0</td>\n",
       "      <td>0.000192</td>\n",
       "      <td>-0.043984</td>\n",
       "      <td>-0.044175</td>\n",
       "      <td>0.000192</td>\n",
       "      <td>-0.043984</td>\n",
       "      <td>NaN</td>\n",
       "      <td>-1</td>\n",
       "      <td>0</td>\n",
       "      <td>0</td>\n",
       "      <td>0</td>\n",
       "      <td>1</td>\n",
       "    </tr>\n",
       "    <tr>\n",
       "      <th>2018-05-03</th>\n",
       "      <td>-0.001812</td>\n",
       "      <td>0.0</td>\n",
       "      <td>-0.0</td>\n",
       "      <td>-0.0</td>\n",
       "      <td>-0.005329</td>\n",
       "      <td>-0.007142</td>\n",
       "      <td>-0.001812</td>\n",
       "      <td>-0.005329</td>\n",
       "      <td>-0.007142</td>\n",
       "      <td>NaN</td>\n",
       "      <td>-1</td>\n",
       "      <td>0</td>\n",
       "      <td>0</td>\n",
       "      <td>0</td>\n",
       "      <td>1</td>\n",
       "    </tr>\n",
       "    <tr>\n",
       "      <th>2018-05-04</th>\n",
       "      <td>-0.039233</td>\n",
       "      <td>0.0</td>\n",
       "      <td>0.0</td>\n",
       "      <td>0.0</td>\n",
       "      <td>0.026950</td>\n",
       "      <td>-0.012284</td>\n",
       "      <td>-0.039233</td>\n",
       "      <td>0.026950</td>\n",
       "      <td>-0.012284</td>\n",
       "      <td>NaN</td>\n",
       "      <td>-1</td>\n",
       "      <td>0</td>\n",
       "      <td>0</td>\n",
       "      <td>0</td>\n",
       "      <td>1</td>\n",
       "    </tr>\n",
       "    <tr>\n",
       "      <th>2018-05-07</th>\n",
       "      <td>-0.007235</td>\n",
       "      <td>0.0</td>\n",
       "      <td>0.0</td>\n",
       "      <td>0.0</td>\n",
       "      <td>0.019276</td>\n",
       "      <td>0.012041</td>\n",
       "      <td>-0.007235</td>\n",
       "      <td>0.019276</td>\n",
       "      <td>0.012041</td>\n",
       "      <td>NaN</td>\n",
       "      <td>-1</td>\n",
       "      <td>0</td>\n",
       "      <td>0</td>\n",
       "      <td>0</td>\n",
       "      <td>1</td>\n",
       "    </tr>\n",
       "  </tbody>\n",
       "</table>\n",
       "</div>"
      ],
      "text/plain": [
       "                 Pct                                                         \\\n",
       "                AAPL AMZN   FB GOOG      NFLX      Port  Port < 0  Port > 0   \n",
       "Dt                                                                            \n",
       "2018-05-01 -0.023236  0.0  0.0  0.0  0.002688 -0.020548 -0.023236  0.002688   \n",
       "2018-05-02 -0.044175 -0.0  0.0 -0.0  0.000192 -0.043984 -0.044175  0.000192   \n",
       "2018-05-03 -0.001812  0.0 -0.0 -0.0 -0.005329 -0.007142 -0.001812 -0.005329   \n",
       "2018-05-04 -0.039233  0.0  0.0  0.0  0.026950 -0.012284 -0.039233  0.026950   \n",
       "2018-05-07 -0.007235  0.0  0.0  0.0  0.019276  0.012041 -0.007235  0.019276   \n",
       "\n",
       "                         weight                    \n",
       "            Port net SPY   AAPL AMZN FB GOOG NFLX  \n",
       "Dt                                                 \n",
       "2018-05-01 -0.020548 NaN     -1    0  0    0    1  \n",
       "2018-05-02 -0.043984 NaN     -1    0  0    0    1  \n",
       "2018-05-03 -0.007142 NaN     -1    0  0    0    1  \n",
       "2018-05-04 -0.012284 NaN     -1    0  0    0    1  \n",
       "2018-05-07  0.012041 NaN     -1    0  0    0    1  "
      ]
     },
     "execution_count": 19,
     "metadata": {},
     "output_type": "execute_result"
    }
   ],
   "source": [
    "factor_df.tail()"
   ]
  },
  {
   "cell_type": "markdown",
   "metadata": {},
   "source": [
    "## Create residuals"
   ]
  },
  {
   "cell_type": "markdown",
   "metadata": {},
   "source": [
    "### Create DataFrame for residual computation"
   ]
  },
  {
   "cell_type": "code",
   "execution_count": 20,
   "metadata": {
    "collapsed": false
   },
   "outputs": [],
   "source": [
    "resid_input_df =pd.concat( [ factor_df.loc[:, idx[ret_attr, \"Port net\"]],\n",
    "    v.daily_ret_df.loc[:, idx[ret_attr,\"SPY\"]]\n",
    "           ], axis=1\n",
    "         )"
   ]
  },
  {
   "cell_type": "code",
   "execution_count": 21,
   "metadata": {
    "collapsed": false
   },
   "outputs": [],
   "source": [
    "%aimport trans.stacked.residual\n",
    "from trans.stacked.residual import Residual\n",
    "\n",
    "(resStart, resEnd) = (resid_input_df.index.min(), resid_input_df.index.max())\n",
    "regWindow = rd.relativedelta(months=+2)\n",
    "regStep   = rd.relativedelta(weeks=+4)"
   ]
  },
  {
   "cell_type": "code",
   "execution_count": 22,
   "metadata": {
    "collapsed": false
   },
   "outputs": [
    {
     "data": {
      "text/plain": [
       "'Pct'"
      ]
     },
     "execution_count": 22,
     "metadata": {},
     "output_type": "execute_result"
    }
   ],
   "source": [
    "ret_attr"
   ]
  },
  {
   "cell_type": "code",
   "execution_count": 23,
   "metadata": {
    "collapsed": true
   },
   "outputs": [],
   "source": [
    "%aimport trans.reg"
   ]
  },
  {
   "cell_type": "code",
   "execution_count": 24,
   "metadata": {
    "collapsed": false
   },
   "outputs": [
    {
     "name": "stdout",
     "output_type": "stream",
     "text": [
      "DEPRECATED: <class 'trans.stacked.residual.Residual'>:__init__ called w/o \"attr\" arg., defaulting to Pct.\n",
      "nextChunk for period 2018-03-01 00:00:00 to 2018-04-30 00:00:00 shape: (42, 2)\n",
      "repeated: chunk label 2018-04-30 00:00:00 with shape (42, 2)\n"
     ]
    },
    {
     "name": "stderr",
     "output_type": "stream",
     "text": [
      "/home/ubuntu/Notebooks/trans/reg.py:217: FutureWarning: sortlevel is deprecated, use sort_index(level= ...)\n",
      "  df_big.sortlevel(axis=0, inplace=True)\n"
     ]
    },
    {
     "name": "stdout",
     "output_type": "stream",
     "text": [
      "IndCols: [('Pct', 'SPY')], depCol ('Pct', 'Port net'), cols [('Pct', 'SPY'), ('Pct', 'Port net')]\n",
      "rps beta_df:                Beta 0    Beta 1\n",
      "            Port net  Port net\n",
      "Dt                            \n",
      "2018-04-30  0.004172  0.841868\n",
      "rps retAttr_df:             Contrib from 1 Contrib from SPY     Error Predicted\n",
      "                 Port net         Port net  Port net  Port net\n",
      "Dt                                                            \n",
      "2018-04-24       0.004172        -0.011338 -0.015533 -0.007166\n",
      "2018-04-25       0.004172         0.002081 -0.014714  0.006252\n",
      "2018-04-26       0.004172         0.008558  0.010671  0.012730\n",
      "2018-04-27       0.004172         0.000790 -0.000462  0.004962\n",
      "2018-04-30       0.004172        -0.006474 -0.013564 -0.002303\n",
      "nextChunk for period 2018-02-03 00:00:00 to 2018-04-02 00:00:00 shape: (39, 2)\n",
      "repeated: chunk label 2018-04-02 00:00:00 with shape (39, 2)\n",
      "IndCols: [('Pct', 'SPY')], depCol ('Pct', 'Port net'), cols [('Pct', 'SPY'), ('Pct', 'Port net')]\n",
      "rps beta_df:               Beta 0    Beta 1\n",
      "           Port net  Port net\n",
      "Dt                           \n",
      "2018-04-02  0.00422  0.559495\n",
      "rps retAttr_df:             Contrib from 1 Contrib from SPY     Error Predicted\n",
      "                 Port net         Port net  Port net  Port net\n",
      "Dt                                                            \n",
      "2018-03-26        0.00422         0.015307 -0.002502  0.019528\n",
      "2018-03-27        0.00422        -0.009518 -0.030432 -0.005298\n",
      "2018-03-28        0.00422        -0.001653 -0.041137  0.002567\n",
      "2018-03-29        0.00422         0.007149  0.014345  0.011369\n",
      "2018-04-02        0.00422        -0.012077 -0.036578 -0.007856\n",
      "nextChunk for period 2018-01-06 00:00:00 to 2018-03-05 00:00:00 shape: (39, 2)\n",
      "repeated: chunk label 2018-03-05 00:00:00 with shape (39, 2)\n",
      "IndCols: [('Pct', 'SPY')], depCol ('Pct', 'Port net'), cols [('Pct', 'SPY'), ('Pct', 'Port net')]\n",
      "Fit: the following columns have naN:  ['Port net']\n",
      "rps beta_df:               Beta 0   Beta 1\n",
      "           Port net Port net\n",
      "Dt                          \n",
      "2018-03-05      NaN      NaN\n",
      "rps retAttr_df:             Contrib from 1 Contrib from SPY    Error Predicted\n",
      "                 Port net         Port net Port net  Port net\n",
      "Dt                                                           \n",
      "2018-02-27            NaN              NaN      NaN       NaN\n",
      "2018-02-28            NaN              NaN      NaN       NaN\n",
      "2018-03-01            NaN              NaN      NaN       NaN\n",
      "2018-03-02            NaN              NaN      NaN       NaN\n",
      "2018-03-05            NaN              NaN      NaN       NaN\n",
      "done: need to override\n"
     ]
    },
    {
     "name": "stderr",
     "output_type": "stream",
     "text": [
      "/home/ubuntu/Notebooks/trans/reg.py:218: FutureWarning: sortlevel is deprecated, use sort_index(level= ...)\n",
      "  df_big.sortlevel(axis=1, inplace=True)\n",
      "/home/ubuntu/Notebooks/trans/gtrans.py:902: FutureWarning: sortlevel is deprecated, use sort_index(level= ...)\n",
      "  concatted.sortlevel(axis=0, inplace=True)\n",
      "/home/ubuntu/Notebooks/trans/gtrans.py:903: FutureWarning: sortlevel is deprecated, use sort_index(level= ...)\n",
      "  concatted.sortlevel(axis=1, inplace=True)\n",
      "/home/ubuntu/Notebooks/trans/gtrans.py:902: FutureWarning: sortlevel is deprecated, use sort_index(level= ...)\n",
      "  concatted.sortlevel(axis=0, inplace=True)\n",
      "/home/ubuntu/Notebooks/trans/gtrans.py:903: FutureWarning: sortlevel is deprecated, use sort_index(level= ...)\n",
      "  concatted.sortlevel(axis=1, inplace=True)\n",
      "/home/ubuntu/Notebooks/trans/reg.py:217: FutureWarning: sortlevel is deprecated, use sort_index(level= ...)\n",
      "  df_big.sortlevel(axis=0, inplace=True)\n",
      "/home/ubuntu/Notebooks/trans/reg.py:218: FutureWarning: sortlevel is deprecated, use sort_index(level= ...)\n",
      "  df_big.sortlevel(axis=1, inplace=True)\n",
      "/home/ubuntu/Notebooks/trans/gtrans.py:902: FutureWarning: sortlevel is deprecated, use sort_index(level= ...)\n",
      "  concatted.sortlevel(axis=0, inplace=True)\n",
      "/home/ubuntu/Notebooks/trans/gtrans.py:903: FutureWarning: sortlevel is deprecated, use sort_index(level= ...)\n",
      "  concatted.sortlevel(axis=1, inplace=True)\n",
      "/home/ubuntu/Notebooks/trans/reg.py:217: FutureWarning: sortlevel is deprecated, use sort_index(level= ...)\n",
      "  df_big.sortlevel(axis=0, inplace=True)\n",
      "/home/ubuntu/Notebooks/trans/reg.py:218: FutureWarning: sortlevel is deprecated, use sort_index(level= ...)\n",
      "  df_big.sortlevel(axis=1, inplace=True)\n",
      "/home/ubuntu/Notebooks/trans/gtrans.py:902: FutureWarning: sortlevel is deprecated, use sort_index(level= ...)\n",
      "  concatted.sortlevel(axis=0, inplace=True)\n",
      "/home/ubuntu/Notebooks/trans/gtrans.py:903: FutureWarning: sortlevel is deprecated, use sort_index(level= ...)\n",
      "  concatted.sortlevel(axis=1, inplace=True)\n"
     ]
    }
   ],
   "source": [
    "rstack = Residual(indCols=[ idx[ret_attr, \"SPY\"] ], debug=True)\n",
    "rstack.init(df=resid_input_df, start=resStart, end=v.endDates[-1], window=regWindow, step=regStep)\n",
    "resid_stack = rstack.repeated()\n",
    "rstack.done()"
   ]
  },
  {
   "cell_type": "code",
   "execution_count": 25,
   "metadata": {
    "collapsed": false
   },
   "outputs": [
    {
     "data": {
      "text/plain": [
       "MultiIndex(levels=[['Contrib from 1', 'Contrib from SPY', 'Error', 'Predicted'], ['Port net']],\n",
       "           labels=[[2], [0]])"
      ]
     },
     "execution_count": 25,
     "metadata": {},
     "output_type": "execute_result"
    },
    {
     "name": "stdout",
     "output_type": "stream",
     "text": [
      "2018-04-30 00:00:00: from 2018-03-01 00:00:00 to 2018-04-30 00:00:00\n",
      "2018-04-02 00:00:00: from 2018-02-05 00:00:00 to 2018-04-02 00:00:00\n",
      "2018-03-05 00:00:00: from 2018-01-08 00:00:00 to 2018-03-05 00:00:00\n"
     ]
    }
   ],
   "source": [
    "(l, resid_last_df) = resid_stack[0]\n",
    "resid_last_df.columns \n",
    "\n",
    "for r in resid_stack:\n",
    "    (label, df) = r\n",
    "    print(\"{l}: from {s} to {e}\".format(l=label, s=df.index.min(), e=df.index.max()))"
   ]
  },
  {
   "cell_type": "markdown",
   "metadata": {},
   "source": [
    "## Find the sensitivity of selected names"
   ]
  },
  {
   "cell_type": "code",
   "execution_count": 26,
   "metadata": {
    "collapsed": true
   },
   "outputs": [],
   "source": [
    "names = [ \"BA\", \"PAGS\", \"CTXS\", \"TSLA\", \"NFLX\"< \"MSFT\", \"EA\" ]"
   ]
  },
  {
   "cell_type": "markdown",
   "metadata": {},
   "source": [
    "## Get returns"
   ]
  },
  {
   "cell_type": "code",
   "execution_count": 27,
   "metadata": {
    "collapsed": false
   },
   "outputs": [
    {
     "name": "stdout",
     "output_type": "stream",
     "text": [
      "dataProvider passed\n",
      "PANDA version > 0.20.0\n",
      "PANDA version > 0.20.0\n"
     ]
    },
    {
     "name": "stderr",
     "output_type": "stream",
     "text": [
      "/home/ubuntu/Notebooks/trans/gtrans.py:902: FutureWarning: sortlevel is deprecated, use sort_index(level= ...)\n",
      "  concatted.sortlevel(axis=0, inplace=True)\n",
      "/home/ubuntu/Notebooks/trans/gtrans.py:903: FutureWarning: sortlevel is deprecated, use sort_index(level= ...)\n",
      "  concatted.sortlevel(axis=1, inplace=True)\n"
     ]
    }
   ],
   "source": [
    "from trans.gtrans import *\n",
    "# Get the data for the tickers in self.universe\n",
    "price_df = GetDataProviderTransformer(names, cal_ticker=\"SPY\", dataProvider=odr).fit_transform( pd.DataFrame())\n",
    "\n",
    "# Limit the output to date range from start to end\n",
    "price_df = price_df.loc[ start:, ]\n",
    "        \n",
    "price_df = price_df.loc[ :end, ]\n",
    "price_attr = \"Adj Close\"\n",
    "price_shifted_attr = price_attr + \" prior\"\n",
    "\n",
    "daily_ret_pl = GenRetAttrTransformer( price_attr, price_shifted_attr, ret_attr, 1 )\n",
    "daily_ret_df = daily_ret_pl.fit_transform( price_df )"
   ]
  },
  {
   "cell_type": "markdown",
   "metadata": {},
   "source": [
    "## Compute betas wrt vol factor"
   ]
  },
  {
   "cell_type": "code",
   "execution_count": 28,
   "metadata": {
    "collapsed": false
   },
   "outputs": [
    {
     "data": {
      "text/html": [
       "<div>\n",
       "<style scoped>\n",
       "    .dataframe tbody tr th:only-of-type {\n",
       "        vertical-align: middle;\n",
       "    }\n",
       "\n",
       "    .dataframe tbody tr th {\n",
       "        vertical-align: top;\n",
       "    }\n",
       "\n",
       "    .dataframe thead tr th {\n",
       "        text-align: left;\n",
       "    }\n",
       "\n",
       "    .dataframe thead tr:last-of-type th {\n",
       "        text-align: right;\n",
       "    }\n",
       "</style>\n",
       "<table border=\"1\" class=\"dataframe\">\n",
       "  <thead>\n",
       "    <tr>\n",
       "      <th></th>\n",
       "      <th>Error</th>\n",
       "    </tr>\n",
       "    <tr>\n",
       "      <th></th>\n",
       "      <th>Port net</th>\n",
       "    </tr>\n",
       "    <tr>\n",
       "      <th>Dt</th>\n",
       "      <th></th>\n",
       "    </tr>\n",
       "  </thead>\n",
       "  <tbody>\n",
       "    <tr>\n",
       "      <th>2018-04-24</th>\n",
       "      <td>-0.015533</td>\n",
       "    </tr>\n",
       "    <tr>\n",
       "      <th>2018-04-25</th>\n",
       "      <td>-0.014714</td>\n",
       "    </tr>\n",
       "    <tr>\n",
       "      <th>2018-04-26</th>\n",
       "      <td>0.010671</td>\n",
       "    </tr>\n",
       "    <tr>\n",
       "      <th>2018-04-27</th>\n",
       "      <td>-0.000462</td>\n",
       "    </tr>\n",
       "    <tr>\n",
       "      <th>2018-04-30</th>\n",
       "      <td>-0.013564</td>\n",
       "    </tr>\n",
       "  </tbody>\n",
       "</table>\n",
       "</div>"
      ],
      "text/plain": [
       "               Error\n",
       "            Port net\n",
       "Dt                  \n",
       "2018-04-24 -0.015533\n",
       "2018-04-25 -0.014714\n",
       "2018-04-26  0.010671\n",
       "2018-04-27 -0.000462\n",
       "2018-04-30 -0.013564"
      ]
     },
     "execution_count": 28,
     "metadata": {},
     "output_type": "execute_result"
    },
    {
     "data": {
      "text/html": [
       "<div>\n",
       "<style scoped>\n",
       "    .dataframe tbody tr th:only-of-type {\n",
       "        vertical-align: middle;\n",
       "    }\n",
       "\n",
       "    .dataframe tbody tr th {\n",
       "        vertical-align: top;\n",
       "    }\n",
       "\n",
       "    .dataframe thead tr th {\n",
       "        text-align: left;\n",
       "    }\n",
       "\n",
       "    .dataframe thead tr:last-of-type th {\n",
       "        text-align: right;\n",
       "    }\n",
       "</style>\n",
       "<table border=\"1\" class=\"dataframe\">\n",
       "  <thead>\n",
       "    <tr>\n",
       "      <th></th>\n",
       "      <th>Pct</th>\n",
       "    </tr>\n",
       "    <tr>\n",
       "      <th></th>\n",
       "      <th>Volat factor</th>\n",
       "    </tr>\n",
       "    <tr>\n",
       "      <th>Dt</th>\n",
       "      <th></th>\n",
       "    </tr>\n",
       "  </thead>\n",
       "  <tbody>\n",
       "    <tr>\n",
       "      <th>2018-04-24</th>\n",
       "      <td>-0.015533</td>\n",
       "    </tr>\n",
       "    <tr>\n",
       "      <th>2018-04-25</th>\n",
       "      <td>-0.014714</td>\n",
       "    </tr>\n",
       "    <tr>\n",
       "      <th>2018-04-26</th>\n",
       "      <td>0.010671</td>\n",
       "    </tr>\n",
       "    <tr>\n",
       "      <th>2018-04-27</th>\n",
       "      <td>-0.000462</td>\n",
       "    </tr>\n",
       "    <tr>\n",
       "      <th>2018-04-30</th>\n",
       "      <td>-0.013564</td>\n",
       "    </tr>\n",
       "  </tbody>\n",
       "</table>\n",
       "</div>"
      ],
      "text/plain": [
       "                    Pct\n",
       "           Volat factor\n",
       "Dt                     \n",
       "2018-04-24    -0.015533\n",
       "2018-04-25    -0.014714\n",
       "2018-04-26     0.010671\n",
       "2018-04-27    -0.000462\n",
       "2018-04-30    -0.013564"
      ]
     },
     "execution_count": 28,
     "metadata": {},
     "output_type": "execute_result"
    }
   ],
   "source": [
    "volat_resid_df = resid_last_df.loc[:, idx[\"Error\",:]]\n",
    "volat_resid_df.tail()\n",
    "lev0 =  volat_resid_df.columns.levels[0].tolist()\n",
    "lev0[ lev0.index(\"Error\")] = ret_attr\n",
    "\n",
    "volat_resid_df.columns.set_levels([\"Volat factor\"], level=1, inplace=True)\n",
    "volat_resid_df.columns.set_levels(lev0, level=0, inplace=True)\n",
    "\n",
    "volat_resid_df.tail()"
   ]
  },
  {
   "cell_type": "code",
   "execution_count": 29,
   "metadata": {
    "collapsed": false
   },
   "outputs": [
    {
     "name": "stderr",
     "output_type": "stream",
     "text": [
      "/home/ubuntu/Notebooks/trans/gtrans.py:902: FutureWarning: sortlevel is deprecated, use sort_index(level= ...)\n",
      "  concatted.sortlevel(axis=0, inplace=True)\n",
      "/home/ubuntu/Notebooks/trans/gtrans.py:903: FutureWarning: sortlevel is deprecated, use sort_index(level= ...)\n",
      "  concatted.sortlevel(axis=1, inplace=True)\n"
     ]
    }
   ],
   "source": [
    "reg_input_df = DataFrameConcat( [ daily_ret_df.loc[:, idx[ret_attr,:]], volat_resid_df] ).fit_transform(pd.DataFrame())"
   ]
  },
  {
   "cell_type": "code",
   "execution_count": 30,
   "metadata": {
    "collapsed": false
   },
   "outputs": [
    {
     "data": {
      "text/plain": [
       "MultiIndex(levels=[['Pct'], ['BA', 'CTXS', 'EA', 'SPY', 'TSLA', 'Volat factor']],\n",
       "           labels=[[0, 0, 0, 0, 0, 0], [0, 1, 2, 3, 4, 5]],\n",
       "           names=[None, 'Ticker'])"
      ]
     },
     "execution_count": 30,
     "metadata": {},
     "output_type": "execute_result"
    },
    {
     "data": {
      "text/html": [
       "<div>\n",
       "<style scoped>\n",
       "    .dataframe tbody tr th:only-of-type {\n",
       "        vertical-align: middle;\n",
       "    }\n",
       "\n",
       "    .dataframe tbody tr th {\n",
       "        vertical-align: top;\n",
       "    }\n",
       "\n",
       "    .dataframe thead tr th {\n",
       "        text-align: left;\n",
       "    }\n",
       "\n",
       "    .dataframe thead tr:last-of-type th {\n",
       "        text-align: right;\n",
       "    }\n",
       "</style>\n",
       "<table border=\"1\" class=\"dataframe\">\n",
       "  <thead>\n",
       "    <tr>\n",
       "      <th></th>\n",
       "      <th colspan=\"6\" halign=\"left\">Pct</th>\n",
       "    </tr>\n",
       "    <tr>\n",
       "      <th>Ticker</th>\n",
       "      <th>BA</th>\n",
       "      <th>CTXS</th>\n",
       "      <th>EA</th>\n",
       "      <th>SPY</th>\n",
       "      <th>TSLA</th>\n",
       "      <th>Volat factor</th>\n",
       "    </tr>\n",
       "    <tr>\n",
       "      <th>Dt</th>\n",
       "      <th></th>\n",
       "      <th></th>\n",
       "      <th></th>\n",
       "      <th></th>\n",
       "      <th></th>\n",
       "      <th></th>\n",
       "    </tr>\n",
       "  </thead>\n",
       "  <tbody>\n",
       "    <tr>\n",
       "      <th>2018-04-02</th>\n",
       "      <td>-0.016591</td>\n",
       "      <td>-0.015841</td>\n",
       "      <td>-0.020785</td>\n",
       "      <td>-0.021585</td>\n",
       "      <td>-0.051291</td>\n",
       "      <td>-0.030434</td>\n",
       "    </tr>\n",
       "    <tr>\n",
       "      <th>2018-04-03</th>\n",
       "      <td>0.025989</td>\n",
       "      <td>0.005913</td>\n",
       "      <td>0.006654</td>\n",
       "      <td>0.012817</td>\n",
       "      <td>0.059609</td>\n",
       "      <td>-0.013162</td>\n",
       "    </tr>\n",
       "    <tr>\n",
       "      <th>2018-04-04</th>\n",
       "      <td>-0.010217</td>\n",
       "      <td>0.008926</td>\n",
       "      <td>0.005021</td>\n",
       "      <td>0.010699</td>\n",
       "      <td>0.072553</td>\n",
       "      <td>-0.013723</td>\n",
       "    </tr>\n",
       "    <tr>\n",
       "      <th>2018-04-05</th>\n",
       "      <td>0.027364</td>\n",
       "      <td>0.000216</td>\n",
       "      <td>0.009325</td>\n",
       "      <td>0.007892</td>\n",
       "      <td>0.065449</td>\n",
       "      <td>-0.000341</td>\n",
       "    </tr>\n",
       "    <tr>\n",
       "      <th>2018-04-06</th>\n",
       "      <td>-0.030559</td>\n",
       "      <td>-0.010031</td>\n",
       "      <td>-0.023674</td>\n",
       "      <td>-0.022286</td>\n",
       "      <td>-0.021000</td>\n",
       "      <td>0.022752</td>\n",
       "    </tr>\n",
       "    <tr>\n",
       "      <th>2018-04-09</th>\n",
       "      <td>-0.011162</td>\n",
       "      <td>0.005230</td>\n",
       "      <td>0.004224</td>\n",
       "      <td>0.004928</td>\n",
       "      <td>-0.032208</td>\n",
       "      <td>-0.014500</td>\n",
       "    </tr>\n",
       "    <tr>\n",
       "      <th>2018-04-10</th>\n",
       "      <td>0.038297</td>\n",
       "      <td>0.012356</td>\n",
       "      <td>0.015565</td>\n",
       "      <td>0.015900</td>\n",
       "      <td>0.051923</td>\n",
       "      <td>-0.008300</td>\n",
       "    </tr>\n",
       "    <tr>\n",
       "      <th>2018-04-11</th>\n",
       "      <td>-0.022310</td>\n",
       "      <td>0.002463</td>\n",
       "      <td>-0.015989</td>\n",
       "      <td>-0.005242</td>\n",
       "      <td>-0.012373</td>\n",
       "      <td>0.023705</td>\n",
       "    </tr>\n",
       "    <tr>\n",
       "      <th>2018-04-12</th>\n",
       "      <td>0.030914</td>\n",
       "      <td>0.009826</td>\n",
       "      <td>0.019448</td>\n",
       "      <td>0.008227</td>\n",
       "      <td>-0.022763</td>\n",
       "      <td>-0.002581</td>\n",
       "    </tr>\n",
       "    <tr>\n",
       "      <th>2018-04-13</th>\n",
       "      <td>-0.024298</td>\n",
       "      <td>0.003702</td>\n",
       "      <td>-0.004625</td>\n",
       "      <td>-0.002933</td>\n",
       "      <td>0.021287</td>\n",
       "      <td>0.002670</td>\n",
       "    </tr>\n",
       "    <tr>\n",
       "      <th>2018-04-16</th>\n",
       "      <td>0.007562</td>\n",
       "      <td>0.011275</td>\n",
       "      <td>0.013773</td>\n",
       "      <td>0.008222</td>\n",
       "      <td>-0.030399</td>\n",
       "      <td>-0.029749</td>\n",
       "    </tr>\n",
       "    <tr>\n",
       "      <th>2018-04-17</th>\n",
       "      <td>0.014920</td>\n",
       "      <td>0.016151</td>\n",
       "      <td>0.017350</td>\n",
       "      <td>0.010698</td>\n",
       "      <td>-0.012087</td>\n",
       "      <td>0.064942</td>\n",
       "    </tr>\n",
       "    <tr>\n",
       "      <th>2018-04-18</th>\n",
       "      <td>0.012711</td>\n",
       "      <td>0.007178</td>\n",
       "      <td>0.004988</td>\n",
       "      <td>0.000740</td>\n",
       "      <td>0.019674</td>\n",
       "      <td>-0.007133</td>\n",
       "    </tr>\n",
       "    <tr>\n",
       "      <th>2018-04-19</th>\n",
       "      <td>-0.001056</td>\n",
       "      <td>-0.010181</td>\n",
       "      <td>-0.014568</td>\n",
       "      <td>-0.005548</td>\n",
       "      <td>0.022942</td>\n",
       "      <td>0.023398</td>\n",
       "    </tr>\n",
       "    <tr>\n",
       "      <th>2018-04-20</th>\n",
       "      <td>-0.005783</td>\n",
       "      <td>-0.006686</td>\n",
       "      <td>-0.018033</td>\n",
       "      <td>-0.008479</td>\n",
       "      <td>-0.032791</td>\n",
       "      <td>0.029121</td>\n",
       "    </tr>\n",
       "    <tr>\n",
       "      <th>2018-04-23</th>\n",
       "      <td>0.000502</td>\n",
       "      <td>0.004763</td>\n",
       "      <td>-0.010671</td>\n",
       "      <td>-0.000150</td>\n",
       "      <td>-0.023670</td>\n",
       "      <td>-0.028851</td>\n",
       "    </tr>\n",
       "    <tr>\n",
       "      <th>2018-04-24</th>\n",
       "      <td>-0.028863</td>\n",
       "      <td>-0.004432</td>\n",
       "      <td>-0.008445</td>\n",
       "      <td>-0.013467</td>\n",
       "      <td>0.000318</td>\n",
       "      <td>-0.015533</td>\n",
       "    </tr>\n",
       "    <tr>\n",
       "      <th>2018-04-25</th>\n",
       "      <td>0.041938</td>\n",
       "      <td>-0.000207</td>\n",
       "      <td>-0.016106</td>\n",
       "      <td>0.002472</td>\n",
       "      <td>-0.009772</td>\n",
       "      <td>-0.014714</td>\n",
       "    </tr>\n",
       "    <tr>\n",
       "      <th>2018-04-26</th>\n",
       "      <td>-0.000204</td>\n",
       "      <td>0.047525</td>\n",
       "      <td>0.025026</td>\n",
       "      <td>0.010166</td>\n",
       "      <td>0.017065</td>\n",
       "      <td>0.010671</td>\n",
       "    </tr>\n",
       "    <tr>\n",
       "      <th>2018-04-27</th>\n",
       "      <td>-0.005572</td>\n",
       "      <td>0.020757</td>\n",
       "      <td>-0.017809</td>\n",
       "      <td>0.000939</td>\n",
       "      <td>0.030107</td>\n",
       "      <td>-0.000462</td>\n",
       "    </tr>\n",
       "    <tr>\n",
       "      <th>2018-04-30</th>\n",
       "      <td>-0.021474</td>\n",
       "      <td>-0.003486</td>\n",
       "      <td>0.004342</td>\n",
       "      <td>-0.007691</td>\n",
       "      <td>-0.000595</td>\n",
       "      <td>-0.013564</td>\n",
       "    </tr>\n",
       "    <tr>\n",
       "      <th>2018-05-01</th>\n",
       "      <td>-0.012052</td>\n",
       "      <td>0.017491</td>\n",
       "      <td>0.015681</td>\n",
       "      <td>0.001777</td>\n",
       "      <td>0.020483</td>\n",
       "      <td>NaN</td>\n",
       "    </tr>\n",
       "    <tr>\n",
       "      <th>2018-05-02</th>\n",
       "      <td>-0.016235</td>\n",
       "      <td>-0.002865</td>\n",
       "      <td>-0.007427</td>\n",
       "      <td>-0.006717</td>\n",
       "      <td>0.004101</td>\n",
       "      <td>NaN</td>\n",
       "    </tr>\n",
       "    <tr>\n",
       "      <th>2018-05-03</th>\n",
       "      <td>0.020050</td>\n",
       "      <td>0.003831</td>\n",
       "      <td>0.010341</td>\n",
       "      <td>-0.002204</td>\n",
       "      <td>-0.055454</td>\n",
       "      <td>NaN</td>\n",
       "    </tr>\n",
       "    <tr>\n",
       "      <th>2018-05-04</th>\n",
       "      <td>0.011310</td>\n",
       "      <td>0.004007</td>\n",
       "      <td>0.028876</td>\n",
       "      <td>0.012946</td>\n",
       "      <td>0.033890</td>\n",
       "      <td>NaN</td>\n",
       "    </tr>\n",
       "    <tr>\n",
       "      <th>2018-05-07</th>\n",
       "      <td>0.017941</td>\n",
       "      <td>0.012829</td>\n",
       "      <td>0.002265</td>\n",
       "      <td>0.003383</td>\n",
       "      <td>0.029515</td>\n",
       "      <td>NaN</td>\n",
       "    </tr>\n",
       "  </tbody>\n",
       "</table>\n",
       "</div>"
      ],
      "text/plain": [
       "                 Pct                                                     \n",
       "Ticker            BA      CTXS        EA       SPY      TSLA Volat factor\n",
       "Dt                                                                       \n",
       "2018-04-02 -0.016591 -0.015841 -0.020785 -0.021585 -0.051291    -0.030434\n",
       "2018-04-03  0.025989  0.005913  0.006654  0.012817  0.059609    -0.013162\n",
       "2018-04-04 -0.010217  0.008926  0.005021  0.010699  0.072553    -0.013723\n",
       "2018-04-05  0.027364  0.000216  0.009325  0.007892  0.065449    -0.000341\n",
       "2018-04-06 -0.030559 -0.010031 -0.023674 -0.022286 -0.021000     0.022752\n",
       "2018-04-09 -0.011162  0.005230  0.004224  0.004928 -0.032208    -0.014500\n",
       "2018-04-10  0.038297  0.012356  0.015565  0.015900  0.051923    -0.008300\n",
       "2018-04-11 -0.022310  0.002463 -0.015989 -0.005242 -0.012373     0.023705\n",
       "2018-04-12  0.030914  0.009826  0.019448  0.008227 -0.022763    -0.002581\n",
       "2018-04-13 -0.024298  0.003702 -0.004625 -0.002933  0.021287     0.002670\n",
       "2018-04-16  0.007562  0.011275  0.013773  0.008222 -0.030399    -0.029749\n",
       "2018-04-17  0.014920  0.016151  0.017350  0.010698 -0.012087     0.064942\n",
       "2018-04-18  0.012711  0.007178  0.004988  0.000740  0.019674    -0.007133\n",
       "2018-04-19 -0.001056 -0.010181 -0.014568 -0.005548  0.022942     0.023398\n",
       "2018-04-20 -0.005783 -0.006686 -0.018033 -0.008479 -0.032791     0.029121\n",
       "2018-04-23  0.000502  0.004763 -0.010671 -0.000150 -0.023670    -0.028851\n",
       "2018-04-24 -0.028863 -0.004432 -0.008445 -0.013467  0.000318    -0.015533\n",
       "2018-04-25  0.041938 -0.000207 -0.016106  0.002472 -0.009772    -0.014714\n",
       "2018-04-26 -0.000204  0.047525  0.025026  0.010166  0.017065     0.010671\n",
       "2018-04-27 -0.005572  0.020757 -0.017809  0.000939  0.030107    -0.000462\n",
       "2018-04-30 -0.021474 -0.003486  0.004342 -0.007691 -0.000595    -0.013564\n",
       "2018-05-01 -0.012052  0.017491  0.015681  0.001777  0.020483          NaN\n",
       "2018-05-02 -0.016235 -0.002865 -0.007427 -0.006717  0.004101          NaN\n",
       "2018-05-03  0.020050  0.003831  0.010341 -0.002204 -0.055454          NaN\n",
       "2018-05-04  0.011310  0.004007  0.028876  0.012946  0.033890          NaN\n",
       "2018-05-07  0.017941  0.012829  0.002265  0.003383  0.029515          NaN"
      ]
     },
     "execution_count": 30,
     "metadata": {},
     "output_type": "execute_result"
    }
   ],
   "source": [
    "reg_input_df.columns\n",
    "reg_input_df.loc[ volat_resid_df.index.max() - rd.relativedelta(months=+1):]"
   ]
  },
  {
   "cell_type": "code",
   "execution_count": 31,
   "metadata": {
    "collapsed": false
   },
   "outputs": [
    {
     "name": "stdout",
     "output_type": "stream",
     "text": [
      "DEPRECATED: <class 'trans.regpipe.RegPipe'>:__init__ called w/o \"attr\" arg., defaulting to Pct.\n",
      "IndCols: [('Pct', 'Volat factor')], depCol ('Pct', 'BA'), cols [('Pct', 'Volat factor'), ('Pct', 'BA')]\n",
      "Fit: the following columns have naN:  ['Volat factor']\n",
      "Fit: the following columns have naN:  ['Volat factor']\n",
      "IndCols: [('Pct', 'Volat factor')], depCol ('Pct', 'CTXS'), cols [('Pct', 'Volat factor'), ('Pct', 'CTXS')]\n",
      "Fit: the following columns have naN:  ['Volat factor']\n",
      "Fit: the following columns have naN:  ['Volat factor']\n",
      "IndCols: [('Pct', 'Volat factor')], depCol ('Pct', 'EA'), cols [('Pct', 'Volat factor'), ('Pct', 'EA')]\n",
      "Fit: the following columns have naN:  ['Volat factor']\n",
      "Fit: the following columns have naN:  ['Volat factor']\n",
      "IndCols: [('Pct', 'Volat factor')], depCol ('Pct', 'SPY'), cols [('Pct', 'Volat factor'), ('Pct', 'SPY')]\n",
      "Fit: the following columns have naN:  ['Volat factor']\n",
      "Fit: the following columns have naN:  ['Volat factor']\n",
      "IndCols: [('Pct', 'Volat factor')], depCol ('Pct', 'TSLA'), cols [('Pct', 'Volat factor'), ('Pct', 'TSLA')]\n",
      "Fit: the following columns have naN:  ['Volat factor']\n",
      "Fit: the following columns have naN:  ['Volat factor']\n"
     ]
    },
    {
     "name": "stderr",
     "output_type": "stream",
     "text": [
      "/home/ubuntu/Notebooks/trans/reg.py:217: FutureWarning: sortlevel is deprecated, use sort_index(level= ...)\n",
      "  df_big.sortlevel(axis=0, inplace=True)\n",
      "/home/ubuntu/Notebooks/trans/reg.py:218: FutureWarning: sortlevel is deprecated, use sort_index(level= ...)\n",
      "  df_big.sortlevel(axis=1, inplace=True)\n"
     ]
    }
   ],
   "source": [
    "from trans.regpipe import RegPipe\n",
    "rp = RegPipe( reg_input_df )\n",
    "rp.indCols( [ idx[ret_attr, \"Volat factor\"] ] )\n",
    "rp.regress( resStart, v.endDates[-1], regWindow, regStep)"
   ]
  },
  {
   "cell_type": "code",
   "execution_count": 32,
   "metadata": {
    "collapsed": false
   },
   "outputs": [
    {
     "data": {
      "text/html": [
       "<div>\n",
       "<style scoped>\n",
       "    .dataframe tbody tr th:only-of-type {\n",
       "        vertical-align: middle;\n",
       "    }\n",
       "\n",
       "    .dataframe tbody tr th {\n",
       "        vertical-align: top;\n",
       "    }\n",
       "\n",
       "    .dataframe thead tr th {\n",
       "        text-align: left;\n",
       "    }\n",
       "\n",
       "    .dataframe thead tr:last-of-type th {\n",
       "        text-align: right;\n",
       "    }\n",
       "</style>\n",
       "<table border=\"1\" class=\"dataframe\">\n",
       "  <thead>\n",
       "    <tr>\n",
       "      <th></th>\n",
       "      <th colspan=\"5\" halign=\"left\">Beta 0</th>\n",
       "      <th colspan=\"5\" halign=\"left\">Beta 1</th>\n",
       "    </tr>\n",
       "    <tr>\n",
       "      <th></th>\n",
       "      <th>BA</th>\n",
       "      <th>CTXS</th>\n",
       "      <th>EA</th>\n",
       "      <th>SPY</th>\n",
       "      <th>TSLA</th>\n",
       "      <th>BA</th>\n",
       "      <th>CTXS</th>\n",
       "      <th>EA</th>\n",
       "      <th>SPY</th>\n",
       "      <th>TSLA</th>\n",
       "    </tr>\n",
       "    <tr>\n",
       "      <th>Dt</th>\n",
       "      <th></th>\n",
       "      <th></th>\n",
       "      <th></th>\n",
       "      <th></th>\n",
       "      <th></th>\n",
       "      <th></th>\n",
       "      <th></th>\n",
       "      <th></th>\n",
       "      <th></th>\n",
       "      <th></th>\n",
       "    </tr>\n",
       "  </thead>\n",
       "  <tbody>\n",
       "    <tr>\n",
       "      <th>2018-03-05</th>\n",
       "      <td>NaN</td>\n",
       "      <td>NaN</td>\n",
       "      <td>NaN</td>\n",
       "      <td>NaN</td>\n",
       "      <td>NaN</td>\n",
       "      <td>NaN</td>\n",
       "      <td>NaN</td>\n",
       "      <td>NaN</td>\n",
       "      <td>NaN</td>\n",
       "      <td>NaN</td>\n",
       "    </tr>\n",
       "    <tr>\n",
       "      <th>2018-04-02</th>\n",
       "      <td>NaN</td>\n",
       "      <td>NaN</td>\n",
       "      <td>NaN</td>\n",
       "      <td>NaN</td>\n",
       "      <td>NaN</td>\n",
       "      <td>NaN</td>\n",
       "      <td>NaN</td>\n",
       "      <td>NaN</td>\n",
       "      <td>NaN</td>\n",
       "      <td>NaN</td>\n",
       "    </tr>\n",
       "    <tr>\n",
       "      <th>2018-04-30</th>\n",
       "      <td>-0.001736</td>\n",
       "      <td>0.002742</td>\n",
       "      <td>-0.000977</td>\n",
       "      <td>-0.000473</td>\n",
       "      <td>-0.003094</td>\n",
       "      <td>0.01709</td>\n",
       "      <td>0.051094</td>\n",
       "      <td>0.043842</td>\n",
       "      <td>-5.085472e-18</td>\n",
       "      <td>0.02248</td>\n",
       "    </tr>\n",
       "  </tbody>\n",
       "</table>\n",
       "</div>"
      ],
      "text/plain": [
       "              Beta 0                                           Beta 1  \\\n",
       "                  BA      CTXS        EA       SPY      TSLA       BA   \n",
       "Dt                                                                      \n",
       "2018-03-05       NaN       NaN       NaN       NaN       NaN      NaN   \n",
       "2018-04-02       NaN       NaN       NaN       NaN       NaN      NaN   \n",
       "2018-04-30 -0.001736  0.002742 -0.000977 -0.000473 -0.003094  0.01709   \n",
       "\n",
       "                                                       \n",
       "                CTXS        EA           SPY     TSLA  \n",
       "Dt                                                     \n",
       "2018-03-05       NaN       NaN           NaN      NaN  \n",
       "2018-04-02       NaN       NaN           NaN      NaN  \n",
       "2018-04-30  0.051094  0.043842 -5.085472e-18  0.02248  "
      ]
     },
     "execution_count": 32,
     "metadata": {},
     "output_type": "execute_result"
    }
   ],
   "source": [
    "rp.beta_df"
   ]
  },
  {
   "cell_type": "code",
   "execution_count": 33,
   "metadata": {
    "collapsed": false
   },
   "outputs": [
    {
     "name": "stdout",
     "output_type": "stream",
     "text": [
      "No data for following R1000 names: A, AA, AAL, AAP, ABBV, ABC, ABMD, ABT, ACAD, ACC, ACGL, ACHC, ACM, ACN, ADBE, ADI, ADM, ADP, ADS, ADSK, AEE, AEP, AES, AET, AFG, AFL, AFSI, AGCO, AGIO, AGN, AGNC, AGO, AGR, AHL, AIG, AIV, AIZ, AJG, AKAM, AKRX, AL, ALB, ALGN, ALK, ALKS, ALL, ALLE, ALLY, ALNY, ALR, ALSN, ALXN, AMAT, AMCX, AME, AMG, AMGN, AMH, AMP, AMSG, AMT, AMTD, AN, ANAT, ANET, ANSS, ANTM, AON, AOS, APA, APAM, APC, APD, APH, APLE, AR, ARE, ARMK, ARRS, ARW, ASB, ASH, ATHN, ATO, ATR, ATVI, AVB, AVGO, AVT, AVY, AWH, AWI, AWK, AXP, AXS, AXTA, AYI, AZO, BA, BAC, BAH, BAX, BBBY, BBT, BBY, BC, BCR, BDN, BDX, BEAV, BEN, BERY, BF.A, BF.B, BG, BHI, BIIB, BIO, BK, BKD, BKFS, BKU, BLK, BLL, BMRN, BMS, BMY, BOH, BOKF, BPOP, BR, BRCD, BRKR, BRO, BRX, BSX, BUFF, BURL, BWA, BWXT, BXP, C, CA, CAA, CAB, CABO, CACC, CAG, CAH, CAR, CASY, CAT, CB, CBG, CBI, CBOE, CBS, CBSH, CBT, CCI, CCK, CCL, CCO, CCP, CDK, CDNS, CDW, CE, CELG, CERN, CF, CFG, CFR, CFX, CGNX, CHD, CHH, CHK, CHRW, CHTR, CI, CIM, CINF, CIT, CL, CLGX, CLH, CLR, CLX, CMA, CME, CMG, CMI, CMP, CMS, CNA, CNC, CNK, CNP, CNX, COF, COG, COH, COL, COMM, CONE, COO, COP, COST, COTY, CPA, CPB, CPGX, CPN, CPRT, CPT, CR, CREE, CRI, CRL, CRM, CSAL, CSC, CSCO, CSGP, CSL, CSRA, CST, CSX, CTAS, CTL, CTSH, CTXS, CUBE, CVA, CVS, CVX, CXO, CXP, CXW, CY, D, DAL, DATA, DCI, DCT, DD, DDR, DDS, DE, DEI, DFS, DG, DGX, DHI, DHR, DIS, DISH, DKS, DLB, DLPH, DLR, DLTR, DNB, DNKN, DO, DOV, DOW, DOX, DPS, DPZ, DRE, DRI, DRQ, DST, DTE, DUK, DVA, DVN, DXCM, EA, EAT, EBAY, ECL, ED, EEFT, EFX, EGN, EIX, EL, ELS, EMC, EMN, EMR, ENDP, ENH, ENR, EOG, EPC, EPR, EQC, EQIX, EQR, EQT, EQY, ERIE, ES, ESRT, ESRX, ESS, ESV, ETFC, ETN, ETR, EV, EVHC, EW, EWBC, EXC, EXP, EXPD, EXPE, EXR, F, FAF, FANG, FAST, FBHS, FCX, FDC, FDS, FDX, FE, FEIC, FEYE, FFIV, FHN, FI, FII, FIS, FISV, FIT, FITB, FL, FLIR, FLO, FLR, FLS, FLT, FMC, FNF, FNFG, FOX, FOXA, FRC, FRT, FSLR, FTI, FTNT, FTR, G, GAS, GD, GDDY, GE, GGG, GGP, GHC, GILD, GIS, GLPI, GLW, GM, GME, GNTX, GPC, GPK, GPN, GPOR, GPS, GRA, GRMN, GRPN, GS, GT, GWR, GWRE, GWW, GXP, H, HAIN, HAL, HAR, HAS, HBAN, HBI, HCA, HCN, HCP, HD, HDS, HE, HEI, HES, HFC, HHC, HIG, HII, HIW, HLF, HLT, HOG, HOLX, HON, HOT, HP, HPE, HPQ, HPT, HRB, HRC, HRL, HRS, HSIC, HST, HSY, HTA, HTZ, HUBB, HUM, HUN, HXL, IAC, IBKR, IBM, ICE, ICPT, IDXX, IEX, IFF, IGT, IHS, ILMN, IM, IMS, INCY, INGR, INOV, INT, INTC, INTU, IONS, IP, IPG, IPGP, IR, IRM, ISRG, IT, ITC, ITT, ITW, IVZ, JBHT, JBL, JBLU, JCI, JCP, JEC, JKHY, JLL, JNJ, JNPR, JPM, JUNO, JW.A, JWN, K, KAR, KATE, KBR, KEX, KEY, KEYS, KHC, KIM, KLAC, KMB, KMI, KMX, KO, KORS, KOS, KR, KRC, KSS, KSU, L, LAMR, LAZ, LB, LDOS, LEA, LECO, LEG, LEN, LGF, LH, LII, LKQ, LLL, LLTC, LLY, LM, LMT, LNC, LNG, LNKD, LNT, LOW, LPI, LPLA, LPNT, LPT, LRCX, LSTR, LUK, LULU, LUV, LVLT, LVS, LXK, LYB, LYV, M, MA, MAA, MAC, MAN, MANH, MAR, MAS, MAT, MCD, MCHP, MCK, MCO, MCY, MD, MDLZ, MDRX, MDT, MDU, MDVN, MET, MFA, MFS, MGM, MHK, MIC, MIDD, MIK, MJN, MKC, MKL, MKTX, MLM, MMC, MMM, MNK, MNST, MO, MON, MORN, MOS, MPC, MRD, MRK, MRO, MRVL, MS, MSCI, MSFT, MSG, MSI, MSM, MTB, MTCH, MTD, MTN, MU, MUR, MUSA, MXIM, MYL, N, NATI, NAVI, NBIX, NBL, NBR, NCLH, NCR, NDAQ, NDSN, NE, NEE, NEM, NEU, NFG, NFX, NI, NKE, NLSN, NLY, NNN, NOC, NOV, NOW, NRF, NRG, NSAM, NSC, NTAP, NTRS, NUAN, NUE, NUS, NVDA, NVR, NWL, NWS, NWSA, NYCB, O, OA, OC, ODFL, OFC, OGE, OHI, OI, OII, OKE, OMC, OMF, ON, OPK, ORCL, ORI, ORLY, OSK, OUT, OXY, P, PACW, PAG, PAH, PANW, PAY, PAYX, PBCT, PBF, PBI, PCAR, PCG, PCLN, PDCO, PDM, PE, PEG, PEP, PF, PFE, PFG, PG, PGR, PGRE, PH, PHM, PII, PINC, PKG, PKI, PLD, PM, PNC, PNR, PNRA, PNW, PNY, POOL, POST, PPC, PPG, PPL, PPS, PRA, PRGO, PRU, PSA, PSX, PTC, PTEN, PVH, PWR, PX, PXD, PYPL, Q, QCOM, QEP, QGEN, QRVO, QVCA, R, RAD, RAI, RAX, RBC, RCL, RDC, RE, REG, REGN, RES, RF, RGA, RGC, RGLD, RHI, RHT, RICE, RIG, RJF, RL, RLGY, RMD, RNR, ROK, ROL, ROP, ROST, RPAI, RPM, RRC, RRD, RS, RSG, RTN, RYN, S, SABR, SATS, SAVE, SBAC, SBH, SBNY, SBUX, SC, SCCO, SCG, SCHW, SCI, SCTY, SE, SEE, SEIC, SERV, SFM, SGEN, SHW, SIG, SIRI, SIVB, SIX, SJM, SKT, SKX, SLB, SLG, SLGN, SLM, SM, SMG, SNA, SNH, SNI, SNPS, SNV, SO, SON, SPB, SPG, SPGI, SPLK, SPLS, SPN, SPR, SPWR, SQ, SRC, SRCL, SRE, SSNC, SSS, STAY, STI, STJ, STLD, STOR, STR, STT, STWD, STZ, SUI, SWK, SWKS, SWN, SYF, SYK, SYMC, SYY, T, TAHO, TAP, TCB, TCO, TDC, TDG, TDS, TE, TEAM, TECH, TER, TEX, TFSL, TFX, TGNA, TGT, THC, THG, THO, THS, TIF, TJX, TKR, TMK, TMO, TMUS, TOL, TPX, TRCO, TRGP, TRI, TRIP, TRMB, TRN, TROW, TRU, TRV, TSCO, TSLA, TSN, TSO, TSS, TTC, TUP, TWO, TWTR, TWX, TXN, TXT, TYC, TYL, UA, UA.C, UAL, UDR, UFS, UGI, UHAL, UHS, ULTA, ULTI, UNH, UNM, UNP, UPS, URBN, URI, USB, USFD, USG, USM, UTHR, UTX, V, VAL, VAR, VC, VEEV, VER, VFC, VIA, VIAB, VLO, VMC, VMI, VMW, VNO, VNTV, VOYA, VR, VRSK, VRSN, VRTX, VSTO, VTR, VVC, VWR, VZ, WAB, WAL, WAT, WBA, WBC, WCC, WCG, WDAY, WDC, WEC, WEN, WEX, WFC, WFM, WFT, WHR, WLK, WLL, WM, WMB, WMT, WOOF, WPC, WPX, WR, WRB, WRI, WRK, WSM, WSO, WST, WTM, WTR, WU, WWAV, WY, WYN, WYNN, X, XEC, XEL, XL, XLNX, XOM, XON, XRAY, XRX, XYL, Y, YELP, YHOO, YUM, Z, ZAYO, ZBH, ZBRA, ZG, ZION, ZNGA, ZTS\n",
      "Available universe has 5 tickers\n"
     ]
    }
   ],
   "source": [
    "missing_universe = list(set(universe) - set(existing_tickers))\n",
    "missing_universe.sort()\n",
    "print(\"No data for following R1000 names: {}\".format(\", \".join(missing_universe)))\n",
    "\n",
    "universe = list(set(universe) - set(missing_universe))\n",
    "universe.sort()\n",
    "print(\"Available universe has {} tickers\".format(len(universe)))"
   ]
  }
 ],
 "metadata": {
  "kernelspec": {
   "display_name": "Python 3",
   "language": "python",
   "name": "python3"
  },
  "language_info": {
   "codemirror_mode": {
    "name": "ipython",
    "version": 3
   },
   "file_extension": ".py",
   "mimetype": "text/x-python",
   "name": "python",
   "nbconvert_exporter": "python",
   "pygments_lexer": "ipython3",
   "version": "3.6.0"
  }
 },
 "nbformat": 4,
 "nbformat_minor": 2
}
