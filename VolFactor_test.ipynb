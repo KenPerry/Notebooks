{
 "cells": [
  {
   "cell_type": "code",
   "execution_count": 1,
   "metadata": {
    "collapsed": true
   },
   "outputs": [],
   "source": [
    "from IPython.core.interactiveshell import InteractiveShell\n",
    "InteractiveShell.ast_node_interactivity = \"all\"\n",
    "\n",
    "# Reload all modules imported with %aimport\n",
    "%load_ext autoreload\n",
    "%autoreload 1\n"
   ]
  },
  {
   "cell_type": "code",
   "execution_count": 2,
   "metadata": {
    "collapsed": true
   },
   "outputs": [],
   "source": [
    "import pandas as pd\n",
    "idx = pd.IndexSlice\n",
    "\n",
    "import datetime as dt\n",
    "from datetime import date\n",
    "\n",
    "\n",
    "from datetime import timedelta\n",
    "import dateutil.relativedelta as rd\n",
    "import dateutil.parser as dup\n",
    "\n",
    "from trans.date_manip import Date_Manipulator"
   ]
  },
  {
   "cell_type": "code",
   "execution_count": 3,
   "metadata": {
    "collapsed": true
   },
   "outputs": [],
   "source": [
    "Memorialize = False"
   ]
  },
  {
   "cell_type": "code",
   "execution_count": 4,
   "metadata": {
    "collapsed": false
   },
   "outputs": [],
   "source": [
    "today = dt.datetime.combine( dt.date.today(), dt.time.min)\n",
    "if Memorialize:\n",
    "    today = dup.parse(\"03/09/2018\")\n",
    "    \n",
    "start = dup.parse(\"01/01/2018\")\n",
    "end   = today\n",
    "\n"
   ]
  },
  {
   "cell_type": "code",
   "execution_count": 5,
   "metadata": {
    "collapsed": true
   },
   "outputs": [],
   "source": [
    "import trans.dataprovider.alphavantage as aa\n",
    "%aimport trans.dataprovider.alphavantage\n",
    "\n",
    "aa_dp = aa.Alphavantage()"
   ]
  },
  {
   "cell_type": "code",
   "execution_count": 6,
   "metadata": {
    "collapsed": false
   },
   "outputs": [
    {
     "data": {
      "text/plain": [
       "(47, 40)"
      ]
     },
     "execution_count": 6,
     "metadata": {},
     "output_type": "execute_result"
    }
   ],
   "source": [
    "import trans.dataprovider.odo as odo_reader\n",
    "%aimport trans.dataprovider.odo\n",
    "\n",
    "from sqlalchemy.ext.declarative import declarative_base\n",
    "\n",
    "dburl=\"sqlite:////tmp/full.db\"\n",
    "decBase_r = declarative_base()\n",
    "\n",
    "odr = odo_reader.ODO(dburl, declarative_base=decBase_r, provider=aa_dp)\n",
    "\n",
    "df_aa = odr.get(tickers=[\"FB\", \"AAPL\", \"AMZN\", \"NFLX\", \"GOOG\" ], start=\"2018-03-01\")\n",
    "df_aa.shape"
   ]
  },
  {
   "cell_type": "code",
   "execution_count": 7,
   "metadata": {
    "collapsed": false
   },
   "outputs": [
    {
     "data": {
      "text/plain": [
       "987"
      ]
     },
     "execution_count": 7,
     "metadata": {},
     "output_type": "execute_result"
    }
   ],
   "source": [
    "from trans.data import GetData\n",
    "gd = GetData()\n",
    "\n",
    "universe = gd.get_r1000_tickers()\n",
    "universe.sort()\n",
    "len(universe)"
   ]
  },
  {
   "cell_type": "code",
   "execution_count": 8,
   "metadata": {
    "collapsed": true
   },
   "outputs": [],
   "source": [
    "if Memorialize:\n",
    "    universe = [\"FB\", \"AAPL\", \"AMZN\", \"NFLX\", \"GOOG\" ]"
   ]
  },
  {
   "cell_type": "code",
   "execution_count": 9,
   "metadata": {
    "collapsed": false
   },
   "outputs": [
    {
     "name": "stdout",
     "output_type": "stream",
     "text": [
      "dataProvider passed\n",
      "init: need to override\n"
     ]
    }
   ],
   "source": [
    "import trans.quantfactor.volatility as vf\n",
    "%aimport trans.quantfactor.volatility\n",
    "\n",
    "%aimport trans.gtrans\n",
    "%aimport trans.quantfactor.base\n",
    "\n",
    "v = vf.Volatility(universe=universe, dataProvider=odr)"
   ]
  },
  {
   "cell_type": "code",
   "execution_count": 10,
   "metadata": {
    "collapsed": false
   },
   "outputs": [
    {
     "name": "stdout",
     "output_type": "stream",
     "text": [
      "dataProvider passed\n"
     ]
    }
   ],
   "source": [
    "daily_price_df = v.load_prices(start=start, end=end)"
   ]
  },
  {
   "cell_type": "code",
   "execution_count": 11,
   "metadata": {
    "collapsed": false
   },
   "outputs": [
    {
     "data": {
      "text/plain": [
       "(87, 7344)"
      ]
     },
     "execution_count": 11,
     "metadata": {},
     "output_type": "execute_result"
    }
   ],
   "source": [
    "daily_price_df.shape"
   ]
  },
  {
   "cell_type": "code",
   "execution_count": 12,
   "metadata": {
    "collapsed": true
   },
   "outputs": [],
   "source": [
    "if Memorialize:\n",
    "    gd.save_data(price_df.loc[:, \"Adj Close\"], \"verify_volat_raw_df.pkl\")"
   ]
  },
  {
   "cell_type": "code",
   "execution_count": 13,
   "metadata": {
    "collapsed": false
   },
   "outputs": [
    {
     "data": {
      "text/plain": [
       "918"
      ]
     },
     "execution_count": 13,
     "metadata": {},
     "output_type": "execute_result"
    }
   ],
   "source": [
    "existing_tickers = list(daily_price_df.columns.get_level_values(1).unique())\n",
    "existing_tickers.sort()\n",
    "len(existing_tickers)"
   ]
  },
  {
   "cell_type": "code",
   "execution_count": 14,
   "metadata": {
    "collapsed": false
   },
   "outputs": [
    {
     "name": "stdout",
     "output_type": "stream",
     "text": [
      "PANDA version > 0.20.0\n",
      "PANDA version > 0.20.0\n"
     ]
    },
    {
     "name": "stderr",
     "output_type": "stream",
     "text": [
      "/home/ubuntu/Notebooks/trans/gtrans.py:902: FutureWarning: sortlevel is deprecated, use sort_index(level= ...)\n",
      "  concatted.sortlevel(axis=0, inplace=True)\n",
      "/home/ubuntu/Notebooks/trans/gtrans.py:903: FutureWarning: sortlevel is deprecated, use sort_index(level= ...)\n",
      "  concatted.sortlevel(axis=1, inplace=True)\n"
     ]
    }
   ],
   "source": [
    "price_attr = \"Adj Close\"\n",
    "ret_attr = \"Pct\"\n",
    "daily_ret_df = v.create_dailyReturns(price_attr, ret_attr )"
   ]
  },
  {
   "cell_type": "code",
   "execution_count": 15,
   "metadata": {
    "collapsed": false
   },
   "outputs": [
    {
     "data": {
      "text/plain": [
       "(87, 1836)"
      ]
     },
     "execution_count": 15,
     "metadata": {},
     "output_type": "execute_result"
    }
   ],
   "source": [
    "daily_ret_df.shape"
   ]
  },
  {
   "cell_type": "code",
   "execution_count": 16,
   "metadata": {
    "collapsed": false
   },
   "outputs": [],
   "source": [
    "dm = Date_Manipulator( v.price_df.index )\n",
    "eom_in_idx = dm.periodic_in_idx_end_of_month(end)\n",
    "v.set_endDates( eom_in_idx )"
   ]
  },
  {
   "cell_type": "code",
   "execution_count": 17,
   "metadata": {
    "collapsed": false
   },
   "outputs": [
    {
     "data": {
      "text/html": [
       "<div>\n",
       "<style scoped>\n",
       "    .dataframe tbody tr th:only-of-type {\n",
       "        vertical-align: middle;\n",
       "    }\n",
       "\n",
       "    .dataframe tbody tr th {\n",
       "        vertical-align: top;\n",
       "    }\n",
       "\n",
       "    .dataframe thead tr th {\n",
       "        text-align: left;\n",
       "    }\n",
       "\n",
       "    .dataframe thead tr:last-of-type th {\n",
       "        text-align: right;\n",
       "    }\n",
       "</style>\n",
       "<table border=\"1\" class=\"dataframe\">\n",
       "  <thead>\n",
       "    <tr>\n",
       "      <th></th>\n",
       "      <th colspan=\"21\" halign=\"left\">Volatility</th>\n",
       "    </tr>\n",
       "    <tr>\n",
       "      <th></th>\n",
       "      <th>A</th>\n",
       "      <th>AA</th>\n",
       "      <th>AAL</th>\n",
       "      <th>AAP</th>\n",
       "      <th>AAPL</th>\n",
       "      <th>ABBV</th>\n",
       "      <th>ABC</th>\n",
       "      <th>ABMD</th>\n",
       "      <th>ABT</th>\n",
       "      <th>ACAD</th>\n",
       "      <th>...</th>\n",
       "      <th>YELP</th>\n",
       "      <th>YUM</th>\n",
       "      <th>Z</th>\n",
       "      <th>ZAYO</th>\n",
       "      <th>ZBH</th>\n",
       "      <th>ZBRA</th>\n",
       "      <th>ZG</th>\n",
       "      <th>ZION</th>\n",
       "      <th>ZNGA</th>\n",
       "      <th>ZTS</th>\n",
       "    </tr>\n",
       "    <tr>\n",
       "      <th>Dt</th>\n",
       "      <th></th>\n",
       "      <th></th>\n",
       "      <th></th>\n",
       "      <th></th>\n",
       "      <th></th>\n",
       "      <th></th>\n",
       "      <th></th>\n",
       "      <th></th>\n",
       "      <th></th>\n",
       "      <th></th>\n",
       "      <th></th>\n",
       "      <th></th>\n",
       "      <th></th>\n",
       "      <th></th>\n",
       "      <th></th>\n",
       "      <th></th>\n",
       "      <th></th>\n",
       "      <th></th>\n",
       "      <th></th>\n",
       "      <th></th>\n",
       "      <th></th>\n",
       "    </tr>\n",
       "  </thead>\n",
       "  <tbody>\n",
       "    <tr>\n",
       "      <th>2018-01-31</th>\n",
       "      <td>0.011709</td>\n",
       "      <td>0.022238</td>\n",
       "      <td>0.023969</td>\n",
       "      <td>0.016460</td>\n",
       "      <td>0.009462</td>\n",
       "      <td>0.036047</td>\n",
       "      <td>0.013356</td>\n",
       "      <td>0.010656</td>\n",
       "      <td>0.011861</td>\n",
       "      <td>0.033846</td>\n",
       "      <td>...</td>\n",
       "      <td>0.017279</td>\n",
       "      <td>0.008315</td>\n",
       "      <td>0.019176</td>\n",
       "      <td>0.009650</td>\n",
       "      <td>0.009917</td>\n",
       "      <td>0.015640</td>\n",
       "      <td>0.018934</td>\n",
       "      <td>0.009931</td>\n",
       "      <td>0.016472</td>\n",
       "      <td>0.010556</td>\n",
       "    </tr>\n",
       "    <tr>\n",
       "      <th>2018-02-28</th>\n",
       "      <td>0.020162</td>\n",
       "      <td>0.022915</td>\n",
       "      <td>0.023581</td>\n",
       "      <td>0.031933</td>\n",
       "      <td>0.021743</td>\n",
       "      <td>0.026686</td>\n",
       "      <td>0.030330</td>\n",
       "      <td>0.032620</td>\n",
       "      <td>0.017033</td>\n",
       "      <td>0.054773</td>\n",
       "      <td>...</td>\n",
       "      <td>0.039125</td>\n",
       "      <td>0.018816</td>\n",
       "      <td>0.019462</td>\n",
       "      <td>0.016647</td>\n",
       "      <td>0.014846</td>\n",
       "      <td>0.031733</td>\n",
       "      <td>0.018981</td>\n",
       "      <td>0.024675</td>\n",
       "      <td>0.025580</td>\n",
       "      <td>0.020572</td>\n",
       "    </tr>\n",
       "    <tr>\n",
       "      <th>2018-03-29</th>\n",
       "      <td>0.014332</td>\n",
       "      <td>0.022583</td>\n",
       "      <td>0.015519</td>\n",
       "      <td>0.018441</td>\n",
       "      <td>0.016277</td>\n",
       "      <td>0.030937</td>\n",
       "      <td>0.020246</td>\n",
       "      <td>0.018436</td>\n",
       "      <td>0.015247</td>\n",
       "      <td>0.052786</td>\n",
       "      <td>...</td>\n",
       "      <td>0.017605</td>\n",
       "      <td>0.010810</td>\n",
       "      <td>0.022101</td>\n",
       "      <td>0.015828</td>\n",
       "      <td>0.016809</td>\n",
       "      <td>0.022571</td>\n",
       "      <td>0.021132</td>\n",
       "      <td>0.018179</td>\n",
       "      <td>0.019921</td>\n",
       "      <td>0.016389</td>\n",
       "    </tr>\n",
       "    <tr>\n",
       "      <th>2018-04-30</th>\n",
       "      <td>0.016849</td>\n",
       "      <td>0.040239</td>\n",
       "      <td>0.028049</td>\n",
       "      <td>0.024716</td>\n",
       "      <td>0.016128</td>\n",
       "      <td>0.021391</td>\n",
       "      <td>0.019611</td>\n",
       "      <td>0.021668</td>\n",
       "      <td>0.015171</td>\n",
       "      <td>0.080624</td>\n",
       "      <td>...</td>\n",
       "      <td>0.013965</td>\n",
       "      <td>0.009141</td>\n",
       "      <td>0.020839</td>\n",
       "      <td>0.012294</td>\n",
       "      <td>0.015920</td>\n",
       "      <td>0.014602</td>\n",
       "      <td>0.022469</td>\n",
       "      <td>0.017405</td>\n",
       "      <td>0.015743</td>\n",
       "      <td>0.013067</td>\n",
       "    </tr>\n",
       "  </tbody>\n",
       "</table>\n",
       "<p>4 rows × 918 columns</p>\n",
       "</div>"
      ],
      "text/plain": [
       "           Volatility                                                    \\\n",
       "                    A        AA       AAL       AAP      AAPL      ABBV   \n",
       "Dt                                                                        \n",
       "2018-01-31   0.011709  0.022238  0.023969  0.016460  0.009462  0.036047   \n",
       "2018-02-28   0.020162  0.022915  0.023581  0.031933  0.021743  0.026686   \n",
       "2018-03-29   0.014332  0.022583  0.015519  0.018441  0.016277  0.030937   \n",
       "2018-04-30   0.016849  0.040239  0.028049  0.024716  0.016128  0.021391   \n",
       "\n",
       "                                                      ...               \\\n",
       "                 ABC      ABMD       ABT      ACAD    ...         YELP   \n",
       "Dt                                                    ...                \n",
       "2018-01-31  0.013356  0.010656  0.011861  0.033846    ...     0.017279   \n",
       "2018-02-28  0.030330  0.032620  0.017033  0.054773    ...     0.039125   \n",
       "2018-03-29  0.020246  0.018436  0.015247  0.052786    ...     0.017605   \n",
       "2018-04-30  0.019611  0.021668  0.015171  0.080624    ...     0.013965   \n",
       "\n",
       "                                                                        \\\n",
       "                 YUM         Z      ZAYO       ZBH      ZBRA        ZG   \n",
       "Dt                                                                       \n",
       "2018-01-31  0.008315  0.019176  0.009650  0.009917  0.015640  0.018934   \n",
       "2018-02-28  0.018816  0.019462  0.016647  0.014846  0.031733  0.018981   \n",
       "2018-03-29  0.010810  0.022101  0.015828  0.016809  0.022571  0.021132   \n",
       "2018-04-30  0.009141  0.020839  0.012294  0.015920  0.014602  0.022469   \n",
       "\n",
       "                                          \n",
       "                ZION      ZNGA       ZTS  \n",
       "Dt                                        \n",
       "2018-01-31  0.009931  0.016472  0.010556  \n",
       "2018-02-28  0.024675  0.025580  0.020572  \n",
       "2018-03-29  0.018179  0.019921  0.016389  \n",
       "2018-04-30  0.017405  0.015743  0.013067  \n",
       "\n",
       "[4 rows x 918 columns]"
      ]
     },
     "execution_count": 17,
     "metadata": {},
     "output_type": "execute_result"
    }
   ],
   "source": [
    "from datetime import timedelta\n",
    "vol_window = timedelta(days=30)\n",
    " \n",
    "v.create_period_attr( v.daily_ret_df.loc[:, idx[ret_attr,:]], start, end, vol_window, \"Volatility\")"
   ]
  },
  {
   "cell_type": "code",
   "execution_count": 18,
   "metadata": {
    "collapsed": false
   },
   "outputs": [
    {
     "name": "stdout",
     "output_type": "stream",
     "text": [
      "PANDA version > 0.20.0\n"
     ]
    }
   ],
   "source": [
    "daily_rank_df = v.create_ranks()"
   ]
  },
  {
   "cell_type": "code",
   "execution_count": 19,
   "metadata": {
    "collapsed": false
   },
   "outputs": [],
   "source": [
    "if Memorialize:\n",
    "    daily_rank_df.loc[ \"2018-01-31\":\"2018-03-02\"]"
   ]
  },
  {
   "cell_type": "code",
   "execution_count": 20,
   "metadata": {
    "collapsed": false
   },
   "outputs": [
    {
     "name": "stdout",
     "output_type": "stream",
     "text": [
      "PANDA version > 0.20.0\n",
      "PANDA version > 0.20.0\n"
     ]
    },
    {
     "name": "stderr",
     "output_type": "stream",
     "text": [
      "/home/ubuntu/Notebooks/trans/gtrans.py:902: FutureWarning: sortlevel is deprecated, use sort_index(level= ...)\n",
      "  concatted.sortlevel(axis=0, inplace=True)\n",
      "/home/ubuntu/Notebooks/trans/gtrans.py:903: FutureWarning: sortlevel is deprecated, use sort_index(level= ...)\n",
      "  concatted.sortlevel(axis=1, inplace=True)\n"
     ]
    }
   ],
   "source": [
    "factor_df = v.create_factor()"
   ]
  },
  {
   "cell_type": "code",
   "execution_count": 21,
   "metadata": {
    "collapsed": false
   },
   "outputs": [
    {
     "data": {
      "text/html": [
       "<div>\n",
       "<style scoped>\n",
       "    .dataframe tbody tr th:only-of-type {\n",
       "        vertical-align: middle;\n",
       "    }\n",
       "\n",
       "    .dataframe tbody tr th {\n",
       "        vertical-align: top;\n",
       "    }\n",
       "\n",
       "    .dataframe thead tr th {\n",
       "        text-align: left;\n",
       "    }\n",
       "\n",
       "    .dataframe thead tr:last-of-type th {\n",
       "        text-align: right;\n",
       "    }\n",
       "</style>\n",
       "<table border=\"1\" class=\"dataframe\">\n",
       "  <thead>\n",
       "    <tr>\n",
       "      <th></th>\n",
       "      <th colspan=\"10\" halign=\"left\">Pct</th>\n",
       "      <th>...</th>\n",
       "      <th colspan=\"10\" halign=\"left\">weight</th>\n",
       "    </tr>\n",
       "    <tr>\n",
       "      <th></th>\n",
       "      <th>A</th>\n",
       "      <th>AA</th>\n",
       "      <th>AAL</th>\n",
       "      <th>AAP</th>\n",
       "      <th>AAPL</th>\n",
       "      <th>ABBV</th>\n",
       "      <th>ABC</th>\n",
       "      <th>ABMD</th>\n",
       "      <th>ABT</th>\n",
       "      <th>ACAD</th>\n",
       "      <th>...</th>\n",
       "      <th>YELP</th>\n",
       "      <th>YUM</th>\n",
       "      <th>Z</th>\n",
       "      <th>ZAYO</th>\n",
       "      <th>ZBH</th>\n",
       "      <th>ZBRA</th>\n",
       "      <th>ZG</th>\n",
       "      <th>ZION</th>\n",
       "      <th>ZNGA</th>\n",
       "      <th>ZTS</th>\n",
       "    </tr>\n",
       "    <tr>\n",
       "      <th>Dt</th>\n",
       "      <th></th>\n",
       "      <th></th>\n",
       "      <th></th>\n",
       "      <th></th>\n",
       "      <th></th>\n",
       "      <th></th>\n",
       "      <th></th>\n",
       "      <th></th>\n",
       "      <th></th>\n",
       "      <th></th>\n",
       "      <th></th>\n",
       "      <th></th>\n",
       "      <th></th>\n",
       "      <th></th>\n",
       "      <th></th>\n",
       "      <th></th>\n",
       "      <th></th>\n",
       "      <th></th>\n",
       "      <th></th>\n",
       "      <th></th>\n",
       "      <th></th>\n",
       "    </tr>\n",
       "  </thead>\n",
       "  <tbody>\n",
       "    <tr>\n",
       "      <th>2018-05-01</th>\n",
       "      <td>0.0</td>\n",
       "      <td>0.015430</td>\n",
       "      <td>0.010016</td>\n",
       "      <td>0.009873</td>\n",
       "      <td>0.0</td>\n",
       "      <td>0.0</td>\n",
       "      <td>-0.0</td>\n",
       "      <td>0.0</td>\n",
       "      <td>0.0</td>\n",
       "      <td>0.042378</td>\n",
       "      <td>...</td>\n",
       "      <td>0</td>\n",
       "      <td>-1</td>\n",
       "      <td>0</td>\n",
       "      <td>0</td>\n",
       "      <td>0</td>\n",
       "      <td>0</td>\n",
       "      <td>1</td>\n",
       "      <td>0</td>\n",
       "      <td>0</td>\n",
       "      <td>0</td>\n",
       "    </tr>\n",
       "    <tr>\n",
       "      <th>2018-05-02</th>\n",
       "      <td>-0.0</td>\n",
       "      <td>0.020773</td>\n",
       "      <td>-0.025830</td>\n",
       "      <td>0.002769</td>\n",
       "      <td>0.0</td>\n",
       "      <td>-0.0</td>\n",
       "      <td>0.0</td>\n",
       "      <td>-0.0</td>\n",
       "      <td>-0.0</td>\n",
       "      <td>0.024272</td>\n",
       "      <td>...</td>\n",
       "      <td>0</td>\n",
       "      <td>-1</td>\n",
       "      <td>0</td>\n",
       "      <td>0</td>\n",
       "      <td>0</td>\n",
       "      <td>0</td>\n",
       "      <td>1</td>\n",
       "      <td>0</td>\n",
       "      <td>0</td>\n",
       "      <td>0</td>\n",
       "    </tr>\n",
       "    <tr>\n",
       "      <th>2018-05-03</th>\n",
       "      <td>0.0</td>\n",
       "      <td>0.003957</td>\n",
       "      <td>-0.003078</td>\n",
       "      <td>-0.004055</td>\n",
       "      <td>0.0</td>\n",
       "      <td>-0.0</td>\n",
       "      <td>-0.0</td>\n",
       "      <td>0.0</td>\n",
       "      <td>0.0</td>\n",
       "      <td>-0.049763</td>\n",
       "      <td>...</td>\n",
       "      <td>0</td>\n",
       "      <td>-1</td>\n",
       "      <td>0</td>\n",
       "      <td>0</td>\n",
       "      <td>0</td>\n",
       "      <td>0</td>\n",
       "      <td>1</td>\n",
       "      <td>0</td>\n",
       "      <td>0</td>\n",
       "      <td>0</td>\n",
       "    </tr>\n",
       "    <tr>\n",
       "      <th>2018-05-04</th>\n",
       "      <td>0.0</td>\n",
       "      <td>0.020833</td>\n",
       "      <td>0.017810</td>\n",
       "      <td>0.010742</td>\n",
       "      <td>0.0</td>\n",
       "      <td>-0.0</td>\n",
       "      <td>0.0</td>\n",
       "      <td>0.0</td>\n",
       "      <td>0.0</td>\n",
       "      <td>0.109726</td>\n",
       "      <td>...</td>\n",
       "      <td>0</td>\n",
       "      <td>-1</td>\n",
       "      <td>0</td>\n",
       "      <td>0</td>\n",
       "      <td>0</td>\n",
       "      <td>0</td>\n",
       "      <td>1</td>\n",
       "      <td>0</td>\n",
       "      <td>0</td>\n",
       "      <td>0</td>\n",
       "    </tr>\n",
       "    <tr>\n",
       "      <th>2018-05-07</th>\n",
       "      <td>0.0</td>\n",
       "      <td>0.002942</td>\n",
       "      <td>-0.009799</td>\n",
       "      <td>-0.004543</td>\n",
       "      <td>0.0</td>\n",
       "      <td>-0.0</td>\n",
       "      <td>-0.0</td>\n",
       "      <td>-0.0</td>\n",
       "      <td>0.0</td>\n",
       "      <td>0.041573</td>\n",
       "      <td>...</td>\n",
       "      <td>0</td>\n",
       "      <td>-1</td>\n",
       "      <td>0</td>\n",
       "      <td>0</td>\n",
       "      <td>0</td>\n",
       "      <td>0</td>\n",
       "      <td>1</td>\n",
       "      <td>0</td>\n",
       "      <td>0</td>\n",
       "      <td>0</td>\n",
       "    </tr>\n",
       "  </tbody>\n",
       "</table>\n",
       "<p>5 rows × 1839 columns</p>\n",
       "</div>"
      ],
      "text/plain": [
       "            Pct                                                         \\\n",
       "              A        AA       AAL       AAP AAPL ABBV  ABC ABMD  ABT   \n",
       "Dt                                                                       \n",
       "2018-05-01  0.0  0.015430  0.010016  0.009873  0.0  0.0 -0.0  0.0  0.0   \n",
       "2018-05-02 -0.0  0.020773 -0.025830  0.002769  0.0 -0.0  0.0 -0.0 -0.0   \n",
       "2018-05-03  0.0  0.003957 -0.003078 -0.004055  0.0 -0.0 -0.0  0.0  0.0   \n",
       "2018-05-04  0.0  0.020833  0.017810  0.010742  0.0 -0.0  0.0  0.0  0.0   \n",
       "2018-05-07  0.0  0.002942 -0.009799 -0.004543  0.0 -0.0 -0.0 -0.0  0.0   \n",
       "\n",
       "                     ... weight                                        \n",
       "                ACAD ...   YELP YUM  Z ZAYO ZBH ZBRA ZG ZION ZNGA ZTS  \n",
       "Dt                   ...                                               \n",
       "2018-05-01  0.042378 ...      0  -1  0    0   0    0  1    0    0   0  \n",
       "2018-05-02  0.024272 ...      0  -1  0    0   0    0  1    0    0   0  \n",
       "2018-05-03 -0.049763 ...      0  -1  0    0   0    0  1    0    0   0  \n",
       "2018-05-04  0.109726 ...      0  -1  0    0   0    0  1    0    0   0  \n",
       "2018-05-07  0.041573 ...      0  -1  0    0   0    0  1    0    0   0  \n",
       "\n",
       "[5 rows x 1839 columns]"
      ]
     },
     "execution_count": 21,
     "metadata": {},
     "output_type": "execute_result"
    }
   ],
   "source": [
    "factor_df.tail()"
   ]
  },
  {
   "cell_type": "markdown",
   "metadata": {},
   "source": [
    "## Simplified version of factor creation: combine all steps into one method \"create\""
   ]
  },
  {
   "cell_type": "code",
   "execution_count": 24,
   "metadata": {
    "collapsed": false
   },
   "outputs": [
    {
     "name": "stdout",
     "output_type": "stream",
     "text": [
      "<class 'trans.quantfactor.volatility.Volatility'>:__init__: dataProvider passed\n",
      "dataProvider passed\n",
      "PANDA version > 0.20.0\n",
      "PANDA version > 0.20.0\n",
      "PANDA version > 0.20.0\n",
      "PANDA version > 0.20.0\n"
     ]
    },
    {
     "name": "stderr",
     "output_type": "stream",
     "text": [
      "/home/ubuntu/Notebooks/trans/gtrans.py:902: FutureWarning: sortlevel is deprecated, use sort_index(level= ...)\n",
      "  concatted.sortlevel(axis=0, inplace=True)\n",
      "/home/ubuntu/Notebooks/trans/gtrans.py:903: FutureWarning: sortlevel is deprecated, use sort_index(level= ...)\n",
      "  concatted.sortlevel(axis=1, inplace=True)\n"
     ]
    },
    {
     "name": "stdout",
     "output_type": "stream",
     "text": [
      "PANDA version > 0.20.0\n"
     ]
    },
    {
     "name": "stderr",
     "output_type": "stream",
     "text": [
      "/home/ubuntu/Notebooks/trans/gtrans.py:902: FutureWarning: sortlevel is deprecated, use sort_index(level= ...)\n",
      "  concatted.sortlevel(axis=0, inplace=True)\n",
      "/home/ubuntu/Notebooks/trans/gtrans.py:903: FutureWarning: sortlevel is deprecated, use sort_index(level= ...)\n",
      "  concatted.sortlevel(axis=1, inplace=True)\n"
     ]
    },
    {
     "data": {
      "text/html": [
       "<div>\n",
       "<style scoped>\n",
       "    .dataframe tbody tr th:only-of-type {\n",
       "        vertical-align: middle;\n",
       "    }\n",
       "\n",
       "    .dataframe tbody tr th {\n",
       "        vertical-align: top;\n",
       "    }\n",
       "\n",
       "    .dataframe thead tr th {\n",
       "        text-align: left;\n",
       "    }\n",
       "\n",
       "    .dataframe thead tr:last-of-type th {\n",
       "        text-align: right;\n",
       "    }\n",
       "</style>\n",
       "<table border=\"1\" class=\"dataframe\">\n",
       "  <thead>\n",
       "    <tr>\n",
       "      <th></th>\n",
       "      <th colspan=\"10\" halign=\"left\">Ret</th>\n",
       "      <th>...</th>\n",
       "      <th colspan=\"10\" halign=\"left\">weight</th>\n",
       "    </tr>\n",
       "    <tr>\n",
       "      <th></th>\n",
       "      <th>A</th>\n",
       "      <th>AA</th>\n",
       "      <th>AAL</th>\n",
       "      <th>AAP</th>\n",
       "      <th>AAPL</th>\n",
       "      <th>ABBV</th>\n",
       "      <th>ABC</th>\n",
       "      <th>ABMD</th>\n",
       "      <th>ABT</th>\n",
       "      <th>ACAD</th>\n",
       "      <th>...</th>\n",
       "      <th>YELP</th>\n",
       "      <th>YUM</th>\n",
       "      <th>Z</th>\n",
       "      <th>ZAYO</th>\n",
       "      <th>ZBH</th>\n",
       "      <th>ZBRA</th>\n",
       "      <th>ZG</th>\n",
       "      <th>ZION</th>\n",
       "      <th>ZNGA</th>\n",
       "      <th>ZTS</th>\n",
       "    </tr>\n",
       "    <tr>\n",
       "      <th>Dt</th>\n",
       "      <th></th>\n",
       "      <th></th>\n",
       "      <th></th>\n",
       "      <th></th>\n",
       "      <th></th>\n",
       "      <th></th>\n",
       "      <th></th>\n",
       "      <th></th>\n",
       "      <th></th>\n",
       "      <th></th>\n",
       "      <th></th>\n",
       "      <th></th>\n",
       "      <th></th>\n",
       "      <th></th>\n",
       "      <th></th>\n",
       "      <th></th>\n",
       "      <th></th>\n",
       "      <th></th>\n",
       "      <th></th>\n",
       "      <th></th>\n",
       "      <th></th>\n",
       "    </tr>\n",
       "  </thead>\n",
       "  <tbody>\n",
       "    <tr>\n",
       "      <th>2018-05-01</th>\n",
       "      <td>0.0</td>\n",
       "      <td>0.015430</td>\n",
       "      <td>0.010016</td>\n",
       "      <td>0.009873</td>\n",
       "      <td>0.0</td>\n",
       "      <td>0.0</td>\n",
       "      <td>-0.0</td>\n",
       "      <td>0.0</td>\n",
       "      <td>0.0</td>\n",
       "      <td>0.042378</td>\n",
       "      <td>...</td>\n",
       "      <td>0</td>\n",
       "      <td>-1</td>\n",
       "      <td>0</td>\n",
       "      <td>0</td>\n",
       "      <td>0</td>\n",
       "      <td>0</td>\n",
       "      <td>1</td>\n",
       "      <td>0</td>\n",
       "      <td>0</td>\n",
       "      <td>0</td>\n",
       "    </tr>\n",
       "    <tr>\n",
       "      <th>2018-05-02</th>\n",
       "      <td>-0.0</td>\n",
       "      <td>0.020773</td>\n",
       "      <td>-0.025830</td>\n",
       "      <td>0.002769</td>\n",
       "      <td>0.0</td>\n",
       "      <td>-0.0</td>\n",
       "      <td>0.0</td>\n",
       "      <td>-0.0</td>\n",
       "      <td>-0.0</td>\n",
       "      <td>0.024272</td>\n",
       "      <td>...</td>\n",
       "      <td>0</td>\n",
       "      <td>-1</td>\n",
       "      <td>0</td>\n",
       "      <td>0</td>\n",
       "      <td>0</td>\n",
       "      <td>0</td>\n",
       "      <td>1</td>\n",
       "      <td>0</td>\n",
       "      <td>0</td>\n",
       "      <td>0</td>\n",
       "    </tr>\n",
       "    <tr>\n",
       "      <th>2018-05-03</th>\n",
       "      <td>0.0</td>\n",
       "      <td>0.003957</td>\n",
       "      <td>-0.003078</td>\n",
       "      <td>-0.004055</td>\n",
       "      <td>0.0</td>\n",
       "      <td>-0.0</td>\n",
       "      <td>-0.0</td>\n",
       "      <td>0.0</td>\n",
       "      <td>0.0</td>\n",
       "      <td>-0.049763</td>\n",
       "      <td>...</td>\n",
       "      <td>0</td>\n",
       "      <td>-1</td>\n",
       "      <td>0</td>\n",
       "      <td>0</td>\n",
       "      <td>0</td>\n",
       "      <td>0</td>\n",
       "      <td>1</td>\n",
       "      <td>0</td>\n",
       "      <td>0</td>\n",
       "      <td>0</td>\n",
       "    </tr>\n",
       "    <tr>\n",
       "      <th>2018-05-04</th>\n",
       "      <td>0.0</td>\n",
       "      <td>0.020833</td>\n",
       "      <td>0.017810</td>\n",
       "      <td>0.010742</td>\n",
       "      <td>0.0</td>\n",
       "      <td>-0.0</td>\n",
       "      <td>0.0</td>\n",
       "      <td>0.0</td>\n",
       "      <td>0.0</td>\n",
       "      <td>0.109726</td>\n",
       "      <td>...</td>\n",
       "      <td>0</td>\n",
       "      <td>-1</td>\n",
       "      <td>0</td>\n",
       "      <td>0</td>\n",
       "      <td>0</td>\n",
       "      <td>0</td>\n",
       "      <td>1</td>\n",
       "      <td>0</td>\n",
       "      <td>0</td>\n",
       "      <td>0</td>\n",
       "    </tr>\n",
       "    <tr>\n",
       "      <th>2018-05-07</th>\n",
       "      <td>0.0</td>\n",
       "      <td>0.002942</td>\n",
       "      <td>-0.009799</td>\n",
       "      <td>-0.004543</td>\n",
       "      <td>0.0</td>\n",
       "      <td>-0.0</td>\n",
       "      <td>-0.0</td>\n",
       "      <td>-0.0</td>\n",
       "      <td>0.0</td>\n",
       "      <td>0.041573</td>\n",
       "      <td>...</td>\n",
       "      <td>0</td>\n",
       "      <td>-1</td>\n",
       "      <td>0</td>\n",
       "      <td>0</td>\n",
       "      <td>0</td>\n",
       "      <td>0</td>\n",
       "      <td>1</td>\n",
       "      <td>0</td>\n",
       "      <td>0</td>\n",
       "      <td>0</td>\n",
       "    </tr>\n",
       "  </tbody>\n",
       "</table>\n",
       "<p>5 rows × 1839 columns</p>\n",
       "</div>"
      ],
      "text/plain": [
       "            Ret                                                         \\\n",
       "              A        AA       AAL       AAP AAPL ABBV  ABC ABMD  ABT   \n",
       "Dt                                                                       \n",
       "2018-05-01  0.0  0.015430  0.010016  0.009873  0.0  0.0 -0.0  0.0  0.0   \n",
       "2018-05-02 -0.0  0.020773 -0.025830  0.002769  0.0 -0.0  0.0 -0.0 -0.0   \n",
       "2018-05-03  0.0  0.003957 -0.003078 -0.004055  0.0 -0.0 -0.0  0.0  0.0   \n",
       "2018-05-04  0.0  0.020833  0.017810  0.010742  0.0 -0.0  0.0  0.0  0.0   \n",
       "2018-05-07  0.0  0.002942 -0.009799 -0.004543  0.0 -0.0 -0.0 -0.0  0.0   \n",
       "\n",
       "                     ... weight                                        \n",
       "                ACAD ...   YELP YUM  Z ZAYO ZBH ZBRA ZG ZION ZNGA ZTS  \n",
       "Dt                   ...                                               \n",
       "2018-05-01  0.042378 ...      0  -1  0    0   0    0  1    0    0   0  \n",
       "2018-05-02  0.024272 ...      0  -1  0    0   0    0  1    0    0   0  \n",
       "2018-05-03 -0.049763 ...      0  -1  0    0   0    0  1    0    0   0  \n",
       "2018-05-04  0.109726 ...      0  -1  0    0   0    0  1    0    0   0  \n",
       "2018-05-07  0.041573 ...      0  -1  0    0   0    0  1    0    0   0  \n",
       "\n",
       "[5 rows x 1839 columns]"
      ]
     },
     "execution_count": 24,
     "metadata": {},
     "output_type": "execute_result"
    }
   ],
   "source": [
    "v2 = vf.Volatility(universe=universe, dataProvider=odr)\n",
    "factor_df2 = v2.create(start=start, end=end,\n",
    "               price_attr=\"Adj Close\", ret_attr=\"Ret\", rank_attr=\"Factor\",\n",
    "               window=timedelta(days=30)\n",
    "             )\n",
    "factor_df2.tail()"
   ]
  },
  {
   "cell_type": "markdown",
   "metadata": {},
   "source": [
    "## Create residuals"
   ]
  },
  {
   "cell_type": "markdown",
   "metadata": {},
   "source": [
    "### Create DataFrame for residual computation"
   ]
  },
  {
   "cell_type": "code",
   "execution_count": null,
   "metadata": {
    "collapsed": false
   },
   "outputs": [],
   "source": [
    "resid_input_df =pd.concat( [ factor_df.loc[:, idx[ret_attr, \"Port net\"]],\n",
    "    v.daily_ret_df.loc[:, idx[ret_attr,\"SPY\"]]\n",
    "           ], axis=1\n",
    "         )"
   ]
  },
  {
   "cell_type": "code",
   "execution_count": null,
   "metadata": {
    "collapsed": false
   },
   "outputs": [],
   "source": [
    "%aimport trans.stacked.residual\n",
    "from trans.stacked.residual import Residual\n",
    "\n",
    "(resStart, resEnd) = (resid_input_df.index.min(), resid_input_df.index.max())\n",
    "regWindow = rd.relativedelta(months=+2)\n",
    "regStep   = rd.relativedelta(weeks=+4)"
   ]
  },
  {
   "cell_type": "code",
   "execution_count": null,
   "metadata": {
    "collapsed": false
   },
   "outputs": [],
   "source": [
    "ret_attr"
   ]
  },
  {
   "cell_type": "code",
   "execution_count": null,
   "metadata": {
    "collapsed": true
   },
   "outputs": [],
   "source": [
    "%aimport trans.reg\n",
    "%aimport trans.regpipe"
   ]
  },
  {
   "cell_type": "code",
   "execution_count": null,
   "metadata": {
    "collapsed": false
   },
   "outputs": [],
   "source": [
    "rstack = Residual(indCols=[ idx[ret_attr, \"SPY\"] ], debug=True)\n",
    "rstack.init(df=resid_input_df, start=resStart, end=v.endDates[-1], window=regWindow, step=regStep)\n",
    "resid_stack = rstack.repeated()\n",
    "rstack.done()"
   ]
  },
  {
   "cell_type": "code",
   "execution_count": null,
   "metadata": {
    "collapsed": false
   },
   "outputs": [],
   "source": [
    "(l, resid_last_df) = resid_stack[0]\n",
    "resid_last_df.columns \n",
    "\n",
    "for r in resid_stack:\n",
    "    (label, df) = r\n",
    "    print(\"{l}: from {s} to {e}\".format(l=label, s=df.index.min(), e=df.index.max()))"
   ]
  },
  {
   "cell_type": "markdown",
   "metadata": {},
   "source": [
    "## Find the sensitivity of selected names"
   ]
  },
  {
   "cell_type": "code",
   "execution_count": null,
   "metadata": {
    "collapsed": true
   },
   "outputs": [],
   "source": [
    "names = [ \"BA\", \"PAGS\", \"CTXS\", \"TSLA\", \"NFLX\"< \"MSFT\", \"EA\", \"BABA\", \"AYI\", \"SABR\", \"TXN\" ]"
   ]
  },
  {
   "cell_type": "code",
   "execution_count": null,
   "metadata": {
    "collapsed": true
   },
   "outputs": [],
   "source": [
    "names = existing_tickers"
   ]
  },
  {
   "cell_type": "markdown",
   "metadata": {},
   "source": [
    "## Get returns of members of the universe"
   ]
  },
  {
   "cell_type": "code",
   "execution_count": null,
   "metadata": {
    "collapsed": false,
    "scrolled": true
   },
   "outputs": [],
   "source": [
    "from trans.gtrans import *\n",
    "# Get the data for the tickers in self.universe\n",
    "price_df = GetDataProviderTransformer(names, cal_ticker=\"SPY\", dataProvider=odr).fit_transform( pd.DataFrame())\n",
    "\n",
    "# Limit the output to date range from start to end\n",
    "price_df = price_df.loc[ start:, ]\n",
    "        \n",
    "price_df = price_df.loc[ :end, ]\n",
    "price_attr = \"Adj Close\"\n",
    "price_shifted_attr = price_attr + \" prior\"\n",
    "\n",
    "daily_ret_pl = GenRetAttrTransformer( price_attr, price_shifted_attr, ret_attr, 1 )\n",
    "daily_ret_df = daily_ret_pl.fit_transform( price_df )"
   ]
  },
  {
   "cell_type": "markdown",
   "metadata": {},
   "source": [
    "## Compute betas wrt vol factor"
   ]
  },
  {
   "cell_type": "markdown",
   "metadata": {},
   "source": [
    "### Rename the \"Error\" attribute to ret_attr"
   ]
  },
  {
   "cell_type": "code",
   "execution_count": null,
   "metadata": {
    "collapsed": false
   },
   "outputs": [],
   "source": [
    "volat_resid_df = resid_last_df.loc[:, idx[\"Error\",:]]\n",
    "volat_resid_df.tail()\n",
    "lev0 =  volat_resid_df.columns.levels[0].tolist()\n",
    "lev0[ lev0.index(\"Error\")] = ret_attr"
   ]
  },
  {
   "cell_type": "markdown",
   "metadata": {},
   "source": [
    "### Rename the ticker to \"Volat factor\", and the attibute to ret_attr"
   ]
  },
  {
   "cell_type": "code",
   "execution_count": null,
   "metadata": {
    "collapsed": false
   },
   "outputs": [],
   "source": [
    "volat_resid_df.columns.set_levels([\"Volat factor\"], level=1, inplace=True)\n",
    "volat_resid_df.columns.set_levels(lev0, level=0, inplace=True)\n",
    "\n",
    "volat_resid_df.tail()"
   ]
  },
  {
   "cell_type": "markdown",
   "metadata": {},
   "source": [
    "## Compute the std dev. of the Volatility factor (outperformance)"
   ]
  },
  {
   "cell_type": "code",
   "execution_count": null,
   "metadata": {
    "collapsed": false
   },
   "outputs": [],
   "source": [
    "volat_resid_df.loc[ v.endDates[-1] -rd.relativedelta(months=+1):, :].std()"
   ]
  },
  {
   "cell_type": "markdown",
   "metadata": {},
   "source": [
    "## Put the returns of the universe and the Volatlity factor in same DataFrame"
   ]
  },
  {
   "cell_type": "code",
   "execution_count": null,
   "metadata": {
    "collapsed": false
   },
   "outputs": [],
   "source": [
    "reg_input_df = DataFrameConcat( [ daily_ret_df.loc[:, idx[ret_attr,:]], volat_resid_df] ).fit_transform(pd.DataFrame())"
   ]
  },
  {
   "cell_type": "code",
   "execution_count": null,
   "metadata": {
    "collapsed": false
   },
   "outputs": [],
   "source": [
    "reg_input_df.columns\n",
    "reg_input_df.loc[ volat_resid_df.index.max() - rd.relativedelta(months=+1):]"
   ]
  },
  {
   "cell_type": "markdown",
   "metadata": {},
   "source": [
    "## Perform rolling regression of each member of universe vs. Volat factor"
   ]
  },
  {
   "cell_type": "code",
   "execution_count": null,
   "metadata": {
    "collapsed": false
   },
   "outputs": [],
   "source": [
    "from trans.regpipe import RegPipe\n",
    "rp = RegPipe( reg_input_df )\n",
    "rp.indCols( [ idx[ret_attr, \"Volat factor\"] ] )\n",
    "rp.regress( resStart, v.endDates[-1], regWindow, regStep)"
   ]
  },
  {
   "cell_type": "code",
   "execution_count": null,
   "metadata": {
    "collapsed": false
   },
   "outputs": [],
   "source": [
    "rp.beta_df"
   ]
  },
  {
   "cell_type": "code",
   "execution_count": null,
   "metadata": {
    "collapsed": false
   },
   "outputs": [],
   "source": [
    "gd.save_data(rp.beta_df, \"/tmp/beta_wrt_volfactor_04302018.pkl\")"
   ]
  },
  {
   "cell_type": "code",
   "execution_count": null,
   "metadata": {
    "collapsed": false
   },
   "outputs": [],
   "source": [
    "rp.beta_df.loc[ rp.beta_df.index.max(), idx[\"Beta 1\",:]].to_csv(\"/tmp/beta_wrt_volfactor_04302018.csv\")"
   ]
  },
  {
   "cell_type": "code",
   "execution_count": null,
   "metadata": {
    "collapsed": false
   },
   "outputs": [],
   "source": [
    "missing_universe = list(set(universe) - set(existing_tickers))\n",
    "missing_universe.sort()\n",
    "print(\"No data for following R1000 names: {}\".format(\", \".join(missing_universe)))\n",
    "\n",
    "universe = list(set(universe) - set(missing_universe))\n",
    "universe.sort()\n",
    "print(\"Available universe has {} tickers\".format(len(universe)))"
   ]
  }
 ],
 "metadata": {
  "kernelspec": {
   "display_name": "Python 3",
   "language": "python",
   "name": "python3"
  },
  "language_info": {
   "codemirror_mode": {
    "name": "ipython",
    "version": 3
   },
   "file_extension": ".py",
   "mimetype": "text/x-python",
   "name": "python",
   "nbconvert_exporter": "python",
   "pygments_lexer": "ipython3",
   "version": "3.6.0"
  }
 },
 "nbformat": 4,
 "nbformat_minor": 2
}
