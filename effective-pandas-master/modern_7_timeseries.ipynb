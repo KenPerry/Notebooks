{
 "cells": [
  {
   "cell_type": "markdown",
   "metadata": {},
   "source": [
    "## From \n",
    "https://github.com/TomAugspurger/effective-pandas/tree/updates\n",
    "I had worked through this in more detail in:\n",
    "http://174.129.99.169:8888/notebooks/Modern_Pandas_TimeSeries.ipynb"
   ]
  },
  {
   "cell_type": "code",
   "execution_count": 1,
   "metadata": {
    "collapsed": true
   },
   "outputs": [],
   "source": [
    "from IPython.core.interactiveshell import InteractiveShell\n",
    "InteractiveShell.ast_node_interactivity = \"all\""
   ]
  },
  {
   "cell_type": "markdown",
   "metadata": {},
   "source": [
    "# Timeseries\n",
    "\n",
    "Pandas started out in the financial world, so naturally it has strong timeseries support.\n",
    "\n",
    "The first half of this post will look at pandas' capabilities for manipulating time series data.\n",
    "The second half will discuss modelling time series data with statsmodels."
   ]
  },
  {
   "cell_type": "code",
   "execution_count": 2,
   "metadata": {
    "collapsed": true
   },
   "outputs": [],
   "source": [
    "%matplotlib inline\n",
    "\n",
    "import os\n",
    "import numpy as np\n",
    "import pandas as pd\n",
    "import pandas_datareader.data as web\n",
    "import seaborn as sns\n",
    "import matplotlib.pyplot as plt\n",
    "sns.set(style='ticks', context='talk')\n",
    "\n",
    "if int(os.environ.get(\"MODERN_PANDAS_EPUB\", 0)):\n",
    "    import prep # noqa"
   ]
  },
  {
   "cell_type": "markdown",
   "metadata": {},
   "source": [
    "Let's grab some stock data for Goldman Sachs using the [`pandas-datareader`](http://pandas-datareader.readthedocs.io/en/latest/) package, which spun off of pandas:"
   ]
  },
  {
   "cell_type": "code",
   "execution_count": null,
   "metadata": {
    "collapsed": false
   },
   "outputs": [],
   "source": [
    "gs = web.DataReader(\"GS\", data_source='yahoo', start='2006-01-01',\n",
    "                    end='2010-01-01')\n",
    "gs.head().round(2)"
   ]
  },
  {
   "cell_type": "markdown",
   "metadata": {},
   "source": [
    "There isn't a special data-container just for time series in pandas, they're just `Series` or `DataFrame`s with a `DatetimeIndex`."
   ]
  },
  {
   "cell_type": "markdown",
   "metadata": {},
   "source": [
    "## Special Slicing\n",
    "\n",
    "Looking at the elements of `gs.index`, we see that `DatetimeIndex`es are made up of `pandas.Timestamp`s:"
   ]
  },
  {
   "cell_type": "markdown",
   "metadata": {},
   "source": [
    "Looking at the elements of `gs.index`, we see that `DatetimeIndex`es are made up of `pandas.Timestamp`s:"
   ]
  },
  {
   "cell_type": "code",
   "execution_count": null,
   "metadata": {
    "collapsed": false
   },
   "outputs": [],
   "source": [
    "gs.index[0]"
   ]
  },
  {
   "cell_type": "markdown",
   "metadata": {},
   "source": [
    "A `Timestamp` is mostly compatible with the `datetime.datetime` class, but much amenable to storage in arrays.\n",
    "\n",
    "Working with `Timestamp`s can be awkward, so Series and DataFrames with `DatetimeIndexes` have some special slicing rules.\n",
    "The first special case is *partial-string indexing*. Say we wanted to select all the days in 2006. Even with `Timestamp`'s convenient constructors, it's a pai"
   ]
  },
  {
   "cell_type": "code",
   "execution_count": null,
   "metadata": {
    "collapsed": false
   },
   "outputs": [],
   "source": [
    "gs.loc[pd.Timestamp('2006-01-01'):pd.Timestamp('2006-12-31')].head()"
   ]
  },
  {
   "cell_type": "markdown",
   "metadata": {},
   "source": [
    "Thanks to partial-string indexing, it's as simple as"
   ]
  },
  {
   "cell_type": "code",
   "execution_count": null,
   "metadata": {
    "collapsed": false
   },
   "outputs": [],
   "source": [
    "gs.loc['2006'].head()"
   ]
  },
  {
   "cell_type": "markdown",
   "metadata": {},
   "source": [
    "Since label slicing is inclusive, this slice selects any observation where the year is 2006."
   ]
  },
  {
   "cell_type": "markdown",
   "metadata": {},
   "source": [
    "The second \"convenience\" is `__getitem__` (square-bracket) fall-back indexing. I'm only going to mention it here, with the caveat that you should never use it.\n",
    "DataFrame `__getitem__` typically looks in the column: `gs['2006']` would search `gs.columns` for `'2006'`, not find it, and raise a `KeyError`. But DataFrames with a `DatetimeIndex` catch that `KeyError` and try to slice the index.\n",
    "If it succeeds in slicing the index, the result like `gs.loc['2006']` is returned.\n",
    "If it fails, the `KeyError` is re-raised.\n",
    "This is confusing because in pretty much every other case `DataFrame.__getitem__` works on columns, and it's fragile because if you happened to have a column `'2006'` you *would* get just that column, and no fall-back indexing would occur. Just use `gs.loc['2006']` when slicing DataFrame indexes.\n"
   ]
  },
  {
   "cell_type": "markdown",
   "metadata": {},
   "source": [
    "## Special Methods"
   ]
  },
  {
   "cell_type": "markdown",
   "metadata": {},
   "source": [
    "### Resampling"
   ]
  },
  {
   "cell_type": "markdown",
   "metadata": {},
   "source": [
    "Resampling is similar to a `groupby`: you split the time series into groups (5-day buckets below), apply a function to each group (`mean`), and combine the result (one row per group)."
   ]
  },
  {
   "cell_type": "code",
   "execution_count": null,
   "metadata": {
    "collapsed": false
   },
   "outputs": [],
   "source": [
    "gs.resample(\"5d\").mean().head()"
   ]
  },
  {
   "cell_type": "code",
   "execution_count": null,
   "metadata": {
    "collapsed": false
   },
   "outputs": [],
   "source": [
    "gs.index[0]\n",
    "gs.index[0].weekday()"
   ]
  },
  {
   "cell_type": "code",
   "execution_count": null,
   "metadata": {
    "collapsed": false
   },
   "outputs": [],
   "source": [
    "gs.resample(\"W\").agg(['mean', 'sum']).head()\n",
    "gs.resample(\"W\").index[0].weekday()  # n.b., 01/08/2006 is a Sunday"
   ]
  },
  {
   "cell_type": "markdown",
   "metadata": {},
   "source": [
    "You can up-sample to convert to a higher frequency.\n",
    "The new points are filled with NaNs."
   ]
  },
  {
   "cell_type": "code",
   "execution_count": null,
   "metadata": {
    "collapsed": false
   },
   "outputs": [],
   "source": [
    "gs.resample(\"6H\").mean().head()"
   ]
  },
  {
   "cell_type": "markdown",
   "metadata": {},
   "source": [
    "### Rolling / Expanding / EW"
   ]
  },
  {
   "cell_type": "markdown",
   "metadata": {},
   "source": [
    "These methods aren't unique to `DatetimeIndex`es, but they often make sense with time series, so I'll show them here."
   ]
  },
  {
   "cell_type": "code",
   "execution_count": null,
   "metadata": {
    "collapsed": false
   },
   "outputs": [],
   "source": [
    "gs.Close.plot(label='Raw')\n",
    "gs.Close.rolling(28).mean().plot(label='28D MA')\n",
    "gs.Close.expanding().mean().plot(label='Expanding Average')\n",
    "gs.Close.ewm(alpha=0.03).mean().plot(label='EWMA($\\\\alpha=.03$)')\n",
    "\n",
    "plt.legend(bbox_to_anchor=(1.25, .5))\n",
    "plt.tight_layout()\n",
    "plt.ylabel(\"Close ($)\")\n",
    "sns.despine()"
   ]
  },
  {
   "cell_type": "markdown",
   "metadata": {},
   "source": [
    "Each of `.rolling`, `.expanding`, and `.ewm` return a deferred object, similar to a GroupBy."
   ]
  },
  {
   "cell_type": "code",
   "execution_count": null,
   "metadata": {
    "collapsed": false
   },
   "outputs": [],
   "source": [
    "roll = gs.Close.rolling(30, center=True)\n",
    "roll"
   ]
  },
  {
   "cell_type": "code",
   "execution_count": null,
   "metadata": {
    "collapsed": false
   },
   "outputs": [],
   "source": [
    "m = roll.agg(['mean', 'std'])\n",
    "ax = m['mean'].plot()\n",
    "ax.fill_between(m.index, m['mean'] - m['std'], m['mean'] + m['std'],\n",
    "                alpha=.25)\n",
    "plt.tight_layout()\n",
    "plt.ylabel(\"Close ($)\")\n",
    "sns.despine()"
   ]
  },
  {
   "cell_type": "markdown",
   "metadata": {},
   "source": [
    "## Grab Bag\n",
    "\n",
    "### Offsets\n",
    "\n",
    "These are similar to `dateutil.relativedelta`, but works with arrays."
   ]
  },
  {
   "cell_type": "code",
   "execution_count": null,
   "metadata": {
    "collapsed": false
   },
   "outputs": [],
   "source": [
    "gs.index + pd.DateOffset(months=3, days=-2)"
   ]
  },
  {
   "cell_type": "markdown",
   "metadata": {},
   "source": [
    "### Holiday Calendars\n",
    "\n",
    "There are a whole bunch of special calendars, useful for traders probabaly."
   ]
  },
  {
   "cell_type": "code",
   "execution_count": null,
   "metadata": {
    "collapsed": true
   },
   "outputs": [],
   "source": [
    "from pandas.tseries.holiday import USColumbusDay"
   ]
  },
  {
   "cell_type": "code",
   "execution_count": null,
   "metadata": {
    "collapsed": false
   },
   "outputs": [],
   "source": [
    "USColumbusDay.dates('2015-01-01', '2020-01-01')"
   ]
  },
  {
   "cell_type": "markdown",
   "metadata": {},
   "source": [
    "### Timezones\n",
    "\n",
    "Pandas works with `pytz` for nice timezone-aware datetimes.\n",
    "The typical workflow is\n",
    "\n",
    "1. localize timezone-naive timestamps to some timezone\n",
    "2. convert to desired timezone\n",
    "\n",
    "If you already have timezone-aware Timestamps, there's no need for step one. "
   ]
  },
  {
   "cell_type": "code",
   "execution_count": null,
   "metadata": {
    "collapsed": false
   },
   "outputs": [],
   "source": [
    "# tz naiive -> tz aware..... to desired UTC\n",
    "gs.tz_localize('US/Eastern').tz_convert('UTC').head()"
   ]
  },
  {
   "cell_type": "markdown",
   "metadata": {},
   "source": [
    "## Modeling Time Series\n",
    "\n",
    "The rest of this post will focus on time series in the econometric sense.\n",
    "My indented reader for this section isn't all that clear, so I apologize upfront for any sudden shifts in complexity.\n",
    "I'm roughly targeting material that could be presented in a first or second semester applied statisctics course.\n",
    "What follows certainly isn't a replacement for that.\n",
    "Any formality will be restricted to footnotes for the curious.\n",
    "I've put a whole bunch of resources at the end for people earger to learn more.\n",
    "\n",
    "We'll focus on modelling Average Monthly Flights. Let's download the data.\n",
    "If you've been following along in the series, you've seen most of this code before, so feel free to skip."
   ]
  },
  {
   "cell_type": "code",
   "execution_count": 3,
   "metadata": {
    "collapsed": true
   },
   "outputs": [],
   "source": [
    "import os\n",
    "import io\n",
    "import glob\n",
    "import zipfile\n",
    "from utils import download_timeseries\n",
    "\n",
    "import statsmodels.api as sm\n",
    "\n",
    "\n",
    "def download_many(start, end):\n",
    "    months = pd.period_range(start, end=end, freq='M')\n",
    "    # We could easily parallelize this loop.\n",
    "    for i, month in enumerate(months):\n",
    "        download_timeseries(month)\n",
    "\n",
    "\n",
    "def time_to_datetime(df, columns):\n",
    "    '''\n",
    "    Combine all time items into datetimes.\n",
    "\n",
    "    2014-01-01,1149.0 -> 2014-01-01T11:49:00\n",
    "    '''\n",
    "    def converter(col):\n",
    "        timepart = (col.astype(str)\n",
    "                       .str.replace('\\.0$', '')  # NaNs force float dtype\n",
    "                       .str.pad(4, fillchar='0'))\n",
    "        return  pd.to_datetime(df['fl_date'] + ' ' +\n",
    "                               timepart.str.slice(0, 2) + ':' +\n",
    "                               timepart.str.slice(2, 4),\n",
    "                               errors='coerce')\n",
    "        return datetime_part\n",
    "    df[columns] = df[columns].apply(converter)\n",
    "    return df\n",
    "\n",
    "\n",
    "def read_one(fp):\n",
    "    df = (pd.read_csv(fp, encoding='latin1')\n",
    "            .rename(columns=str.lower)\n",
    "            .drop('unnamed: 6', axis=1)\n",
    "            .pipe(time_to_datetime, ['dep_time', 'arr_time', 'crs_arr_time',\n",
    "                                     'crs_dep_time'])\n",
    "            .assign(fl_date=lambda x: pd.to_datetime(x['fl_date'])))\n",
    "    return df"
   ]
  },
  {
   "cell_type": "markdown",
   "metadata": {},
   "source": [
    "## NOTE: original code did not check that directory for output existed"
   ]
  },
  {
   "cell_type": "code",
   "execution_count": 4,
   "metadata": {
    "collapsed": false
   },
   "outputs": [],
   "source": [
    "import os\n",
    "          \n",
    "if (not os.path.isdir(\"data/timeseries\")):\n",
    "    print(\"Creating directory: {dir}.\".format(dir=\"data/timeseries\"))\n",
    "    os.makedirs(\"data/timeseries\")\n",
    "    \n",
    "store = 'data/ts.hdf5'"
   ]
  },
  {
   "cell_type": "markdown",
   "metadata": {},
   "source": [
    "## Can perform the download_many BUT\n",
    "## Can't unzip ALL the files without kernel crashing\n",
    "###  will just use a subset of the zip files\n",
    "##  n.b., code from Git and web page is out of sync regarding the need to unzip the csv.zip.  read_csv can now handle it so I've modified the notebook"
   ]
  },
  {
   "cell_type": "code",
   "execution_count": null,
   "metadata": {
    "collapsed": false
   },
   "outputs": [],
   "source": [
    "if not os.path.exists(store):\n",
    "    download_many('2000-01-01', '2016-01-01')"
   ]
  },
  {
   "cell_type": "code",
   "execution_count": 5,
   "metadata": {
    "collapsed": false
   },
   "outputs": [],
   "source": [
    "sample_size = 3\n",
    "\n",
    "import glob\n",
    "\n",
    "if not os.path.exists(store):\n",
    "    zips = glob.glob(os.path.join('data', 'timeseries', '*.zip'))\n",
    "    \n",
    "    sample = list( pd.Series( np.arange(0, len(zips) )).sample(sample_size, random_state=42) )\n",
    "    dfs = [read_one(fp) for fp in [ zips[i]  for i in sample ] ]\n",
    "    df = pd.concat(dfs, ignore_index=True)\n",
    "\n",
    "    df['origin'] = df['origin'].astype('category')\n",
    "    df.to_hdf(store, 'ts', format='table')\n",
    "else:\n",
    "    df = pd.read_hdf(store, 'ts')"
   ]
  },
  {
   "cell_type": "code",
   "execution_count": 6,
   "metadata": {
    "collapsed": false
   },
   "outputs": [
    {
     "name": "stdout",
     "output_type": "stream",
     "text": [
      "fl_date         datetime64[ns]\n",
      "origin                category\n",
      "crs_dep_time    datetime64[ns]\n",
      "dep_time        datetime64[ns]\n",
      "crs_arr_time    datetime64[ns]\n",
      "arr_time        datetime64[ns]\n",
      "dtype: object\n"
     ]
    }
   ],
   "source": [
    "with pd.option_context('display.max_rows', 100):\n",
    "    print(df.dtypes)"
   ]
  },
  {
   "cell_type": "markdown",
   "metadata": {},
   "source": [
    "We can calculate the historical values with a resample."
   ]
  },
  {
   "cell_type": "code",
   "execution_count": 15,
   "metadata": {
    "collapsed": false
   },
   "outputs": [
    {
     "data": {
      "text/plain": [
       "2010-11-01    18448.0\n",
       "2010-11-02    17837.0\n",
       "2010-11-03    17982.0\n",
       "2010-11-04    18317.0\n",
       "2010-11-05    18394.0\n",
       "Freq: D, Name: fl_date, dtype: float64"
      ]
     },
     "execution_count": 15,
     "metadata": {},
     "output_type": "execute_result"
    }
   ],
   "source": [
    "daily = df.fl_date.value_counts().sort_index()\n",
    "y = daily.resample('D').mean()\n",
    "y.head()"
   ]
  },
  {
   "cell_type": "markdown",
   "metadata": {},
   "source": [
    "Note that I use the `\"MS\"` frequency code there.\n",
    "Pandas defaults to end of month (or end of year).\n",
    "Append an `'S'` to get the start."
   ]
  },
  {
   "cell_type": "code",
   "execution_count": 16,
   "metadata": {
    "collapsed": false
   },
   "outputs": [
    {
     "data": {
      "text/plain": [
       "[<matplotlib.text.Text at 0x7fc47a348b00>]"
      ]
     },
     "execution_count": 16,
     "metadata": {},
     "output_type": "execute_result"
    },
    {
     "data": {
      "image/png": "[encoded data removed]",
      "text/plain": [
       "<matplotlib.figure.Figure at 0x7fc47a3b2780>"
      ]
     },
     "metadata": {},
     "output_type": "display_data"
    }
   ],
   "source": [
    "ax = y.plot()\n",
    "ax.set(ylabel='Average Monthly Flights')\n",
    "sns.despine()"
   ]
  },
  {
   "cell_type": "code",
   "execution_count": 9,
   "metadata": {
    "collapsed": true
   },
   "outputs": [],
   "source": [
    "import statsmodels.formula.api as smf\n",
    "import statsmodels.tsa.api as smt\n",
    "import statsmodels.api as sm"
   ]
  },
  {
   "cell_type": "markdown",
   "metadata": {},
   "source": [
    "One note of warning: I'm using the development version of statsmodels (commit `de15ec8` to be precise).\n",
    "Not all of the items I've shown here are available in the currently-released version.\n",
    "\n",
    "Think back to a typical regression problem, ignoring anything to do with time series for now.\n",
    "The usual task is to predict some value $y$ using some a linear combination of features in $X$.\n",
    "\n",
    "$$y = \\beta_0 + \\beta_1 X_1 + \\ldots + \\beta_p X_p + \\epsilon$$\n",
    "\n",
    "When working with time series, some of the most important (and sometimes *only*) features are the previous, or *lagged*, values of $y$.\n",
    "\n",
    "Let's start by trying just that \"manually\": running a regression of `y` on lagged values of itself.\n",
    "We'll see that this regression suffers from a few problems: multicollinearity, autocorrelation, non-stationarity, and seasonality.\n",
    "I'll explain what each of those are in turn and why they're problems.\n",
    "Afterwards, we'll use a second model, seasonal ARIMA, which handles those problems for us.\n",
    "\n",
    "First, let's create a dataframe with our lagged values of `y` using the `.shift` method, which shifts the index `i` periods, so it lines up with that observation."
   ]
  },
  {
   "cell_type": "code",
   "execution_count": 17,
   "metadata": {
    "collapsed": false
   },
   "outputs": [
    {
     "data": {
      "text/html": [
       "<div>\n",
       "<table border=\"1\" class=\"dataframe\">\n",
       "  <thead>\n",
       "    <tr style=\"text-align: right;\">\n",
       "      <th></th>\n",
       "      <th>y</th>\n",
       "      <th>L1</th>\n",
       "      <th>L2</th>\n",
       "      <th>L3</th>\n",
       "      <th>L4</th>\n",
       "      <th>L5</th>\n",
       "    </tr>\n",
       "  </thead>\n",
       "  <tbody>\n",
       "    <tr>\n",
       "      <th>2010-11-06</th>\n",
       "      <td>14540.0</td>\n",
       "      <td>18394.0</td>\n",
       "      <td>18317.0</td>\n",
       "      <td>17982.0</td>\n",
       "      <td>17837.0</td>\n",
       "      <td>18448.0</td>\n",
       "    </tr>\n",
       "    <tr>\n",
       "      <th>2010-11-07</th>\n",
       "      <td>17324.0</td>\n",
       "      <td>14540.0</td>\n",
       "      <td>18394.0</td>\n",
       "      <td>18317.0</td>\n",
       "      <td>17982.0</td>\n",
       "      <td>17837.0</td>\n",
       "    </tr>\n",
       "    <tr>\n",
       "      <th>2010-11-08</th>\n",
       "      <td>18249.0</td>\n",
       "      <td>17324.0</td>\n",
       "      <td>14540.0</td>\n",
       "      <td>18394.0</td>\n",
       "      <td>18317.0</td>\n",
       "      <td>17982.0</td>\n",
       "    </tr>\n",
       "    <tr>\n",
       "      <th>2010-11-09</th>\n",
       "      <td>17605.0</td>\n",
       "      <td>18249.0</td>\n",
       "      <td>17324.0</td>\n",
       "      <td>14540.0</td>\n",
       "      <td>18394.0</td>\n",
       "      <td>18317.0</td>\n",
       "    </tr>\n",
       "    <tr>\n",
       "      <th>2010-11-10</th>\n",
       "      <td>17763.0</td>\n",
       "      <td>17605.0</td>\n",
       "      <td>18249.0</td>\n",
       "      <td>17324.0</td>\n",
       "      <td>14540.0</td>\n",
       "      <td>18394.0</td>\n",
       "    </tr>\n",
       "  </tbody>\n",
       "</table>\n",
       "</div>"
      ],
      "text/plain": [
       "                  y       L1       L2       L3       L4       L5\n",
       "2010-11-06  14540.0  18394.0  18317.0  17982.0  17837.0  18448.0\n",
       "2010-11-07  17324.0  14540.0  18394.0  18317.0  17982.0  17837.0\n",
       "2010-11-08  18249.0  17324.0  14540.0  18394.0  18317.0  17982.0\n",
       "2010-11-09  17605.0  18249.0  17324.0  14540.0  18394.0  18317.0\n",
       "2010-11-10  17763.0  17605.0  18249.0  17324.0  14540.0  18394.0"
      ]
     },
     "execution_count": 17,
     "metadata": {},
     "output_type": "execute_result"
    }
   ],
   "source": [
    "X = (pd.concat([y.shift(i) for i in range(6)], axis=1,\n",
    "               keys=['y'] + ['L%s' % i for i in range(1, 6)])\n",
    "       .dropna())\n",
    "X.head()"
   ]
  },
  {
   "cell_type": "markdown",
   "metadata": {},
   "source": [
    "We can fit the lagged model using statsmodels (which uses [patsy](http://patsy.readthedocs.org) to translate the formula string to a design matrix)."
   ]
  },
  {
   "cell_type": "code",
   "execution_count": 18,
   "metadata": {
    "collapsed": false
   },
   "outputs": [
    {
     "data": {
      "text/html": [
       "<table class=\"simpletable\">\n",
       "<caption>OLS Regression Results</caption>\n",
       "<tr>\n",
       "  <th>Dep. Variable:</th>            <td>y</td>        <th>  R-squared:         </th> <td>   0.196</td>\n",
       "</tr>\n",
       "<tr>\n",
       "  <th>Model:</th>                   <td>OLS</td>       <th>  Adj. R-squared:    </th> <td>   0.127</td>\n",
       "</tr>\n",
       "<tr>\n",
       "  <th>Method:</th>             <td>Least Squares</td>  <th>  F-statistic:       </th> <td>   2.842</td>\n",
       "</tr>\n",
       "<tr>\n",
       "  <th>Date:</th>             <td>Wed, 08 Nov 2017</td> <th>  Prob (F-statistic):</th>  <td>0.0156</td> \n",
       "</tr>\n",
       "<tr>\n",
       "  <th>Time:</th>                 <td>16:13:09</td>     <th>  Log-Likelihood:    </th> <td> -673.12</td>\n",
       "</tr>\n",
       "<tr>\n",
       "  <th>No. Observations:</th>      <td>    77</td>      <th>  AIC:               </th> <td>   1360.</td>\n",
       "</tr>\n",
       "<tr>\n",
       "  <th>Df Residuals:</th>          <td>    70</td>      <th>  BIC:               </th> <td>   1377.</td>\n",
       "</tr>\n",
       "<tr>\n",
       "  <th>Df Model:</th>              <td>     6</td>      <th>                     </th>     <td> </td>   \n",
       "</tr>\n",
       "<tr>\n",
       "  <th>Covariance Type:</th>      <td>nonrobust</td>    <th>                     </th>     <td> </td>   \n",
       "</tr>\n",
       "</table>\n",
       "<table class=\"simpletable\">\n",
       "<tr>\n",
       "      <td></td>         <th>coef</th>     <th>std err</th>      <th>t</th>      <th>P>|t|</th> <th>[95.0% Conf. Int.]</th> \n",
       "</tr>\n",
       "<tr>\n",
       "  <th>Intercept</th> <td> 1.359e+04</td> <td> 3999.518</td> <td>    3.397</td> <td> 0.001</td> <td> 5611.479  2.16e+04</td>\n",
       "</tr>\n",
       "<tr>\n",
       "  <th>trend</th>     <td>  -22.1304</td> <td>   10.377</td> <td>   -2.133</td> <td> 0.036</td> <td>  -42.826    -1.435</td>\n",
       "</tr>\n",
       "<tr>\n",
       "  <th>L1</th>        <td>    0.2601</td> <td>    0.124</td> <td>    2.096</td> <td> 0.040</td> <td>    0.013     0.508</td>\n",
       "</tr>\n",
       "<tr>\n",
       "  <th>L2</th>        <td>   -0.1808</td> <td>    0.128</td> <td>   -1.409</td> <td> 0.163</td> <td>   -0.437     0.075</td>\n",
       "</tr>\n",
       "<tr>\n",
       "  <th>L3</th>        <td>    0.0921</td> <td>    0.126</td> <td>    0.732</td> <td> 0.466</td> <td>   -0.159     0.343</td>\n",
       "</tr>\n",
       "<tr>\n",
       "  <th>L4</th>        <td>    0.0332</td> <td>    0.124</td> <td>    0.267</td> <td> 0.790</td> <td>   -0.215     0.281</td>\n",
       "</tr>\n",
       "<tr>\n",
       "  <th>L5</th>        <td>   -0.0022</td> <td>    0.122</td> <td>   -0.018</td> <td> 0.986</td> <td>   -0.245     0.241</td>\n",
       "</tr>\n",
       "</table>\n",
       "<table class=\"simpletable\">\n",
       "<tr>\n",
       "  <th>Omnibus:</th>       <td>22.895</td> <th>  Durbin-Watson:     </th> <td>   1.862</td>\n",
       "</tr>\n",
       "<tr>\n",
       "  <th>Prob(Omnibus):</th> <td> 0.000</td> <th>  Jarque-Bera (JB):  </th> <td>  30.481</td>\n",
       "</tr>\n",
       "<tr>\n",
       "  <th>Skew:</th>          <td>-1.380</td> <th>  Prob(JB):          </th> <td>2.41e-07</td>\n",
       "</tr>\n",
       "<tr>\n",
       "  <th>Kurtosis:</th>      <td> 4.373</td> <th>  Cond. No.          </th> <td>7.94e+05</td>\n",
       "</tr>\n",
       "</table>"
      ],
      "text/plain": [
       "<class 'statsmodels.iolib.summary.Summary'>\n",
       "\"\"\"\n",
       "                            OLS Regression Results                            \n",
       "==============================================================================\n",
       "Dep. Variable:                      y   R-squared:                       0.196\n",
       "Model:                            OLS   Adj. R-squared:                  0.127\n",
       "Method:                 Least Squares   F-statistic:                     2.842\n",
       "Date:                Wed, 08 Nov 2017   Prob (F-statistic):             0.0156\n",
       "Time:                        16:13:09   Log-Likelihood:                -673.12\n",
       "No. Observations:                  77   AIC:                             1360.\n",
       "Df Residuals:                      70   BIC:                             1377.\n",
       "Df Model:                           6                                         \n",
       "Covariance Type:            nonrobust                                         \n",
       "==============================================================================\n",
       "                 coef    std err          t      P>|t|      [95.0% Conf. Int.]\n",
       "------------------------------------------------------------------------------\n",
       "Intercept   1.359e+04   3999.518      3.397      0.001      5611.479  2.16e+04\n",
       "trend        -22.1304     10.377     -2.133      0.036       -42.826    -1.435\n",
       "L1             0.2601      0.124      2.096      0.040         0.013     0.508\n",
       "L2            -0.1808      0.128     -1.409      0.163        -0.437     0.075\n",
       "L3             0.0921      0.126      0.732      0.466        -0.159     0.343\n",
       "L4             0.0332      0.124      0.267      0.790        -0.215     0.281\n",
       "L5            -0.0022      0.122     -0.018      0.986        -0.245     0.241\n",
       "==============================================================================\n",
       "Omnibus:                       22.895   Durbin-Watson:                   1.862\n",
       "Prob(Omnibus):                  0.000   Jarque-Bera (JB):               30.481\n",
       "Skew:                          -1.380   Prob(JB):                     2.41e-07\n",
       "Kurtosis:                       4.373   Cond. No.                     7.94e+05\n",
       "==============================================================================\n",
       "\n",
       "Warnings:\n",
       "[1] Standard Errors assume that the covariance matrix of the errors is correctly specified.\n",
       "[2] The condition number is large, 7.94e+05. This might indicate that there are\n",
       "strong multicollinearity or other numerical problems.\n",
       "\"\"\""
      ]
     },
     "execution_count": 18,
     "metadata": {},
     "output_type": "execute_result"
    }
   ],
   "source": [
    "mod_lagged = smf.ols('y ~ trend + L1 + L2 + L3 + L4 + L5',\n",
    "                     data=X.assign(trend=np.arange(len(X))))\n",
    "res_lagged = mod_lagged.fit()\n",
    "res_lagged.summary()"
   ]
  },
  {
   "cell_type": "markdown",
   "metadata": {},
   "source": [
    "There are a few problems with this approach though.\n",
    "Since our lagged values are highly correlated with each other, our regression suffers from [multicollinearity](https://en.wikipedia.org/wiki/Multicollinearity).\n",
    "That ruins our estimates of the slopes."
   ]
  },
  {
   "cell_type": "code",
   "execution_count": 19,
   "metadata": {
    "collapsed": false
   },
   "outputs": [
    {
     "data": {
      "image/png": "[encoded data removed]",
      "text/plain": [
       "<matplotlib.figure.Figure at 0x7fc47a45c710>"
      ]
     },
     "metadata": {},
     "output_type": "display_data"
    }
   ],
   "source": [
    "sns.heatmap(X.corr());"
   ]
  },
  {
   "cell_type": "markdown",
   "metadata": {},
   "source": [
    "Second, we'd intuitively expect the $\\beta_i$s to gradually decline to zero.\n",
    "The immediately preceding period *should* be most important ($\\beta_1$ is the largest coefficient in absolute value), followed by $\\beta_2$, and $\\beta_3$...\n",
    "Looking at the regression summary and the bar graph below, this isn't the case (the cause is related to multicollinearity)."
   ]
  },
  {
   "cell_type": "code",
   "execution_count": 20,
   "metadata": {
    "collapsed": false
   },
   "outputs": [
    {
     "data": {
      "text/plain": [
       "Intercept    13588.266213\n",
       "trend          -22.130446\n",
       "L1               0.260133\n",
       "L2              -0.180800\n",
       "L3               0.092147\n",
       "L4               0.033235\n",
       "L5              -0.002209\n",
       "dtype: float64"
      ]
     },
     "execution_count": 20,
     "metadata": {},
     "output_type": "execute_result"
    }
   ],
   "source": [
    "res_lagged.params"
   ]
  },
  {
   "cell_type": "code",
   "execution_count": 21,
   "metadata": {
    "collapsed": false
   },
   "outputs": [
    {
     "data": {
      "text/plain": [
       "<matplotlib.text.Text at 0x7fc47a1c8be0>"
      ]
     },
     "execution_count": 21,
     "metadata": {},
     "output_type": "execute_result"
    },
    {
     "data": {
      "image/png": "[encoded data removed]",
      "text/plain": [
       "<matplotlib.figure.Figure at 0x7fc47a37e400>"
      ]
     },
     "metadata": {},
     "output_type": "display_data"
    }
   ],
   "source": [
    "ax = res_lagged.params.drop(['Intercept', 'trend']).plot.bar(rot=0)\n",
    "plt.ylabel('Coefficeint')\n",
    "sns.despine()"
   ]
  },
  {
   "cell_type": "markdown",
   "metadata": {},
   "source": [
    "Finally, our degrees of freedom drop since we lose two for each variable (one for estimating the coefficient, one for the lost observation as a result of the `shift`).\n",
    "At least in (macro)econometrics, each observation is precious and we're loath to throw them away, though sometimes that's unavoidable."
   ]
  },
  {
   "cell_type": "markdown",
   "metadata": {},
   "source": [
    "### Autocorrelation"
   ]
  },
  {
   "cell_type": "markdown",
   "metadata": {},
   "source": [
    "Another problem our lagged model suffered from is [autocorrelation](https://en.wikipedia.org/wiki/Autocorrelation) (also know as serial correlation).\n",
    "Roughly speaking, autocorrelation is when there's a clear pattern in the residuals of your regression (the observed minus the predicted).\n",
    "Let's fit a simple model of $y = \\beta_0 + \\beta_1 T + \\epsilon$, where `T` is the time trend (`np.arange(len(y))`)."
   ]
  },
  {
   "cell_type": "code",
   "execution_count": 22,
   "metadata": {
    "collapsed": true
   },
   "outputs": [],
   "source": [
    "# `Results.resid` is a Series of residuals: y - ŷ\n",
    "mod_trend = sm.OLS.from_formula(\n",
    "    'y ~ trend', data=y.to_frame(name='y')\n",
    "                       .assign(trend=np.arange(len(y))))\n",
    "res_trend = mod_trend.fit()"
   ]
  },
  {
   "cell_type": "markdown",
   "metadata": {},
   "source": [
    "Residuals (the observed minus the expected, or $\\hat{e_t} = y_t - \\hat{y_t}$) are supposed to be [white noise](https://en.wikipedia.org/wiki/White_noise).\n",
    "That's [one of the assumptions](https://en.wikipedia.org/wiki/Gauss–Markov_theorem) many of the properties of linear regression are founded upon.\n",
    "In this case there's a correlation between one residual and the next: if the residual at time $t$ was above expectation, then the residual at time $t + 1$ is *much* more likely to be above average as well ($e_t > 0 \\implies E_t[e_{t+1}] > 0$).\n",
    "\n",
    "We'll define a helper function to plot the residuals time series, and some diagnostics about them."
   ]
  },
  {
   "cell_type": "code",
   "execution_count": 23,
   "metadata": {
    "collapsed": true
   },
   "outputs": [],
   "source": [
    "def tsplot(y, lags=None, figsize=(10, 8)):\n",
    "    fig = plt.figure(figsize=figsize)\n",
    "    layout = (2, 2)\n",
    "    ts_ax = plt.subplot2grid(layout, (0, 0), colspan=2)\n",
    "    acf_ax = plt.subplot2grid(layout, (1, 0))\n",
    "    pacf_ax = plt.subplot2grid(layout, (1, 1))\n",
    "    \n",
    "    y.plot(ax=ts_ax)\n",
    "    smt.graphics.plot_acf(y, lags=lags, ax=acf_ax)\n",
    "    smt.graphics.plot_pacf(y, lags=lags, ax=pacf_ax)\n",
    "    [ax.set_xlim(1.5) for ax in [acf_ax, pacf_ax]]\n",
    "    sns.despine()\n",
    "    plt.tight_layout()\n",
    "    return ts_ax, acf_ax, pacf_ax"
   ]
  },
  {
   "cell_type": "markdown",
   "metadata": {},
   "source": [
    "Calling it on the residuals from the linear trend:"
   ]
  },
  {
   "cell_type": "code",
   "execution_count": 24,
   "metadata": {
    "collapsed": false
   },
   "outputs": [
    {
     "data": {
      "image/png": "[encoded data removed]",
      "text/plain": [
       "<matplotlib.figure.Figure at 0x7fc47a19eb00>"
      ]
     },
     "metadata": {},
     "output_type": "display_data"
    }
   ],
   "source": [
    "tsplot(res_trend.resid, lags=36);"
   ]
  },
  {
   "cell_type": "markdown",
   "metadata": {},
   "source": [
    "The top subplot shows the time series of our residuals $e_t$, which should be white noise (but it isn't).\n",
    "The bottom shows the [autocorrelation](https://www.otexts.org/fpp/2/2#autocorrelation) of the residuals as a correlogram.\n",
    "It measures the correlation between a value and it's lagged self, e.g. $corr(e_t, e_{t-1}), corr(e_t, e_{t-2}), \\ldots$.\n",
    "The partial autocorrelation plot in the bottom-right shows a similar concept.\n",
    "It's partial in the sense that the value for $corr(e_t, e_{t-k})$ is the correlation between those two periods, after controlling for the values at all shorter lags.\n",
    "\n",
    "Autocorrelation is a problem in regular regressions like above, but we'll use it to our advantage when we setup an ARIMA model below.\n",
    "The basic idea is pretty sensible: if your regression residuals have a clear pattern, then there's clearly some structure in the data that you aren't taking advantage of.\n",
    "If a positive residual today means you'll likely have a positive residual tomorrow, why not incorporate that information into your forecast, and lower your forecasted value for tomorrow?\n",
    "That's pretty much what ARIMA does."
   ]
  },
  {
   "cell_type": "markdown",
   "metadata": {},
   "source": [
    "It's important that your dataset be stationary, otherwise you run the risk of finding [spurious correlations](http://www.tylervigen.com/spurious-correlations).\n",
    "A common example is the relationship between number of TVs per person and life expectancy.\n",
    "It's not likely that there's an actual causal relationship there.\n",
    "Rather, there could be a third variable that's driving both (wealth, say).\n",
    "[Granger and Newbold (1974)](http://wolfweb.unr.edu/homepage/zal/STAT758/Granger_Newbold_1974.pdf) had some stern words for the econometrics literature on this.\n",
    "\n",
    "> We find it very curious that whereas virtually every textbook on econometric methodology contains explicit warnings of the dangers of autocorrelated errors, this phenomenon crops up so frequently in well-respected applied work.\n",
    "\n",
    "(:fire:), but in that academic passive-aggressive way.\n",
    "\n",
    "The typical way to handle non-stationarity is to difference the non-stationary variable until is is stationary."
   ]
  },
  {
   "cell_type": "code",
   "execution_count": 27,
   "metadata": {
    "collapsed": false
   },
   "outputs": [
    {
     "data": {
      "text/html": [
       "<div>\n",
       "<table border=\"1\" class=\"dataframe\">\n",
       "  <thead>\n",
       "    <tr style=\"text-align: right;\">\n",
       "      <th></th>\n",
       "      <th>y</th>\n",
       "      <th>Δy</th>\n",
       "    </tr>\n",
       "  </thead>\n",
       "  <tbody>\n",
       "    <tr>\n",
       "      <th>2010-11-01</th>\n",
       "      <td>18448.0</td>\n",
       "      <td>NaN</td>\n",
       "    </tr>\n",
       "    <tr>\n",
       "      <th>2010-11-02</th>\n",
       "      <td>17837.0</td>\n",
       "      <td>-611.0</td>\n",
       "    </tr>\n",
       "    <tr>\n",
       "      <th>2010-11-03</th>\n",
       "      <td>17982.0</td>\n",
       "      <td>145.0</td>\n",
       "    </tr>\n",
       "    <tr>\n",
       "      <th>2010-11-04</th>\n",
       "      <td>18317.0</td>\n",
       "      <td>335.0</td>\n",
       "    </tr>\n",
       "    <tr>\n",
       "      <th>2010-11-05</th>\n",
       "      <td>18394.0</td>\n",
       "      <td>77.0</td>\n",
       "    </tr>\n",
       "  </tbody>\n",
       "</table>\n",
       "</div>"
      ],
      "text/plain": [
       "                  y     Δy\n",
       "2010-11-01  18448.0    NaN\n",
       "2010-11-02  17837.0 -611.0\n",
       "2010-11-03  17982.0  145.0\n",
       "2010-11-04  18317.0  335.0\n",
       "2010-11-05  18394.0   77.0"
      ]
     },
     "execution_count": 27,
     "metadata": {},
     "output_type": "execute_result"
    }
   ],
   "source": [
    "y.to_frame(name='y').assign(Δy=lambda x: x.y.diff()).head()"
   ]
  },
  {
   "cell_type": "code",
   "execution_count": 25,
   "metadata": {
    "collapsed": false
   },
   "outputs": [
    {
     "data": {
      "text/plain": [
       "array([<matplotlib.axes._subplots.AxesSubplot object at 0x7fc47a058cc0>,\n",
       "       <matplotlib.axes._subplots.AxesSubplot object at 0x7fc479fd6e48>], dtype=object)"
      ]
     },
     "execution_count": 25,
     "metadata": {},
     "output_type": "execute_result"
    },
    {
     "data": {
      "image/png": "[encoded data removed]",
      "text/plain": [
       "<matplotlib.figure.Figure at 0x7fc47a006a20>"
      ]
     },
     "metadata": {},
     "output_type": "display_data"
    }
   ],
   "source": [
    "y.to_frame(name='y').assign(Δy=lambda x: x.y.diff()).plot(subplots=True)\n",
    "sns.despine()"
   ]
  },
  {
   "cell_type": "markdown",
   "metadata": {},
   "source": [
    "Our original series actually doesn't look *that* bad.\n",
    "It doesn't look like nominal GDP say, where there's a clearly rising trend.\n",
    "But we have more rigorous methods for detecting whether a series is non-stationary than simply plotting and squinting at it.\n",
    "One popular method is the Augmented Dickey-Fuller test.\n",
    "It's a statistical hypothesis test that roughly says:\n",
    "\n",
    "$H_0$ (null hypothesis): $y$ is non-stationary, needs to be differenced\n",
    "\n",
    "$H_A$ (alternative hypothesis): $y$ is stationary, doesn't need to be differenced\n",
    "\n",
    "I don't want to get into the weeds on exactly what the test statistic is, and what the distribution looks like.\n",
    "This is implemented in statsmodels as [`smt.adfuller`](http://www.statsmodels.org/dev/generated/statsmodels.tsa.stattools.adfuller.html).\n",
    "The return type is a bit busy for me, so we'll wrap it in a `namedtuple`."
   ]
  },
  {
   "cell_type": "markdown",
   "metadata": {},
   "source": [
    "## namedtuple constructor: seems to take names of \"keys\" for future data structure"
   ]
  },
  {
   "cell_type": "code",
   "execution_count": 28,
   "metadata": {
    "collapsed": true
   },
   "outputs": [],
   "source": [
    "from collections import namedtuple\n",
    "\n",
    "ADF = namedtuple(\"ADF\", \"adf pvalue usedlag nobs critical icbest\")"
   ]
  },
  {
   "cell_type": "code",
   "execution_count": 34,
   "metadata": {
    "collapsed": false
   },
   "outputs": [
    {
     "data": {
      "text/plain": [
       "__main__.ADF"
      ]
     },
     "execution_count": 34,
     "metadata": {},
     "output_type": "execute_result"
    }
   ],
   "source": [
    "ADF"
   ]
  },
  {
   "cell_type": "code",
   "execution_count": 29,
   "metadata": {
    "collapsed": false
   },
   "outputs": [
    {
     "ename": "LinAlgError",
     "evalue": "SVD did not converge",
     "output_type": "error",
     "traceback": [
      "\u001b[0;31m\u001b[0m",
      "\u001b[0;31mLinAlgError\u001b[0mTraceback (most recent call last)",
      "\u001b[0;32m<ipython-input-29-2f8881e1d625>\u001b[0m in \u001b[0;36m<module>\u001b[0;34m()\u001b[0m\n\u001b[0;32m----> 1\u001b[0;31m \u001b[0mADF\u001b[0m\u001b[0;34m(\u001b[0m\u001b[0;34m*\u001b[0m\u001b[0msmt\u001b[0m\u001b[0;34m.\u001b[0m\u001b[0madfuller\u001b[0m\u001b[0;34m(\u001b[0m\u001b[0my\u001b[0m\u001b[0;34m)\u001b[0m\u001b[0;34m)\u001b[0m\u001b[0;34m.\u001b[0m\u001b[0m_asdict\u001b[0m\u001b[0;34m(\u001b[0m\u001b[0;34m)\u001b[0m\u001b[0;34m\u001b[0m\u001b[0m\n\u001b[0m",
      "\u001b[0;32m/opt/conda/lib/python3.5/site-packages/statsmodels/tsa/stattools.py\u001b[0m in \u001b[0;36madfuller\u001b[0;34m(x, maxlag, regression, autolag, store, regresults)\u001b[0m\n\u001b[1;32m    229\u001b[0m         \u001b[0;32mif\u001b[0m \u001b[0;32mnot\u001b[0m \u001b[0mregresults\u001b[0m\u001b[0;34m:\u001b[0m\u001b[0;34m\u001b[0m\u001b[0m\n\u001b[1;32m    230\u001b[0m             icbest, bestlag = _autolag(OLS, xdshort, fullRHS, startlag,\n\u001b[0;32m--> 231\u001b[0;31m                                        maxlag, autolag)\n\u001b[0m\u001b[1;32m    232\u001b[0m         \u001b[0;32melse\u001b[0m\u001b[0;34m:\u001b[0m\u001b[0;34m\u001b[0m\u001b[0m\n\u001b[1;32m    233\u001b[0m             icbest, bestlag, alres = _autolag(OLS, xdshort, fullRHS, startlag,\n",
      "\u001b[0;32m/opt/conda/lib/python3.5/site-packages/statsmodels/tsa/stattools.py\u001b[0m in \u001b[0;36m_autolag\u001b[0;34m(mod, endog, exog, startlag, maxlag, method, modargs, fitargs, regresults)\u001b[0m\n\u001b[1;32m     71\u001b[0m     \u001b[0;32mfor\u001b[0m \u001b[0mlag\u001b[0m \u001b[0;32min\u001b[0m \u001b[0mrange\u001b[0m\u001b[0;34m(\u001b[0m\u001b[0mstartlag\u001b[0m\u001b[0;34m,\u001b[0m \u001b[0mstartlag\u001b[0m \u001b[0;34m+\u001b[0m \u001b[0mmaxlag\u001b[0m \u001b[0;34m+\u001b[0m \u001b[0;36m1\u001b[0m\u001b[0;34m)\u001b[0m\u001b[0;34m:\u001b[0m\u001b[0;34m\u001b[0m\u001b[0m\n\u001b[1;32m     72\u001b[0m         \u001b[0mmod_instance\u001b[0m \u001b[0;34m=\u001b[0m \u001b[0mmod\u001b[0m\u001b[0;34m(\u001b[0m\u001b[0mendog\u001b[0m\u001b[0;34m,\u001b[0m \u001b[0mexog\u001b[0m\u001b[0;34m[\u001b[0m\u001b[0;34m:\u001b[0m\u001b[0;34m,\u001b[0m \u001b[0;34m:\u001b[0m\u001b[0mlag\u001b[0m\u001b[0;34m]\u001b[0m\u001b[0;34m,\u001b[0m \u001b[0;34m*\u001b[0m\u001b[0mmodargs\u001b[0m\u001b[0;34m)\u001b[0m\u001b[0;34m\u001b[0m\u001b[0m\n\u001b[0;32m---> 73\u001b[0;31m         \u001b[0mresults\u001b[0m\u001b[0;34m[\u001b[0m\u001b[0mlag\u001b[0m\u001b[0;34m]\u001b[0m \u001b[0;34m=\u001b[0m \u001b[0mmod_instance\u001b[0m\u001b[0;34m.\u001b[0m\u001b[0mfit\u001b[0m\u001b[0;34m(\u001b[0m\u001b[0;34m)\u001b[0m\u001b[0;34m\u001b[0m\u001b[0m\n\u001b[0m\u001b[1;32m     74\u001b[0m \u001b[0;34m\u001b[0m\u001b[0m\n\u001b[1;32m     75\u001b[0m     \u001b[0;32mif\u001b[0m \u001b[0mmethod\u001b[0m \u001b[0;34m==\u001b[0m \u001b[0;34m\"aic\"\u001b[0m\u001b[0;34m:\u001b[0m\u001b[0;34m\u001b[0m\u001b[0m\n",
      "\u001b[0;32m/opt/conda/lib/python3.5/site-packages/statsmodels/regression/linear_model.py\u001b[0m in \u001b[0;36mfit\u001b[0;34m(self, method, cov_type, cov_kwds, use_t, **kwargs)\u001b[0m\n\u001b[1;32m    172\u001b[0m                 (not hasattr(self, 'rank'))):\n\u001b[1;32m    173\u001b[0m \u001b[0;34m\u001b[0m\u001b[0m\n\u001b[0;32m--> 174\u001b[0;31m                 \u001b[0mself\u001b[0m\u001b[0;34m.\u001b[0m\u001b[0mpinv_wexog\u001b[0m\u001b[0;34m,\u001b[0m \u001b[0msingular_values\u001b[0m \u001b[0;34m=\u001b[0m \u001b[0mpinv_extended\u001b[0m\u001b[0;34m(\u001b[0m\u001b[0mself\u001b[0m\u001b[0;34m.\u001b[0m\u001b[0mwexog\u001b[0m\u001b[0;34m)\u001b[0m\u001b[0;34m\u001b[0m\u001b[0m\n\u001b[0m\u001b[1;32m    175\u001b[0m                 self.normalized_cov_params = np.dot(self.pinv_wexog,\n\u001b[1;32m    176\u001b[0m                                         np.transpose(self.pinv_wexog))\n",
      "\u001b[0;32m/opt/conda/lib/python3.5/site-packages/statsmodels/tools/tools.py\u001b[0m in \u001b[0;36mpinv_extended\u001b[0;34m(X, rcond)\u001b[0m\n\u001b[1;32m    390\u001b[0m     \u001b[0mX\u001b[0m \u001b[0;34m=\u001b[0m \u001b[0mnp\u001b[0m\u001b[0;34m.\u001b[0m\u001b[0masarray\u001b[0m\u001b[0;34m(\u001b[0m\u001b[0mX\u001b[0m\u001b[0;34m)\u001b[0m\u001b[0;34m\u001b[0m\u001b[0m\n\u001b[1;32m    391\u001b[0m     \u001b[0mX\u001b[0m \u001b[0;34m=\u001b[0m \u001b[0mX\u001b[0m\u001b[0;34m.\u001b[0m\u001b[0mconjugate\u001b[0m\u001b[0;34m(\u001b[0m\u001b[0;34m)\u001b[0m\u001b[0;34m\u001b[0m\u001b[0m\n\u001b[0;32m--> 392\u001b[0;31m     \u001b[0mu\u001b[0m\u001b[0;34m,\u001b[0m \u001b[0ms\u001b[0m\u001b[0;34m,\u001b[0m \u001b[0mvt\u001b[0m \u001b[0;34m=\u001b[0m \u001b[0mnp\u001b[0m\u001b[0;34m.\u001b[0m\u001b[0mlinalg\u001b[0m\u001b[0;34m.\u001b[0m\u001b[0msvd\u001b[0m\u001b[0;34m(\u001b[0m\u001b[0mX\u001b[0m\u001b[0;34m,\u001b[0m \u001b[0;36m0\u001b[0m\u001b[0;34m)\u001b[0m\u001b[0;34m\u001b[0m\u001b[0m\n\u001b[0m\u001b[1;32m    393\u001b[0m     \u001b[0ms_orig\u001b[0m \u001b[0;34m=\u001b[0m \u001b[0mnp\u001b[0m\u001b[0;34m.\u001b[0m\u001b[0mcopy\u001b[0m\u001b[0;34m(\u001b[0m\u001b[0ms\u001b[0m\u001b[0;34m)\u001b[0m\u001b[0;34m\u001b[0m\u001b[0m\n\u001b[1;32m    394\u001b[0m     \u001b[0mm\u001b[0m \u001b[0;34m=\u001b[0m \u001b[0mu\u001b[0m\u001b[0;34m.\u001b[0m\u001b[0mshape\u001b[0m\u001b[0;34m[\u001b[0m\u001b[0;36m0\u001b[0m\u001b[0;34m]\u001b[0m\u001b[0;34m\u001b[0m\u001b[0m\n",
      "\u001b[0;32m/opt/conda/lib/python3.5/site-packages/numpy/linalg/linalg.py\u001b[0m in \u001b[0;36msvd\u001b[0;34m(a, full_matrices, compute_uv)\u001b[0m\n\u001b[1;32m   1357\u001b[0m \u001b[0;34m\u001b[0m\u001b[0m\n\u001b[1;32m   1358\u001b[0m         \u001b[0msignature\u001b[0m \u001b[0;34m=\u001b[0m \u001b[0;34m'D->DdD'\u001b[0m \u001b[0;32mif\u001b[0m \u001b[0misComplexType\u001b[0m\u001b[0;34m(\u001b[0m\u001b[0mt\u001b[0m\u001b[0;34m)\u001b[0m \u001b[0;32melse\u001b[0m \u001b[0;34m'd->ddd'\u001b[0m\u001b[0;34m\u001b[0m\u001b[0m\n\u001b[0;32m-> 1359\u001b[0;31m         \u001b[0mu\u001b[0m\u001b[0;34m,\u001b[0m \u001b[0ms\u001b[0m\u001b[0;34m,\u001b[0m \u001b[0mvt\u001b[0m \u001b[0;34m=\u001b[0m \u001b[0mgufunc\u001b[0m\u001b[0;34m(\u001b[0m\u001b[0ma\u001b[0m\u001b[0;34m,\u001b[0m \u001b[0msignature\u001b[0m\u001b[0;34m=\u001b[0m\u001b[0msignature\u001b[0m\u001b[0;34m,\u001b[0m \u001b[0mextobj\u001b[0m\u001b[0;34m=\u001b[0m\u001b[0mextobj\u001b[0m\u001b[0;34m)\u001b[0m\u001b[0;34m\u001b[0m\u001b[0m\n\u001b[0m\u001b[1;32m   1360\u001b[0m         \u001b[0mu\u001b[0m \u001b[0;34m=\u001b[0m \u001b[0mu\u001b[0m\u001b[0;34m.\u001b[0m\u001b[0mastype\u001b[0m\u001b[0;34m(\u001b[0m\u001b[0mresult_t\u001b[0m\u001b[0;34m,\u001b[0m \u001b[0mcopy\u001b[0m\u001b[0;34m=\u001b[0m\u001b[0;32mFalse\u001b[0m\u001b[0;34m)\u001b[0m\u001b[0;34m\u001b[0m\u001b[0m\n\u001b[1;32m   1361\u001b[0m         \u001b[0ms\u001b[0m \u001b[0;34m=\u001b[0m \u001b[0ms\u001b[0m\u001b[0;34m.\u001b[0m\u001b[0mastype\u001b[0m\u001b[0;34m(\u001b[0m\u001b[0m_realType\u001b[0m\u001b[0;34m(\u001b[0m\u001b[0mresult_t\u001b[0m\u001b[0;34m)\u001b[0m\u001b[0;34m,\u001b[0m \u001b[0mcopy\u001b[0m\u001b[0;34m=\u001b[0m\u001b[0;32mFalse\u001b[0m\u001b[0;34m)\u001b[0m\u001b[0;34m\u001b[0m\u001b[0m\n",
      "\u001b[0;32m/opt/conda/lib/python3.5/site-packages/numpy/linalg/linalg.py\u001b[0m in \u001b[0;36m_raise_linalgerror_svd_nonconvergence\u001b[0;34m(err, flag)\u001b[0m\n\u001b[1;32m     97\u001b[0m \u001b[0;34m\u001b[0m\u001b[0m\n\u001b[1;32m     98\u001b[0m \u001b[0;32mdef\u001b[0m \u001b[0m_raise_linalgerror_svd_nonconvergence\u001b[0m\u001b[0;34m(\u001b[0m\u001b[0merr\u001b[0m\u001b[0;34m,\u001b[0m \u001b[0mflag\u001b[0m\u001b[0;34m)\u001b[0m\u001b[0;34m:\u001b[0m\u001b[0;34m\u001b[0m\u001b[0m\n\u001b[0;32m---> 99\u001b[0;31m     \u001b[0;32mraise\u001b[0m \u001b[0mLinAlgError\u001b[0m\u001b[0;34m(\u001b[0m\u001b[0;34m\"SVD did not converge\"\u001b[0m\u001b[0;34m)\u001b[0m\u001b[0;34m\u001b[0m\u001b[0m\n\u001b[0m\u001b[1;32m    100\u001b[0m \u001b[0;34m\u001b[0m\u001b[0m\n\u001b[1;32m    101\u001b[0m \u001b[0;32mdef\u001b[0m \u001b[0mget_linalg_error_extobj\u001b[0m\u001b[0;34m(\u001b[0m\u001b[0mcallback\u001b[0m\u001b[0;34m)\u001b[0m\u001b[0;34m:\u001b[0m\u001b[0;34m\u001b[0m\u001b[0m\n",
      "\u001b[0;31mLinAlgError\u001b[0m: SVD did not converge"
     ]
    }
   ],
   "source": [
    "ADF(*smt.adfuller(y))._asdict()"
   ]
  },
  {
   "cell_type": "markdown",
   "metadata": {},
   "source": [
    "So we failed to reject the null hypothesis that the original series was non-stationary.\n",
    "Let's difference it."
   ]
  },
  {
   "cell_type": "code",
   "execution_count": 31,
   "metadata": {
    "collapsed": false
   },
   "outputs": [
    {
     "data": {
      "text/plain": [
       "(-4.9971667731082192,\n",
       " 2.2481484729951501e-05,\n",
       " 6,\n",
       " 82,\n",
       " {'1%': -3.5127380569782791,\n",
       "  '10%': -2.5859487328970849,\n",
       "  '5%': -2.8974898650628984},\n",
       " 1323.9892904812261)"
      ]
     },
     "execution_count": 31,
     "metadata": {},
     "output_type": "execute_result"
    }
   ],
   "source": [
    "smt.adfuller(y.diff().dropna())"
   ]
  },
  {
   "cell_type": "code",
   "execution_count": 33,
   "metadata": {
    "collapsed": false
   },
   "outputs": [
    {
     "data": {
      "text/plain": [
       "tuple"
      ]
     },
     "execution_count": 33,
     "metadata": {},
     "output_type": "execute_result"
    }
   ],
   "source": [
    "type(smt.adfuller(y.diff().dropna()))"
   ]
  },
  {
   "cell_type": "code",
   "execution_count": 30,
   "metadata": {
    "collapsed": false
   },
   "outputs": [
    {
     "data": {
      "text/plain": [
       "OrderedDict([('adf', -4.9971667731082192),\n",
       "             ('pvalue', 2.2481484729951501e-05),\n",
       "             ('usedlag', 6),\n",
       "             ('nobs', 82),\n",
       "             ('critical',\n",
       "              {'1%': -3.5127380569782791,\n",
       "               '10%': -2.5859487328970849,\n",
       "               '5%': -2.8974898650628984}),\n",
       "             ('icbest', 1323.9892904812261)])"
      ]
     },
     "execution_count": 30,
     "metadata": {},
     "output_type": "execute_result"
    }
   ],
   "source": [
    "ADF(*smt.adfuller(y.diff().dropna()))._asdict()"
   ]
  },
  {
   "cell_type": "markdown",
   "metadata": {},
   "source": [
    "This looks better.\n",
    "It's not statistically significant at the 5% level, but who cares what statisticins say anyway.\n",
    "\n",
    "We'll fit another OLS model of $\\Delta y = \\beta_0 + \\beta_1 L \\Delta y_{t-1} + e_t$"
   ]
  },
  {
   "cell_type": "code",
   "execution_count": 35,
   "metadata": {
    "collapsed": true
   },
   "outputs": [],
   "source": [
    "data = (y.to_frame(name='y')\n",
    "         .assign(Δy=lambda df: df.y.diff())\n",
    "         .assign(LΔy=lambda df: df.Δy.shift()))\n",
    "mod_stationary = smf.ols('Δy ~ LΔy', data=data.dropna())\n",
    "res_stationary = mod_stationary.fit()"
   ]
  },
  {
   "cell_type": "code",
   "execution_count": 36,
   "metadata": {
    "collapsed": false
   },
   "outputs": [
    {
     "data": {
      "image/png": "[encoded data removed]",
      "text/plain": [
       "<matplotlib.figure.Figure at 0x7fc479faae48>"
      ]
     },
     "metadata": {},
     "output_type": "display_data"
    }
   ],
   "source": [
    "tsplot(res_stationary.resid, lags=24);"
   ]
  },
  {
   "cell_type": "markdown",
   "metadata": {},
   "source": [
    "So we've taken care of multicolinearity, autocorelation, and stationarity, but we still aren't done."
   ]
  },
  {
   "cell_type": "markdown",
   "metadata": {},
   "source": [
    "## Seasonality"
   ]
  },
  {
   "cell_type": "markdown",
   "metadata": {},
   "source": [
    "We have strong monthly seasonality:"
   ]
  },
  {
   "cell_type": "code",
   "execution_count": 44,
   "metadata": {
    "collapsed": false
   },
   "outputs": [
    {
     "data": {
      "text/plain": [
       "DatetimeIndex(['2010-11-01', '2010-11-02', '2010-11-03', '2010-11-04',\n",
       "               '2010-11-05', '2010-11-06', '2010-11-07', '2010-11-08',\n",
       "               '2010-11-09', '2010-11-10', '2010-11-11', '2010-11-12',\n",
       "               '2010-11-13', '2010-11-14', '2010-11-15', '2010-11-16',\n",
       "               '2010-11-17', '2010-11-18', '2010-11-19', '2010-11-20',\n",
       "               '2010-11-21', '2010-11-22', '2010-11-23', '2010-11-24',\n",
       "               '2010-11-25', '2010-11-26', '2010-11-27', '2010-11-28',\n",
       "               '2010-11-29', '2010-11-30', '2014-01-01', '2014-01-02',\n",
       "               '2014-01-03', '2014-01-04', '2014-01-05', '2014-01-06',\n",
       "               '2014-01-07', '2014-01-08', '2014-01-09', '2014-01-10',\n",
       "               '2014-01-11', '2014-01-12', '2014-01-13', '2014-01-14',\n",
       "               '2014-01-15', '2014-01-16', '2014-01-17', '2014-01-18',\n",
       "               '2014-01-19', '2014-01-20', '2014-01-21', '2014-01-22',\n",
       "               '2014-01-23', '2014-01-24', '2014-01-25', '2014-01-26',\n",
       "               '2014-01-27', '2014-01-28', '2014-01-29', '2014-01-30',\n",
       "               '2014-01-31', '2015-10-01', '2015-10-02', '2015-10-03',\n",
       "               '2015-10-04', '2015-10-05', '2015-10-06', '2015-10-07',\n",
       "               '2015-10-08', '2015-10-09', '2015-10-10', '2015-10-11',\n",
       "               '2015-10-12', '2015-10-13', '2015-10-14', '2015-10-15',\n",
       "               '2015-10-16', '2015-10-17', '2015-10-18', '2015-10-19',\n",
       "               '2015-10-20', '2015-10-21', '2015-10-22', '2015-10-23',\n",
       "               '2015-10-24', '2015-10-25', '2015-10-26', '2015-10-27',\n",
       "               '2015-10-28', '2015-10-29', '2015-10-30', '2015-10-31'],\n",
       "              dtype='datetime64[ns]', freq=None)"
      ]
     },
     "execution_count": 44,
     "metadata": {},
     "output_type": "execute_result"
    }
   ],
   "source": [
    "y.dropna().index"
   ]
  },
  {
   "cell_type": "code",
   "execution_count": 43,
   "metadata": {
    "collapsed": false
   },
   "outputs": [
    {
     "ename": "ValueError",
     "evalue": "You must specify a freq or x must be a pandas object with a timeseries index",
     "output_type": "error",
     "traceback": [
      "\u001b[0;31m\u001b[0m",
      "\u001b[0;31mValueError\u001b[0mTraceback (most recent call last)",
      "\u001b[0;32m<ipython-input-43-98b52272f37b>\u001b[0m in \u001b[0;36m<module>\u001b[0;34m()\u001b[0m\n\u001b[0;32m----> 1\u001b[0;31m \u001b[0msmt\u001b[0m\u001b[0;34m.\u001b[0m\u001b[0mseasonal_decompose\u001b[0m\u001b[0;34m(\u001b[0m\u001b[0my\u001b[0m\u001b[0;34m.\u001b[0m\u001b[0mdropna\u001b[0m\u001b[0;34m(\u001b[0m\u001b[0;34m)\u001b[0m\u001b[0;34m)\u001b[0m\u001b[0;34m.\u001b[0m\u001b[0mplot\u001b[0m\u001b[0;34m(\u001b[0m\u001b[0;34m)\u001b[0m\u001b[0;34m;\u001b[0m\u001b[0;34m\u001b[0m\u001b[0m\n\u001b[0m",
      "\u001b[0;32m/opt/conda/lib/python3.5/site-packages/statsmodels/tsa/seasonal.py\u001b[0m in \u001b[0;36mseasonal_decompose\u001b[0;34m(x, model, filt, freq)\u001b[0m\n\u001b[1;32m     76\u001b[0m \u001b[0;34m\u001b[0m\u001b[0m\n\u001b[1;32m     77\u001b[0m     \u001b[0;32melif\u001b[0m \u001b[0mfreq\u001b[0m \u001b[0;32mis\u001b[0m \u001b[0;32mNone\u001b[0m\u001b[0;34m:\u001b[0m\u001b[0;34m\u001b[0m\u001b[0m\n\u001b[0;32m---> 78\u001b[0;31m         raise ValueError(\"You must specify a freq or x must be a \"\n\u001b[0m\u001b[1;32m     79\u001b[0m                          \"pandas object with a timeseries index\")\n\u001b[1;32m     80\u001b[0m \u001b[0;34m\u001b[0m\u001b[0m\n",
      "\u001b[0;31mValueError\u001b[0m: You must specify a freq or x must be a pandas object with a timeseries index"
     ]
    }
   ],
   "source": [
    "smt.seasonal_decompose(y.dropna()).plot();"
   ]
  },
  {
   "cell_type": "markdown",
   "metadata": {},
   "source": [
    "There are a few ways to handle seasonality.\n",
    "We'll just rely on the `SARIMAX` method to do it for us.\n",
    "For now, recognize that it's a problem to be solved."
   ]
  },
  {
   "cell_type": "markdown",
   "metadata": {},
   "source": [
    "## ARIMA\n",
    "\n",
    "So, we've sketched the problems with regular old regression: multicollinearity, autocorrelation, non-stationarity, and seasonality.\n",
    "Our tool of choice, `smt.SARIMAX`, which stands for Seasonal ARIMA with eXogenous regressors, can handle all these.\n",
    "We'll walk through the components in pieces.\n",
    "\n",
    "ARIMA stands for AutoRegressive Integrated Moving Average.\n",
    "It's a relatively simple yet flexible way of modeling univariate time series.\n",
    "It's made up of three components, and is typically written as $\\mathrm{ARIMA}(p, d, q)$."
   ]
  },
  {
   "cell_type": "markdown",
   "metadata": {},
   "source": [
    "ARIMA stands for AutoRegressive Integrated Moving Average, and it's a relatively simple way of modeling univariate time series.\n",
    "It's made up of three components, and is typically written as $\\mathrm{ARIMA}(p, d, q)$."
   ]
  },
  {
   "cell_type": "markdown",
   "metadata": {},
   "source": [
    "### [AutoRegressive](https://www.otexts.org/fpp/8/3)\n",
    "\n",
    "The idea is to predict a variable by a linear combination of its lagged values (*auto*-regressive as in regressing a value on its past *self*).\n",
    "An AR(p), where $p$ represents the number of lagged values used, is written as\n",
    "\n",
    "$$y_t = c + \\phi_1 y_{t-1} + \\phi_2 y_{t-2} + \\ldots + \\phi_p y_{t-p} + e_t$$\n",
    "\n",
    "$c$ is a constant and $e_t$ is white noise.\n",
    "This looks a lot like a linear regression model with multiple predictors, but the predictors happen to be lagged values of $y$ (though they are estimated differently)."
   ]
  },
  {
   "cell_type": "markdown",
   "metadata": {},
   "source": [
    "### Integrated\n",
    "\n",
    "Integrated is like the opposite of differencing, and is the part that deals with stationarity.\n",
    "If you have to difference your dataset 1 time to get it stationary, then $d=1$.\n",
    "We'll introduce one bit of notation for differencing: $\\Delta y_t = y_t - y_{t-1}$ for $d=1$."
   ]
  },
  {
   "cell_type": "markdown",
   "metadata": {},
   "source": [
    "### [Moving Average](https://www.otexts.org/fpp/8/4)\n",
    "\n",
    "MA models look somewhat similar to the AR component, but it's dealing with different values.\n",
    "\n",
    "$$y_t = c + e_t + \\theta_1 e_{t-1} + \\theta_2 e_{t-2} + \\ldots + \\theta_q e_{t-q}$$\n",
    "\n",
    "$c$ again is a constant and $e_t$ again is white noise.\n",
    "But now the coefficients are the *residuals* from previous predictions."
   ]
  },
  {
   "cell_type": "markdown",
   "metadata": {},
   "source": [
    "### Combining\n",
    "\n",
    "Putting that together, an ARIMA(1, 1, 1) process is written as\n",
    "\n",
    "$$\\Delta y_t = c + \\phi_1 \\Delta y_{t-1} + \\theta_t e_{t-1} + e_t$$\n",
    "\n",
    "Using *lag notation*, where $L y_t = y_{t-1}$, i.e. `y.shift()` in pandas, we can rewrite that as\n",
    "\n",
    "$$(1 - \\phi_1 L) (1 - L)y_t = c + (1 + \\theta L)e_t$$\n",
    "\n",
    "That was for our specific $\\mathrm{ARIMA}(1, 1, 1)$ model. For the general $\\mathrm{ARIMA}(p, d, q)$, that becomes\n",
    "\n",
    "$$(1 - \\phi_1 L - \\ldots - \\phi_p L^p) (1 - L)^d y_t = c + (1 + \\theta L + \\ldots + \\theta_q L^q)e_t$$\n",
    "\n",
    "We went through that *extremely* quickly, so don't feel bad if things aren't clear.\n",
    "Fortunately, the model is pretty easy to use with statsmodels (using it *correctly*, in a statistical sense, is another matter)."
   ]
  },
  {
   "cell_type": "code",
   "execution_count": 45,
   "metadata": {
    "collapsed": false
   },
   "outputs": [
    {
     "ename": "AttributeError",
     "evalue": "module 'statsmodels.tsa.api' has no attribute 'SARIMAX'",
     "output_type": "error",
     "traceback": [
      "\u001b[0;31m\u001b[0m",
      "\u001b[0;31mAttributeError\u001b[0mTraceback (most recent call last)",
      "\u001b[0;32m<ipython-input-45-4b459eb3bf61>\u001b[0m in \u001b[0;36m<module>\u001b[0;34m()\u001b[0m\n\u001b[0;32m----> 1\u001b[0;31m \u001b[0mmod\u001b[0m \u001b[0;34m=\u001b[0m \u001b[0msmt\u001b[0m\u001b[0;34m.\u001b[0m\u001b[0mSARIMAX\u001b[0m\u001b[0;34m(\u001b[0m\u001b[0my\u001b[0m\u001b[0;34m,\u001b[0m \u001b[0mtrend\u001b[0m\u001b[0;34m=\u001b[0m\u001b[0;34m'c'\u001b[0m\u001b[0;34m,\u001b[0m \u001b[0morder\u001b[0m\u001b[0;34m=\u001b[0m\u001b[0;34m(\u001b[0m\u001b[0;36m1\u001b[0m\u001b[0;34m,\u001b[0m \u001b[0;36m1\u001b[0m\u001b[0;34m,\u001b[0m \u001b[0;36m1\u001b[0m\u001b[0;34m)\u001b[0m\u001b[0;34m)\u001b[0m\u001b[0;34m\u001b[0m\u001b[0m\n\u001b[0m\u001b[1;32m      2\u001b[0m \u001b[0mres\u001b[0m \u001b[0;34m=\u001b[0m \u001b[0mmod\u001b[0m\u001b[0;34m.\u001b[0m\u001b[0mfit\u001b[0m\u001b[0;34m(\u001b[0m\u001b[0;34m)\u001b[0m\u001b[0;34m\u001b[0m\u001b[0m\n\u001b[1;32m      3\u001b[0m \u001b[0mtsplot\u001b[0m\u001b[0;34m(\u001b[0m\u001b[0mres\u001b[0m\u001b[0;34m.\u001b[0m\u001b[0mresid\u001b[0m\u001b[0;34m[\u001b[0m\u001b[0;36m2\u001b[0m\u001b[0;34m:\u001b[0m\u001b[0;34m]\u001b[0m\u001b[0;34m,\u001b[0m \u001b[0mlags\u001b[0m\u001b[0;34m=\u001b[0m\u001b[0;36m24\u001b[0m\u001b[0;34m)\u001b[0m\u001b[0;34m;\u001b[0m\u001b[0;34m\u001b[0m\u001b[0m\n",
      "\u001b[0;31mAttributeError\u001b[0m: module 'statsmodels.tsa.api' has no attribute 'SARIMAX'"
     ]
    }
   ],
   "source": [
    "mod = smt.SARIMAX(y, trend='c', order=(1, 1, 1))\n",
    "res = mod.fit()\n",
    "tsplot(res.resid[2:], lags=24);"
   ]
  },
  {
   "cell_type": "code",
   "execution_count": null,
   "metadata": {
    "collapsed": false
   },
   "outputs": [],
   "source": [
    "res.summary()"
   ]
  },
  {
   "cell_type": "markdown",
   "metadata": {},
   "source": [
    "There's a bunch of output there with various tests, estimated parameters, and information criteria.\n",
    "Let's just say that things are looking better, but we still haven't accounted for seasonality.\n",
    "\n",
    "A seasonal ARIMA model is written as $\\mathrm{ARIMA}(p,d,q)×(P,D,Q)_s$.\n",
    "Lowercase letters are for the non-seasonal component, just like before. Upper-case letters are a similar specification for the seasonal component, where $s$ is the periodicity (4 for quarterly, 12 for monthly).\n",
    "\n",
    "It's like we have two processes, one for non-seasonal component and one for seasonal components, and we multiply them together with regular algebra rules.\n",
    "\n",
    "The general form of that looks like (quoting the [statsmodels docs](http://www.statsmodels.org/dev/examples/notebooks/generated/statespace_sarimax_stata.html) here)\n",
    "\n",
    "$$\\phi_p(L)\\tilde{\\phi}_P(L^S)\\Delta^d\\Delta_s^D y_t = A(t) + \\theta_q(L)\\tilde{\\theta}_Q(L^s)e_t$$\n",
    "\n",
    "where\n",
    "\n",
    "- $\\phi_p(L)$ is the non-seasonal autoregressive lag polynomial\n",
    "- $\\tilde{\\phi}_P(L^S)$ is the seasonal autoregressive lag polynomial\n",
    "- $\\Delta^d\\Delta_s^D$ is the time series, differenced  $d$ times, and seasonally differenced $D$ times.\n",
    "- $A(t)$ is the trend polynomial (including the intercept)\n",
    "- $\\theta_q(L)$ is the non-seasonal moving average lag polynomial\n",
    "- $\\tilde{\\theta}_Q(L^s)$  is the seasonal moving average lag polynomial\n",
    "\n",
    "I don't find that to be very clear, but maybe an example will help.\n",
    "We'll fit a seasonal ARIMA$(1,1,2)×(0, 1, 2)_{12}$.\n",
    "\n",
    "So the nonseasonal component is\n",
    "\n",
    "- $p=1$: period autoregressive: use $y_{t-1}$\n",
    "- $d=1$: one first-differencing of the data (one month)\n",
    "- $q=2$: use the previous two non-seasonal residual, $e_{t-1}$ and $e_{t-2}$, to forecast\n",
    "\n",
    "And the seasonal component is\n",
    "\n",
    "- $P=0$: Don't use any previous seasonal values\n",
    "- $D=1$: Difference the series 12 periods back: `y.diff(12)`\n",
    "- $Q=2$: Use the two previous seasonal residuals"
   ]
  },
  {
   "cell_type": "code",
   "execution_count": null,
   "metadata": {
    "collapsed": true
   },
   "outputs": [],
   "source": [
    "mod_seasonal = smt.SARIMAX(y, trend='c',\n",
    "                           order=(1, 1, 2), seasonal_order=(0, 1, 2, 12),\n",
    "                           simple_differencing=False)\n",
    "res_seasonal = mod_seasonal.fit()"
   ]
  },
  {
   "cell_type": "code",
   "execution_count": null,
   "metadata": {
    "collapsed": false
   },
   "outputs": [],
   "source": [
    "res_seasonal.summary()"
   ]
  },
  {
   "cell_type": "code",
   "execution_count": null,
   "metadata": {
    "collapsed": false
   },
   "outputs": [],
   "source": [
    "tsplot(res_seasonal.resid[12:], lags=24);"
   ]
  },
  {
   "cell_type": "markdown",
   "metadata": {},
   "source": [
    "Things look much better now.\n",
    "\n",
    "One thing I didn't really talk about is order selection. How to choose $p, d, q, P, D$ and $Q$.\n",
    "R's forecast package does have a handy `auto.arima` function that does this for you.\n",
    "Python / statsmodels don't have that at the minute.\n",
    "The alternative seems to be experience (boo), intuition (boo), and good-old grid-search.\n",
    "You can fit a bunch of models for a bunch of combinations of the parameters and use the [AIC](https://en.wikipedia.org/wiki/Akaike_information_criterion) or [BIC](https://en.wikipedia.org/wiki/Bayesian_information_criterion) to choose the best.\n",
    "[Here](https://www.otexts.org/fpp/8/7) is a useful reference, and [this](http://stackoverflow.com/a/22770973) StackOverflow answer recommends a few options.\n"
   ]
  },
  {
   "cell_type": "markdown",
   "metadata": {},
   "source": [
    "## Forecasting"
   ]
  },
  {
   "cell_type": "markdown",
   "metadata": {},
   "source": [
    "Now that we fit that model, let's put it to use.\n",
    "First, we'll make a bunch of one-step ahead forecasts.\n",
    "At each point (month), we take the history up to that point and make a forecast for the next month.\n",
    "So the forecast for January 2014 has available all the data up through December 2013."
   ]
  },
  {
   "cell_type": "code",
   "execution_count": 46,
   "metadata": {
    "collapsed": false
   },
   "outputs": [
    {
     "ename": "NameError",
     "evalue": "name 'res_seasonal' is not defined",
     "output_type": "error",
     "traceback": [
      "\u001b[0;31m\u001b[0m",
      "\u001b[0;31mNameError\u001b[0mTraceback (most recent call last)",
      "\u001b[0;32m<ipython-input-46-640cf1a9d324>\u001b[0m in \u001b[0;36m<module>\u001b[0;34m()\u001b[0m\n\u001b[0;32m----> 1\u001b[0;31m \u001b[0mpred\u001b[0m \u001b[0;34m=\u001b[0m \u001b[0mres_seasonal\u001b[0m\u001b[0;34m.\u001b[0m\u001b[0mget_prediction\u001b[0m\u001b[0;34m(\u001b[0m\u001b[0mstart\u001b[0m\u001b[0;34m=\u001b[0m\u001b[0;34m'2001-03-01'\u001b[0m\u001b[0;34m)\u001b[0m\u001b[0;34m\u001b[0m\u001b[0m\n\u001b[0m\u001b[1;32m      2\u001b[0m \u001b[0mpred_ci\u001b[0m \u001b[0;34m=\u001b[0m \u001b[0mpred\u001b[0m\u001b[0;34m.\u001b[0m\u001b[0mconf_int\u001b[0m\u001b[0;34m(\u001b[0m\u001b[0;34m)\u001b[0m\u001b[0;34m\u001b[0m\u001b[0m\n",
      "\u001b[0;31mNameError\u001b[0m: name 'res_seasonal' is not defined"
     ]
    }
   ],
   "source": [
    "pred = res_seasonal.get_prediction(start='2001-03-01')\n",
    "pred_ci = pred.conf_int()"
   ]
  },
  {
   "cell_type": "code",
   "execution_count": null,
   "metadata": {
    "collapsed": false
   },
   "outputs": [],
   "source": [
    "ax = y.plot(label='observed')\n",
    "pred.predicted_mean.plot(ax=ax, label='Forecast', alpha=.7)\n",
    "ax.fill_between(pred_ci.index,\n",
    "                pred_ci.iloc[:, 0],\n",
    "                pred_ci.iloc[:, 1], color='k', alpha=.2)\n",
    "ax.set_ylabel(\"Monthly Flights\")\n",
    "plt.legend()\n",
    "sns.despine()"
   ]
  },
  {
   "cell_type": "markdown",
   "metadata": {},
   "source": [
    "There are a few places where the observed series slips outside the 95% confidence interval.\n",
    "The series seems especially unstable before 2005.\n",
    "\n",
    "Alternatively, we can make *dynamic* forecasts as of some month (January 2013 in the example below).\n",
    "That means the forecast from that point forward only use information available as of January 2013.\n",
    "The predictions are generated in a similar way: a bunch of one-step forecasts.\n",
    "Only instead of plugging in the *actual* values beyond January 2013, we plug in the *forecast* values."
   ]
  },
  {
   "cell_type": "code",
   "execution_count": null,
   "metadata": {
    "collapsed": true
   },
   "outputs": [],
   "source": [
    "pred_dy = res_seasonal.get_prediction(start='2002-03-01', dynamic='2013-01-01')\n",
    "pred_dy_ci = pred_dy.conf_int()"
   ]
  },
  {
   "cell_type": "code",
   "execution_count": null,
   "metadata": {
    "collapsed": false
   },
   "outputs": [],
   "source": [
    "ax = y.plot(label='observed')\n",
    "pred_dy.predicted_mean.plot(ax=ax, label='Forecast')\n",
    "ax.fill_between(pred_dy_ci.index,\n",
    "                pred_dy_ci.iloc[:, 0],\n",
    "                pred_dy_ci.iloc[:, 1], color='k', alpha=.25)\n",
    "ax.set_ylabel(\"Monthly Flights\")\n",
    "\n",
    "# Highlight the forecast area\n",
    "ax.fill_betweenx(ax.get_ylim(), pd.Timestamp('2013-01-01'), y.index[-1],\n",
    "                 alpha=.1, zorder=-1)\n",
    "ax.annotate('Dynamic $\\\\longrightarrow$', (pd.Timestamp('2013-02-01'), 550))\n",
    "\n",
    "plt.legend()\n",
    "sns.despine()"
   ]
  },
  {
   "cell_type": "markdown",
   "metadata": {},
   "source": [
    "## Resources\n",
    "\n",
    "This is a collection of links for those interested.\n",
    "\n",
    "### Time series modeling in Python\n",
    "\n",
    "+ [Statsmodels Statespace Notebooks](http://www.statsmodels.org/dev/examples/index.html#statespace)\n",
    "+ [Statsmodels VAR tutorial](http://www.statsmodels.org/dev/vector_ar.html#var)\n",
    "- [ARCH Library by Kevin Sheppard](https://github.com/bashtage/arch)\n",
    "\n",
    "### General Textbooks\n",
    "\n",
    "- [Forecasting: Principles and Practice](https://www.otexts.org/fpp/): A great introduction\n",
    "- [Stock and Watson](http://wps.aw.com/aw_stock_ie_3/178/45691/11696965.cw/): Readable undergraduate resource, has a few chapters on time series\n",
    "- [Greene's Econometric Analysis](http://pages.stern.nyu.edu/~wgreene/Text/econometricanalysis.htm): My favorite PhD level textbook\n",
    "- [Hamilton's Time Series Analysis](http://www.amazon.com/Time-Analysis-James-Douglas-Hamilton/dp/0691042896): A classic\n",
    "- [Lutkehpohl's New Introduction to Multiple Time Series Analysis](http://www.amazon.com/New-Introduction-Multiple-Time-Analysis/dp/3540262393): Extremely dry, but useful if you're implementing this stuff\n",
    "\n",
    "## Conclusion\n",
    "\n",
    "Congratulations if you made it this far, this piece just kept growing (and I still had to cut stuff).\n",
    "The main thing cut was talking about how `SARIMAX` is implemented on top of using statsmodels' statespace framework.\n",
    "The statespace framework, developed mostly by Chad Fulton over the past couple years, is really nice.\n",
    "You can pretty easily [extend it](http://www.statsmodels.org/dev/examples/notebooks/generated/statespace_local_linear_trend.html) with custom models, but still get all the benefits of the framework's estimation and results facilities.\n",
    "I'd recommend reading the [notebooks](http://www.statsmodels.org/dev/examples/index.html#statespace).\n",
    "We also didn't get to talk at all about Skipper Seabold's work on VARs, but maybe some other time.\n",
    "\n",
    "As always, [feedback is welcome](https://twitter.com/tomaugspurger)."
   ]
  },
  {
   "cell_type": "code",
   "execution_count": null,
   "metadata": {
    "collapsed": true
   },
   "outputs": [],
   "source": []
  }
 ],
 "metadata": {
  "anaconda-cloud": {},
  "kernelspec": {
   "display_name": "Python [default]",
   "language": "python",
   "name": "python3"
  },
  "language_info": {
   "codemirror_mode": {
    "name": "ipython",
    "version": 3
   },
   "file_extension": ".py",
   "mimetype": "text/x-python",
   "name": "python",
   "nbconvert_exporter": "python",
   "pygments_lexer": "ipython3",
   "version": "3.5.2"
  }
 },
 "nbformat": 4,
 "nbformat_minor": 1
}
