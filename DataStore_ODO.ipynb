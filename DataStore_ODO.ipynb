{
 "cells": [
  {
   "cell_type": "code",
   "execution_count": 1,
   "metadata": {
    "collapsed": false
   },
   "outputs": [],
   "source": [
    "from IPython.core.interactiveshell import InteractiveShell\n",
    "InteractiveShell.ast_node_interactivity = \"all\"\n",
    "\n",
    "# Reload all modules imported with %aimport\n",
    "%load_ext autoreload\n",
    "%autoreload 1"
   ]
  },
  {
   "cell_type": "code",
   "execution_count": 2,
   "metadata": {
    "collapsed": false
   },
   "outputs": [],
   "source": [
    "import trans.datastore.odo as odb\n",
    "%aimport trans.datastore.odo\n",
    "\n",
    "import datetime as dt\n",
    "import dateutil.parser as dup"
   ]
  },
  {
   "cell_type": "code",
   "execution_count": 3,
   "metadata": {
    "collapsed": true
   },
   "outputs": [],
   "source": [
    "create = False"
   ]
  },
  {
   "cell_type": "markdown",
   "metadata": {},
   "source": [
    "## Create a Yahoo data provider to retrieve data from Yahoo"
   ]
  },
  {
   "cell_type": "code",
   "execution_count": 4,
   "metadata": {},
   "outputs": [],
   "source": [
    "import trans.dataprovider.PDR.yahoo as yh\n",
    "yh_dp = yh.Yahoo()"
   ]
  },
  {
   "cell_type": "markdown",
   "metadata": {},
   "source": [
    "## Create a Tiingo data provider"
   ]
  },
  {
   "cell_type": "code",
   "execution_count": 5,
   "metadata": {},
   "outputs": [],
   "source": [
    "import trans.dataprovider.PDR.tiingo as tg\n",
    "%aimport trans.dataprovider.PDR.tiingo\n",
    "\n",
    "tingo_ak_file=\"/home/ubuntu/Notebooks/tiingo_apkey.txt\"\n",
    "with open(tingo_ak_file, \"r\") as fp:\n",
    "    ak_t = fp.read().rstrip()\n",
    "    \n",
    "tg_dp = tg.Tiingo(access_key=ak_t)"
   ]
  },
  {
   "cell_type": "code",
   "execution_count": 19,
   "metadata": {
    "collapsed": false
   },
   "outputs": [],
   "source": [
    "dburl = 'sqlite:////tmp/foo.db'\n",
    "db = odb.ODO(dburl, provider=tg_dp, echo=True)"
   ]
  },
  {
   "cell_type": "code",
   "execution_count": 20,
   "metadata": {},
   "outputs": [
    {
     "name": "stdout",
     "output_type": "stream",
     "text": [
      "2018-04-16 18:45:57,047 INFO sqlalchemy.engine.base.Engine SELECT CAST('test plain returns' AS VARCHAR(60)) AS anon_1\n",
      "2018-04-16 18:45:57,048 INFO sqlalchemy.engine.base.Engine ()\n",
      "2018-04-16 18:45:57,050 INFO sqlalchemy.engine.base.Engine SELECT CAST('test unicode returns' AS VARCHAR(60)) AS anon_1\n",
      "2018-04-16 18:45:57,059 INFO sqlalchemy.engine.base.Engine ()\n",
      "2018-04-16 18:45:57,060 INFO sqlalchemy.engine.base.Engine PRAGMA table_info(\"prices\")\n",
      "2018-04-16 18:45:57,060 INFO sqlalchemy.engine.base.Engine ()\n",
      "2018-04-16 18:45:57,062 INFO sqlalchemy.engine.base.Engine \n",
      "DROP TABLE prices\n",
      "2018-04-16 18:45:57,063 INFO sqlalchemy.engine.base.Engine ()\n",
      "2018-04-16 18:45:57,067 INFO sqlalchemy.engine.base.Engine COMMIT\n",
      "2018-04-16 18:45:57,068 INFO sqlalchemy.engine.base.Engine PRAGMA table_info(\"prices\")\n",
      "2018-04-16 18:45:57,069 INFO sqlalchemy.engine.base.Engine ()\n",
      "2018-04-16 18:45:57,071 INFO sqlalchemy.engine.base.Engine \n",
      "CREATE TABLE prices (\n",
      "\t\"Ticker\" VARCHAR(255) NOT NULL, \n",
      "\t\"Date\" DATE NOT NULL, \n",
      "\t\"AdjClose\" FLOAT, \n",
      "\t\"Close\" FLOAT, \n",
      "\t\"High\" FLOAT, \n",
      "\t\"Low\" FLOAT, \n",
      "\t\"Open\" FLOAT, \n",
      "\t\"Volume\" FLOAT, \n",
      "\t\"DivCash\" FLOAT, \n",
      "\tPRIMARY KEY (\"Ticker\", \"Date\")\n",
      ")\n",
      "\n",
      "\n",
      "2018-04-16 18:45:57,072 INFO sqlalchemy.engine.base.Engine ()\n",
      "2018-04-16 18:45:57,076 INFO sqlalchemy.engine.base.Engine COMMIT\n"
     ]
    }
   ],
   "source": [
    "db.setup_database()"
   ]
  },
  {
   "cell_type": "code",
   "execution_count": 21,
   "metadata": {
    "collapsed": false
   },
   "outputs": [
    {
     "name": "stdout",
     "output_type": "stream",
     "text": [
      "2018-04-16 18:46:05,629 INFO sqlalchemy.engine.base.Engine PRAGMA table_info(\"prices\")\n",
      "2018-04-16 18:46:05,630 INFO sqlalchemy.engine.base.Engine ()\n",
      "2018-04-16 18:46:05,631 INFO sqlalchemy.engine.base.Engine \n",
      "DROP TABLE prices\n",
      "2018-04-16 18:46:05,632 INFO sqlalchemy.engine.base.Engine ()\n",
      "2018-04-16 18:46:05,636 INFO sqlalchemy.engine.base.Engine COMMIT\n",
      "2018-04-16 18:46:05,638 INFO sqlalchemy.engine.base.Engine PRAGMA table_info(\"prices\")\n",
      "2018-04-16 18:46:05,639 INFO sqlalchemy.engine.base.Engine ()\n",
      "2018-04-16 18:46:05,641 INFO sqlalchemy.engine.base.Engine \n",
      "CREATE TABLE prices (\n",
      "\t\"Ticker\" VARCHAR(255) NOT NULL, \n",
      "\t\"Date\" DATE NOT NULL, \n",
      "\t\"AdjClose\" FLOAT, \n",
      "\t\"Close\" FLOAT, \n",
      "\t\"High\" FLOAT, \n",
      "\t\"Low\" FLOAT, \n",
      "\t\"Open\" FLOAT, \n",
      "\t\"Volume\" FLOAT, \n",
      "\t\"DivCash\" FLOAT, \n",
      "\tPRIMARY KEY (\"Ticker\", \"Date\")\n",
      ")\n",
      "\n",
      "\n",
      "2018-04-16 18:46:05,642 INFO sqlalchemy.engine.base.Engine ()\n",
      "2018-04-16 18:46:05,652 INFO sqlalchemy.engine.base.Engine COMMIT\n"
     ]
    }
   ],
   "source": [
    "if create:\n",
    "    db.setup_database()"
   ]
  },
  {
   "cell_type": "code",
   "execution_count": 9,
   "metadata": {
    "collapsed": true
   },
   "outputs": [],
   "source": [
    "Memorialize = False"
   ]
  },
  {
   "cell_type": "code",
   "execution_count": 10,
   "metadata": {
    "collapsed": false
   },
   "outputs": [],
   "source": [
    "today = dt.datetime.combine( dt.date.today(), dt.time.min)\n",
    "if Memorialize:\n",
    "    today = dup.parse(\"03/09/2018\")\n",
    "    \n",
    "start = dup.parse(\"01/01/2018\")\n",
    "end   = today\n",
    "\n",
    "status, df_go = db.get_one(\"AAPL\", start, end)"
   ]
  },
  {
   "cell_type": "markdown",
   "metadata": {},
   "source": [
    "## Create a small load"
   ]
  },
  {
   "cell_type": "code",
   "execution_count": 23,
   "metadata": {},
   "outputs": [
    {
     "name": "stdout",
     "output_type": "stream",
     "text": [
      "2018-04-16 18:46:52,758 INFO sqlalchemy.engine.base.Engine SELECT prices.\"Ticker\" AS \"prices_Ticker\", prices.\"Date\" AS \"prices_Date\", prices.\"AdjClose\" AS \"prices_AdjClose\", prices.\"Close\" AS \"prices_Close\", prices.\"High\" AS \"prices_High\", prices.\"Low\" AS \"prices_Low\", prices.\"Open\" AS \"prices_Open\", prices.\"Volume\" AS \"prices_Volume\", prices.\"DivCash\" AS \"prices_DivCash\", min(prices.\"Date\") AS min_date, max(prices.\"Date\") AS max_date \n",
      "FROM prices GROUP BY prices.\"Ticker\"\n",
      "2018-04-16 18:46:52,763 INFO sqlalchemy.engine.base.Engine ()\n",
      "Creating FB from 2018-01-01 00:00:00 to 2018-04-16 00:00:00\n",
      "2018-04-16 18:46:53,233 INFO sqlalchemy.engine.base.Engine SELECT prices.\"Ticker\" AS \"prices_Ticker\", prices.\"Date\" AS \"prices_Date\" \n",
      "FROM prices \n",
      "WHERE prices.\"Ticker\" = ? AND prices.\"Date\" >= ? AND prices.\"Date\" <= ?\n",
      "2018-04-16 18:46:53,234 INFO sqlalchemy.engine.base.Engine ('FB', '2018-01-02', '2018-04-16')\n",
      "2018-04-16 18:46:53,236 INFO sqlalchemy.engine.base.Engine DELETE FROM prices WHERE prices.\"Ticker\" = ? AND prices.\"Date\" >= ? AND prices.\"Date\" <= ?\n",
      "2018-04-16 18:46:53,237 INFO sqlalchemy.engine.base.Engine ('FB', '2018-01-02', '2018-04-16')\n",
      "Ticker FB, Deleted 0 rows between 2018-01-02 00:00:00 and 2018-04-16 00:00:00\n",
      "2018-04-16 18:46:53,268 INFO sqlalchemy.engine.base.Engine INSERT INTO prices (\"Ticker\", \"Date\", \"AdjClose\", \"Close\", \"High\", \"Low\", \"Open\", \"Volume\", \"DivCash\") VALUES (?, ?, ?, ?, ?, ?, ?, ?, ?)\n",
      "2018-04-16 18:46:53,270 INFO sqlalchemy.engine.base.Engine (('FB', '2018-01-02', 181.42, 181.42, 181.58, 177.55, 177.68, 17694891.0, 0.0), ('FB', '2018-01-03', 184.67, 184.67, 184.78, 181.33, 181.88, 16595495.0, 0.0), ('FB', '2018-01-04', 184.33, 184.33, 186.21, 184.0996, 184.9, 13554357.0, 0.0), ('FB', '2018-01-05', 186.85, 186.85, 186.9, 184.93, 185.59, 13042388.0, 0.0), ('FB', '2018-01-08', 188.28, 188.28, 188.9, 186.33, 187.2, 14719216.0, 0.0), ('FB', '2018-01-09', 187.87, 187.87, 188.8, 187.1, 188.7, 12342722.0, 0.0), ('FB', '2018-01-10', 187.84, 187.84, 187.89, 185.63, 186.94, 10464528.0, 0.0), ('FB', '2018-01-11', 187.77, 187.77, 188.4, 187.38, 188.4, 8855144.0, 0.0)  ... displaying 10 of 72 total bound parameter sets ...  ('FB', '2018-04-13', 164.52, 164.52, 165.7036, 163.77, 164.58, 19990561.0, 0.0), ('FB', '2018-04-16', 164.83, 164.83, 165.78, 163.39, 165.7249, 17915530.0, 0.0))\n",
      "2018-04-16 18:46:53,274 INFO sqlalchemy.engine.base.Engine COMMIT\n",
      "Creating AAPL from 2018-01-01 00:00:00 to 2018-04-16 00:00:00\n",
      "2018-04-16 18:46:54,077 INFO sqlalchemy.engine.base.Engine BEGIN (implicit)\n",
      "2018-04-16 18:46:54,078 INFO sqlalchemy.engine.base.Engine SELECT prices.\"Ticker\" AS \"prices_Ticker\", prices.\"Date\" AS \"prices_Date\" \n",
      "FROM prices \n",
      "WHERE prices.\"Ticker\" = ? AND prices.\"Date\" >= ? AND prices.\"Date\" <= ?\n",
      "2018-04-16 18:46:54,079 INFO sqlalchemy.engine.base.Engine ('AAPL', '2018-01-02', '2018-04-16')\n",
      "2018-04-16 18:46:54,086 INFO sqlalchemy.engine.base.Engine DELETE FROM prices WHERE prices.\"Ticker\" = ? AND prices.\"Date\" >= ? AND prices.\"Date\" <= ?\n",
      "2018-04-16 18:46:54,087 INFO sqlalchemy.engine.base.Engine ('AAPL', '2018-01-02', '2018-04-16')\n",
      "Ticker AAPL, Deleted 0 rows between 2018-01-02 00:00:00 and 2018-04-16 00:00:00\n",
      "2018-04-16 18:46:54,107 INFO sqlalchemy.engine.base.Engine INSERT INTO prices (\"Ticker\", \"Date\", \"AdjClose\", \"Close\", \"High\", \"Low\", \"Open\", \"Volume\", \"DivCash\") VALUES (?, ?, ?, ?, ?, ?, ?, ?, ?)\n",
      "2018-04-16 18:46:54,108 INFO sqlalchemy.engine.base.Engine (('AAPL', '2018-01-02', 171.5689416709, 172.26, 172.3, 169.26, 170.16, 25048048.0, 0.0), ('AAPL', '2018-01-03', 171.5390620224, 172.23, 174.55, 171.96, 172.53, 28819653.0, 0.0), ('AAPL', '2018-01-04', 172.335852649, 173.03, 173.47, 172.08, 172.54, 22211345.0, 0.0), ('AAPL', '2018-01-05', 174.297949567, 175.0, 175.37, 173.05, 173.44, 23016177.0, 0.0), ('AAPL', '2018-01-08', 173.6505571829, 174.35, 175.61, 173.93, 174.35, 20134092.0, 0.0), ('AAPL', '2018-01-09', 173.6306374172, 174.33, 175.06, 173.41, 174.55, 21262614.0, 0.0), ('AAPL', '2018-01-10', 173.5907978859, 174.29, 174.3, 173.0, 173.16, 23589129.0, 0.0), ('AAPL', '2018-01-11', 174.5768262863, 175.28, 175.4886, 174.49, 174.59, 17523256.0, 0.0)  ... displaying 10 of 72 total bound parameter sets ...  ('AAPL', '2018-04-13', 174.73, 174.73, 175.84, 173.85, 174.78, 25124255.0, 0.0), ('AAPL', '2018-04-16', 175.82, 175.82, 176.19, 174.8301, 175.0301, 21546084.0, 0.0))\n",
      "2018-04-16 18:46:54,111 INFO sqlalchemy.engine.base.Engine COMMIT\n",
      "Creating AMZN from 2018-01-01 00:00:00 to 2018-04-16 00:00:00\n",
      "2018-04-16 18:46:54,813 INFO sqlalchemy.engine.base.Engine BEGIN (implicit)\n",
      "2018-04-16 18:46:54,814 INFO sqlalchemy.engine.base.Engine SELECT prices.\"Ticker\" AS \"prices_Ticker\", prices.\"Date\" AS \"prices_Date\" \n",
      "FROM prices \n",
      "WHERE prices.\"Ticker\" = ? AND prices.\"Date\" >= ? AND prices.\"Date\" <= ?\n",
      "2018-04-16 18:46:54,816 INFO sqlalchemy.engine.base.Engine ('AMZN', '2018-01-02', '2018-04-16')\n",
      "2018-04-16 18:46:54,823 INFO sqlalchemy.engine.base.Engine DELETE FROM prices WHERE prices.\"Ticker\" = ? AND prices.\"Date\" >= ? AND prices.\"Date\" <= ?\n",
      "2018-04-16 18:46:54,824 INFO sqlalchemy.engine.base.Engine ('AMZN', '2018-01-02', '2018-04-16')\n",
      "Ticker AMZN, Deleted 0 rows between 2018-01-02 00:00:00 and 2018-04-16 00:00:00\n",
      "2018-04-16 18:46:54,842 INFO sqlalchemy.engine.base.Engine INSERT INTO prices (\"Ticker\", \"Date\", \"AdjClose\", \"Close\", \"High\", \"Low\", \"Open\", \"Volume\", \"DivCash\") VALUES (?, ?, ?, ?, ?, ?, ?, ?, ?)\n",
      "2018-04-16 18:46:54,844 INFO sqlalchemy.engine.base.Engine (('AMZN', '2018-01-02', 1189.01, 1189.01, 1190.0, 1170.51, 1172.0, 2587899.0, 0.0), ('AMZN', '2018-01-03', 1204.2, 1204.2, 1205.49, 1188.3, 1188.3, 3044664.0, 0.0), ('AMZN', '2018-01-04', 1209.59, 1209.59, 1215.87, 1204.66, 1205.0, 3000366.0, 0.0), ('AMZN', '2018-01-05', 1229.14, 1229.14, 1229.14, 1210.0, 1217.51, 3430148.0, 0.0), ('AMZN', '2018-01-08', 1246.87, 1246.87, 1253.08, 1232.03, 1236.0, 4177533.0, 0.0), ('AMZN', '2018-01-09', 1252.7, 1252.7, 1259.33, 1241.76, 1256.9, 3646681.0, 0.0), ('AMZN', '2018-01-10', 1254.33, 1254.33, 1254.33, 1237.23, 1245.15, 2659507.0, 0.0), ('AMZN', '2018-01-11', 1276.68, 1276.68, 1276.77, 1256.46, 1259.74, 3075315.0, 0.0)  ... displaying 10 of 72 total bound parameter sets ...  ('AMZN', '2018-04-13', 1430.79, 1430.79, 1459.78, 1424.52, 1449.14, 3685267.0, 0.0), ('AMZN', '2018-04-16', 1441.5, 1441.5, 1447.0, 1427.48, 1445.0, 2773705.0, 0.0))\n",
      "2018-04-16 18:46:54,849 INFO sqlalchemy.engine.base.Engine COMMIT\n",
      "Creating NFLX from 2018-01-01 00:00:00 to 2018-04-16 00:00:00\n",
      "2018-04-16 18:46:55,469 INFO sqlalchemy.engine.base.Engine BEGIN (implicit)\n",
      "2018-04-16 18:46:55,470 INFO sqlalchemy.engine.base.Engine SELECT prices.\"Ticker\" AS \"prices_Ticker\", prices.\"Date\" AS \"prices_Date\" \n",
      "FROM prices \n",
      "WHERE prices.\"Ticker\" = ? AND prices.\"Date\" >= ? AND prices.\"Date\" <= ?\n",
      "2018-04-16 18:46:55,473 INFO sqlalchemy.engine.base.Engine ('NFLX', '2018-01-02', '2018-04-16')\n",
      "2018-04-16 18:46:55,475 INFO sqlalchemy.engine.base.Engine DELETE FROM prices WHERE prices.\"Ticker\" = ? AND prices.\"Date\" >= ? AND prices.\"Date\" <= ?\n",
      "2018-04-16 18:46:55,476 INFO sqlalchemy.engine.base.Engine ('NFLX', '2018-01-02', '2018-04-16')\n",
      "Ticker NFLX, Deleted 0 rows between 2018-01-02 00:00:00 and 2018-04-16 00:00:00\n",
      "2018-04-16 18:46:55,495 INFO sqlalchemy.engine.base.Engine INSERT INTO prices (\"Ticker\", \"Date\", \"AdjClose\", \"Close\", \"High\", \"Low\", \"Open\", \"Volume\", \"DivCash\") VALUES (?, ?, ?, ?, ?, ?, ?, ?, ?)\n",
      "2018-04-16 18:46:55,496 INFO sqlalchemy.engine.base.Engine (('NFLX', '2018-01-02', 201.07, 201.07, 201.65, 195.42, 196.1, 10854449.0, 0.0), ('NFLX', '2018-01-03', 205.05, 205.05, 206.21, 201.5, 202.05, 8526678.0, 0.0), ('NFLX', '2018-01-04', 205.63, 205.63, 207.05, 204.0006, 206.2, 5999150.0, 0.0), ('NFLX', '2018-01-05', 209.99, 209.99, 210.02, 205.59, 207.25, 6947850.0, 0.0), ('NFLX', '2018-01-08', 212.05, 212.05, 212.5, 208.44, 210.02, 5508816.0, 0.0), ('NFLX', '2018-01-09', 209.31, 209.31, 212.98, 208.59, 212.11, 5773129.0, 0.0), ('NFLX', '2018-01-10', 212.52, 212.52, 213.64, 206.91, 207.57, 5783171.0, 0.0), ('NFLX', '2018-01-11', 217.24, 217.24, 217.75, 213.35, 214.29, 6936990.0, 0.0)  ... displaying 10 of 72 total bound parameter sets ...  ('NFLX', '2018-04-13', 311.65, 311.65, 317.49, 308.23, 317.29, 12046573.0, 0.0), ('NFLX', '2018-04-16', 307.78, 307.78, 316.1, 304.0, 315.99, 19738417.0, 0.0))\n",
      "2018-04-16 18:46:55,500 INFO sqlalchemy.engine.base.Engine COMMIT\n",
      "Creating GOOG from 2018-01-01 00:00:00 to 2018-04-16 00:00:00\n",
      "2018-04-16 18:46:56,041 INFO sqlalchemy.engine.base.Engine BEGIN (implicit)\n",
      "2018-04-16 18:46:56,043 INFO sqlalchemy.engine.base.Engine SELECT prices.\"Ticker\" AS \"prices_Ticker\", prices.\"Date\" AS \"prices_Date\" \n",
      "FROM prices \n",
      "WHERE prices.\"Ticker\" = ? AND prices.\"Date\" >= ? AND prices.\"Date\" <= ?\n",
      "2018-04-16 18:46:56,043 INFO sqlalchemy.engine.base.Engine ('GOOG', '2018-01-02', '2018-04-16')\n",
      "2018-04-16 18:46:56,045 INFO sqlalchemy.engine.base.Engine DELETE FROM prices WHERE prices.\"Ticker\" = ? AND prices.\"Date\" >= ? AND prices.\"Date\" <= ?\n",
      "2018-04-16 18:46:56,051 INFO sqlalchemy.engine.base.Engine ('GOOG', '2018-01-02', '2018-04-16')\n",
      "Ticker GOOG, Deleted 0 rows between 2018-01-02 00:00:00 and 2018-04-16 00:00:00\n",
      "2018-04-16 18:46:56,069 INFO sqlalchemy.engine.base.Engine INSERT INTO prices (\"Ticker\", \"Date\", \"AdjClose\", \"Close\", \"High\", \"Low\", \"Open\", \"Volume\", \"DivCash\") VALUES (?, ?, ?, ?, ?, ?, ?, ?, ?)\n",
      "2018-04-16 18:46:56,070 INFO sqlalchemy.engine.base.Engine (('GOOG', '2018-01-02', 1065.0, 1065.0, 1066.94, 1045.23, 1048.34, 1223114.0, 0.0), ('GOOG', '2018-01-03', 1082.48, 1082.48, 1086.29, 1063.21, 1064.31, 1416093.0, 0.0), ('GOOG', '2018-01-04', 1086.4, 1086.4, 1093.57, 1084.0, 1088.0, 990510.0, 0.0), ('GOOG', '2018-01-05', 1102.23, 1102.23, 1104.25, 1092.0, 1094.0, 1210974.0, 0.0), ('GOOG', '2018-01-08', 1106.94, 1106.94, 1111.27, 1101.62, 1102.23, 1003098.0, 0.0), ('GOOG', '2018-01-09', 1106.26, 1106.26, 1110.57, 1101.23, 1109.4, 897400.0, 0.0), ('GOOG', '2018-01-10', 1102.61, 1102.61, 1104.6, 1096.11, 1097.1, 1038917.0, 0.0), ('GOOG', '2018-01-11', 1105.52, 1105.52, 1106.53, 1099.59, 1106.3, 962696.0, 0.0)  ... displaying 10 of 72 total bound parameter sets ...  ('GOOG', '2018-04-13', 1029.27, 1029.27, 1046.42, 1022.98, 1040.88, 1223017.0, 0.0), ('GOOG', '2018-04-16', 1037.98, 1037.98, 1043.24, 1026.74, 1037.0, 1194115.0, 0.0))\n",
      "2018-04-16 18:46:56,074 INFO sqlalchemy.engine.base.Engine COMMIT\n"
     ]
    }
   ],
   "source": [
    "%aimport trans.dataprovider.PDR.tiingo\n",
    "import trans.dataprovider.PDR.tiingo\n",
    "tickers = [ \"FB\", \"AAPL\", \"AMZN\", \"NFLX\", \"GOOG\"]\n",
    "changed_tickers = db.get_data(tickers, start, end)"
   ]
  },
  {
   "cell_type": "markdown",
   "metadata": {},
   "source": [
    "## Get info about existing table in db"
   ]
  },
  {
   "cell_type": "code",
   "execution_count": 12,
   "metadata": {},
   "outputs": [
    {
     "name": "stdout",
     "output_type": "stream",
     "text": [
      "2018-04-16 15:25:58,425 INFO sqlalchemy.engine.base.Engine PRAGMA table_info(\"prices\")\n",
      "2018-04-16 15:25:58,435 INFO sqlalchemy.engine.base.Engine ()\n",
      "reflect\n",
      "reflect\n",
      "reflect\n",
      "reflect\n",
      "reflect\n",
      "reflect\n",
      "reflect\n",
      "reflect\n",
      "2018-04-16 15:25:58,440 INFO sqlalchemy.engine.base.Engine SELECT sql FROM  (SELECT * FROM sqlite_master UNION ALL   SELECT * FROM sqlite_temp_master) WHERE name = 'prices' AND type = 'table'\n",
      "2018-04-16 15:25:58,440 INFO sqlalchemy.engine.base.Engine ()\n",
      "2018-04-16 15:25:58,442 INFO sqlalchemy.engine.base.Engine PRAGMA foreign_key_list(\"prices\")\n",
      "2018-04-16 15:25:58,443 INFO sqlalchemy.engine.base.Engine ()\n",
      "2018-04-16 15:25:58,444 INFO sqlalchemy.engine.base.Engine SELECT sql FROM  (SELECT * FROM sqlite_master UNION ALL   SELECT * FROM sqlite_temp_master) WHERE name = 'prices' AND type = 'table'\n",
      "2018-04-16 15:25:58,445 INFO sqlalchemy.engine.base.Engine ()\n",
      "2018-04-16 15:25:58,459 INFO sqlalchemy.engine.base.Engine PRAGMA index_list(\"prices\")\n",
      "2018-04-16 15:25:58,460 INFO sqlalchemy.engine.base.Engine ()\n",
      "2018-04-16 15:25:58,461 INFO sqlalchemy.engine.base.Engine PRAGMA index_list(\"prices\")\n",
      "2018-04-16 15:25:58,462 INFO sqlalchemy.engine.base.Engine ()\n",
      "2018-04-16 15:25:58,464 INFO sqlalchemy.engine.base.Engine PRAGMA index_info(\"sqlite_autoindex_prices_1\")\n",
      "2018-04-16 15:25:58,464 INFO sqlalchemy.engine.base.Engine ()\n",
      "2018-04-16 15:25:58,465 INFO sqlalchemy.engine.base.Engine SELECT sql FROM  (SELECT * FROM sqlite_master UNION ALL   SELECT * FROM sqlite_temp_master) WHERE name = 'prices' AND type = 'table'\n",
      "2018-04-16 15:25:58,466 INFO sqlalchemy.engine.base.Engine ()\n"
     ]
    }
   ],
   "source": [
    "from sqlalchemy import Table, MetaData\n",
    "meta = MetaData()\n",
    "p = Table(\"prices\", meta, autoload=True, autoload_with=db.engine)"
   ]
  },
  {
   "cell_type": "markdown",
   "metadata": {},
   "source": [
    "## Enumerate the columns"
   ]
  },
  {
   "cell_type": "code",
   "execution_count": 13,
   "metadata": {},
   "outputs": [
    {
     "data": {
      "text/plain": [
       "['Ticker', 'Date', 'AdjClose', 'Close', 'High', 'Low', 'Open', 'Volume']"
      ]
     },
     "execution_count": 13,
     "metadata": {},
     "output_type": "execute_result"
    }
   ],
   "source": [
    "[ c.name for c in p.columns ]"
   ]
  },
  {
   "cell_type": "markdown",
   "metadata": {},
   "source": [
    "## On load, catch the events and name attributes based on physical table column names.\n",
    "These attributes DON'T affect the table (or even create a view), they are just attributes of the Table object and control the name of it's attributes"
   ]
  },
  {
   "cell_type": "code",
   "execution_count": 9,
   "metadata": {},
   "outputs": [],
   "source": [
    "from sqlalchemy import Table, event \n",
    "@event.listens_for(Table, \"column_reflect\")\n",
    "def column_reflect(inspector, table, column_info):\n",
    "    print(\"reflect\")\n",
    "    column_info[\"key\"] = \"test_{}\".format(column_info[\"name\"])"
   ]
  },
  {
   "cell_type": "code",
   "execution_count": 12,
   "metadata": {},
   "outputs": [
    {
     "name": "stdout",
     "output_type": "stream",
     "text": [
      "2018-04-16 15:30:10,287 INFO sqlalchemy.engine.base.Engine PRAGMA table_info(\"prices\")\n",
      "2018-04-16 15:30:10,288 INFO sqlalchemy.engine.base.Engine ()\n",
      "reflect\n",
      "reflect\n",
      "reflect\n",
      "reflect\n",
      "reflect\n",
      "reflect\n",
      "reflect\n",
      "reflect\n",
      "2018-04-16 15:30:10,293 INFO sqlalchemy.engine.base.Engine SELECT sql FROM  (SELECT * FROM sqlite_master UNION ALL   SELECT * FROM sqlite_temp_master) WHERE name = 'prices' AND type = 'table'\n",
      "2018-04-16 15:30:10,293 INFO sqlalchemy.engine.base.Engine ()\n",
      "2018-04-16 15:30:10,295 INFO sqlalchemy.engine.base.Engine PRAGMA foreign_key_list(\"prices\")\n",
      "2018-04-16 15:30:10,296 INFO sqlalchemy.engine.base.Engine ()\n",
      "2018-04-16 15:30:10,297 INFO sqlalchemy.engine.base.Engine SELECT sql FROM  (SELECT * FROM sqlite_master UNION ALL   SELECT * FROM sqlite_temp_master) WHERE name = 'prices' AND type = 'table'\n",
      "2018-04-16 15:30:10,298 INFO sqlalchemy.engine.base.Engine ()\n",
      "2018-04-16 15:30:10,303 INFO sqlalchemy.engine.base.Engine PRAGMA index_list(\"prices\")\n",
      "2018-04-16 15:30:10,304 INFO sqlalchemy.engine.base.Engine ()\n",
      "2018-04-16 15:30:10,305 INFO sqlalchemy.engine.base.Engine PRAGMA index_list(\"prices\")\n",
      "2018-04-16 15:30:10,305 INFO sqlalchemy.engine.base.Engine ()\n",
      "2018-04-16 15:30:10,306 INFO sqlalchemy.engine.base.Engine PRAGMA index_info(\"sqlite_autoindex_prices_1\")\n",
      "2018-04-16 15:30:10,307 INFO sqlalchemy.engine.base.Engine ()\n",
      "2018-04-16 15:30:10,308 INFO sqlalchemy.engine.base.Engine SELECT sql FROM  (SELECT * FROM sqlite_master UNION ALL   SELECT * FROM sqlite_temp_master) WHERE name = 'prices' AND type = 'table'\n",
      "2018-04-16 15:30:10,309 INFO sqlalchemy.engine.base.Engine ()\n"
     ]
    }
   ],
   "source": [
    "from sqlalchemy.ext.declarative import declarative_base\n",
    "from sqlalchemy import Column, Integer, String, Date, Float,create_engine, bindparam\n",
    "from sqlalchemy.orm import Session\n",
    "\n",
    "from sqlalchemy.sql import and_, or_, not_, func\n",
    "\n",
    "from sqlalchemy import Table, MetaData\n",
    "meta = MetaData()\n",
    "\n",
    "Base = declarative_base()\n",
    "class TestClass(Base):\n",
    "    __table__ = Table(\"prices\", meta, autoload=True, autoload_with=db.engine)\n",
    "   "
   ]
  },
  {
   "cell_type": "code",
   "execution_count": 31,
   "metadata": {},
   "outputs": [
    {
     "name": "stdout",
     "output_type": "stream",
     "text": [
      "2018-04-16 16:34:09,048 INFO sqlalchemy.engine.base.Engine SELECT prices.\"Ticker\" AS \"prices_Ticker\", prices.\"Date\" AS \"prices_Date\", prices.\"AdjClose\" AS \"prices_AdjClose\", prices.\"Close\" AS \"prices_Close\", prices.\"High\" AS \"prices_High\", prices.\"Low\" AS \"prices_Low\", prices.\"Open\" AS \"prices_Open\", prices.\"Volume\" AS \"prices_Volume\" \n",
      "FROM prices \n",
      "WHERE prices.\"Ticker\" = ?\n",
      "2018-04-16 16:34:09,051 INFO sqlalchemy.engine.base.Engine ('AAPL',)\n",
      "Read AAPL at close 172.259995\n",
      "Read AAPL at close 172.229996\n",
      "Read AAPL at close 173.029999\n",
      "Read AAPL at close 175.0\n",
      "Read AAPL at close 174.350006\n",
      "Read AAPL at close 174.330002\n",
      "Read AAPL at close 174.28999299999998\n",
      "Read AAPL at close 175.279999\n",
      "Read AAPL at close 177.08999599999999\n",
      "Read AAPL at close 176.190002\n",
      "Read AAPL at close 179.100006\n",
      "Read AAPL at close 179.259995\n",
      "Read AAPL at close 178.46000700000002\n",
      "Read AAPL at close 177.0\n",
      "Read AAPL at close 177.03999299999998\n",
      "Read AAPL at close 174.220001\n",
      "Read AAPL at close 171.110001\n",
      "Read AAPL at close 171.509995\n",
      "Read AAPL at close 167.96000700000002\n",
      "Read AAPL at close 166.970001\n",
      "Read AAPL at close 167.429993\n",
      "Read AAPL at close 167.779999\n",
      "Read AAPL at close 160.5\n",
      "Read AAPL at close 156.490005\n",
      "Read AAPL at close 163.029999\n",
      "Read AAPL at close 159.53999299999998\n",
      "Read AAPL at close 155.149994\n",
      "Read AAPL at close 156.41000400000001\n",
      "Read AAPL at close 162.71000700000002\n",
      "Read AAPL at close 164.33999599999999\n",
      "Read AAPL at close 167.369995\n",
      "Read AAPL at close 172.990005\n",
      "Read AAPL at close 172.429993\n",
      "Read AAPL at close 171.850006\n",
      "Read AAPL at close 171.070007\n",
      "Read AAPL at close 172.5\n",
      "Read AAPL at close 175.5\n",
      "Read AAPL at close 178.970001\n",
      "Read AAPL at close 178.389999\n",
      "Read AAPL at close 178.119995\n",
      "Read AAPL at close 175.0\n",
      "Read AAPL at close 176.21000700000002\n",
      "Read AAPL at close 176.820007\n",
      "Read AAPL at close 176.669998\n",
      "Read AAPL at close 175.029999\n",
      "Read AAPL at close 176.940002\n",
      "Read AAPL at close 179.979996\n",
      "Read AAPL at close 181.720001\n",
      "Read AAPL at close 179.970001\n",
      "Read AAPL at close 178.440002\n",
      "Read AAPL at close 178.649994\n",
      "Read AAPL at close 178.020004\n",
      "Read AAPL at close 175.300003\n",
      "Read AAPL at close 175.240005\n",
      "Read AAPL at close 171.270004\n",
      "Read AAPL at close 168.850006\n",
      "Read AAPL at close 164.940002\n",
      "Read AAPL at close 172.770004\n",
      "Read AAPL at close 168.33999599999999\n",
      "Read AAPL at close 166.479996\n",
      "Read AAPL at close 167.779999\n",
      "Read AAPL at close 166.679993\n",
      "Read AAPL at close 168.389999\n",
      "Read AAPL at close 171.610001\n",
      "Read AAPL at close 172.800003\n",
      "Read AAPL at close 168.380005\n",
      "Read AAPL at close 170.050003\n",
      "Read AAPL at close 173.25\n",
      "Read AAPL at close 172.440002\n",
      "Read AAPL at close 174.139999\n",
      "Read AAPL at close 174.729996\n",
      "Read AAPL at close 175.625\n"
     ]
    }
   ],
   "source": [
    "import pandas as pd\n",
    "sess = db.session\n",
    "q = sess.query(TestClass, TestClass.test_Ticker, TestClass.test_Close).filter(TestClass.test_Ticker == \"AAPL\")\n",
    "for r in q.all():\n",
    "    (t, c) = r.test_Ticker, r.test_Close\n",
    "    print(\"Read {} at close {}\".format(t,c))\n",
    "# df_tc = pd.read_sql(q.statement, sess.bind)"
   ]
  },
  {
   "cell_type": "code",
   "execution_count": 18,
   "metadata": {},
   "outputs": [
    {
     "data": {
      "text/plain": [
       "(360, 8)"
      ]
     },
     "execution_count": 18,
     "metadata": {},
     "output_type": "execute_result"
    }
   ],
   "source": [
    "df_tc.shape"
   ]
  },
  {
   "cell_type": "markdown",
   "metadata": {},
   "source": [
    "## Create a full load"
   ]
  },
  {
   "cell_type": "code",
   "execution_count": 25,
   "metadata": {
    "collapsed": false
   },
   "outputs": [],
   "source": [
    "%aimport trans.dataprovider.PDR.tiingo\n",
    "import trans.dataprovider.PDR.tiingo\n",
    "\n",
    "dburl = 'sqlite:////tmp/full.db'\n",
    "idb = odb.ODO(dburl, provider=tg_dp)\n",
    "\n",
    "idb.setup_database()\n",
    "\n",
    "idb.existing()\n",
    "from datetime import timedelta\n",
    "\n",
    "today = dt.datetime.combine( dt.date.today(), dt.time.min)\n",
    "start=dup.parse(\"01/01/2000\")\n",
    "end  = today\n",
    "\n",
    "from trans.data import GetData\n",
    "gd = GetData()\n",
    "tickers = gd.existing()\n",
    "tickers.sort()\n",
    "print( len(tickers) )"
   ]
  },
  {
   "cell_type": "code",
   "execution_count": 27,
   "metadata": {
    "collapsed": false
   },
   "outputs": [
    {
     "name": "stdout",
     "output_type": "stream",
     "text": [
      "Already have up-to-date A.\n",
      "Already have up-to-date AA.\n",
      "Already have up-to-date AAL.\n",
      "Already have up-to-date AAN.\n",
      "Already have up-to-date AAP.\n",
      "Already have up-to-date AAPL.\n",
      "Already have up-to-date ABBV.\n",
      "Already have up-to-date ABC.\n",
      "Already have up-to-date ABMD.\n",
      "Already have up-to-date ABT.\n",
      "Already have up-to-date ACAD.\n",
      "Already have up-to-date ACC.\n",
      "Already have up-to-date ACGL.\n",
      "Already have up-to-date ACHC.\n",
      "Already have up-to-date ACIW.\n",
      "Already have up-to-date ACM.\n",
      "Already have up-to-date ACN.\n",
      "Already have up-to-date ACXM.\n",
      "Already have up-to-date ADBE.\n",
      "Already have up-to-date ADI.\n",
      "Already have up-to-date ADM.\n",
      "Already have up-to-date ADP.\n",
      "Already have up-to-date ADS.\n",
      "Already have up-to-date ADSK.\n",
      "Already have up-to-date AEE.\n",
      "Already have up-to-date AEO.\n",
      "Already have up-to-date AEP.\n",
      "Already have up-to-date AES.\n",
      "Already have up-to-date AET.\n",
      "Already have up-to-date AFG.\n",
      "Already have up-to-date AFL.\n",
      "Already have up-to-date AFSI.\n",
      "Already have up-to-date AGCO.\n",
      "Already have up-to-date AGIO.\n",
      "Already have up-to-date AGN.\n",
      "Already have up-to-date AGNC.\n",
      "Already have up-to-date AGO.\n",
      "Already have up-to-date AGR.\n",
      "Already have up-to-date AHL.\n",
      "Already have up-to-date AIG.\n",
      "Already have up-to-date AIV.\n",
      "Already have up-to-date AIZ.\n",
      "Already have up-to-date AJG.\n",
      "Already have up-to-date AKAM.\n",
      "Already have up-to-date AKRX.\n",
      "Already have up-to-date AL.\n",
      "Already have up-to-date ALB.\n",
      "Already have up-to-date ALEX.\n",
      "Already have up-to-date ALGN.\n",
      "Already have up-to-date ALK.\n",
      "Already have up-to-date ALKS.\n",
      "Already have up-to-date ALL.\n",
      "Already have up-to-date ALLE.\n",
      "Already have up-to-date ALLY.\n",
      "Already have up-to-date ALNY.\n",
      "Already have up-to-date ALSN.\n",
      "Already have up-to-date ALXN.\n",
      "Already have up-to-date AMAT.\n",
      "Already have up-to-date AMCX.\n",
      "Already have up-to-date AMD.\n",
      "Already have up-to-date AME.\n",
      "Already have up-to-date AMG.\n",
      "Already have up-to-date AMGN.\n",
      "Already have up-to-date AMH.\n",
      "Already have up-to-date AMP.\n",
      "Already have up-to-date AMT.\n",
      "Already have up-to-date AMTD.\n",
      "Already have up-to-date AMZN.\n",
      "Already have up-to-date AN.\n",
      "Already have up-to-date ANAT.\n",
      "Already have up-to-date ANDV.\n",
      "Already have up-to-date ANET.\n",
      "Already have up-to-date ANSS.\n",
      "Already have up-to-date ANTM.\n",
      "Already have up-to-date AON.\n",
      "Already have up-to-date AOS.\n",
      "Already have up-to-date APA.\n",
      "Already have up-to-date APAM.\n",
      "Already have up-to-date APC.\n",
      "Already have up-to-date APD.\n",
      "Already have up-to-date APH.\n",
      "Already have up-to-date APLE.\n",
      "Already have up-to-date APTV.\n",
      "Already have up-to-date AR.\n",
      "Already have up-to-date ARE.\n",
      "Already have up-to-date ARMK.\n",
      "Already have up-to-date ARNC.\n",
      "Already have up-to-date ARRS.\n",
      "Already have up-to-date ARW.\n",
      "Already have up-to-date ASB.\n",
      "Already have up-to-date ASH.\n",
      "Already have up-to-date ATGE.\n",
      "Already have up-to-date ATHN.\n",
      "Already have up-to-date ATI.\n",
      "Already have up-to-date ATO.\n",
      "Already have up-to-date ATR.\n",
      "Already have up-to-date ATVI.\n",
      "Already have up-to-date AVB.\n",
      "Already have up-to-date AVGO.\n",
      "Already have up-to-date AVP.\n",
      "Already have up-to-date AVT.\n",
      "Already have up-to-date AVY.\n",
      "Already have up-to-date AWI.\n",
      "Already have up-to-date AWK.\n",
      "Already have up-to-date AXP.\n",
      "Already have up-to-date AXS.\n",
      "Already have up-to-date AXTA.\n",
      "Already have up-to-date AYI.\n",
      "Already have up-to-date AZO.\n",
      "Already have up-to-date BA.\n",
      "Already have up-to-date BAC.\n",
      "Already have up-to-date BAH.\n",
      "Already have up-to-date BAX.\n",
      "Already have up-to-date BBBY.\n",
      "Already have up-to-date BBT.\n",
      "Already have up-to-date BBY.\n",
      "Already have up-to-date BC.\n",
      "Already have up-to-date BCO.\n",
      "Already have up-to-date BDC.\n",
      "Already have up-to-date BDN.\n",
      "Already have up-to-date BDX.\n",
      "Already have up-to-date BEN.\n",
      "Already have up-to-date BERY.\n",
      "Already have up-to-date BG.\n",
      "Already have up-to-date BHF.\n",
      "Already have up-to-date BHGE.\n",
      "Already have up-to-date BID.\n",
      "Already have up-to-date BIG.\n",
      "Already have up-to-date BIIB.\n",
      "Already have up-to-date BIO.\n",
      "Extend BIVV from 03/09/2018 beginning on 03/10/2018 to 04/16/2018.\n",
      "get: tiingo exception for BIVV: <class 'KeyError'> - 'date'\n",
      "get: tiingo error for BIVV, re-try 1.\n",
      "get: tiingo exception for BIVV: <class 'KeyError'> - 'date'\n",
      "get: tiingo error for BIVV, re-try 2.\n"
     ]
    },
    {
     "ename": "UnboundLocalError",
     "evalue": "local variable 'status' referenced before assignment",
     "output_type": "error",
     "traceback": [
      "\u001b[0;31m---------------------------------------------------------------------------\u001b[0m",
      "\u001b[0;31mUnboundLocalError\u001b[0m                         Traceback (most recent call last)",
      "\u001b[0;32m<ipython-input-27-e626e23076ba>\u001b[0m in \u001b[0;36m<module>\u001b[0;34m()\u001b[0m\n\u001b[0;32m----> 1\u001b[0;31m \u001b[0mchanged\u001b[0m \u001b[0;34m=\u001b[0m \u001b[0midb\u001b[0m\u001b[0;34m.\u001b[0m\u001b[0mget_data\u001b[0m\u001b[0;34m(\u001b[0m\u001b[0mtickers\u001b[0m\u001b[0;34m,\u001b[0m \u001b[0mstart\u001b[0m\u001b[0;34m,\u001b[0m \u001b[0mend\u001b[0m\u001b[0;34m)\u001b[0m\u001b[0;34m\u001b[0m\u001b[0m\n\u001b[0m",
      "\u001b[0;32m/home/ubuntu/Notebooks/trans/datastore/odo.py\u001b[0m in \u001b[0;36mget_data\u001b[0;34m(self, tickers, start, end)\u001b[0m\n\u001b[1;32m    224\u001b[0m         \u001b[0;31m# Get data for each ticker\u001b[0m\u001b[0;34m\u001b[0m\u001b[0;34m\u001b[0m\u001b[0m\n\u001b[1;32m    225\u001b[0m         \u001b[0;32mfor\u001b[0m \u001b[0mticker\u001b[0m \u001b[0;32min\u001b[0m \u001b[0mtickers\u001b[0m\u001b[0;34m:\u001b[0m\u001b[0;34m\u001b[0m\u001b[0m\n\u001b[0;32m--> 226\u001b[0;31m             \u001b[0mchanged\u001b[0m\u001b[0;34m,\u001b[0m \u001b[0mdf\u001b[0m \u001b[0;34m=\u001b[0m \u001b[0mself\u001b[0m\u001b[0;34m.\u001b[0m\u001b[0mextend\u001b[0m\u001b[0;34m(\u001b[0m\u001b[0mticker\u001b[0m\u001b[0;34m,\u001b[0m \u001b[0mstart\u001b[0m\u001b[0;34m,\u001b[0m \u001b[0mend\u001b[0m\u001b[0;34m)\u001b[0m\u001b[0;34m\u001b[0m\u001b[0m\n\u001b[0m\u001b[1;32m    227\u001b[0m \u001b[0;34m\u001b[0m\u001b[0m\n\u001b[1;32m    228\u001b[0m             \u001b[0;31m# just in case your connection breaks, we'd like to save our progress!\u001b[0m\u001b[0;34m\u001b[0m\u001b[0;34m\u001b[0m\u001b[0m\n",
      "\u001b[0;32m/home/ubuntu/Notebooks/trans/datastore/odo.py\u001b[0m in \u001b[0;36mextend\u001b[0;34m(self, ticker, start, end)\u001b[0m\n\u001b[1;32m    184\u001b[0m                       )\n\u001b[1;32m    185\u001b[0m \u001b[0;34m\u001b[0m\u001b[0m\n\u001b[0;32m--> 186\u001b[0;31m                 \u001b[0mstatus\u001b[0m\u001b[0;34m,\u001b[0m \u001b[0mdf\u001b[0m \u001b[0;34m=\u001b[0m \u001b[0mself\u001b[0m\u001b[0;34m.\u001b[0m\u001b[0mget_one\u001b[0m\u001b[0;34m(\u001b[0m\u001b[0mticker\u001b[0m\u001b[0;34m,\u001b[0m \u001b[0mstart\u001b[0m\u001b[0;34m,\u001b[0m \u001b[0mend\u001b[0m\u001b[0;34m)\u001b[0m\u001b[0;34m\u001b[0m\u001b[0m\n\u001b[0m\u001b[1;32m    187\u001b[0m \u001b[0;34m\u001b[0m\u001b[0m\n\u001b[1;32m    188\u001b[0m                 \u001b[0;31m# Did get_one really extend df ?\u001b[0m\u001b[0;34m\u001b[0m\u001b[0;34m\u001b[0m\u001b[0m\n",
      "\u001b[0;32m/home/ubuntu/Notebooks/trans/datastore/odo.py\u001b[0m in \u001b[0;36mget_one\u001b[0;34m(self, ticker, start, end)\u001b[0m\n\u001b[1;32m    130\u001b[0m             \u001b[0mstatus\u001b[0m \u001b[0;34m=\u001b[0m \u001b[0;32mTrue\u001b[0m\u001b[0;34m\u001b[0m\u001b[0m\n\u001b[1;32m    131\u001b[0m \u001b[0;34m\u001b[0m\u001b[0m\n\u001b[0;32m--> 132\u001b[0;31m         \u001b[0;32mreturn\u001b[0m \u001b[0mstatus\u001b[0m\u001b[0;34m,\u001b[0m \u001b[0mdf\u001b[0m\u001b[0;34m\u001b[0m\u001b[0m\n\u001b[0m\u001b[1;32m    133\u001b[0m \u001b[0;34m\u001b[0m\u001b[0m\n\u001b[1;32m    134\u001b[0m     \u001b[0;32mdef\u001b[0m \u001b[0mextend\u001b[0m\u001b[0;34m(\u001b[0m\u001b[0mself\u001b[0m\u001b[0;34m,\u001b[0m \u001b[0mticker\u001b[0m\u001b[0;34m,\u001b[0m \u001b[0mstart\u001b[0m\u001b[0;34m,\u001b[0m \u001b[0mend\u001b[0m\u001b[0;34m)\u001b[0m\u001b[0;34m:\u001b[0m\u001b[0;34m\u001b[0m\u001b[0m\n",
      "\u001b[0;31mUnboundLocalError\u001b[0m: local variable 'status' referenced before assignment"
     ]
    }
   ],
   "source": [
    "changed = idb.get_data(tickers, start, end)"
   ]
  },
  {
   "cell_type": "code",
   "execution_count": null,
   "metadata": {
    "collapsed": false
   },
   "outputs": [],
   "source": [
    "dfi = idb.combine_data(tickers = [ \"FB\", \"AAPL\", \"AMZN\", \"NFLX\", \"GOOG\" ], start=\"2018-03-01\")\n",
    "dfi.shape\n",
    "dfi.head()"
   ]
  },
  {
   "cell_type": "code",
   "execution_count": null,
   "metadata": {
    "collapsed": false
   },
   "outputs": [],
   "source": [
    "dfi.info()"
   ]
  },
  {
   "cell_type": "code",
   "execution_count": null,
   "metadata": {
    "collapsed": false
   },
   "outputs": [],
   "source": [
    "dfi.columns.get_level_values(1).unique()"
   ]
  },
  {
   "cell_type": "code",
   "execution_count": null,
   "metadata": {
    "collapsed": false
   },
   "outputs": [],
   "source": [
    "tickers = [ \"FB\", \"AAPL\", \"AMZN\" ]\n",
    "db.get_data(tickers, start, end)\n"
   ]
  },
  {
   "cell_type": "code",
   "execution_count": 10,
   "metadata": {
    "collapsed": false
   },
   "outputs": [
    {
     "name": "stdout",
     "output_type": "stream",
     "text": [
      "2018-04-16 14:49:10,652 INFO sqlalchemy.engine.base.Engine SELECT prices.\"Ticker\", prices.\"Date\", prices.\"AdjClose\", prices.\"Close\", prices.\"High\", prices.\"Low\", prices.\"Open\", prices.\"Volume\" \n",
      "FROM prices \n",
      "WHERE prices.\"Ticker\" IN (?, ?)\n",
      "2018-04-16 14:49:10,654 INFO sqlalchemy.engine.base.Engine ('A', 'AA')\n"
     ]
    },
    {
     "data": {
      "text/plain": [
       "(0, 0)"
      ]
     },
     "execution_count": 10,
     "metadata": {},
     "output_type": "execute_result"
    }
   ],
   "source": [
    "df = db.combine_data([\"A\", \"AA\"])\n",
    "df.shape"
   ]
  },
  {
   "cell_type": "code",
   "execution_count": null,
   "metadata": {
    "collapsed": false
   },
   "outputs": [],
   "source": [
    "df = db.combine_data([ \"AAPL\", \"AMZN\"]) # , dup.parse(\"03/02/2018\"), dup.parse(\"03/09/2018\"))"
   ]
  },
  {
   "cell_type": "code",
   "execution_count": null,
   "metadata": {
    "collapsed": false
   },
   "outputs": [],
   "source": [
    "df.shape\n",
    "df.columns\n",
    "df.tail()"
   ]
  },
  {
   "cell_type": "code",
   "execution_count": null,
   "metadata": {
    "collapsed": false
   },
   "outputs": [],
   "source": [
    "%pdb\n",
    "import pickle\n",
    "with open(\"verify_mom_raw_df.pkl\",\"rb\") as fp:\n",
    "    df = pickle.load(fp)"
   ]
  },
  {
   "cell_type": "code",
   "execution_count": null,
   "metadata": {
    "collapsed": false
   },
   "outputs": [],
   "source": [
    "from trans.data import GetData\n",
    "gd = GetData()\n",
    "f_df = gd.load_data(\"verify_mom_raw_df.pkl\")"
   ]
  },
  {
   "cell_type": "code",
   "execution_count": null,
   "metadata": {
    "collapsed": false
   },
   "outputs": [],
   "source": [
    "f_df.index.min(), f_df.index.max()\n",
    "df.index.min(), df.index.max()\n",
    "df.columns"
   ]
  },
  {
   "cell_type": "code",
   "execution_count": null,
   "metadata": {
    "collapsed": false
   },
   "outputs": [],
   "source": [
    "from trans.verify_tools import *\n",
    "verify_df( df. loc[:, \"Adj Close\"], f_df.loc[:, [\"AAPL\", \"AMZN\"]])"
   ]
  },
  {
   "cell_type": "code",
   "execution_count": null,
   "metadata": {
    "collapsed": false
   },
   "outputs": [],
   "source": [
    "\n",
    "import pandas as pd\n",
    "idx = pd.IndexSlice\n",
    "abs(df.loc[\"2018-01-03\":,   idx[\"Adj Close\"]] -f_df.loc[\"2018-01-03\":,   [\"AAPL\", \"AMZN\"]])\n",
    "\n"
   ]
  }
 ],
 "metadata": {
  "kernelspec": {
   "display_name": "Python 3",
   "language": "python",
   "name": "python3"
  },
  "language_info": {
   "codemirror_mode": {
    "name": "ipython",
    "version": 3
   },
   "file_extension": ".py",
   "mimetype": "text/x-python",
   "name": "python",
   "nbconvert_exporter": "python",
   "pygments_lexer": "ipython3",
   "version": "3.6.0"
  }
 },
 "nbformat": 4,
 "nbformat_minor": 2
}
