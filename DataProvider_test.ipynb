{
 "cells": [
  {
   "cell_type": "code",
   "execution_count": 1,
   "metadata": {
    "collapsed": false
   },
   "outputs": [],
   "source": [
    "from IPython.core.interactiveshell import InteractiveShell\n",
    "InteractiveShell.ast_node_interactivity = \"all\"\n",
    "\n",
    "# Reload all modules imported with %aimport\n",
    "%load_ext autoreload\n",
    "%autoreload 1"
   ]
  },
  {
   "cell_type": "code",
   "execution_count": null,
   "metadata": {
    "collapsed": true
   },
   "outputs": [],
   "source": [
    "import trans.datastore.odo as odb\n",
    "%aimport trans.datastore.odo"
   ]
  },
  {
   "cell_type": "code",
   "execution_count": 2,
   "metadata": {
    "collapsed": false
   },
   "outputs": [
    {
     "data": {
      "text/plain": [
       "'0.5.0'"
      ]
     },
     "execution_count": 2,
     "metadata": {},
     "output_type": "execute_result"
    }
   ],
   "source": [
    "import datetime as dt\n",
    "import dateutil.parser as dup\n",
    "\n",
    "import pandas_datareader.data as web\n",
    "import pandas_datareader as dr\n",
    "dr.__version__"
   ]
  },
  {
   "cell_type": "code",
   "execution_count": 3,
   "metadata": {
    "collapsed": false
   },
   "outputs": [
    {
     "ename": "ModuleNotFoundError",
     "evalue": "No module named 'pandas_datareader.exceptions'",
     "output_type": "error",
     "traceback": [
      "\u001b[0;31m---------------------------------------------------------------------------\u001b[0m",
      "\u001b[0;31mModuleNotFoundError\u001b[0m                       Traceback (most recent call last)",
      "\u001b[0;32m<ipython-input-3-a029976571ef>\u001b[0m in \u001b[0;36m<module>\u001b[0;34m()\u001b[0m\n\u001b[1;32m      5\u001b[0m \u001b[0mend\u001b[0m   \u001b[0;34m=\u001b[0m \u001b[0mtoday\u001b[0m\u001b[0;34m\u001b[0m\u001b[0m\n\u001b[1;32m      6\u001b[0m \u001b[0;32mfrom\u001b[0m \u001b[0mcontextlib\u001b[0m \u001b[0;32mimport\u001b[0m \u001b[0msuppress\u001b[0m\u001b[0;34m\u001b[0m\u001b[0m\n\u001b[0;32m----> 7\u001b[0;31m \u001b[0;32mfrom\u001b[0m \u001b[0mpandas_datareader\u001b[0m\u001b[0;34m.\u001b[0m\u001b[0mexceptions\u001b[0m \u001b[0;32mimport\u001b[0m \u001b[0mDEP_ERROR_MSG\u001b[0m\u001b[0;34m,\u001b[0m \u001b[0mImmediateDeprecationError\u001b[0m\u001b[0;34m\u001b[0m\u001b[0m\n\u001b[0m\u001b[1;32m      8\u001b[0m \u001b[0;34m\u001b[0m\u001b[0m\n\u001b[1;32m      9\u001b[0m \u001b[0;32mwith\u001b[0m \u001b[0msuppress\u001b[0m\u001b[0;34m(\u001b[0m\u001b[0mImmediateDeprecationError\u001b[0m\u001b[0;34m)\u001b[0m\u001b[0;34m:\u001b[0m\u001b[0;34m\u001b[0m\u001b[0m\n",
      "\u001b[0;31mModuleNotFoundError\u001b[0m: No module named 'pandas_datareader.exceptions'"
     ]
    }
   ],
   "source": [
    "ticker = \"SPY\"\n",
    "today = dt.datetime.combine( dt.date.today(), dt.time.min)\n",
    "\n",
    "start = dup.parse(\"01/01/2018\")\n",
    "end   = today\n",
    "from contextlib import suppress\n",
    "from pandas_datareader.exceptions import DEP_ERROR_MSG, ImmediateDeprecationError\n",
    "    \n",
    "with suppress(ImmediateDeprecationError):\n",
    "    df = web.DataReader(ticker, \"yahoo\", start, end)\n",
    "    # df = web.get_data_yahoo(ticker, start, end)\n",
    "df.shape"
   ]
  },
  {
   "cell_type": "code",
   "execution_count": null,
   "metadata": {
    "collapsed": true
   },
   "outputs": [],
   "source": [
    "try:\n",
    "    df = web.DataReader(ticker, \"yahoo\", start, end)\n",
    "    # df = web.get_data_yahoo(ticker, start, end)\n",
    "except ImmediateDeprecationError as e:\n",
    "    print(\"Exception: {}\".format(e))\n",
    "    pass"
   ]
  },
  {
   "cell_type": "code",
   "execution_count": null,
   "metadata": {
    "collapsed": false
   },
   "outputs": [],
   "source": [
    "df.shape\n",
    "df.head()"
   ]
  },
  {
   "cell_type": "code",
   "execution_count": null,
   "metadata": {
    "collapsed": true
   },
   "outputs": [],
   "source": [
    "tingo_ak_file=\"/home/ubuntu/Notebooks/tiingo_apkey.txt\"\n",
    "with open(tingo_ak_file, \"r\") as fp:\n",
    "    ak_t = fp.read().rstrip()"
   ]
  },
  {
   "cell_type": "code",
   "execution_count": null,
   "metadata": {
    "collapsed": false
   },
   "outputs": [],
   "source": [
    "df_t = web.DataReader(ticker, \"tiingo\", start, end, access_key=ak_t)\n",
    "df_t.shape\n",
    "# df_t.loc[\"2018-03-10\":].head()\n",
    "df_t.index = df_t.index.droplevel(0)\n",
    "df_t.loc[\"2018-03-10\":, [\"close\", \"adjClose\"]].head()\n",
    "df.loc[\"2018-03-10\":, [\"Close\", \"Adj Close\"]].head()\n",
    "\n",
    "df.loc[\"2018-03-10\":, \"Close\"] - df_t.loc[\"2018-03-10\":,\"close\"]\n",
    "df.loc[\"2018-03-10\":, \"Adj Close\"] - df_t.loc[\"2018-03-10\":,\"adjClose\"]\n",
    "df_t.loc[\"2018-03-10\":,\"divCash\"] == 0"
   ]
  },
  {
   "cell_type": "code",
   "execution_count": null,
   "metadata": {
    "collapsed": true
   },
   "outputs": [],
   "source": [
    "av_ak_file=\"/home/ubuntu/Notebooks/alphavantage_apkey.txt\"\n",
    "with open(av_ak_file, \"r\") as fp:\n",
    "    av_ak_t = fp.read().rstrip()"
   ]
  },
  {
   "cell_type": "code",
   "execution_count": null,
   "metadata": {
    "collapsed": false
   },
   "outputs": [],
   "source": [
    "import pandas as pd\n",
    "import requests\n",
    "url=\"https://alphavantage.co/query\"\n",
    "av_func= \"TIME_SERIES_DAILY\"\n",
    "av_args = { \"apikey\": av_ak_t,\n",
    "           \"symbol\": ticker,\n",
    "           \"function\": av_func\n",
    "          }\n",
    "\n",
    "url_str = \"https://www.alphavantage.co/query?function={f}&symbol={s}&apikey={ak}\".format(f=\"TIME_SERIES_DAILY\", s=ticker, ak=av_ak_t)\n",
    "#url_str = url_str + \"&outputsize=full\"\n",
    "url_str_csv = url_str + \"&datatype=csv\"\n",
    "print(url_str)\n",
    "print(url_str_csv)\n",
    "\n",
    "df_c = pd.read_csv(url_str_csv)\n",
    "df_c.info()\n",
    "df_c.head()\n",
    "df_c[ \"Date\"] = df_c[\"timestamp\"].map( lambda  s: pd.to_datetime(s, infer_datetime_format=True))\n",
    "df_c.set_index(\"Date\")   \n",
    "df_c.tail()\n",
    "\n",
    "pages= requests.get(url_str)\n",
    "\n",
    "type(pages)\n",
    "dictionary = pages.json()\n",
    "keys = list( dictionary.keys())\n",
    "print(keys)\n",
    "series = keys[1]\n",
    "df_av = pd.DataFrame.from_dict( dictionary[series], orient=\"index\")\n",
    "df_av = df_av.astype(float)\n",
    "df_av.info()\n",
    "\n",
    "\n",
    "\n"
   ]
  },
  {
   "cell_type": "code",
   "execution_count": null,
   "metadata": {
    "collapsed": true
   },
   "outputs": [],
   "source": [
    "df_av.tail()"
   ]
  },
  {
   "cell_type": "code",
   "execution_count": 4,
   "metadata": {
    "collapsed": true
   },
   "outputs": [],
   "source": [
    "from trans.dataprovider.alphavantage import Alphavantage\n",
    "%aimport trans.dataprovider.alphavantage\n",
    "aa = Alphavantage()"
   ]
  },
  {
   "cell_type": "code",
   "execution_count": null,
   "metadata": {
    "collapsed": true
   },
   "outputs": [],
   "source": [
    "df_a = aa.get(tickers=[\"FB\", \"AAPL\", \"AMZN\", \"NFLX\", \"GOOG\"], start=start, end=end)"
   ]
  },
  {
   "cell_type": "code",
   "execution_count": null,
   "metadata": {
    "collapsed": false
   },
   "outputs": [],
   "source": [
    "df_a.tail()\n",
    "df_a.sort_index(axis=1, level=0, inplace=True)\n",
    "df_a.sort_index(axis=1, level=1, inplace=True)\n",
    "df_a.tail()"
   ]
  },
  {
   "cell_type": "code",
   "execution_count": null,
   "metadata": {
    "collapsed": false
   },
   "outputs": [],
   "source": [
    "df_a.columns"
   ]
  },
  {
   "cell_type": "code",
   "execution_count": null,
   "metadata": {
    "collapsed": false
   },
   "outputs": [],
   "source": [
    "from trans.dataprovider.PDR.yahoo import Yahoo\n",
    "%aimport trans.dataprovider.PDR.yahoo\n",
    "\n",
    "yh = Yahoo()\n",
    "df_yp = yh.get(tickers=[\"FB\", \"AAPL\", \"AMZN\", \"NFLX\", \"GOOG\"], start=start, end=end)"
   ]
  },
  {
   "cell_type": "code",
   "execution_count": null,
   "metadata": {
    "collapsed": false
   },
   "outputs": [],
   "source": [
    "df_yp.info()\n",
    "df_yp.tail()"
   ]
  },
  {
   "cell_type": "code",
   "execution_count": null,
   "metadata": {
    "collapsed": true
   },
   "outputs": [],
   "source": [
    "from trans.dataprovider.PDR.tiingo import Tiingo\n",
    "%aimport trans.dataprovider.PDR.base\n",
    "%aimport trans.dataprovider.PDR.tiingo\n",
    "\n",
    "tg = Tiingo(access_key=ak_t)\n",
    "# pyh.source = \"yahoo\"\n",
    "df_tg = tg.get(tickers=[\"FB\", \"AAPL\", \"AMZN\", \"NFLX\", \"GOOG\"], start=start, end=end)"
   ]
  },
  {
   "cell_type": "code",
   "execution_count": null,
   "metadata": {
    "collapsed": false
   },
   "outputs": [],
   "source": [
    "df_tg.info()\n",
    "df_tg.tail()"
   ]
  },
  {
   "cell_type": "code",
   "execution_count": 10,
   "metadata": {
    "collapsed": false
   },
   "outputs": [],
   "source": [
    "from trans.dataprovider.odo import ODO\n",
    "%aimport trans.dataprovider.odo\n",
    "from sqlalchemy.ext.declarative import declarative_base\n",
    "\n",
    "dburl=\"sqlite:////tmp/full.db\"\n",
    "decBase = declarative_base()\n",
    "\n",
    "odr = ODO(dbURL=dburl, declarative_base=decBase, provider=aa)\n",
    "# pyh.source = \"yahoo\"\n",
    "df_od = odr.get(tickers=[\"FB\", \"AAPL\", \"AMZN\", \"NFLX\", \"GOOG\"], start=start, end=end)"
   ]
  },
  {
   "cell_type": "code",
   "execution_count": 9,
   "metadata": {
    "collapsed": false
   },
   "outputs": [
    {
     "name": "stdout",
     "output_type": "stream",
     "text": [
      "<class 'pandas.core.frame.DataFrame'>\n",
      "DatetimeIndex: 76 entries, 2018-01-02 to 2018-04-20\n",
      "Data columns (total 40 columns):\n",
      "(Close, AAPL)       76 non-null float64\n",
      "(Close, AMZN)       76 non-null float64\n",
      "(Close, FB)         76 non-null float64\n",
      "(Close, GOOG)       76 non-null float64\n",
      "(Close, NFLX)       76 non-null float64\n",
      "(AdjClose, AAPL)    76 non-null float64\n",
      "(AdjClose, AMZN)    76 non-null float64\n",
      "(AdjClose, FB)      76 non-null float64\n",
      "(AdjClose, GOOG)    76 non-null float64\n",
      "(AdjClose, NFLX)    76 non-null float64\n",
      "(High, AAPL)        76 non-null float64\n",
      "(High, AMZN)        76 non-null float64\n",
      "(High, FB)          76 non-null float64\n",
      "(High, GOOG)        76 non-null float64\n",
      "(High, NFLX)        76 non-null float64\n",
      "(Low, AAPL)         76 non-null float64\n",
      "(Low, AMZN)         76 non-null float64\n",
      "(Low, FB)           76 non-null float64\n",
      "(Low, GOOG)         76 non-null float64\n",
      "(Low, NFLX)         76 non-null float64\n",
      "(Open, AAPL)        76 non-null float64\n",
      "(Open, AMZN)        76 non-null float64\n",
      "(Open, FB)          76 non-null float64\n",
      "(Open, GOOG)        76 non-null float64\n",
      "(Open, NFLX)        76 non-null float64\n",
      "(Volume, AAPL)      76 non-null float64\n",
      "(Volume, AMZN)      76 non-null float64\n",
      "(Volume, FB)        76 non-null float64\n",
      "(Volume, GOOG)      76 non-null float64\n",
      "(Volume, NFLX)      76 non-null float64\n",
      "(Div, AAPL)         76 non-null float64\n",
      "(Div, AMZN)         76 non-null float64\n",
      "(Div, FB)           76 non-null float64\n",
      "(Div, GOOG)         76 non-null float64\n",
      "(Div, NFLX)         76 non-null float64\n",
      "(Factor, AAPL)      76 non-null float64\n",
      "(Factor, AMZN)      76 non-null float64\n",
      "(Factor, FB)        76 non-null float64\n",
      "(Factor, GOOG)      76 non-null float64\n",
      "(Factor, NFLX)      76 non-null float64\n",
      "dtypes: float64(40)\n",
      "memory usage: 24.3 KB\n"
     ]
    },
    {
     "data": {
      "text/html": [
       "<div>\n",
       "<style scoped>\n",
       "    .dataframe tbody tr th:only-of-type {\n",
       "        vertical-align: middle;\n",
       "    }\n",
       "\n",
       "    .dataframe tbody tr th {\n",
       "        vertical-align: top;\n",
       "    }\n",
       "\n",
       "    .dataframe thead tr th {\n",
       "        text-align: left;\n",
       "    }\n",
       "\n",
       "    .dataframe thead tr:last-of-type th {\n",
       "        text-align: right;\n",
       "    }\n",
       "</style>\n",
       "<table border=\"1\" class=\"dataframe\">\n",
       "  <thead>\n",
       "    <tr>\n",
       "      <th></th>\n",
       "      <th colspan=\"5\" halign=\"left\">Close</th>\n",
       "      <th colspan=\"5\" halign=\"left\">AdjClose</th>\n",
       "      <th>...</th>\n",
       "      <th colspan=\"5\" halign=\"left\">Div</th>\n",
       "      <th colspan=\"5\" halign=\"left\">Factor</th>\n",
       "    </tr>\n",
       "    <tr>\n",
       "      <th>Ticker</th>\n",
       "      <th>AAPL</th>\n",
       "      <th>AMZN</th>\n",
       "      <th>FB</th>\n",
       "      <th>GOOG</th>\n",
       "      <th>NFLX</th>\n",
       "      <th>AAPL</th>\n",
       "      <th>AMZN</th>\n",
       "      <th>FB</th>\n",
       "      <th>GOOG</th>\n",
       "      <th>NFLX</th>\n",
       "      <th>...</th>\n",
       "      <th>AAPL</th>\n",
       "      <th>AMZN</th>\n",
       "      <th>FB</th>\n",
       "      <th>GOOG</th>\n",
       "      <th>NFLX</th>\n",
       "      <th>AAPL</th>\n",
       "      <th>AMZN</th>\n",
       "      <th>FB</th>\n",
       "      <th>GOOG</th>\n",
       "      <th>NFLX</th>\n",
       "    </tr>\n",
       "    <tr>\n",
       "      <th>Dt</th>\n",
       "      <th></th>\n",
       "      <th></th>\n",
       "      <th></th>\n",
       "      <th></th>\n",
       "      <th></th>\n",
       "      <th></th>\n",
       "      <th></th>\n",
       "      <th></th>\n",
       "      <th></th>\n",
       "      <th></th>\n",
       "      <th></th>\n",
       "      <th></th>\n",
       "      <th></th>\n",
       "      <th></th>\n",
       "      <th></th>\n",
       "      <th></th>\n",
       "      <th></th>\n",
       "      <th></th>\n",
       "      <th></th>\n",
       "      <th></th>\n",
       "      <th></th>\n",
       "    </tr>\n",
       "  </thead>\n",
       "  <tbody>\n",
       "    <tr>\n",
       "      <th>2018-04-16</th>\n",
       "      <td>175.82</td>\n",
       "      <td>1441.50</td>\n",
       "      <td>164.83</td>\n",
       "      <td>1037.98</td>\n",
       "      <td>307.78</td>\n",
       "      <td>175.82</td>\n",
       "      <td>1441.50</td>\n",
       "      <td>164.83</td>\n",
       "      <td>1037.98</td>\n",
       "      <td>307.78</td>\n",
       "      <td>...</td>\n",
       "      <td>0.0</td>\n",
       "      <td>0.0</td>\n",
       "      <td>0.0</td>\n",
       "      <td>0.0</td>\n",
       "      <td>0.0</td>\n",
       "      <td>1.0</td>\n",
       "      <td>1.0</td>\n",
       "      <td>1.0</td>\n",
       "      <td>1.0</td>\n",
       "      <td>1.0</td>\n",
       "    </tr>\n",
       "    <tr>\n",
       "      <th>2018-04-17</th>\n",
       "      <td>178.24</td>\n",
       "      <td>1503.83</td>\n",
       "      <td>168.66</td>\n",
       "      <td>1074.16</td>\n",
       "      <td>336.06</td>\n",
       "      <td>178.24</td>\n",
       "      <td>1503.83</td>\n",
       "      <td>168.66</td>\n",
       "      <td>1074.16</td>\n",
       "      <td>336.06</td>\n",
       "      <td>...</td>\n",
       "      <td>0.0</td>\n",
       "      <td>0.0</td>\n",
       "      <td>0.0</td>\n",
       "      <td>0.0</td>\n",
       "      <td>0.0</td>\n",
       "      <td>1.0</td>\n",
       "      <td>1.0</td>\n",
       "      <td>1.0</td>\n",
       "      <td>1.0</td>\n",
       "      <td>1.0</td>\n",
       "    </tr>\n",
       "    <tr>\n",
       "      <th>2018-04-18</th>\n",
       "      <td>177.84</td>\n",
       "      <td>1527.84</td>\n",
       "      <td>166.36</td>\n",
       "      <td>1072.08</td>\n",
       "      <td>334.52</td>\n",
       "      <td>177.84</td>\n",
       "      <td>1527.84</td>\n",
       "      <td>166.36</td>\n",
       "      <td>1072.08</td>\n",
       "      <td>334.52</td>\n",
       "      <td>...</td>\n",
       "      <td>0.0</td>\n",
       "      <td>0.0</td>\n",
       "      <td>0.0</td>\n",
       "      <td>0.0</td>\n",
       "      <td>0.0</td>\n",
       "      <td>1.0</td>\n",
       "      <td>1.0</td>\n",
       "      <td>1.0</td>\n",
       "      <td>1.0</td>\n",
       "      <td>1.0</td>\n",
       "    </tr>\n",
       "    <tr>\n",
       "      <th>2018-04-19</th>\n",
       "      <td>172.80</td>\n",
       "      <td>1556.91</td>\n",
       "      <td>168.10</td>\n",
       "      <td>1087.70</td>\n",
       "      <td>332.70</td>\n",
       "      <td>172.80</td>\n",
       "      <td>1556.91</td>\n",
       "      <td>168.10</td>\n",
       "      <td>1087.70</td>\n",
       "      <td>332.70</td>\n",
       "      <td>...</td>\n",
       "      <td>0.0</td>\n",
       "      <td>0.0</td>\n",
       "      <td>0.0</td>\n",
       "      <td>0.0</td>\n",
       "      <td>0.0</td>\n",
       "      <td>1.0</td>\n",
       "      <td>1.0</td>\n",
       "      <td>1.0</td>\n",
       "      <td>1.0</td>\n",
       "      <td>1.0</td>\n",
       "    </tr>\n",
       "    <tr>\n",
       "      <th>2018-04-20</th>\n",
       "      <td>165.72</td>\n",
       "      <td>1527.50</td>\n",
       "      <td>166.29</td>\n",
       "      <td>1073.39</td>\n",
       "      <td>327.67</td>\n",
       "      <td>165.72</td>\n",
       "      <td>1527.50</td>\n",
       "      <td>166.29</td>\n",
       "      <td>1073.39</td>\n",
       "      <td>327.67</td>\n",
       "      <td>...</td>\n",
       "      <td>0.0</td>\n",
       "      <td>0.0</td>\n",
       "      <td>0.0</td>\n",
       "      <td>0.0</td>\n",
       "      <td>0.0</td>\n",
       "      <td>1.0</td>\n",
       "      <td>1.0</td>\n",
       "      <td>1.0</td>\n",
       "      <td>1.0</td>\n",
       "      <td>1.0</td>\n",
       "    </tr>\n",
       "  </tbody>\n",
       "</table>\n",
       "<p>5 rows × 40 columns</p>\n",
       "</div>"
      ],
      "text/plain": [
       "             Close                                   AdjClose           \\\n",
       "Ticker        AAPL     AMZN      FB     GOOG    NFLX     AAPL     AMZN   \n",
       "Dt                                                                       \n",
       "2018-04-16  175.82  1441.50  164.83  1037.98  307.78   175.82  1441.50   \n",
       "2018-04-17  178.24  1503.83  168.66  1074.16  336.06   178.24  1503.83   \n",
       "2018-04-18  177.84  1527.84  166.36  1072.08  334.52   177.84  1527.84   \n",
       "2018-04-19  172.80  1556.91  168.10  1087.70  332.70   172.80  1556.91   \n",
       "2018-04-20  165.72  1527.50  166.29  1073.39  327.67   165.72  1527.50   \n",
       "\n",
       "                                    ...   Div                     Factor       \\\n",
       "Ticker          FB     GOOG    NFLX ...  AAPL AMZN   FB GOOG NFLX   AAPL AMZN   \n",
       "Dt                                  ...                                         \n",
       "2018-04-16  164.83  1037.98  307.78 ...   0.0  0.0  0.0  0.0  0.0    1.0  1.0   \n",
       "2018-04-17  168.66  1074.16  336.06 ...   0.0  0.0  0.0  0.0  0.0    1.0  1.0   \n",
       "2018-04-18  166.36  1072.08  334.52 ...   0.0  0.0  0.0  0.0  0.0    1.0  1.0   \n",
       "2018-04-19  168.10  1087.70  332.70 ...   0.0  0.0  0.0  0.0  0.0    1.0  1.0   \n",
       "2018-04-20  166.29  1073.39  327.67 ...   0.0  0.0  0.0  0.0  0.0    1.0  1.0   \n",
       "\n",
       "                           \n",
       "Ticker       FB GOOG NFLX  \n",
       "Dt                         \n",
       "2018-04-16  1.0  1.0  1.0  \n",
       "2018-04-17  1.0  1.0  1.0  \n",
       "2018-04-18  1.0  1.0  1.0  \n",
       "2018-04-19  1.0  1.0  1.0  \n",
       "2018-04-20  1.0  1.0  1.0  \n",
       "\n",
       "[5 rows x 40 columns]"
      ]
     },
     "execution_count": 9,
     "metadata": {},
     "output_type": "execute_result"
    }
   ],
   "source": [
    "df_od.info()\n",
    "df_od.tail()"
   ]
  },
  {
   "cell_type": "code",
   "execution_count": null,
   "metadata": {
    "collapsed": true
   },
   "outputs": [],
   "source": [
    "from trans.data import GetData\n",
    "gd = GetData()"
   ]
  },
  {
   "cell_type": "code",
   "execution_count": null,
   "metadata": {
    "collapsed": false
   },
   "outputs": [],
   "source": [
    "status, df_gd = gd.get_one(\"FB\", start, end)\n",
    "df_gd.info()"
   ]
  },
  {
   "cell_type": "code",
   "execution_count": null,
   "metadata": {
    "collapsed": false
   },
   "outputs": [],
   "source": [
    "import pandas as pd\n",
    "idx = pd.IndexSlice\n",
    "df_yp_fb = df_yp.loc[:, idx[:,\"FB\"]]\n",
    "df_yp_fb.columns = df_yp_fb.columns.droplevel(level=1)\n",
    "df_yp_fb.info()\n",
    "\n",
    "abs(df_yp_fb - df_gd).max()\n",
    "df_yp_fb.tail()\n",
    "df_gd.tail()"
   ]
  }
 ],
 "metadata": {
  "kernelspec": {
   "display_name": "Python 3",
   "language": "python",
   "name": "python3"
  },
  "language_info": {
   "codemirror_mode": {
    "name": "ipython",
    "version": 3
   },
   "file_extension": ".py",
   "mimetype": "text/x-python",
   "name": "python",
   "nbconvert_exporter": "python",
   "pygments_lexer": "ipython3",
   "version": "3.6.0"
  }
 },
 "nbformat": 4,
 "nbformat_minor": 2
}
