{
 "cells": [
  {
   "cell_type": "code",
   "execution_count": 161,
   "metadata": {
    "collapsed": false
   },
   "outputs": [
    {
     "name": "stdout",
     "output_type": "stream",
     "text": [
      "The autoreload extension is already loaded. To reload it, use:\n",
      "  %reload_ext autoreload\n"
     ]
    }
   ],
   "source": [
    "from IPython.core.interactiveshell import InteractiveShell\n",
    "InteractiveShell.ast_node_interactivity = \"all\"\n",
    "\n",
    "# Reload all modules imported with %aimport\n",
    "%load_ext autoreload\n",
    "%autoreload 1"
   ]
  },
  {
   "cell_type": "code",
   "execution_count": 162,
   "metadata": {
    "collapsed": true
   },
   "outputs": [],
   "source": [
    "import pandas as pd\n",
    "idx = pd.IndexSlice\n",
    "\n",
    "from sklearn.pipeline import Pipeline, make_pipeline\n",
    "from sklearn.linear_model import LinearRegression\n",
    "\n",
    "from datetime import timedelta\n",
    "\n",
    "s = '2017-11-01'\n",
    "e = '2017-12-20'\n",
    "\n",
    "%aimport trans.data\n",
    "%aimport trans.gtrans\n",
    "%aimport trans.reg\n",
    "\n",
    "from trans.data import GetData as gd\n",
    "from trans.gtrans import *\n",
    "\n",
    "from trans.reg import Reg\n",
    "\n",
    "from trans.gtrans import DataFrameFunctionTransformer \n",
    "\n",
    "pctTrans = DataFrameFunctionTransformer(func = lambda s: s.pct_change())\n",
    "rankTrans = DataFrameFunctionTransformer(func = lambda s: s.rank(method=\"first\"), axis=1)\n",
    "pctOnlyTrans = GenSelectAttrsTransformer(['Pct'], dropSingle=False )"
   ]
  },
  {
   "cell_type": "code",
   "execution_count": 163,
   "metadata": {
    "collapsed": true
   },
   "outputs": [],
   "source": [
    "ret_df = gd.load_data(\"ret_df.pkl\")\n",
    "beta_df = gd.load_data(\"beta_df.pkl\")\n",
    "ret_and_beta_df = gd.load_data(\"ret_and_beta_df.pkl\")"
   ]
  },
  {
   "cell_type": "code",
   "execution_count": 164,
   "metadata": {
    "collapsed": false
   },
   "outputs": [
    {
     "data": {
      "text/plain": [
       "['Beta 0', 'Beta 1']"
      ]
     },
     "execution_count": 164,
     "metadata": {},
     "output_type": "execute_result"
    }
   ],
   "source": [
    "cols = beta_df.columns.get_level_values(0).unique().tolist()\n",
    "betaCols = [ c for c in cols if re.search('^Beta', c) ]\n",
    "\n",
    "betaCols"
   ]
  },
  {
   "cell_type": "code",
   "execution_count": 165,
   "metadata": {
    "collapsed": false
   },
   "outputs": [
    {
     "name": "stdout",
     "output_type": "stream",
     "text": [
      "transform: pandas version <= 0.20.\n"
     ]
    },
    {
     "data": {
      "text/html": [
       "<div>\n",
       "<table border=\"1\" class=\"dataframe\">\n",
       "  <thead>\n",
       "    <tr>\n",
       "      <th></th>\n",
       "      <th colspan=\"5\" halign=\"left\">Beta 0 rolled fwd</th>\n",
       "      <th colspan=\"5\" halign=\"left\">Beta 1 rolled fwd</th>\n",
       "    </tr>\n",
       "    <tr>\n",
       "      <th></th>\n",
       "      <th>AAPL</th>\n",
       "      <th>AMZN</th>\n",
       "      <th>FB</th>\n",
       "      <th>GOOG</th>\n",
       "      <th>NFLX</th>\n",
       "      <th>AAPL</th>\n",
       "      <th>AMZN</th>\n",
       "      <th>FB</th>\n",
       "      <th>GOOG</th>\n",
       "      <th>NFLX</th>\n",
       "    </tr>\n",
       "    <tr>\n",
       "      <th>Dt</th>\n",
       "      <th></th>\n",
       "      <th></th>\n",
       "      <th></th>\n",
       "      <th></th>\n",
       "      <th></th>\n",
       "      <th></th>\n",
       "      <th></th>\n",
       "      <th></th>\n",
       "      <th></th>\n",
       "      <th></th>\n",
       "    </tr>\n",
       "  </thead>\n",
       "  <tbody>\n",
       "    <tr>\n",
       "      <th>2017-12-22</th>\n",
       "      <td>-0.001837</td>\n",
       "      <td>0.001098</td>\n",
       "      <td>-0.002488</td>\n",
       "      <td>-0.002125</td>\n",
       "      <td>-0.006099</td>\n",
       "      <td>1.339091</td>\n",
       "      <td>1.082630</td>\n",
       "      <td>1.164516</td>\n",
       "      <td>0.837844</td>\n",
       "      <td>2.177337</td>\n",
       "    </tr>\n",
       "    <tr>\n",
       "      <th>2017-12-26</th>\n",
       "      <td>-0.001837</td>\n",
       "      <td>0.001098</td>\n",
       "      <td>-0.002488</td>\n",
       "      <td>-0.002125</td>\n",
       "      <td>-0.006099</td>\n",
       "      <td>1.339091</td>\n",
       "      <td>1.082630</td>\n",
       "      <td>1.164516</td>\n",
       "      <td>0.837844</td>\n",
       "      <td>2.177337</td>\n",
       "    </tr>\n",
       "    <tr>\n",
       "      <th>2017-12-27</th>\n",
       "      <td>-0.001837</td>\n",
       "      <td>0.001098</td>\n",
       "      <td>-0.002488</td>\n",
       "      <td>-0.002125</td>\n",
       "      <td>-0.006099</td>\n",
       "      <td>1.339091</td>\n",
       "      <td>1.082630</td>\n",
       "      <td>1.164516</td>\n",
       "      <td>0.837844</td>\n",
       "      <td>2.177337</td>\n",
       "    </tr>\n",
       "    <tr>\n",
       "      <th>2017-12-28</th>\n",
       "      <td>-0.001837</td>\n",
       "      <td>0.001098</td>\n",
       "      <td>-0.002488</td>\n",
       "      <td>-0.002125</td>\n",
       "      <td>-0.006099</td>\n",
       "      <td>1.339091</td>\n",
       "      <td>1.082630</td>\n",
       "      <td>1.164516</td>\n",
       "      <td>0.837844</td>\n",
       "      <td>2.177337</td>\n",
       "    </tr>\n",
       "    <tr>\n",
       "      <th>2017-12-29</th>\n",
       "      <td>-0.001793</td>\n",
       "      <td>-0.000217</td>\n",
       "      <td>-0.000183</td>\n",
       "      <td>0.001072</td>\n",
       "      <td>0.000821</td>\n",
       "      <td>1.699265</td>\n",
       "      <td>0.767625</td>\n",
       "      <td>0.859952</td>\n",
       "      <td>1.081924</td>\n",
       "      <td>0.908602</td>\n",
       "    </tr>\n",
       "  </tbody>\n",
       "</table>\n",
       "</div>"
      ],
      "text/plain": [
       "           Beta 0 rolled fwd                                          \\\n",
       "                        AAPL      AMZN        FB      GOOG      NFLX   \n",
       "Dt                                                                     \n",
       "2017-12-22         -0.001837  0.001098 -0.002488 -0.002125 -0.006099   \n",
       "2017-12-26         -0.001837  0.001098 -0.002488 -0.002125 -0.006099   \n",
       "2017-12-27         -0.001837  0.001098 -0.002488 -0.002125 -0.006099   \n",
       "2017-12-28         -0.001837  0.001098 -0.002488 -0.002125 -0.006099   \n",
       "2017-12-29         -0.001793 -0.000217 -0.000183  0.001072  0.000821   \n",
       "\n",
       "           Beta 1 rolled fwd                                          \n",
       "                        AAPL      AMZN        FB      GOOG      NFLX  \n",
       "Dt                                                                    \n",
       "2017-12-22          1.339091  1.082630  1.164516  0.837844  2.177337  \n",
       "2017-12-26          1.339091  1.082630  1.164516  0.837844  2.177337  \n",
       "2017-12-27          1.339091  1.082630  1.164516  0.837844  2.177337  \n",
       "2017-12-28          1.339091  1.082630  1.164516  0.837844  2.177337  \n",
       "2017-12-29          1.699265  0.767625  0.859952  1.081924  0.908602  "
      ]
     },
     "execution_count": 165,
     "metadata": {},
     "output_type": "execute_result"
    }
   ],
   "source": [
    "beta_r_pl = make_pipeline( GenSelectAttrsTransformer(betaCols),\n",
    "                            FillNullTransformer(method=\"ffill\"),\n",
    "                            GenRenameAttrsTransformer(lambda col: col + ' rolled fwd', level=0)\n",
    "                         )\n",
    "beta_rolled_df = beta_r_pl.fit_transform(ret_and_beta_df)\n",
    "beta_rolled_df.tail()"
   ]
  },
  {
   "cell_type": "code",
   "execution_count": 166,
   "metadata": {
    "collapsed": false
   },
   "outputs": [
    {
     "data": {
      "text/plain": [
       "(4536, 22)"
      ]
     },
     "execution_count": 166,
     "metadata": {},
     "output_type": "execute_result"
    },
    {
     "data": {
      "text/plain": [
       "(4536, 10)"
      ]
     },
     "execution_count": 166,
     "metadata": {},
     "output_type": "execute_result"
    },
    {
     "data": {
      "text/html": [
       "<div>\n",
       "<table border=\"1\" class=\"dataframe\">\n",
       "  <thead>\n",
       "    <tr>\n",
       "      <th></th>\n",
       "      <th colspan=\"6\" halign=\"left\">Adj Close</th>\n",
       "      <th colspan=\"4\" halign=\"left\">Beta 0</th>\n",
       "      <th>...</th>\n",
       "      <th colspan=\"4\" halign=\"left\">Beta 1 rolled fwd</th>\n",
       "      <th colspan=\"6\" halign=\"left\">Pct</th>\n",
       "    </tr>\n",
       "    <tr>\n",
       "      <th></th>\n",
       "      <th>AAPL</th>\n",
       "      <th>AMZN</th>\n",
       "      <th>FB</th>\n",
       "      <th>GOOG</th>\n",
       "      <th>NFLX</th>\n",
       "      <th>SPY</th>\n",
       "      <th>AAPL</th>\n",
       "      <th>AMZN</th>\n",
       "      <th>FB</th>\n",
       "      <th>GOOG</th>\n",
       "      <th>...</th>\n",
       "      <th>AMZN</th>\n",
       "      <th>FB</th>\n",
       "      <th>GOOG</th>\n",
       "      <th>NFLX</th>\n",
       "      <th>AAPL</th>\n",
       "      <th>AMZN</th>\n",
       "      <th>FB</th>\n",
       "      <th>GOOG</th>\n",
       "      <th>NFLX</th>\n",
       "      <th>SPY</th>\n",
       "    </tr>\n",
       "    <tr>\n",
       "      <th>Dt</th>\n",
       "      <th></th>\n",
       "      <th></th>\n",
       "      <th></th>\n",
       "      <th></th>\n",
       "      <th></th>\n",
       "      <th></th>\n",
       "      <th></th>\n",
       "      <th></th>\n",
       "      <th></th>\n",
       "      <th></th>\n",
       "      <th></th>\n",
       "      <th></th>\n",
       "      <th></th>\n",
       "      <th></th>\n",
       "      <th></th>\n",
       "      <th></th>\n",
       "      <th></th>\n",
       "      <th></th>\n",
       "      <th></th>\n",
       "      <th></th>\n",
       "      <th></th>\n",
       "    </tr>\n",
       "  </thead>\n",
       "  <tbody>\n",
       "    <tr>\n",
       "      <th>2017-12-22</th>\n",
       "      <td>175.009995</td>\n",
       "      <td>1168.359985</td>\n",
       "      <td>177.199997</td>\n",
       "      <td>1060.119995</td>\n",
       "      <td>189.940002</td>\n",
       "      <td>267.510010</td>\n",
       "      <td>NaN</td>\n",
       "      <td>NaN</td>\n",
       "      <td>NaN</td>\n",
       "      <td>NaN</td>\n",
       "      <td>...</td>\n",
       "      <td>1.082630</td>\n",
       "      <td>1.164516</td>\n",
       "      <td>0.837844</td>\n",
       "      <td>2.177337</td>\n",
       "      <td>0.000000</td>\n",
       "      <td>-0.005448</td>\n",
       "      <td>-0.001409</td>\n",
       "      <td>-0.003300</td>\n",
       "      <td>0.006998</td>\n",
       "      <td>-0.000262</td>\n",
       "    </tr>\n",
       "    <tr>\n",
       "      <th>2017-12-26</th>\n",
       "      <td>170.570007</td>\n",
       "      <td>1176.760010</td>\n",
       "      <td>175.990005</td>\n",
       "      <td>1056.739990</td>\n",
       "      <td>187.759995</td>\n",
       "      <td>267.190002</td>\n",
       "      <td>NaN</td>\n",
       "      <td>NaN</td>\n",
       "      <td>NaN</td>\n",
       "      <td>NaN</td>\n",
       "      <td>...</td>\n",
       "      <td>1.082630</td>\n",
       "      <td>1.164516</td>\n",
       "      <td>0.837844</td>\n",
       "      <td>2.177337</td>\n",
       "      <td>-0.025370</td>\n",
       "      <td>0.007190</td>\n",
       "      <td>-0.006828</td>\n",
       "      <td>-0.003188</td>\n",
       "      <td>-0.011477</td>\n",
       "      <td>-0.001196</td>\n",
       "    </tr>\n",
       "    <tr>\n",
       "      <th>2017-12-27</th>\n",
       "      <td>170.600006</td>\n",
       "      <td>1182.260010</td>\n",
       "      <td>177.619995</td>\n",
       "      <td>1049.369995</td>\n",
       "      <td>186.240005</td>\n",
       "      <td>267.320007</td>\n",
       "      <td>NaN</td>\n",
       "      <td>NaN</td>\n",
       "      <td>NaN</td>\n",
       "      <td>NaN</td>\n",
       "      <td>...</td>\n",
       "      <td>1.082630</td>\n",
       "      <td>1.164516</td>\n",
       "      <td>0.837844</td>\n",
       "      <td>2.177337</td>\n",
       "      <td>0.000176</td>\n",
       "      <td>0.004674</td>\n",
       "      <td>0.009262</td>\n",
       "      <td>-0.006974</td>\n",
       "      <td>-0.008095</td>\n",
       "      <td>0.000487</td>\n",
       "    </tr>\n",
       "    <tr>\n",
       "      <th>2017-12-28</th>\n",
       "      <td>171.080002</td>\n",
       "      <td>1186.099976</td>\n",
       "      <td>177.919998</td>\n",
       "      <td>1048.140015</td>\n",
       "      <td>192.710007</td>\n",
       "      <td>267.869995</td>\n",
       "      <td>NaN</td>\n",
       "      <td>NaN</td>\n",
       "      <td>NaN</td>\n",
       "      <td>NaN</td>\n",
       "      <td>...</td>\n",
       "      <td>1.082630</td>\n",
       "      <td>1.164516</td>\n",
       "      <td>0.837844</td>\n",
       "      <td>2.177337</td>\n",
       "      <td>0.002814</td>\n",
       "      <td>0.003248</td>\n",
       "      <td>0.001689</td>\n",
       "      <td>-0.001172</td>\n",
       "      <td>0.034740</td>\n",
       "      <td>0.002057</td>\n",
       "    </tr>\n",
       "    <tr>\n",
       "      <th>2017-12-29</th>\n",
       "      <td>169.229996</td>\n",
       "      <td>1169.469971</td>\n",
       "      <td>176.460007</td>\n",
       "      <td>1046.400024</td>\n",
       "      <td>191.960007</td>\n",
       "      <td>266.859985</td>\n",
       "      <td>-0.001793</td>\n",
       "      <td>-0.000217</td>\n",
       "      <td>-0.000183</td>\n",
       "      <td>0.001072</td>\n",
       "      <td>...</td>\n",
       "      <td>0.767625</td>\n",
       "      <td>0.859952</td>\n",
       "      <td>1.081924</td>\n",
       "      <td>0.908602</td>\n",
       "      <td>-0.010814</td>\n",
       "      <td>-0.014021</td>\n",
       "      <td>-0.008206</td>\n",
       "      <td>-0.001660</td>\n",
       "      <td>-0.003892</td>\n",
       "      <td>-0.003771</td>\n",
       "    </tr>\n",
       "  </tbody>\n",
       "</table>\n",
       "<p>5 rows × 32 columns</p>\n",
       "</div>"
      ],
      "text/plain": [
       "             Adj Close                                                    \\\n",
       "                  AAPL         AMZN          FB         GOOG        NFLX   \n",
       "Dt                                                                         \n",
       "2017-12-22  175.009995  1168.359985  177.199997  1060.119995  189.940002   \n",
       "2017-12-26  170.570007  1176.760010  175.990005  1056.739990  187.759995   \n",
       "2017-12-27  170.600006  1182.260010  177.619995  1049.369995  186.240005   \n",
       "2017-12-28  171.080002  1186.099976  177.919998  1048.140015  192.710007   \n",
       "2017-12-29  169.229996  1169.469971  176.460007  1046.400024  191.960007   \n",
       "\n",
       "                          Beta 0                                  ...     \\\n",
       "                   SPY      AAPL      AMZN        FB      GOOG    ...      \n",
       "Dt                                                                ...      \n",
       "2017-12-22  267.510010       NaN       NaN       NaN       NaN    ...      \n",
       "2017-12-26  267.190002       NaN       NaN       NaN       NaN    ...      \n",
       "2017-12-27  267.320007       NaN       NaN       NaN       NaN    ...      \n",
       "2017-12-28  267.869995       NaN       NaN       NaN       NaN    ...      \n",
       "2017-12-29  266.859985 -0.001793 -0.000217 -0.000183  0.001072    ...      \n",
       "\n",
       "           Beta 1 rolled fwd                                     Pct  \\\n",
       "                        AMZN        FB      GOOG      NFLX      AAPL   \n",
       "Dt                                                                     \n",
       "2017-12-22          1.082630  1.164516  0.837844  2.177337  0.000000   \n",
       "2017-12-26          1.082630  1.164516  0.837844  2.177337 -0.025370   \n",
       "2017-12-27          1.082630  1.164516  0.837844  2.177337  0.000176   \n",
       "2017-12-28          1.082630  1.164516  0.837844  2.177337  0.002814   \n",
       "2017-12-29          0.767625  0.859952  1.081924  0.908602 -0.010814   \n",
       "\n",
       "                                                              \n",
       "                AMZN        FB      GOOG      NFLX       SPY  \n",
       "Dt                                                            \n",
       "2017-12-22 -0.005448 -0.001409 -0.003300  0.006998 -0.000262  \n",
       "2017-12-26  0.007190 -0.006828 -0.003188 -0.011477 -0.001196  \n",
       "2017-12-27  0.004674  0.009262 -0.006974 -0.008095  0.000487  \n",
       "2017-12-28  0.003248  0.001689 -0.001172  0.034740  0.002057  \n",
       "2017-12-29 -0.014021 -0.008206 -0.001660 -0.003892 -0.003771  \n",
       "\n",
       "[5 rows x 32 columns]"
      ]
     },
     "execution_count": 166,
     "metadata": {},
     "output_type": "execute_result"
    }
   ],
   "source": [
    "ret_and_beta_df.shape\n",
    "beta_rolled_df.shape\n",
    "\n",
    "ret_and_rolled_beta_pl = DataFrameConcat( [ ret_and_beta_df, beta_rolled_df])\n",
    "ret_and_rolled_beta_df = ret_and_rolled_beta_pl.fit_transform( pd.DataFrame() )\n",
    "ret_and_rolled_beta_df.tail()"
   ]
  },
  {
   "cell_type": "code",
   "execution_count": 167,
   "metadata": {
    "collapsed": false
   },
   "outputs": [],
   "source": [
    "reg = Reg(ret_and_rolled_beta_df)\n",
    "reg.addConst(ret_and_rolled_beta_df,(\"Pct\", \"1\"), 1)"
   ]
  },
  {
   "cell_type": "code",
   "execution_count": 168,
   "metadata": {
    "collapsed": true
   },
   "outputs": [],
   "source": [
    "gd.save_data(ret_and_rolled_beta_df, \"ret_and_rolled_beta_df.pkl\")"
   ]
  },
  {
   "cell_type": "code",
   "execution_count": 169,
   "metadata": {
    "collapsed": false
   },
   "outputs": [
    {
     "data": {
      "text/plain": [
       "['Beta 0 rolled fwd', 'Beta 1 rolled fwd']"
      ]
     },
     "execution_count": 169,
     "metadata": {},
     "output_type": "execute_result"
    },
    {
     "data": {
      "text/plain": [
       "['AAPL', 'AMZN', 'FB', 'GOOG', 'NFLX']"
      ]
     },
     "execution_count": 169,
     "metadata": {},
     "output_type": "execute_result"
    },
    {
     "data": {
      "text/plain": [
       "[('Pct', 'AAPL'),\n",
       " ('Pct', 'AMZN'),\n",
       " ('Pct', 'FB'),\n",
       " ('Pct', 'GOOG'),\n",
       " ('Pct', 'NFLX')]"
      ]
     },
     "execution_count": 169,
     "metadata": {},
     "output_type": "execute_result"
    },
    {
     "data": {
      "text/plain": [
       "[('Pct', '1'), ('Pct', 'SPY')]"
      ]
     },
     "execution_count": 169,
     "metadata": {},
     "output_type": "execute_result"
    }
   ],
   "source": [
    "sensAttrs = reg.sensAttrs(ret_and_rolled_beta_df, '^Beta \\d+ rolled fwd$')\n",
    "sensAttrs\n",
    "\n",
    "depTickers = reg.depTickersFromSensAttrs(ret_and_rolled_beta_df, sensAttrs )\n",
    "depTickers\n",
    "depCols = [ (\"Pct\", t) for t in depTickers ]\n",
    "depCols\n",
    "\n",
    "indCols = [ (\"Pct\", \"1\"), (\"Pct\", \"SPY\")]\n",
    "indCols"
   ]
  },
  {
   "cell_type": "code",
   "execution_count": 170,
   "metadata": {
    "collapsed": false
   },
   "outputs": [],
   "source": [
    "(df_dep, list_of_ind_dfs, list_of_sens_dfs) = reg.retAttrib_setup(ret_and_rolled_beta_df, \n",
    "                                                                 indCols,\n",
    "                                                                 depCols, \n",
    "                                                                 sensAttrs)"
   ]
  },
  {
   "cell_type": "code",
   "execution_count": 171,
   "metadata": {
    "collapsed": false
   },
   "outputs": [],
   "source": [
    "%aimport trans.reg\n",
    "from trans.reg import *\n",
    "r = reg.retAttrib_to_np(list_of_ind_dfs, df_dep, list_of_sens_dfs)\n",
    "(indMat, depMat, sensMat) = r"
   ]
  },
  {
   "cell_type": "code",
   "execution_count": 172,
   "metadata": {
    "collapsed": false
   },
   "outputs": [
    {
     "data": {
      "text/plain": [
       "(4536, 5)"
      ]
     },
     "execution_count": 172,
     "metadata": {},
     "output_type": "execute_result"
    },
    {
     "data": {
      "text/plain": [
       "(2, 4536, 1)"
      ]
     },
     "execution_count": 172,
     "metadata": {},
     "output_type": "execute_result"
    },
    {
     "data": {
      "text/plain": [
       "(2, 4536, 5)"
      ]
     },
     "execution_count": 172,
     "metadata": {},
     "output_type": "execute_result"
    }
   ],
   "source": [
    "depMat.shape\n",
    "indMat.shape\n",
    "sensMat.shape"
   ]
  },
  {
   "cell_type": "code",
   "execution_count": 173,
   "metadata": {
    "collapsed": false
   },
   "outputs": [],
   "source": [
    "%aimport trans.reg\n",
    "from trans.reg import *\n",
    "(contribsMat, predMat, errMat) = reg.retAttrib_np(indMat, depMat, sensMat)"
   ]
  },
  {
   "cell_type": "code",
   "execution_count": 174,
   "metadata": {
    "collapsed": false
   },
   "outputs": [
    {
     "data": {
      "text/plain": [
       "(2, 4536, 5)"
      ]
     },
     "execution_count": 174,
     "metadata": {},
     "output_type": "execute_result"
    },
    {
     "data": {
      "text/plain": [
       "(4536, 5)"
      ]
     },
     "execution_count": 174,
     "metadata": {},
     "output_type": "execute_result"
    },
    {
     "data": {
      "text/plain": [
       "(4536, 5)"
      ]
     },
     "execution_count": 174,
     "metadata": {},
     "output_type": "execute_result"
    }
   ],
   "source": [
    "contribsMat.shape\n",
    "predMat.shape\n",
    "errMat.shape"
   ]
  },
  {
   "cell_type": "code",
   "execution_count": 175,
   "metadata": {
    "collapsed": false
   },
   "outputs": [],
   "source": [
    " (list_of_contribs_dfs, predict_df, err_df) = reg.retAttrib_to_df(contribsMat, \n",
    "                                                                  predMat, \n",
    "                                                                  errMat,\n",
    "                                                                  ret_and_rolled_beta_df.index,\n",
    "                                                                  sensAttrs,\n",
    "                                                                  depTickers\n",
    "                                                                )"
   ]
  },
  {
   "cell_type": "code",
   "execution_count": 176,
   "metadata": {
    "collapsed": false
   },
   "outputs": [
    {
     "data": {
      "text/plain": [
       "2"
      ]
     },
     "execution_count": 176,
     "metadata": {},
     "output_type": "execute_result"
    },
    {
     "data": {
      "text/plain": [
       "(4536, 5)"
      ]
     },
     "execution_count": 176,
     "metadata": {},
     "output_type": "execute_result"
    },
    {
     "data": {
      "text/plain": [
       "(4536, 5)"
      ]
     },
     "execution_count": 176,
     "metadata": {},
     "output_type": "execute_result"
    },
    {
     "data": {
      "text/plain": [
       "(4536, 5)"
      ]
     },
     "execution_count": 176,
     "metadata": {},
     "output_type": "execute_result"
    }
   ],
   "source": [
    "len(list_of_contribs_dfs)\n",
    "list_of_contribs_dfs[0].shape\n",
    "predict_df.shape\n",
    "err_df.shape"
   ]
  },
  {
   "cell_type": "code",
   "execution_count": 177,
   "metadata": {
    "collapsed": false
   },
   "outputs": [
    {
     "data": {
      "text/html": [
       "<div>\n",
       "<table border=\"1\" class=\"dataframe\">\n",
       "  <thead>\n",
       "    <tr>\n",
       "      <th></th>\n",
       "      <th colspan=\"7\" halign=\"left\">Pct</th>\n",
       "    </tr>\n",
       "    <tr>\n",
       "      <th></th>\n",
       "      <th>AAPL</th>\n",
       "      <th>AMZN</th>\n",
       "      <th>FB</th>\n",
       "      <th>GOOG</th>\n",
       "      <th>NFLX</th>\n",
       "      <th>SPY</th>\n",
       "      <th>1</th>\n",
       "    </tr>\n",
       "    <tr>\n",
       "      <th>Dt</th>\n",
       "      <th></th>\n",
       "      <th></th>\n",
       "      <th></th>\n",
       "      <th></th>\n",
       "      <th></th>\n",
       "      <th></th>\n",
       "      <th></th>\n",
       "    </tr>\n",
       "  </thead>\n",
       "  <tbody>\n",
       "    <tr>\n",
       "      <th>2017-12-22</th>\n",
       "      <td>0.000000</td>\n",
       "      <td>-0.005448</td>\n",
       "      <td>-0.001409</td>\n",
       "      <td>-0.003300</td>\n",
       "      <td>0.006998</td>\n",
       "      <td>-0.000262</td>\n",
       "      <td>1</td>\n",
       "    </tr>\n",
       "    <tr>\n",
       "      <th>2017-12-26</th>\n",
       "      <td>-0.025370</td>\n",
       "      <td>0.007190</td>\n",
       "      <td>-0.006828</td>\n",
       "      <td>-0.003188</td>\n",
       "      <td>-0.011477</td>\n",
       "      <td>-0.001196</td>\n",
       "      <td>1</td>\n",
       "    </tr>\n",
       "    <tr>\n",
       "      <th>2017-12-27</th>\n",
       "      <td>0.000176</td>\n",
       "      <td>0.004674</td>\n",
       "      <td>0.009262</td>\n",
       "      <td>-0.006974</td>\n",
       "      <td>-0.008095</td>\n",
       "      <td>0.000487</td>\n",
       "      <td>1</td>\n",
       "    </tr>\n",
       "    <tr>\n",
       "      <th>2017-12-28</th>\n",
       "      <td>0.002814</td>\n",
       "      <td>0.003248</td>\n",
       "      <td>0.001689</td>\n",
       "      <td>-0.001172</td>\n",
       "      <td>0.034740</td>\n",
       "      <td>0.002057</td>\n",
       "      <td>1</td>\n",
       "    </tr>\n",
       "    <tr>\n",
       "      <th>2017-12-29</th>\n",
       "      <td>-0.010814</td>\n",
       "      <td>-0.014021</td>\n",
       "      <td>-0.008206</td>\n",
       "      <td>-0.001660</td>\n",
       "      <td>-0.003892</td>\n",
       "      <td>-0.003771</td>\n",
       "      <td>1</td>\n",
       "    </tr>\n",
       "  </tbody>\n",
       "</table>\n",
       "</div>"
      ],
      "text/plain": [
       "                 Pct                                                     \n",
       "                AAPL      AMZN        FB      GOOG      NFLX       SPY  1\n",
       "Dt                                                                       \n",
       "2017-12-22  0.000000 -0.005448 -0.001409 -0.003300  0.006998 -0.000262  1\n",
       "2017-12-26 -0.025370  0.007190 -0.006828 -0.003188 -0.011477 -0.001196  1\n",
       "2017-12-27  0.000176  0.004674  0.009262 -0.006974 -0.008095  0.000487  1\n",
       "2017-12-28  0.002814  0.003248  0.001689 -0.001172  0.034740  0.002057  1\n",
       "2017-12-29 -0.010814 -0.014021 -0.008206 -0.001660 -0.003892 -0.003771  1"
      ]
     },
     "execution_count": 177,
     "metadata": {},
     "output_type": "execute_result"
    },
    {
     "data": {
      "text/html": [
       "<div>\n",
       "<table border=\"1\" class=\"dataframe\">\n",
       "  <thead>\n",
       "    <tr style=\"text-align: right;\">\n",
       "      <th></th>\n",
       "      <th>AAPL</th>\n",
       "      <th>AMZN</th>\n",
       "      <th>FB</th>\n",
       "      <th>GOOG</th>\n",
       "      <th>NFLX</th>\n",
       "    </tr>\n",
       "    <tr>\n",
       "      <th>Dt</th>\n",
       "      <th></th>\n",
       "      <th></th>\n",
       "      <th></th>\n",
       "      <th></th>\n",
       "      <th></th>\n",
       "    </tr>\n",
       "  </thead>\n",
       "  <tbody>\n",
       "    <tr>\n",
       "      <th>2017-12-22</th>\n",
       "      <td>-0.001837</td>\n",
       "      <td>0.001098</td>\n",
       "      <td>-0.002488</td>\n",
       "      <td>-0.002125</td>\n",
       "      <td>-0.006099</td>\n",
       "    </tr>\n",
       "    <tr>\n",
       "      <th>2017-12-26</th>\n",
       "      <td>-0.001837</td>\n",
       "      <td>0.001098</td>\n",
       "      <td>-0.002488</td>\n",
       "      <td>-0.002125</td>\n",
       "      <td>-0.006099</td>\n",
       "    </tr>\n",
       "    <tr>\n",
       "      <th>2017-12-27</th>\n",
       "      <td>-0.001837</td>\n",
       "      <td>0.001098</td>\n",
       "      <td>-0.002488</td>\n",
       "      <td>-0.002125</td>\n",
       "      <td>-0.006099</td>\n",
       "    </tr>\n",
       "    <tr>\n",
       "      <th>2017-12-28</th>\n",
       "      <td>-0.001837</td>\n",
       "      <td>0.001098</td>\n",
       "      <td>-0.002488</td>\n",
       "      <td>-0.002125</td>\n",
       "      <td>-0.006099</td>\n",
       "    </tr>\n",
       "    <tr>\n",
       "      <th>2017-12-29</th>\n",
       "      <td>-0.001793</td>\n",
       "      <td>-0.000217</td>\n",
       "      <td>-0.000183</td>\n",
       "      <td>0.001072</td>\n",
       "      <td>0.000821</td>\n",
       "    </tr>\n",
       "  </tbody>\n",
       "</table>\n",
       "</div>"
      ],
      "text/plain": [
       "                AAPL      AMZN        FB      GOOG      NFLX\n",
       "Dt                                                          \n",
       "2017-12-22 -0.001837  0.001098 -0.002488 -0.002125 -0.006099\n",
       "2017-12-26 -0.001837  0.001098 -0.002488 -0.002125 -0.006099\n",
       "2017-12-27 -0.001837  0.001098 -0.002488 -0.002125 -0.006099\n",
       "2017-12-28 -0.001837  0.001098 -0.002488 -0.002125 -0.006099\n",
       "2017-12-29 -0.001793 -0.000217 -0.000183  0.001072  0.000821"
      ]
     },
     "execution_count": 177,
     "metadata": {},
     "output_type": "execute_result"
    },
    {
     "data": {
      "text/html": [
       "<div>\n",
       "<table border=\"1\" class=\"dataframe\">\n",
       "  <thead>\n",
       "    <tr style=\"text-align: right;\">\n",
       "      <th></th>\n",
       "      <th>AAPL</th>\n",
       "      <th>AMZN</th>\n",
       "      <th>FB</th>\n",
       "      <th>GOOG</th>\n",
       "      <th>NFLX</th>\n",
       "    </tr>\n",
       "    <tr>\n",
       "      <th>Dt</th>\n",
       "      <th></th>\n",
       "      <th></th>\n",
       "      <th></th>\n",
       "      <th></th>\n",
       "      <th></th>\n",
       "    </tr>\n",
       "  </thead>\n",
       "  <tbody>\n",
       "    <tr>\n",
       "      <th>2017-12-22</th>\n",
       "      <td>-0.002187</td>\n",
       "      <td>0.000815</td>\n",
       "      <td>-0.002793</td>\n",
       "      <td>-0.002344</td>\n",
       "      <td>-0.006668</td>\n",
       "    </tr>\n",
       "    <tr>\n",
       "      <th>2017-12-26</th>\n",
       "      <td>-0.003439</td>\n",
       "      <td>-0.000197</td>\n",
       "      <td>-0.003881</td>\n",
       "      <td>-0.003128</td>\n",
       "      <td>-0.008703</td>\n",
       "    </tr>\n",
       "    <tr>\n",
       "      <th>2017-12-27</th>\n",
       "      <td>-0.001185</td>\n",
       "      <td>0.001624</td>\n",
       "      <td>-0.001922</td>\n",
       "      <td>-0.001718</td>\n",
       "      <td>-0.005039</td>\n",
       "    </tr>\n",
       "    <tr>\n",
       "      <th>2017-12-28</th>\n",
       "      <td>0.000918</td>\n",
       "      <td>0.003325</td>\n",
       "      <td>-0.000092</td>\n",
       "      <td>-0.000401</td>\n",
       "      <td>-0.001619</td>\n",
       "    </tr>\n",
       "    <tr>\n",
       "      <th>2017-12-29</th>\n",
       "      <td>-0.008200</td>\n",
       "      <td>-0.003111</td>\n",
       "      <td>-0.003426</td>\n",
       "      <td>-0.003007</td>\n",
       "      <td>-0.002605</td>\n",
       "    </tr>\n",
       "  </tbody>\n",
       "</table>\n",
       "</div>"
      ],
      "text/plain": [
       "                AAPL      AMZN        FB      GOOG      NFLX\n",
       "Dt                                                          \n",
       "2017-12-22 -0.002187  0.000815 -0.002793 -0.002344 -0.006668\n",
       "2017-12-26 -0.003439 -0.000197 -0.003881 -0.003128 -0.008703\n",
       "2017-12-27 -0.001185  0.001624 -0.001922 -0.001718 -0.005039\n",
       "2017-12-28  0.000918  0.003325 -0.000092 -0.000401 -0.001619\n",
       "2017-12-29 -0.008200 -0.003111 -0.003426 -0.003007 -0.002605"
      ]
     },
     "execution_count": 177,
     "metadata": {},
     "output_type": "execute_result"
    },
    {
     "data": {
      "text/html": [
       "<div>\n",
       "<table border=\"1\" class=\"dataframe\">\n",
       "  <thead>\n",
       "    <tr style=\"text-align: right;\">\n",
       "      <th></th>\n",
       "      <th>AAPL</th>\n",
       "      <th>AMZN</th>\n",
       "      <th>FB</th>\n",
       "      <th>GOOG</th>\n",
       "      <th>NFLX</th>\n",
       "    </tr>\n",
       "    <tr>\n",
       "      <th>Dt</th>\n",
       "      <th></th>\n",
       "      <th></th>\n",
       "      <th></th>\n",
       "      <th></th>\n",
       "      <th></th>\n",
       "    </tr>\n",
       "  </thead>\n",
       "  <tbody>\n",
       "    <tr>\n",
       "      <th>2017-12-22</th>\n",
       "      <td>0.002187</td>\n",
       "      <td>-0.006262</td>\n",
       "      <td>0.001384</td>\n",
       "      <td>-0.000956</td>\n",
       "      <td>0.013666</td>\n",
       "    </tr>\n",
       "    <tr>\n",
       "      <th>2017-12-26</th>\n",
       "      <td>-0.021931</td>\n",
       "      <td>0.007387</td>\n",
       "      <td>-0.002947</td>\n",
       "      <td>-0.000061</td>\n",
       "      <td>-0.002774</td>\n",
       "    </tr>\n",
       "    <tr>\n",
       "      <th>2017-12-27</th>\n",
       "      <td>0.001361</td>\n",
       "      <td>0.003049</td>\n",
       "      <td>0.011183</td>\n",
       "      <td>-0.005257</td>\n",
       "      <td>-0.003056</td>\n",
       "    </tr>\n",
       "    <tr>\n",
       "      <th>2017-12-28</th>\n",
       "      <td>0.001896</td>\n",
       "      <td>-0.000077</td>\n",
       "      <td>0.001781</td>\n",
       "      <td>-0.000771</td>\n",
       "      <td>0.036359</td>\n",
       "    </tr>\n",
       "    <tr>\n",
       "      <th>2017-12-29</th>\n",
       "      <td>-0.002614</td>\n",
       "      <td>-0.010909</td>\n",
       "      <td>-0.004780</td>\n",
       "      <td>0.001347</td>\n",
       "      <td>-0.001287</td>\n",
       "    </tr>\n",
       "  </tbody>\n",
       "</table>\n",
       "</div>"
      ],
      "text/plain": [
       "                AAPL      AMZN        FB      GOOG      NFLX\n",
       "Dt                                                          \n",
       "2017-12-22  0.002187 -0.006262  0.001384 -0.000956  0.013666\n",
       "2017-12-26 -0.021931  0.007387 -0.002947 -0.000061 -0.002774\n",
       "2017-12-27  0.001361  0.003049  0.011183 -0.005257 -0.003056\n",
       "2017-12-28  0.001896 -0.000077  0.001781 -0.000771  0.036359\n",
       "2017-12-29 -0.002614 -0.010909 -0.004780  0.001347 -0.001287"
      ]
     },
     "execution_count": 177,
     "metadata": {},
     "output_type": "execute_result"
    }
   ],
   "source": [
    "ret_and_rolled_beta_df.loc[:, idx[\"Pct\",:]].tail()\n",
    "list_of_contribs_dfs[0].tail()\n",
    "predict_df.tail()\n",
    "err_df.tail()"
   ]
  },
  {
   "cell_type": "code",
   "execution_count": 178,
   "metadata": {
    "collapsed": false
   },
   "outputs": [],
   "source": [
    "indTickers = [ col[1] for col in indCols ]\n",
    "contrib_k = [ \"Contrib from \" + indTickers[i] for i in range( len(list_of_contribs_dfs ))]\n",
    "\n",
    "\n",
    "# contrib_k + [ pred_k ] + [ err_k ]\n",
    "regResTrans = DataFrameConcat( list_of_contribs_dfs + [ predict_df ] + [ err_df ],\n",
    "                               df_keys= contrib_k + [ \"Predicted\" ]  + [\"Error\"]\n",
    "                             )\n",
    "regRes_df = regResTrans.fit_transform(pd.DataFrame())"
   ]
  },
  {
   "cell_type": "code",
   "execution_count": 179,
   "metadata": {
    "collapsed": false
   },
   "outputs": [
    {
     "data": {
      "text/plain": [
       "(4536, 20)"
      ]
     },
     "execution_count": 179,
     "metadata": {},
     "output_type": "execute_result"
    },
    {
     "data": {
      "text/plain": [
       "Index(['Contrib from 1', 'Contrib from SPY', 'Predicted', 'Error'], dtype='object')"
      ]
     },
     "execution_count": 179,
     "metadata": {},
     "output_type": "execute_result"
    },
    {
     "data": {
      "text/plain": [
       "Index(['AAPL', 'AMZN', 'FB', 'GOOG', 'NFLX'], dtype='object')"
      ]
     },
     "execution_count": 179,
     "metadata": {},
     "output_type": "execute_result"
    },
    {
     "data": {
      "text/html": [
       "<div>\n",
       "<table border=\"1\" class=\"dataframe\">\n",
       "  <thead>\n",
       "    <tr>\n",
       "      <th></th>\n",
       "      <th colspan=\"5\" halign=\"left\">Contrib from 1</th>\n",
       "      <th colspan=\"5\" halign=\"left\">Contrib from SPY</th>\n",
       "      <th colspan=\"5\" halign=\"left\">Predicted</th>\n",
       "      <th colspan=\"5\" halign=\"left\">Error</th>\n",
       "    </tr>\n",
       "    <tr>\n",
       "      <th></th>\n",
       "      <th>AAPL</th>\n",
       "      <th>AMZN</th>\n",
       "      <th>FB</th>\n",
       "      <th>GOOG</th>\n",
       "      <th>NFLX</th>\n",
       "      <th>AAPL</th>\n",
       "      <th>AMZN</th>\n",
       "      <th>FB</th>\n",
       "      <th>GOOG</th>\n",
       "      <th>NFLX</th>\n",
       "      <th>AAPL</th>\n",
       "      <th>AMZN</th>\n",
       "      <th>FB</th>\n",
       "      <th>GOOG</th>\n",
       "      <th>NFLX</th>\n",
       "      <th>AAPL</th>\n",
       "      <th>AMZN</th>\n",
       "      <th>FB</th>\n",
       "      <th>GOOG</th>\n",
       "      <th>NFLX</th>\n",
       "    </tr>\n",
       "    <tr>\n",
       "      <th>Dt</th>\n",
       "      <th></th>\n",
       "      <th></th>\n",
       "      <th></th>\n",
       "      <th></th>\n",
       "      <th></th>\n",
       "      <th></th>\n",
       "      <th></th>\n",
       "      <th></th>\n",
       "      <th></th>\n",
       "      <th></th>\n",
       "      <th></th>\n",
       "      <th></th>\n",
       "      <th></th>\n",
       "      <th></th>\n",
       "      <th></th>\n",
       "      <th></th>\n",
       "      <th></th>\n",
       "      <th></th>\n",
       "      <th></th>\n",
       "      <th></th>\n",
       "    </tr>\n",
       "  </thead>\n",
       "  <tbody>\n",
       "    <tr>\n",
       "      <th>2017-12-22</th>\n",
       "      <td>-0.001837</td>\n",
       "      <td>0.001098</td>\n",
       "      <td>-0.002488</td>\n",
       "      <td>-0.002125</td>\n",
       "      <td>-0.006099</td>\n",
       "      <td>-0.000350</td>\n",
       "      <td>-0.000283</td>\n",
       "      <td>-0.000305</td>\n",
       "      <td>-0.000219</td>\n",
       "      <td>-0.000569</td>\n",
       "      <td>-0.002187</td>\n",
       "      <td>0.000815</td>\n",
       "      <td>-0.002793</td>\n",
       "      <td>-0.002344</td>\n",
       "      <td>-0.006668</td>\n",
       "      <td>0.002187</td>\n",
       "      <td>-0.006262</td>\n",
       "      <td>0.001384</td>\n",
       "      <td>-0.000956</td>\n",
       "      <td>0.013666</td>\n",
       "    </tr>\n",
       "    <tr>\n",
       "      <th>2017-12-26</th>\n",
       "      <td>-0.001837</td>\n",
       "      <td>0.001098</td>\n",
       "      <td>-0.002488</td>\n",
       "      <td>-0.002125</td>\n",
       "      <td>-0.006099</td>\n",
       "      <td>-0.001602</td>\n",
       "      <td>-0.001295</td>\n",
       "      <td>-0.001393</td>\n",
       "      <td>-0.001002</td>\n",
       "      <td>-0.002605</td>\n",
       "      <td>-0.003439</td>\n",
       "      <td>-0.000197</td>\n",
       "      <td>-0.003881</td>\n",
       "      <td>-0.003128</td>\n",
       "      <td>-0.008703</td>\n",
       "      <td>-0.021931</td>\n",
       "      <td>0.007387</td>\n",
       "      <td>-0.002947</td>\n",
       "      <td>-0.000061</td>\n",
       "      <td>-0.002774</td>\n",
       "    </tr>\n",
       "    <tr>\n",
       "      <th>2017-12-27</th>\n",
       "      <td>-0.001837</td>\n",
       "      <td>0.001098</td>\n",
       "      <td>-0.002488</td>\n",
       "      <td>-0.002125</td>\n",
       "      <td>-0.006099</td>\n",
       "      <td>0.000652</td>\n",
       "      <td>0.000527</td>\n",
       "      <td>0.000567</td>\n",
       "      <td>0.000408</td>\n",
       "      <td>0.001059</td>\n",
       "      <td>-0.001185</td>\n",
       "      <td>0.001624</td>\n",
       "      <td>-0.001922</td>\n",
       "      <td>-0.001718</td>\n",
       "      <td>-0.005039</td>\n",
       "      <td>0.001361</td>\n",
       "      <td>0.003049</td>\n",
       "      <td>0.011183</td>\n",
       "      <td>-0.005257</td>\n",
       "      <td>-0.003056</td>\n",
       "    </tr>\n",
       "    <tr>\n",
       "      <th>2017-12-28</th>\n",
       "      <td>-0.001837</td>\n",
       "      <td>0.001098</td>\n",
       "      <td>-0.002488</td>\n",
       "      <td>-0.002125</td>\n",
       "      <td>-0.006099</td>\n",
       "      <td>0.002755</td>\n",
       "      <td>0.002227</td>\n",
       "      <td>0.002396</td>\n",
       "      <td>0.001724</td>\n",
       "      <td>0.004480</td>\n",
       "      <td>0.000918</td>\n",
       "      <td>0.003325</td>\n",
       "      <td>-0.000092</td>\n",
       "      <td>-0.000401</td>\n",
       "      <td>-0.001619</td>\n",
       "      <td>0.001896</td>\n",
       "      <td>-0.000077</td>\n",
       "      <td>0.001781</td>\n",
       "      <td>-0.000771</td>\n",
       "      <td>0.036359</td>\n",
       "    </tr>\n",
       "    <tr>\n",
       "      <th>2017-12-29</th>\n",
       "      <td>-0.001793</td>\n",
       "      <td>-0.000217</td>\n",
       "      <td>-0.000183</td>\n",
       "      <td>0.001072</td>\n",
       "      <td>0.000821</td>\n",
       "      <td>-0.006407</td>\n",
       "      <td>-0.002894</td>\n",
       "      <td>-0.003242</td>\n",
       "      <td>-0.004079</td>\n",
       "      <td>-0.003426</td>\n",
       "      <td>-0.008200</td>\n",
       "      <td>-0.003111</td>\n",
       "      <td>-0.003426</td>\n",
       "      <td>-0.003007</td>\n",
       "      <td>-0.002605</td>\n",
       "      <td>-0.002614</td>\n",
       "      <td>-0.010909</td>\n",
       "      <td>-0.004780</td>\n",
       "      <td>0.001347</td>\n",
       "      <td>-0.001287</td>\n",
       "    </tr>\n",
       "  </tbody>\n",
       "</table>\n",
       "</div>"
      ],
      "text/plain": [
       "           Contrib from 1                                          \\\n",
       "                     AAPL      AMZN        FB      GOOG      NFLX   \n",
       "Dt                                                                  \n",
       "2017-12-22      -0.001837  0.001098 -0.002488 -0.002125 -0.006099   \n",
       "2017-12-26      -0.001837  0.001098 -0.002488 -0.002125 -0.006099   \n",
       "2017-12-27      -0.001837  0.001098 -0.002488 -0.002125 -0.006099   \n",
       "2017-12-28      -0.001837  0.001098 -0.002488 -0.002125 -0.006099   \n",
       "2017-12-29      -0.001793 -0.000217 -0.000183  0.001072  0.000821   \n",
       "\n",
       "           Contrib from SPY                                         Predicted  \\\n",
       "                       AAPL      AMZN        FB      GOOG      NFLX      AAPL   \n",
       "Dt                                                                              \n",
       "2017-12-22        -0.000350 -0.000283 -0.000305 -0.000219 -0.000569 -0.002187   \n",
       "2017-12-26        -0.001602 -0.001295 -0.001393 -0.001002 -0.002605 -0.003439   \n",
       "2017-12-27         0.000652  0.000527  0.000567  0.000408  0.001059 -0.001185   \n",
       "2017-12-28         0.002755  0.002227  0.002396  0.001724  0.004480  0.000918   \n",
       "2017-12-29        -0.006407 -0.002894 -0.003242 -0.004079 -0.003426 -0.008200   \n",
       "\n",
       "                                                       Error            \\\n",
       "                AMZN        FB      GOOG      NFLX      AAPL      AMZN   \n",
       "Dt                                                                       \n",
       "2017-12-22  0.000815 -0.002793 -0.002344 -0.006668  0.002187 -0.006262   \n",
       "2017-12-26 -0.000197 -0.003881 -0.003128 -0.008703 -0.021931  0.007387   \n",
       "2017-12-27  0.001624 -0.001922 -0.001718 -0.005039  0.001361  0.003049   \n",
       "2017-12-28  0.003325 -0.000092 -0.000401 -0.001619  0.001896 -0.000077   \n",
       "2017-12-29 -0.003111 -0.003426 -0.003007 -0.002605 -0.002614 -0.010909   \n",
       "\n",
       "                                          \n",
       "                  FB      GOOG      NFLX  \n",
       "Dt                                        \n",
       "2017-12-22  0.001384 -0.000956  0.013666  \n",
       "2017-12-26 -0.002947 -0.000061 -0.002774  \n",
       "2017-12-27  0.011183 -0.005257 -0.003056  \n",
       "2017-12-28  0.001781 -0.000771  0.036359  \n",
       "2017-12-29 -0.004780  0.001347 -0.001287  "
      ]
     },
     "execution_count": 179,
     "metadata": {},
     "output_type": "execute_result"
    }
   ],
   "source": [
    "regRes_df.shape\n",
    "regRes_df.columns.get_level_values(0).unique()\n",
    "regRes_df.columns.get_level_values(1).unique()\n",
    "regRes_df.tail()"
   ]
  },
  {
   "cell_type": "code",
   "execution_count": 180,
   "metadata": {
    "collapsed": false
   },
   "outputs": [
    {
     "data": {
      "text/html": [
       "<div>\n",
       "<table border=\"1\" class=\"dataframe\">\n",
       "  <thead>\n",
       "    <tr>\n",
       "      <th></th>\n",
       "      <th colspan=\"5\" halign=\"left\">Contrib from 1</th>\n",
       "      <th colspan=\"5\" halign=\"left\">Contrib from SPY</th>\n",
       "      <th colspan=\"5\" halign=\"left\">Predicted</th>\n",
       "      <th colspan=\"5\" halign=\"left\">Error</th>\n",
       "    </tr>\n",
       "    <tr>\n",
       "      <th></th>\n",
       "      <th>AAPL</th>\n",
       "      <th>AMZN</th>\n",
       "      <th>FB</th>\n",
       "      <th>GOOG</th>\n",
       "      <th>NFLX</th>\n",
       "      <th>AAPL</th>\n",
       "      <th>AMZN</th>\n",
       "      <th>FB</th>\n",
       "      <th>GOOG</th>\n",
       "      <th>NFLX</th>\n",
       "      <th>AAPL</th>\n",
       "      <th>AMZN</th>\n",
       "      <th>FB</th>\n",
       "      <th>GOOG</th>\n",
       "      <th>NFLX</th>\n",
       "      <th>AAPL</th>\n",
       "      <th>AMZN</th>\n",
       "      <th>FB</th>\n",
       "      <th>GOOG</th>\n",
       "      <th>NFLX</th>\n",
       "    </tr>\n",
       "    <tr>\n",
       "      <th>Dt</th>\n",
       "      <th></th>\n",
       "      <th></th>\n",
       "      <th></th>\n",
       "      <th></th>\n",
       "      <th></th>\n",
       "      <th></th>\n",
       "      <th></th>\n",
       "      <th></th>\n",
       "      <th></th>\n",
       "      <th></th>\n",
       "      <th></th>\n",
       "      <th></th>\n",
       "      <th></th>\n",
       "      <th></th>\n",
       "      <th></th>\n",
       "      <th></th>\n",
       "      <th></th>\n",
       "      <th></th>\n",
       "      <th></th>\n",
       "      <th></th>\n",
       "    </tr>\n",
       "  </thead>\n",
       "  <tbody>\n",
       "    <tr>\n",
       "      <th>2017-12-22</th>\n",
       "      <td>-0.001837</td>\n",
       "      <td>0.001098</td>\n",
       "      <td>-0.002488</td>\n",
       "      <td>-0.002125</td>\n",
       "      <td>-0.006099</td>\n",
       "      <td>-0.000350</td>\n",
       "      <td>-0.000283</td>\n",
       "      <td>-0.000305</td>\n",
       "      <td>-0.000219</td>\n",
       "      <td>-0.000569</td>\n",
       "      <td>-0.002187</td>\n",
       "      <td>0.000815</td>\n",
       "      <td>-0.002793</td>\n",
       "      <td>-0.002344</td>\n",
       "      <td>-0.006668</td>\n",
       "      <td>0.002187</td>\n",
       "      <td>-0.006262</td>\n",
       "      <td>0.001384</td>\n",
       "      <td>-0.000956</td>\n",
       "      <td>0.013666</td>\n",
       "    </tr>\n",
       "    <tr>\n",
       "      <th>2017-12-26</th>\n",
       "      <td>-0.001837</td>\n",
       "      <td>0.001098</td>\n",
       "      <td>-0.002488</td>\n",
       "      <td>-0.002125</td>\n",
       "      <td>-0.006099</td>\n",
       "      <td>-0.001602</td>\n",
       "      <td>-0.001295</td>\n",
       "      <td>-0.001393</td>\n",
       "      <td>-0.001002</td>\n",
       "      <td>-0.002605</td>\n",
       "      <td>-0.003439</td>\n",
       "      <td>-0.000197</td>\n",
       "      <td>-0.003881</td>\n",
       "      <td>-0.003128</td>\n",
       "      <td>-0.008703</td>\n",
       "      <td>-0.021931</td>\n",
       "      <td>0.007387</td>\n",
       "      <td>-0.002947</td>\n",
       "      <td>-0.000061</td>\n",
       "      <td>-0.002774</td>\n",
       "    </tr>\n",
       "    <tr>\n",
       "      <th>2017-12-27</th>\n",
       "      <td>-0.001837</td>\n",
       "      <td>0.001098</td>\n",
       "      <td>-0.002488</td>\n",
       "      <td>-0.002125</td>\n",
       "      <td>-0.006099</td>\n",
       "      <td>0.000652</td>\n",
       "      <td>0.000527</td>\n",
       "      <td>0.000567</td>\n",
       "      <td>0.000408</td>\n",
       "      <td>0.001059</td>\n",
       "      <td>-0.001185</td>\n",
       "      <td>0.001624</td>\n",
       "      <td>-0.001922</td>\n",
       "      <td>-0.001718</td>\n",
       "      <td>-0.005039</td>\n",
       "      <td>0.001361</td>\n",
       "      <td>0.003049</td>\n",
       "      <td>0.011183</td>\n",
       "      <td>-0.005257</td>\n",
       "      <td>-0.003056</td>\n",
       "    </tr>\n",
       "    <tr>\n",
       "      <th>2017-12-28</th>\n",
       "      <td>-0.001837</td>\n",
       "      <td>0.001098</td>\n",
       "      <td>-0.002488</td>\n",
       "      <td>-0.002125</td>\n",
       "      <td>-0.006099</td>\n",
       "      <td>0.002755</td>\n",
       "      <td>0.002227</td>\n",
       "      <td>0.002396</td>\n",
       "      <td>0.001724</td>\n",
       "      <td>0.004480</td>\n",
       "      <td>0.000918</td>\n",
       "      <td>0.003325</td>\n",
       "      <td>-0.000092</td>\n",
       "      <td>-0.000401</td>\n",
       "      <td>-0.001619</td>\n",
       "      <td>0.001896</td>\n",
       "      <td>-0.000077</td>\n",
       "      <td>0.001781</td>\n",
       "      <td>-0.000771</td>\n",
       "      <td>0.036359</td>\n",
       "    </tr>\n",
       "    <tr>\n",
       "      <th>2017-12-29</th>\n",
       "      <td>-0.001793</td>\n",
       "      <td>-0.000217</td>\n",
       "      <td>-0.000183</td>\n",
       "      <td>0.001072</td>\n",
       "      <td>0.000821</td>\n",
       "      <td>-0.006407</td>\n",
       "      <td>-0.002894</td>\n",
       "      <td>-0.003242</td>\n",
       "      <td>-0.004079</td>\n",
       "      <td>-0.003426</td>\n",
       "      <td>-0.008200</td>\n",
       "      <td>-0.003111</td>\n",
       "      <td>-0.003426</td>\n",
       "      <td>-0.003007</td>\n",
       "      <td>-0.002605</td>\n",
       "      <td>-0.002614</td>\n",
       "      <td>-0.010909</td>\n",
       "      <td>-0.004780</td>\n",
       "      <td>0.001347</td>\n",
       "      <td>-0.001287</td>\n",
       "    </tr>\n",
       "  </tbody>\n",
       "</table>\n",
       "</div>"
      ],
      "text/plain": [
       "           Contrib from 1                                          \\\n",
       "                     AAPL      AMZN        FB      GOOG      NFLX   \n",
       "Dt                                                                  \n",
       "2017-12-22      -0.001837  0.001098 -0.002488 -0.002125 -0.006099   \n",
       "2017-12-26      -0.001837  0.001098 -0.002488 -0.002125 -0.006099   \n",
       "2017-12-27      -0.001837  0.001098 -0.002488 -0.002125 -0.006099   \n",
       "2017-12-28      -0.001837  0.001098 -0.002488 -0.002125 -0.006099   \n",
       "2017-12-29      -0.001793 -0.000217 -0.000183  0.001072  0.000821   \n",
       "\n",
       "           Contrib from SPY                                         Predicted  \\\n",
       "                       AAPL      AMZN        FB      GOOG      NFLX      AAPL   \n",
       "Dt                                                                              \n",
       "2017-12-22        -0.000350 -0.000283 -0.000305 -0.000219 -0.000569 -0.002187   \n",
       "2017-12-26        -0.001602 -0.001295 -0.001393 -0.001002 -0.002605 -0.003439   \n",
       "2017-12-27         0.000652  0.000527  0.000567  0.000408  0.001059 -0.001185   \n",
       "2017-12-28         0.002755  0.002227  0.002396  0.001724  0.004480  0.000918   \n",
       "2017-12-29        -0.006407 -0.002894 -0.003242 -0.004079 -0.003426 -0.008200   \n",
       "\n",
       "                                                       Error            \\\n",
       "                AMZN        FB      GOOG      NFLX      AAPL      AMZN   \n",
       "Dt                                                                       \n",
       "2017-12-22  0.000815 -0.002793 -0.002344 -0.006668  0.002187 -0.006262   \n",
       "2017-12-26 -0.000197 -0.003881 -0.003128 -0.008703 -0.021931  0.007387   \n",
       "2017-12-27  0.001624 -0.001922 -0.001718 -0.005039  0.001361  0.003049   \n",
       "2017-12-28  0.003325 -0.000092 -0.000401 -0.001619  0.001896 -0.000077   \n",
       "2017-12-29 -0.003111 -0.003426 -0.003007 -0.002605 -0.002614 -0.010909   \n",
       "\n",
       "                                          \n",
       "                  FB      GOOG      NFLX  \n",
       "Dt                                        \n",
       "2017-12-22  0.001384 -0.000956  0.013666  \n",
       "2017-12-26 -0.002947 -0.000061 -0.002774  \n",
       "2017-12-27  0.011183 -0.005257 -0.003056  \n",
       "2017-12-28  0.001781 -0.000771  0.036359  \n",
       "2017-12-29 -0.004780  0.001347 -0.001287  "
      ]
     },
     "execution_count": 180,
     "metadata": {},
     "output_type": "execute_result"
    }
   ],
   "source": [
    "from trans.reg import *\n",
    "reg_df =reg.retAttrib(ret_and_rolled_beta_df, \n",
    "            indCols,\n",
    "            depCols, \n",
    "            sensAttrs)\n",
    "\n",
    "reg_df.tail()"
   ]
  }
 ],
 "metadata": {
  "kernelspec": {
   "display_name": "Python 3",
   "language": "python",
   "name": "python3"
  },
  "language_info": {
   "codemirror_mode": {
    "name": "ipython",
    "version": 3
   },
   "file_extension": ".py",
   "mimetype": "text/x-python",
   "name": "python",
   "nbconvert_exporter": "python",
   "pygments_lexer": "ipython3",
   "version": "3.6.0"
  }
 },
 "nbformat": 4,
 "nbformat_minor": 2
}
