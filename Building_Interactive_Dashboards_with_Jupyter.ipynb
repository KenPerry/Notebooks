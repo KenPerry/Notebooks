{
 "cells": [
  {
   "cell_type": "markdown",
   "metadata": {},
   "source": [
    "## From\n",
    "https://blog.dominodatalab.com/interactive-dashboards-in-jupyter/"
   ]
  },
  {
   "cell_type": "code",
   "execution_count": 1,
   "metadata": {
    "collapsed": true
   },
   "outputs": [],
   "source": [
    "from IPython.core.interactiveshell import InteractiveShell\n",
    "InteractiveShell.ast_node_interactivity = \"all\""
   ]
  },
  {
   "cell_type": "code",
   "execution_count": 2,
   "metadata": {
    "collapsed": true
   },
   "outputs": [],
   "source": [
    "from ipywidgets import widgets"
   ]
  },
  {
   "cell_type": "code",
   "execution_count": 24,
   "metadata": {
    "collapsed": false
   },
   "outputs": [],
   "source": [
    "%matplotlib notebook\n",
    "import pandas as pd\n",
    "import numpy as np\n",
    "\n",
    "import matplotlib.pyplot as plt\n",
    "\n",
    "from ipywidgets import *\n",
    "\n",
    "from IPython.display import display\n",
    "\n",
    "from IPython.html import widgets\n",
    "\n",
    "plt.style.use('ggplot')\n",
    "\n",
    "NUMBER_OF_PINGS = 4\n",
    "\n",
    "# displaying the text widget\n",
    "text = widgets.Text(description=\"Domain to ping\", width=200)\n",
    "display(text)"
   ]
  },
  {
   "cell_type": "code",
   "execution_count": 10,
   "metadata": {
    "collapsed": false
   },
   "outputs": [
    {
     "name": "stdout",
     "output_type": "stream",
     "text": [
      "my input\n"
     ]
    }
   ],
   "source": [
    "from IPython.display import display\n",
    "text = widgets.Text()\n",
    "display(text)\n",
    "\n",
    "def handle_submit(sender):\n",
    "    print(text.value)\n",
    "    \n",
    "text.on_submit(handle_submit)"
   ]
  },
  {
   "cell_type": "code",
   "execution_count": 12,
   "metadata": {
    "collapsed": false
   },
   "outputs": [
    {
     "name": "stdout",
     "output_type": "stream",
     "text": [
      "Button clicked.\n"
     ]
    }
   ],
   "source": [
    "button = widgets.Button(description=\"Click Me!\")\n",
    "display(button)\n",
    "\n",
    "def on_button_clicked(b):\n",
    "    print(\"Button clicked.\")\n",
    "    \n",
    "button.on_click(on_button_clicked)"
   ]
  },
  {
   "cell_type": "markdown",
   "metadata": {},
   "source": [
    "## Interact:\n",
    "### Form of display depends on type of second arg:\n",
    "###   integer: slider\n",
    "###   Boolean: check box\n",
    "###   String: text box"
   ]
  },
  {
   "cell_type": "code",
   "execution_count": 14,
   "metadata": {
    "collapsed": false
   },
   "outputs": [
    {
     "name": "stdout",
     "output_type": "stream",
     "text": [
      "9\n"
     ]
    }
   ],
   "source": [
    "def f(x):\n",
    "    print(x)\n",
    "    \n",
    "interact(f,x=10)"
   ]
  },
  {
   "cell_type": "code",
   "execution_count": 15,
   "metadata": {
    "collapsed": false
   },
   "outputs": [
    {
     "name": "stdout",
     "output_type": "stream",
     "text": [
      "True\n"
     ]
    }
   ],
   "source": [
    "interact(f,x=True)"
   ]
  },
  {
   "cell_type": "code",
   "execution_count": 16,
   "metadata": {
    "collapsed": false
   },
   "outputs": [
    {
     "name": "stdout",
     "output_type": "stream",
     "text": [
      "text\n"
     ]
    },
    {
     "data": {
      "text/plain": [
       "<function __main__.f>"
      ]
     },
     "execution_count": 16,
     "metadata": {},
     "output_type": "execute_result"
    }
   ],
   "source": [
    "interact(f, x=\"text\")"
   ]
  },
  {
   "cell_type": "code",
   "execution_count": 17,
   "metadata": {
    "collapsed": false
   },
   "outputs": [],
   "source": [
    "outputText = widgets.Text()\n",
    "outputText"
   ]
  },
  {
   "cell_type": "markdown",
   "metadata": {},
   "source": [
    "## When running this, keep your eye on where\n",
    "###  outputText is located (usually in the cell above this)\n",
    "###  It's contents will be changed by the below cell"
   ]
  },
  {
   "cell_type": "code",
   "execution_count": 21,
   "metadata": {
    "collapsed": false
   },
   "outputs": [],
   "source": [
    "inputText = widgets.Text()\n",
    "\n",
    "def makeUpperCase(sender):\n",
    "    outputText.value = inputText.value.upper()\n",
    "\n",
    "inputText.on_submit(makeUpperCase)\n",
    "inputText"
   ]
  },
  {
   "cell_type": "code",
   "execution_count": 36,
   "metadata": {
    "collapsed": false
   },
   "outputs": [
    {
     "data": {
      "text/plain": [
       "array([ 0. ,  0.1,  0.2,  0.3,  0.4,  0.5,  0.6,  0.7,  0.8,  0.9])"
      ]
     },
     "execution_count": 36,
     "metadata": {},
     "output_type": "execute_result"
    }
   ],
   "source": [
    "from IPython.html.widgets import *\n",
    "t = np.arange(0.0, 1.0, 0.1)\n",
    "t"
   ]
  },
  {
   "cell_type": "code",
   "execution_count": 38,
   "metadata": {
    "collapsed": false
   },
   "outputs": [
    {
     "name": "stdout",
     "output_type": "stream",
     "text": [
      "f is 6.7\n"
     ]
    }
   ],
   "source": [
    "def pltsin(f):\n",
    "    print(\"f is\", f)\n",
    "    plt.plot(t, np.sin(2*np.pi*t*f))\n",
    "    plt.show()\n",
    "    \n",
    "interact(pltsin, f=(1,10,0.1))"
   ]
  },
  {
   "cell_type": "code",
   "execution_count": 40,
   "metadata": {
    "collapsed": false
   },
   "outputs": [
    {
     "ename": "AttributeError",
     "evalue": "'list' object has no attribute 'astype'",
     "output_type": "error",
     "traceback": [
      "\u001b[0;31m\u001b[0m",
      "\u001b[0;31mAttributeError\u001b[0mTraceback (most recent call last)",
      "\u001b[0;32m<ipython-input-47-f03d701fcda4>\u001b[0m in \u001b[0;36mhandle_submit\u001b[0;34m(sender)\u001b[0m\n\u001b[1;32m     11\u001b[0m         \u001b[0;31m# rebuild plot based on ping result\u001b[0m\u001b[0;34m\u001b[0m\u001b[0;34m\u001b[0m\u001b[0m\n\u001b[1;32m     12\u001b[0m         \u001b[0mdata\u001b[0m \u001b[0;34m=\u001b[0m \u001b[0mhits\u001b[0m\u001b[0;34m\u001b[0m\u001b[0m\n\u001b[0;32m---> 13\u001b[0;31m         \u001b[0mdata\u001b[0m \u001b[0;34m=\u001b[0m \u001b[0mdata\u001b[0m\u001b[0;34m.\u001b[0m\u001b[0mastype\u001b[0m\u001b[0;34m(\u001b[0m\u001b[0mfloat\u001b[0m\u001b[0;34m)\u001b[0m\u001b[0;34m\u001b[0m\u001b[0m\n\u001b[0m\u001b[1;32m     14\u001b[0m         \u001b[0mplots\u001b[0m\u001b[0;34m,\u001b[0m \u001b[0;34m=\u001b[0m \u001b[0max\u001b[0m\u001b[0;34m.\u001b[0m\u001b[0mplot\u001b[0m\u001b[0;34m(\u001b[0m\u001b[0mx\u001b[0m\u001b[0;34m,\u001b[0m \u001b[0mdata\u001b[0m\u001b[0;34m,\u001b[0m \u001b[0mlabel\u001b[0m\u001b[0;34m=\u001b[0m\u001b[0mtext\u001b[0m\u001b[0;34m.\u001b[0m\u001b[0mvalue\u001b[0m\u001b[0;34m)\u001b[0m\u001b[0;34m\u001b[0m\u001b[0m\n\u001b[1;32m     15\u001b[0m         \u001b[0mplt\u001b[0m\u001b[0;34m.\u001b[0m\u001b[0mlegend\u001b[0m\u001b[0;34m(\u001b[0m\u001b[0;34m)\u001b[0m\u001b[0;34m\u001b[0m\u001b[0m\n",
      "\u001b[0;31mAttributeError\u001b[0m: 'list' object has no attribute 'astype'"
     ]
    },
    {
     "ename": "AttributeError",
     "evalue": "'list' object has no attribute 'astype'",
     "output_type": "error",
     "traceback": [
      "\u001b[0;31m\u001b[0m",
      "\u001b[0;31mAttributeError\u001b[0mTraceback (most recent call last)",
      "\u001b[0;32m<ipython-input-57-f03d701fcda4>\u001b[0m in \u001b[0;36mhandle_submit\u001b[0;34m(sender)\u001b[0m\n\u001b[1;32m     11\u001b[0m         \u001b[0;31m# rebuild plot based on ping result\u001b[0m\u001b[0;34m\u001b[0m\u001b[0;34m\u001b[0m\u001b[0m\n\u001b[1;32m     12\u001b[0m         \u001b[0mdata\u001b[0m \u001b[0;34m=\u001b[0m \u001b[0mhits\u001b[0m\u001b[0;34m\u001b[0m\u001b[0m\n\u001b[0;32m---> 13\u001b[0;31m         \u001b[0mdata\u001b[0m \u001b[0;34m=\u001b[0m \u001b[0mdata\u001b[0m\u001b[0;34m.\u001b[0m\u001b[0mastype\u001b[0m\u001b[0;34m(\u001b[0m\u001b[0mfloat\u001b[0m\u001b[0;34m)\u001b[0m\u001b[0;34m\u001b[0m\u001b[0m\n\u001b[0m\u001b[1;32m     14\u001b[0m         \u001b[0mplots\u001b[0m\u001b[0;34m,\u001b[0m \u001b[0;34m=\u001b[0m \u001b[0max\u001b[0m\u001b[0;34m.\u001b[0m\u001b[0mplot\u001b[0m\u001b[0;34m(\u001b[0m\u001b[0mx\u001b[0m\u001b[0;34m,\u001b[0m \u001b[0mdata\u001b[0m\u001b[0;34m,\u001b[0m \u001b[0mlabel\u001b[0m\u001b[0;34m=\u001b[0m\u001b[0mtext\u001b[0m\u001b[0;34m.\u001b[0m\u001b[0mvalue\u001b[0m\u001b[0;34m)\u001b[0m\u001b[0;34m\u001b[0m\u001b[0m\n\u001b[1;32m     15\u001b[0m         \u001b[0mplt\u001b[0m\u001b[0;34m.\u001b[0m\u001b[0mlegend\u001b[0m\u001b[0;34m(\u001b[0m\u001b[0;34m)\u001b[0m\u001b[0;34m\u001b[0m\u001b[0m\n",
      "\u001b[0;31mAttributeError\u001b[0m: 'list' object has no attribute 'astype'"
     ]
    }
   ],
   "source": [
    "plt.style.use('ggplot')\n",
    "\n",
    "NUMBER_OF_PINGS = 4\n",
    "\n",
    "# displaying the text widget\n",
    "text = widgets.Text(description=\"Domain to ping\", width=200)\n",
    "display(text)"
   ]
  },
  {
   "cell_type": "code",
   "execution_count": 55,
   "metadata": {
    "collapsed": false
   },
   "outputs": [
    {
     "data": {
      "application/javascript": [
       "/* Put everything inside the global mpl namespace */\n",
       "window.mpl = {};\n",
       "\n",
       "mpl.get_websocket_type = function() {\n",
       "    if (typeof(WebSocket) !== 'undefined') {\n",
       "        return WebSocket;\n",
       "    } else if (typeof(MozWebSocket) !== 'undefined') {\n",
       "        return MozWebSocket;\n",
       "    } else {\n",
       "        alert('Your browser does not have WebSocket support.' +\n",
       "              'Please try Chrome, Safari or Firefox ≥ 6. ' +\n",
       "              'Firefox 4 and 5 are also supported but you ' +\n",
       "              'have to enable WebSockets in about:config.');\n",
       "    };\n",
       "}\n",
       "\n",
       "mpl.figure = function(figure_id, websocket, ondownload, parent_element) {\n",
       "    this.id = figure_id;\n",
       "\n",
       "    this.ws = websocket;\n",
       "\n",
       "    this.supports_binary = (this.ws.binaryType != undefined);\n",
       "\n",
       "    if (!this.supports_binary) {\n",
       "        var warnings = document.getElementById(\"mpl-warnings\");\n",
       "        if (warnings) {\n",
       "            warnings.style.display = 'block';\n",
       "            warnings.textContent = (\n",
       "                \"This browser does not support binary websocket messages. \" +\n",
       "                    \"Performance may be slow.\");\n",
       "        }\n",
       "    }\n",
       "\n",
       "    this.imageObj = new Image();\n",
       "\n",
       "    this.context = undefined;\n",
       "    this.message = undefined;\n",
       "    this.canvas = undefined;\n",
       "    this.rubberband_canvas = undefined;\n",
       "    this.rubberband_context = undefined;\n",
       "    this.format_dropdown = undefined;\n",
       "\n",
       "    this.image_mode = 'full';\n",
       "\n",
       "    this.root = $('<div/>');\n",
       "    this._root_extra_style(this.root)\n",
       "    this.root.attr('style', 'display: inline-block');\n",
       "\n",
       "    $(parent_element).append(this.root);\n",
       "\n",
       "    this._init_header(this);\n",
       "    this._init_canvas(this);\n",
       "    this._init_toolbar(this);\n",
       "\n",
       "    var fig = this;\n",
       "\n",
       "    this.waiting = false;\n",
       "\n",
       "    this.ws.onopen =  function () {\n",
       "            fig.send_message(\"supports_binary\", {value: fig.supports_binary});\n",
       "            fig.send_message(\"send_image_mode\", {});\n",
       "            fig.send_message(\"refresh\", {});\n",
       "        }\n",
       "\n",
       "    this.imageObj.onload = function() {\n",
       "            if (fig.image_mode == 'full') {\n",
       "                // Full images could contain transparency (where diff images\n",
       "                // almost always do), so we need to clear the canvas so that\n",
       "                // there is no ghosting.\n",
       "                fig.context.clearRect(0, 0, fig.canvas.width, fig.canvas.height);\n",
       "            }\n",
       "            fig.context.drawImage(fig.imageObj, 0, 0);\n",
       "        };\n",
       "\n",
       "    this.imageObj.onunload = function() {\n",
       "        this.ws.close();\n",
       "    }\n",
       "\n",
       "    this.ws.onmessage = this._make_on_message_function(this);\n",
       "\n",
       "    this.ondownload = ondownload;\n",
       "}\n",
       "\n",
       "mpl.figure.prototype._init_header = function() {\n",
       "    var titlebar = $(\n",
       "        '<div class=\"ui-dialog-titlebar ui-widget-header ui-corner-all ' +\n",
       "        'ui-helper-clearfix\"/>');\n",
       "    var titletext = $(\n",
       "        '<div class=\"ui-dialog-title\" style=\"width: 100%; ' +\n",
       "        'text-align: center; padding: 3px;\"/>');\n",
       "    titlebar.append(titletext)\n",
       "    this.root.append(titlebar);\n",
       "    this.header = titletext[0];\n",
       "}\n",
       "\n",
       "\n",
       "\n",
       "mpl.figure.prototype._canvas_extra_style = function(canvas_div) {\n",
       "\n",
       "}\n",
       "\n",
       "\n",
       "mpl.figure.prototype._root_extra_style = function(canvas_div) {\n",
       "\n",
       "}\n",
       "\n",
       "mpl.figure.prototype._init_canvas = function() {\n",
       "    var fig = this;\n",
       "\n",
       "    var canvas_div = $('<div/>');\n",
       "\n",
       "    canvas_div.attr('style', 'position: relative; clear: both; outline: 0');\n",
       "\n",
       "    function canvas_keyboard_event(event) {\n",
       "        return fig.key_event(event, event['data']);\n",
       "    }\n",
       "\n",
       "    canvas_div.keydown('key_press', canvas_keyboard_event);\n",
       "    canvas_div.keyup('key_release', canvas_keyboard_event);\n",
       "    this.canvas_div = canvas_div\n",
       "    this._canvas_extra_style(canvas_div)\n",
       "    this.root.append(canvas_div);\n",
       "\n",
       "    var canvas = $('<canvas/>');\n",
       "    canvas.addClass('mpl-canvas');\n",
       "    canvas.attr('style', \"left: 0; top: 0; z-index: 0; outline: 0\")\n",
       "\n",
       "    this.canvas = canvas[0];\n",
       "    this.context = canvas[0].getContext(\"2d\");\n",
       "\n",
       "    var rubberband = $('<canvas/>');\n",
       "    rubberband.attr('style', \"position: absolute; left: 0; top: 0; z-index: 1;\")\n",
       "\n",
       "    var pass_mouse_events = true;\n",
       "\n",
       "    canvas_div.resizable({\n",
       "        start: function(event, ui) {\n",
       "            pass_mouse_events = false;\n",
       "        },\n",
       "        resize: function(event, ui) {\n",
       "            fig.request_resize(ui.size.width, ui.size.height);\n",
       "        },\n",
       "        stop: function(event, ui) {\n",
       "            pass_mouse_events = true;\n",
       "            fig.request_resize(ui.size.width, ui.size.height);\n",
       "        },\n",
       "    });\n",
       "\n",
       "    function mouse_event_fn(event) {\n",
       "        if (pass_mouse_events)\n",
       "            return fig.mouse_event(event, event['data']);\n",
       "    }\n",
       "\n",
       "    rubberband.mousedown('button_press', mouse_event_fn);\n",
       "    rubberband.mouseup('button_release', mouse_event_fn);\n",
       "    // Throttle sequential mouse events to 1 every 20ms.\n",
       "    rubberband.mousemove('motion_notify', mouse_event_fn);\n",
       "\n",
       "    rubberband.mouseenter('figure_enter', mouse_event_fn);\n",
       "    rubberband.mouseleave('figure_leave', mouse_event_fn);\n",
       "\n",
       "    canvas_div.on(\"wheel\", function (event) {\n",
       "        event = event.originalEvent;\n",
       "        event['data'] = 'scroll'\n",
       "        if (event.deltaY < 0) {\n",
       "            event.step = 1;\n",
       "        } else {\n",
       "            event.step = -1;\n",
       "        }\n",
       "        mouse_event_fn(event);\n",
       "    });\n",
       "\n",
       "    canvas_div.append(canvas);\n",
       "    canvas_div.append(rubberband);\n",
       "\n",
       "    this.rubberband = rubberband;\n",
       "    this.rubberband_canvas = rubberband[0];\n",
       "    this.rubberband_context = rubberband[0].getContext(\"2d\");\n",
       "    this.rubberband_context.strokeStyle = \"#000000\";\n",
       "\n",
       "    this._resize_canvas = function(width, height) {\n",
       "        // Keep the size of the canvas, canvas container, and rubber band\n",
       "        // canvas in synch.\n",
       "        canvas_div.css('width', width)\n",
       "        canvas_div.css('height', height)\n",
       "\n",
       "        canvas.attr('width', width);\n",
       "        canvas.attr('height', height);\n",
       "\n",
       "        rubberband.attr('width', width);\n",
       "        rubberband.attr('height', height);\n",
       "    }\n",
       "\n",
       "    // Set the figure to an initial 600x600px, this will subsequently be updated\n",
       "    // upon first draw.\n",
       "    this._resize_canvas(600, 600);\n",
       "\n",
       "    // Disable right mouse context menu.\n",
       "    $(this.rubberband_canvas).bind(\"contextmenu\",function(e){\n",
       "        return false;\n",
       "    });\n",
       "\n",
       "    function set_focus () {\n",
       "        canvas.focus();\n",
       "        canvas_div.focus();\n",
       "    }\n",
       "\n",
       "    window.setTimeout(set_focus, 100);\n",
       "}\n",
       "\n",
       "mpl.figure.prototype._init_toolbar = function() {\n",
       "    var fig = this;\n",
       "\n",
       "    var nav_element = $('<div/>')\n",
       "    nav_element.attr('style', 'width: 100%');\n",
       "    this.root.append(nav_element);\n",
       "\n",
       "    // Define a callback function for later on.\n",
       "    function toolbar_event(event) {\n",
       "        return fig.toolbar_button_onclick(event['data']);\n",
       "    }\n",
       "    function toolbar_mouse_event(event) {\n",
       "        return fig.toolbar_button_onmouseover(event['data']);\n",
       "    }\n",
       "\n",
       "    for(var toolbar_ind in mpl.toolbar_items) {\n",
       "        var name = mpl.toolbar_items[toolbar_ind][0];\n",
       "        var tooltip = mpl.toolbar_items[toolbar_ind][1];\n",
       "        var image = mpl.toolbar_items[toolbar_ind][2];\n",
       "        var method_name = mpl.toolbar_items[toolbar_ind][3];\n",
       "\n",
       "        if (!name) {\n",
       "            // put a spacer in here.\n",
       "            continue;\n",
       "        }\n",
       "        var button = $('<button/>');\n",
       "        button.addClass('ui-button ui-widget ui-state-default ui-corner-all ' +\n",
       "                        'ui-button-icon-only');\n",
       "        button.attr('role', 'button');\n",
       "        button.attr('aria-disabled', 'false');\n",
       "        button.click(method_name, toolbar_event);\n",
       "        button.mouseover(tooltip, toolbar_mouse_event);\n",
       "\n",
       "        var icon_img = $('<span/>');\n",
       "        icon_img.addClass('ui-button-icon-primary ui-icon');\n",
       "        icon_img.addClass(image);\n",
       "        icon_img.addClass('ui-corner-all');\n",
       "\n",
       "        var tooltip_span = $('<span/>');\n",
       "        tooltip_span.addClass('ui-button-text');\n",
       "        tooltip_span.html(tooltip);\n",
       "\n",
       "        button.append(icon_img);\n",
       "        button.append(tooltip_span);\n",
       "\n",
       "        nav_element.append(button);\n",
       "    }\n",
       "\n",
       "    var fmt_picker_span = $('<span/>');\n",
       "\n",
       "    var fmt_picker = $('<select/>');\n",
       "    fmt_picker.addClass('mpl-toolbar-option ui-widget ui-widget-content');\n",
       "    fmt_picker_span.append(fmt_picker);\n",
       "    nav_element.append(fmt_picker_span);\n",
       "    this.format_dropdown = fmt_picker[0];\n",
       "\n",
       "    for (var ind in mpl.extensions) {\n",
       "        var fmt = mpl.extensions[ind];\n",
       "        var option = $(\n",
       "            '<option/>', {selected: fmt === mpl.default_extension}).html(fmt);\n",
       "        fmt_picker.append(option)\n",
       "    }\n",
       "\n",
       "    // Add hover states to the ui-buttons\n",
       "    $( \".ui-button\" ).hover(\n",
       "        function() { $(this).addClass(\"ui-state-hover\");},\n",
       "        function() { $(this).removeClass(\"ui-state-hover\");}\n",
       "    );\n",
       "\n",
       "    var status_bar = $('<span class=\"mpl-message\"/>');\n",
       "    nav_element.append(status_bar);\n",
       "    this.message = status_bar[0];\n",
       "}\n",
       "\n",
       "mpl.figure.prototype.request_resize = function(x_pixels, y_pixels) {\n",
       "    // Request matplotlib to resize the figure. Matplotlib will then trigger a resize in the client,\n",
       "    // which will in turn request a refresh of the image.\n",
       "    this.send_message('resize', {'width': x_pixels, 'height': y_pixels});\n",
       "}\n",
       "\n",
       "mpl.figure.prototype.send_message = function(type, properties) {\n",
       "    properties['type'] = type;\n",
       "    properties['figure_id'] = this.id;\n",
       "    this.ws.send(JSON.stringify(properties));\n",
       "}\n",
       "\n",
       "mpl.figure.prototype.send_draw_message = function() {\n",
       "    if (!this.waiting) {\n",
       "        this.waiting = true;\n",
       "        this.ws.send(JSON.stringify({type: \"draw\", figure_id: this.id}));\n",
       "    }\n",
       "}\n",
       "\n",
       "\n",
       "mpl.figure.prototype.handle_save = function(fig, msg) {\n",
       "    var format_dropdown = fig.format_dropdown;\n",
       "    var format = format_dropdown.options[format_dropdown.selectedIndex].value;\n",
       "    fig.ondownload(fig, format);\n",
       "}\n",
       "\n",
       "\n",
       "mpl.figure.prototype.handle_resize = function(fig, msg) {\n",
       "    var size = msg['size'];\n",
       "    if (size[0] != fig.canvas.width || size[1] != fig.canvas.height) {\n",
       "        fig._resize_canvas(size[0], size[1]);\n",
       "        fig.send_message(\"refresh\", {});\n",
       "    };\n",
       "}\n",
       "\n",
       "mpl.figure.prototype.handle_rubberband = function(fig, msg) {\n",
       "    var x0 = msg['x0'];\n",
       "    var y0 = fig.canvas.height - msg['y0'];\n",
       "    var x1 = msg['x1'];\n",
       "    var y1 = fig.canvas.height - msg['y1'];\n",
       "    x0 = Math.floor(x0) + 0.5;\n",
       "    y0 = Math.floor(y0) + 0.5;\n",
       "    x1 = Math.floor(x1) + 0.5;\n",
       "    y1 = Math.floor(y1) + 0.5;\n",
       "    var min_x = Math.min(x0, x1);\n",
       "    var min_y = Math.min(y0, y1);\n",
       "    var width = Math.abs(x1 - x0);\n",
       "    var height = Math.abs(y1 - y0);\n",
       "\n",
       "    fig.rubberband_context.clearRect(\n",
       "        0, 0, fig.canvas.width, fig.canvas.height);\n",
       "\n",
       "    fig.rubberband_context.strokeRect(min_x, min_y, width, height);\n",
       "}\n",
       "\n",
       "mpl.figure.prototype.handle_figure_label = function(fig, msg) {\n",
       "    // Updates the figure title.\n",
       "    fig.header.textContent = msg['label'];\n",
       "}\n",
       "\n",
       "mpl.figure.prototype.handle_cursor = function(fig, msg) {\n",
       "    var cursor = msg['cursor'];\n",
       "    switch(cursor)\n",
       "    {\n",
       "    case 0:\n",
       "        cursor = 'pointer';\n",
       "        break;\n",
       "    case 1:\n",
       "        cursor = 'default';\n",
       "        break;\n",
       "    case 2:\n",
       "        cursor = 'crosshair';\n",
       "        break;\n",
       "    case 3:\n",
       "        cursor = 'move';\n",
       "        break;\n",
       "    }\n",
       "    fig.rubberband_canvas.style.cursor = cursor;\n",
       "}\n",
       "\n",
       "mpl.figure.prototype.handle_message = function(fig, msg) {\n",
       "    fig.message.textContent = msg['message'];\n",
       "}\n",
       "\n",
       "mpl.figure.prototype.handle_draw = function(fig, msg) {\n",
       "    // Request the server to send over a new figure.\n",
       "    fig.send_draw_message();\n",
       "}\n",
       "\n",
       "mpl.figure.prototype.handle_image_mode = function(fig, msg) {\n",
       "    fig.image_mode = msg['mode'];\n",
       "}\n",
       "\n",
       "mpl.figure.prototype.updated_canvas_event = function() {\n",
       "    // Called whenever the canvas gets updated.\n",
       "    this.send_message(\"ack\", {});\n",
       "}\n",
       "\n",
       "// A function to construct a web socket function for onmessage handling.\n",
       "// Called in the figure constructor.\n",
       "mpl.figure.prototype._make_on_message_function = function(fig) {\n",
       "    return function socket_on_message(evt) {\n",
       "        if (evt.data instanceof Blob) {\n",
       "            /* FIXME: We get \"Resource interpreted as Image but\n",
       "             * transferred with MIME type text/plain:\" errors on\n",
       "             * Chrome.  But how to set the MIME type?  It doesn't seem\n",
       "             * to be part of the websocket stream */\n",
       "            evt.data.type = \"image/png\";\n",
       "\n",
       "            /* Free the memory for the previous frames */\n",
       "            if (fig.imageObj.src) {\n",
       "                (window.URL || window.webkitURL).revokeObjectURL(\n",
       "                    fig.imageObj.src);\n",
       "            }\n",
       "\n",
       "            fig.imageObj.src = (window.URL || window.webkitURL).createObjectURL(\n",
       "                evt.data);\n",
       "            fig.updated_canvas_event();\n",
       "            fig.waiting = false;\n",
       "            return;\n",
       "        }\n",
       "        else if (typeof evt.data === 'string' && evt.data.slice(0, 21) == \"data:image/png;base64\") {\n",
       "            fig.imageObj.src = evt.data;\n",
       "            fig.updated_canvas_event();\n",
       "            fig.waiting = false;\n",
       "            return;\n",
       "        }\n",
       "\n",
       "        var msg = JSON.parse(evt.data);\n",
       "        var msg_type = msg['type'];\n",
       "\n",
       "        // Call the  \"handle_{type}\" callback, which takes\n",
       "        // the figure and JSON message as its only arguments.\n",
       "        try {\n",
       "            var callback = fig[\"handle_\" + msg_type];\n",
       "        } catch (e) {\n",
       "            console.log(\"No handler for the '\" + msg_type + \"' message type: \", msg);\n",
       "            return;\n",
       "        }\n",
       "\n",
       "        if (callback) {\n",
       "            try {\n",
       "                // console.log(\"Handling '\" + msg_type + \"' message: \", msg);\n",
       "                callback(fig, msg);\n",
       "            } catch (e) {\n",
       "                console.log(\"Exception inside the 'handler_\" + msg_type + \"' callback:\", e, e.stack, msg);\n",
       "            }\n",
       "        }\n",
       "    };\n",
       "}\n",
       "\n",
       "// from http://stackoverflow.com/questions/1114465/getting-mouse-location-in-canvas\n",
       "mpl.findpos = function(e) {\n",
       "    //this section is from http://www.quirksmode.org/js/events_properties.html\n",
       "    var targ;\n",
       "    if (!e)\n",
       "        e = window.event;\n",
       "    if (e.target)\n",
       "        targ = e.target;\n",
       "    else if (e.srcElement)\n",
       "        targ = e.srcElement;\n",
       "    if (targ.nodeType == 3) // defeat Safari bug\n",
       "        targ = targ.parentNode;\n",
       "\n",
       "    // jQuery normalizes the pageX and pageY\n",
       "    // pageX,Y are the mouse positions relative to the document\n",
       "    // offset() returns the position of the element relative to the document\n",
       "    var x = e.pageX - $(targ).offset().left;\n",
       "    var y = e.pageY - $(targ).offset().top;\n",
       "\n",
       "    return {\"x\": x, \"y\": y};\n",
       "};\n",
       "\n",
       "/*\n",
       " * return a copy of an object with only non-object keys\n",
       " * we need this to avoid circular references\n",
       " * http://stackoverflow.com/a/24161582/3208463\n",
       " */\n",
       "function simpleKeys (original) {\n",
       "  return Object.keys(original).reduce(function (obj, key) {\n",
       "    if (typeof original[key] !== 'object')\n",
       "        obj[key] = original[key]\n",
       "    return obj;\n",
       "  }, {});\n",
       "}\n",
       "\n",
       "mpl.figure.prototype.mouse_event = function(event, name) {\n",
       "    var canvas_pos = mpl.findpos(event)\n",
       "\n",
       "    if (name === 'button_press')\n",
       "    {\n",
       "        this.canvas.focus();\n",
       "        this.canvas_div.focus();\n",
       "    }\n",
       "\n",
       "    var x = canvas_pos.x;\n",
       "    var y = canvas_pos.y;\n",
       "\n",
       "    this.send_message(name, {x: x, y: y, button: event.button,\n",
       "                             step: event.step,\n",
       "                             guiEvent: simpleKeys(event)});\n",
       "\n",
       "    /* This prevents the web browser from automatically changing to\n",
       "     * the text insertion cursor when the button is pressed.  We want\n",
       "     * to control all of the cursor setting manually through the\n",
       "     * 'cursor' event from matplotlib */\n",
       "    event.preventDefault();\n",
       "    return false;\n",
       "}\n",
       "\n",
       "mpl.figure.prototype._key_event_extra = function(event, name) {\n",
       "    // Handle any extra behaviour associated with a key event\n",
       "}\n",
       "\n",
       "mpl.figure.prototype.key_event = function(event, name) {\n",
       "\n",
       "    // Prevent repeat events\n",
       "    if (name == 'key_press')\n",
       "    {\n",
       "        if (event.which === this._key)\n",
       "            return;\n",
       "        else\n",
       "            this._key = event.which;\n",
       "    }\n",
       "    if (name == 'key_release')\n",
       "        this._key = null;\n",
       "\n",
       "    var value = '';\n",
       "    if (event.ctrlKey && event.which != 17)\n",
       "        value += \"ctrl+\";\n",
       "    if (event.altKey && event.which != 18)\n",
       "        value += \"alt+\";\n",
       "    if (event.shiftKey && event.which != 16)\n",
       "        value += \"shift+\";\n",
       "\n",
       "    value += 'k';\n",
       "    value += event.which.toString();\n",
       "\n",
       "    this._key_event_extra(event, name);\n",
       "\n",
       "    this.send_message(name, {key: value,\n",
       "                             guiEvent: simpleKeys(event)});\n",
       "    return false;\n",
       "}\n",
       "\n",
       "mpl.figure.prototype.toolbar_button_onclick = function(name) {\n",
       "    if (name == 'download') {\n",
       "        this.handle_save(this, null);\n",
       "    } else {\n",
       "        this.send_message(\"toolbar_button\", {name: name});\n",
       "    }\n",
       "};\n",
       "\n",
       "mpl.figure.prototype.toolbar_button_onmouseover = function(tooltip) {\n",
       "    this.message.textContent = tooltip;\n",
       "};\n",
       "mpl.toolbar_items = [[\"Home\", \"Reset original view\", \"fa fa-home icon-home\", \"home\"], [\"Back\", \"Back to  previous view\", \"fa fa-arrow-left icon-arrow-left\", \"back\"], [\"Forward\", \"Forward to next view\", \"fa fa-arrow-right icon-arrow-right\", \"forward\"], [\"\", \"\", \"\", \"\"], [\"Pan\", \"Pan axes with left mouse, zoom with right\", \"fa fa-arrows icon-move\", \"pan\"], [\"Zoom\", \"Zoom to rectangle\", \"fa fa-square-o icon-check-empty\", \"zoom\"], [\"\", \"\", \"\", \"\"], [\"Download\", \"Download plot\", \"fa fa-floppy-o icon-save\", \"download\"]];\n",
       "\n",
       "mpl.extensions = [\"eps\", \"jpeg\", \"pdf\", \"png\", \"ps\", \"raw\", \"svg\", \"tif\"];\n",
       "\n",
       "mpl.default_extension = \"png\";var comm_websocket_adapter = function(comm) {\n",
       "    // Create a \"websocket\"-like object which calls the given IPython comm\n",
       "    // object with the appropriate methods. Currently this is a non binary\n",
       "    // socket, so there is still some room for performance tuning.\n",
       "    var ws = {};\n",
       "\n",
       "    ws.close = function() {\n",
       "        comm.close()\n",
       "    };\n",
       "    ws.send = function(m) {\n",
       "        //console.log('sending', m);\n",
       "        comm.send(m);\n",
       "    };\n",
       "    // Register the callback with on_msg.\n",
       "    comm.on_msg(function(msg) {\n",
       "        //console.log('receiving', msg['content']['data'], msg);\n",
       "        // Pass the mpl event to the overriden (by mpl) onmessage function.\n",
       "        ws.onmessage(msg['content']['data'])\n",
       "    });\n",
       "    return ws;\n",
       "}\n",
       "\n",
       "mpl.mpl_figure_comm = function(comm, msg) {\n",
       "    // This is the function which gets called when the mpl process\n",
       "    // starts-up an IPython Comm through the \"matplotlib\" channel.\n",
       "\n",
       "    var id = msg.content.data.id;\n",
       "    // Get hold of the div created by the display call when the Comm\n",
       "    // socket was opened in Python.\n",
       "    var element = $(\"#\" + id);\n",
       "    var ws_proxy = comm_websocket_adapter(comm)\n",
       "\n",
       "    function ondownload(figure, format) {\n",
       "        window.open(figure.imageObj.src);\n",
       "    }\n",
       "\n",
       "    var fig = new mpl.figure(id, ws_proxy,\n",
       "                           ondownload,\n",
       "                           element.get(0));\n",
       "\n",
       "    // Call onopen now - mpl needs it, as it is assuming we've passed it a real\n",
       "    // web socket which is closed, not our websocket->open comm proxy.\n",
       "    ws_proxy.onopen();\n",
       "\n",
       "    fig.parent_element = element.get(0);\n",
       "    fig.cell_info = mpl.find_output_cell(\"<div id='\" + id + \"'></div>\");\n",
       "    if (!fig.cell_info) {\n",
       "        console.error(\"Failed to find cell for figure\", id, fig);\n",
       "        return;\n",
       "    }\n",
       "\n",
       "    var output_index = fig.cell_info[2]\n",
       "    var cell = fig.cell_info[0];\n",
       "\n",
       "};\n",
       "\n",
       "mpl.figure.prototype.handle_close = function(fig, msg) {\n",
       "    fig.root.unbind('remove')\n",
       "\n",
       "    // Update the output cell to use the data from the current canvas.\n",
       "    fig.push_to_output();\n",
       "    var dataURL = fig.canvas.toDataURL();\n",
       "    // Re-enable the keyboard manager in IPython - without this line, in FF,\n",
       "    // the notebook keyboard shortcuts fail.\n",
       "    IPython.keyboard_manager.enable()\n",
       "    $(fig.parent_element).html('<img src=\"' + dataURL + '\">');\n",
       "    fig.close_ws(fig, msg);\n",
       "}\n",
       "\n",
       "mpl.figure.prototype.close_ws = function(fig, msg){\n",
       "    fig.send_message('closing', msg);\n",
       "    // fig.ws.close()\n",
       "}\n",
       "\n",
       "mpl.figure.prototype.push_to_output = function(remove_interactive) {\n",
       "    // Turn the data on the canvas into data in the output cell.\n",
       "    var dataURL = this.canvas.toDataURL();\n",
       "    this.cell_info[1]['text/html'] = '<img src=\"' + dataURL + '\">';\n",
       "}\n",
       "\n",
       "mpl.figure.prototype.updated_canvas_event = function() {\n",
       "    // Tell IPython that the notebook contents must change.\n",
       "    IPython.notebook.set_dirty(true);\n",
       "    this.send_message(\"ack\", {});\n",
       "    var fig = this;\n",
       "    // Wait a second, then push the new image to the DOM so\n",
       "    // that it is saved nicely (might be nice to debounce this).\n",
       "    setTimeout(function () { fig.push_to_output() }, 1000);\n",
       "}\n",
       "\n",
       "mpl.figure.prototype._init_toolbar = function() {\n",
       "    var fig = this;\n",
       "\n",
       "    var nav_element = $('<div/>')\n",
       "    nav_element.attr('style', 'width: 100%');\n",
       "    this.root.append(nav_element);\n",
       "\n",
       "    // Define a callback function for later on.\n",
       "    function toolbar_event(event) {\n",
       "        return fig.toolbar_button_onclick(event['data']);\n",
       "    }\n",
       "    function toolbar_mouse_event(event) {\n",
       "        return fig.toolbar_button_onmouseover(event['data']);\n",
       "    }\n",
       "\n",
       "    for(var toolbar_ind in mpl.toolbar_items){\n",
       "        var name = mpl.toolbar_items[toolbar_ind][0];\n",
       "        var tooltip = mpl.toolbar_items[toolbar_ind][1];\n",
       "        var image = mpl.toolbar_items[toolbar_ind][2];\n",
       "        var method_name = mpl.toolbar_items[toolbar_ind][3];\n",
       "\n",
       "        if (!name) { continue; };\n",
       "\n",
       "        var button = $('<button class=\"btn btn-default\" href=\"#\" title=\"' + name + '\"><i class=\"fa ' + image + ' fa-lg\"></i></button>');\n",
       "        button.click(method_name, toolbar_event);\n",
       "        button.mouseover(tooltip, toolbar_mouse_event);\n",
       "        nav_element.append(button);\n",
       "    }\n",
       "\n",
       "    // Add the status bar.\n",
       "    var status_bar = $('<span class=\"mpl-message\" style=\"text-align:right; float: right;\"/>');\n",
       "    nav_element.append(status_bar);\n",
       "    this.message = status_bar[0];\n",
       "\n",
       "    // Add the close button to the window.\n",
       "    var buttongrp = $('<div class=\"btn-group inline pull-right\"></div>');\n",
       "    var button = $('<button class=\"btn btn-mini btn-primary\" href=\"#\" title=\"Stop Interaction\"><i class=\"fa fa-power-off icon-remove icon-large\"></i></button>');\n",
       "    button.click(function (evt) { fig.handle_close(fig, {}); } );\n",
       "    button.mouseover('Stop Interaction', toolbar_mouse_event);\n",
       "    buttongrp.append(button);\n",
       "    var titlebar = this.root.find($('.ui-dialog-titlebar'));\n",
       "    titlebar.prepend(buttongrp);\n",
       "}\n",
       "\n",
       "mpl.figure.prototype._root_extra_style = function(el){\n",
       "    var fig = this\n",
       "    el.on(\"remove\", function(){\n",
       "\tfig.close_ws(fig, {});\n",
       "    });\n",
       "}\n",
       "\n",
       "mpl.figure.prototype._canvas_extra_style = function(el){\n",
       "    // this is important to make the div 'focusable\n",
       "    el.attr('tabindex', 0)\n",
       "    // reach out to IPython and tell the keyboard manager to turn it's self\n",
       "    // off when our div gets focus\n",
       "\n",
       "    // location in version 3\n",
       "    if (IPython.notebook.keyboard_manager) {\n",
       "        IPython.notebook.keyboard_manager.register_events(el);\n",
       "    }\n",
       "    else {\n",
       "        // location in version 2\n",
       "        IPython.keyboard_manager.register_events(el);\n",
       "    }\n",
       "\n",
       "}\n",
       "\n",
       "mpl.figure.prototype._key_event_extra = function(event, name) {\n",
       "    var manager = IPython.notebook.keyboard_manager;\n",
       "    if (!manager)\n",
       "        manager = IPython.keyboard_manager;\n",
       "\n",
       "    // Check for shift+enter\n",
       "    if (event.shiftKey && event.which == 13) {\n",
       "        this.canvas_div.blur();\n",
       "        // select the cell after this one\n",
       "        var index = IPython.notebook.find_cell_index(this.cell_info[0]);\n",
       "        IPython.notebook.select(index + 1);\n",
       "    }\n",
       "}\n",
       "\n",
       "mpl.figure.prototype.handle_save = function(fig, msg) {\n",
       "    fig.ondownload(fig, null);\n",
       "}\n",
       "\n",
       "\n",
       "mpl.find_output_cell = function(html_output) {\n",
       "    // Return the cell and output element which can be found *uniquely* in the notebook.\n",
       "    // Note - this is a bit hacky, but it is done because the \"notebook_saving.Notebook\"\n",
       "    // IPython event is triggered only after the cells have been serialised, which for\n",
       "    // our purposes (turning an active figure into a static one), is too late.\n",
       "    var cells = IPython.notebook.get_cells();\n",
       "    var ncells = cells.length;\n",
       "    for (var i=0; i<ncells; i++) {\n",
       "        var cell = cells[i];\n",
       "        if (cell.cell_type === 'code'){\n",
       "            for (var j=0; j<cell.output_area.outputs.length; j++) {\n",
       "                var data = cell.output_area.outputs[j];\n",
       "                if (data.data) {\n",
       "                    // IPython >= 3 moved mimebundle to data attribute of output\n",
       "                    data = data.data;\n",
       "                }\n",
       "                if (data['text/html'] == html_output) {\n",
       "                    return [cell, data, j];\n",
       "                }\n",
       "            }\n",
       "        }\n",
       "    }\n",
       "}\n",
       "\n",
       "// Register the function which deals with the matplotlib target/channel.\n",
       "// The kernel may be null if the page has been refreshed.\n",
       "if (IPython.notebook.kernel != null) {\n",
       "    IPython.notebook.kernel.comm_manager.register_target('matplotlib', mpl.mpl_figure_comm);\n",
       "}\n"
      ],
      "text/plain": [
       "<IPython.core.display.Javascript object>"
      ]
     },
     "metadata": {},
     "output_type": "display_data"
    },
    {
     "data": {
      "text/html": [
       "<img src=\"data:image/png;base64,iVBORw0KGgoAAAANSUhEUgAAAbAAAAEgCAYAAADVKCZpAAAgAElEQVR4Xu3dC5CdZX3H8eyFhZYsUVwV0HqpLaWh0nFUTJXWRWYkQbGabLJJTL21haoUx0sFO1Oz2FrBaZWLthaMWrBJ9hZL40hFrVs7UgFrvXQhMBbHjkKpdBUXRBay6e/JnOMs6Wbf5/3nl2f35Hx35sye7Puc5zn7OYf3y/ues7sdy/hAAAEEEECgBQU6WvA+c5cRQAABBBBYRsB4EiCAAAIItKQAAWvJh407jQACCCBAwHgOIIAAAgi0pAABa8mHjTuNAAIIIEDAeA4ggAACCLSkAAFryYeNO40AAgggQMB4DiCAAAIItKQAAWvJh407jQACCCBAwHgOIIAAAgi0pAABa8mHjTuNAAIIIEDAeA4ggAACCLSkAAFryYeNO40AAgggQMB4DiCAAAIItKQAAWvJh407jQACCCBAwHgOIIAAAgi0pAABa8mHjTuNAAIIIEDAeA4ggAACCLSkAAFryYeNO40AAgggQMB4DiCAAAIItKQAAWvJh407jQACCCBAwHgOIIAAAgi0pAABa8mHjTuNAAIIILCoAVu/fv22jo6Ol+/bt+/e0dHR0+Z7ODZs2HCltq/Rtgd1eZ3GfZ2HDQEEEEAAgcUO2Bl6CB7Q5dr5AjYwMLBGgbtA216m6y/o7Oy8YmRkZBUPW3kB+fePjY1NlF/5yFsRS+9jimf7ei5qwBL7unXrnq4w7Z4vYDr6+oiOvr6obcNprP59e1dXV/+OHTvu9T5kzFYlIPsh/c/DUNU4tlcLYFltVGcEnnW0qse2kudSD9ju2dnZ9+n//G9qBOzzOiJ75/Dw8NeqHwZGOAVa6Unt/L4Px1xYelXxbF9PAuZ97I/Y2dhJ+B5aLH2Wjf+x5eyAkbSVnp9LPWCPOYWoN33s6e7ufvF8pxDTeXCdiuxvPo46SttqfEyZCgEEEGgbgcHBwUua36zOgk0s1de/Fz1gGzdufMbevXvTa2DPPvDZIcRzhPfm9CYOXV+l18Muz30Th8buu/vuu9vmCXe4v9He3t5l09PTh3uZtpgfS+/DjKfX86STTlqml2oWvQ0539Wi3kkdUW2XU79a8wTd2fTGjHTU1KPLPkXr6vQNaMyH9Gm1xj2oy+tzX/8iYDkPf/4YdhL5VlUjsawSqrcdz3peVaMJWJVQge0EzIvMTsLniaXPMs2Ep9eTgHk9Q7MRsBDbQW/ETsLniaXPkoB5LdNsBMxvWntGAlabbMEbsNP1eWLpsyRgXksC5vcMzUjAQmwcgXnZ5p2NgHmR8fR6cgTm9QzNRsBCbATMy0bA8Cwg4F2CgHk9Q7MRsBAbAfOyETA8Cwh4lyBgXs/QbAQsxEbAvGwEDM8CAt4lCJjXMzQbAQuxETAvGwHDs4CAdwkC5vUMzUbAQmwEzMtGwPAsIOBdgoB5PUOzEbAQGwHzshEwPAsIeJcgYF7P0GwELMRGwLxsBAzPAgLeJQiY1zM0GwELsREwLxsBw7OAgHcJAub1DM1GwEJsBMzLRsDwLCDgXYKAeT1DsxGwEBsB87IRMDwLCHiXIGBez9BsBCzERsC8bAQMzwIC3iUImNczNBsBC7ERMC8bAcOzgIB3CQLm9QzNRsBCbATMy0bA8Cwg4F2CgHk9Q7MRsBAbAfOyETA8Cwh4lyBgXs/QbAQsxEbAvGwEDM8CAt4lCJjXMzQbAQuxETAvGwHDs4CAdwkC5vUMzUbAQmwEzMtGwPAsIOBdgoB5PUOzEbAQGwHzshEwPAsIeJcgYF7P0GwELMRGwLxsBAzPAgLeJQiY1zM0GwELsREwLxsBw7OAgHcJAub1DM1GwEJsBMzLRsDwLCDgXYKAeT1DsxGwEBsB87IRMDwLCHiXIGBez9BsBCzERsC8bAQMzwIC3iUImNczNBsBC7ERMC8bAcOzgIB3CQLm9QzNRsBCbATMy0bA8Cwg4F2CgHk9Q7MRsBAbAfOyETA8Cwh4lyBgXs/QbAQsxEbAvGwEDM8CAt4lCJjXMzQbAQuxETAvGwHDs4CAdwkC5vUMzUbAQmwEzMtGwPAsIOBdgoB5PUOzEbAQGwHzshEwPAsIeJcgYF7P0GwELMRGwLxsBAzPAgLeJQiY1zM0GwELsREwLxsBw7OAgHcJAlbDc/369as1/PKOjo5Ofd42MjJy2dybb9my5biHH374k/ra03Tp0uUvR0dHP1G1BAGrEqq3vbe3d9n09HS9GzGagBV4DvDc9CITsEzPoaGhzsnJyTtnZ2fP6uvru3tqaupWXd84Pj6+pzmFAvcuXT9O0XrX5s2b+x555JE7fvCDHzx5YmLi0YWWIWCZD0LmMHYSmVAZw7DMQKoxBM8aWBlDCVgGUhoyODi4SsHaqjitSf9WrC7Wkdi+uUdh6Wva9FSNuUDXn6ntn9X2k6uWIGBVQvW2s5Oo57XQaCx9lmkmPL2eBCzTUwFbp4CdrTidl26yYcOGLfp0ugJ14ZwjsOW6/g8K1yn6vFzjB8fGxm6oWoKAVQnV285Oop4XAfN5Vc3Ec7NKqN52ApbplROwxpgXKnJv37hx47P27t37OU1/mv79wELLELDMByFzGDuJTKiMYVhmINUYgmcNrIyhBCwDKQ1pnEIcUozSGzkOdgrx052dne8bHh7+cmPMFxSni3QU9tW5ywwMDPRrXH/zaxq/lTcdZD4QGcN6enqWzczMZIxkSJUAllVC9bbjWc+ranT6HwLtmy9pjtNZrwntbyeqbrcY2zsWY9HmmnpNK72r8I70Jg7F5x5dv6Wrq2vTzp07b2+O0WnFDytY/6PIXbJp06Yn6wjsq/r3r+vfUwvdd47AvI8s/5fr88TSZ5lmwtPryRFYDc/G2+iv0E32v41eYbpUXztf1/fp+tVr1649sbu7+xMK0olpWr0W9j69RrajagkCViVUbzs7iXpeC43G0mdJwLyWaTYC5jetPSMBq0224A3Y6fo8sfRZEjCvJQHze4ZmJGAhtoPeiJ2uzxNLnyUB81oSML9naEYCFmIjYF62eWcjYF5kPL2enEL0eoZmI2AhNgLmZSNgeBYQ8C5BwLyeodkIWIiNgHnZCBieBQS8SxAwr2doNgIWYiNgXjYChmcBAe8SBMzrGZqNgIXYCJiXjYDhWUDAuwQB83qGZiNgITYC5mUjYHgWEPAuQcC8nqHZCFiIjYB52QgYngUEvEsQMK9naDYCFmIjYF42AoZnAQHvEgTM6xmajYCF2AiYl42A4VlAwLsEAfN6hmYjYCE2AuZlI2B4FhDwLkHAvJ6h2QhYiI2AedkIGJ4FBLxLEDCvZ2g2AhZiI2BeNgKGZwEB7xIEzOsZmo2AhdgImJeNgOFZQMC7BAHzeoZmI2AhNgLmZSNgeBYQ8C5BwLyeodkIWIiNgHnZCBieBQS8SxAwr2doNgIWYiNgXjYChmcBAe8SBMzrGZqNgIXYCJiXjYDhWUDAuwQB83qGZiNgITYC5mUjYHgWEPAuQcC8nqHZCFiIjYB52QgYngUEvEsQMK9naDYCFmIjYF42AoZnAQHvEgTM6xmajYCF2AiYl42A4VlAwLsEAfN6hmYjYCE2AuZlI2B4FhDwLkHAvJ6h2QhYiI2AedkIGJ4FBLxLEDCvZ2g2AhZiI2BeNgKGZwEB7xIEzOsZmo2AhdgImJeNgOFZQMC7BAHzeoZmI2AhNgLmZSNgeBYQ8C5BwLyeodkIWIiNgHnZCBieBQS8SxAwr2doNgIWYiNgXjYChmcBAe8SBMzrGZqNgIXYCJiXjYDhWUDAuwQB83qGZiNgITYC5mUjYHgWEPAuQcC8nqHZCFiIjYB52QgYngUEvEsQMK9naDYCFmIjYF42AoZnAQHvEgTM6xmajYCF2AiYl42A4VlAwLsEAfN6hmYjYCE2AuZlI2B4FhDwLkHAvJ6h2QhYiI2AedkIGJ4FBLxLELAanuvXr1+t4Zd3dHR06vO2kZGRyw68+cDAQH9nZ+cH9fWjdPmBxpxZtQQBqxKqt723t3fZ9PR0vRsxmoAVeA7w3PQiE7BMz6Ghoc7Jyck7Z2dnz+rr67t7amrqVl3fOD4+vqc5hQK3QnG7SUF66ejo6Pc3b97ct3379vuqliBgVUL1trOTqOe10GgsfZZpJjy9ngQs03NwcHCVgrVVYVqTbqJYXaxY7Zt7FKavvVGbTtSYd2dOu38YAaujVT2WnUS1Ue4ILHOl8sbhmeeUO4qAZUopYOsUsLMVp/PSTTZs2LBFn05XwC5sTqGvfVAxOkphO1VfW67rV2r8dVVLELAqoXrb2UnU8+IIzOdVNRPPzSqhetsJWKZXTsB0BHaVpnvuscce+5L777//2KOOOupfFadzFLFvL7QMAct8EDKHsZPIhMoYhmUGUo0heNbAyhhKwDKQ0pDGKcQhxSi9kWPeU4g6ArtIMTpGYy5pjPmo3tBxw/Dw8PjcZRpv9Ohvfk3bt/Kmg8wHImNYT0/PspmZmYyRDKkSwLJKqN52POt5VY1O/0OgffP+/W360FmyibGxsYmq2y3G9o7FWLS5po6uunT9jvQmDkXpHl2/paura9POnTtvb45Zt27dKdqWjsJW//SnPz36mGOOuTm1T0G7baH7zhGY95Hl/3J9nlj6LNNMeHo9OQKr4dl4G/0Vusn+t9ErTJfqa+fr+j5dvzpNpaOwd+jT6xWlvfp8jb6egrbgBwGrEqq3nZ1EPa+FRmPpsyRgXss0GwHzm9aekYDVJlvwBux0fZ5Y+iwJmNeSgPk9QzMSsBDbQW/ETtfniaXPkoB5LQmY3zM0IwELsREwL9u8sxEwLzKeXk9OIXo9Q7MRsBAbAfOyETA8Cwh4lyBgXs/QbAQsxEbAvGwEDM8CAt4lCJjXMzQbAQuxETAvGwHDs4CAdwkC5vUMzUbAQmwEzMtGwPAsIOBdgoB5PUOzEbAQGwHzshEwPAsIeJcgYF7P0GwELMRGwLxsBAzPAgLeJQiY1zM0GwELsREwLxsBw7OAgHcJAub1DM1GwEJsBMzLRsDwLCDgXYKAeT1DsxGwEBsB87IRMDwLCHiXIGBez9BsBCzERsC8bAQMzwIC3iXaJmD6rfFPFN1D+u3wDzT+NMpr9JeTZ1euXHnd0NDQrJe13mwErJ5X1Wh+XU+VUP52LPOtckbimaOUP6adAnazQvEH+mNn/66AXap4nat/P6LPXxwZGXlrPpl/JAHzmrKT8Hli6bNMM+Hp9WybgOnvdP1QoTpefPsUsO/p8wt1eUCXSR2VnehlrTcbAavnVTWanUSVUP52LPOtckbimaOUP6adAnbf9PT0U5YvX36yjrp2Kman6tRh5+Tk5P0KWG8+mX8kAfOaspPweWLps+QIzGuZZmubgOmo6zp9v8fp8gRdblS03jM4OPhrs7OzY7p+ip82f0YClm+VM5Kdbo5S3hgs85xyR+GZK5U3rm0CtmbNmqN19PVasczocp2itVdRe7Gun6Drw3lch2cUAfO6spPweWLps+QIzGvZbkdgK3Tq8ELF4jn6xpfPpVTAXuqnzZ+RgOVb5Yxkp5ujlDcGyzyn3FF45krljWubIzAdbd0oki5dPqXLQwcEbFse1+EZRcC8ruwkfJ5Y+iw5AvNattURmN6F+GOFok9HW+kU4pL6IGDeh4Odrs8TS58lAfNatlvAPqM3bFysnwP7pp/x0GYkYIfmd+Ct2en6PLH0WRIwr2VbBWzt2rVP6urq+oxeB0s/0HzvAacQ3+OnzZ+RgOVb5Yxkp5ujlDcGyzyn3FF45krljWub18B0CvEakbxCsfgXfZ77Gtg+nVZ8TR7X4RlFwLyu7CR8nlj6LDkC81q21RGY3sQxvXfv3pN37dp1j5/x0GYkYIfmxylEr9/c2QiY1xZPr2c7HYF9o7u7+6zt27ff5yU89NkI2KEbstP1GjZnY4frdcXT69lOAXuHQrFWr4FdNc9rYP/kZa03GwGr51U1mp1ElVD+dizzrXJG4pmjlD+mbQKmU4jfOQhLeg3sF/PJ/CMJmNeUnYTPE0ufZZoJT69n2wTMy+adjYB5PdlJ+Dyx9FkSMK9lmo2A+U1rz0jAapMteAN2uj5PLH2WBMxrScD8nqEZCViI7aA3Yqfr88TSZ0nAvJYEzO8ZmpGAhdgImJdt3tkImBcZT68npxC9nqHZCFiIjYB52QgYngUEvEsQMK9naDYCFmIjYF42AoZnAQHvEgTM6xmajYCF2AiYl42A4VlAwLsEAfN6hmYjYCE2AuZlI2B4FhDwLkHAanjqh6FXa/jl+m0enfq8bWRk5LL5bj44OPh8Rekm/fmWQf35ll1VSxCwKqF623mhvJ7XQqOx9FmmmfD0ehKwTM+hoaHOycnJOxWls/r6+u6empq6Vdc3jo+P75k7RWPc5/S1hxSmjxGwTGDjMHYSPkwsfZYEzGuZZiNgmaY6qlqlYG3Vr51ak26io7GLdSS278CjMH39Ldo8o23P1/hPE7BMYOMwdro+TCx9lgTMa0nAangqYOsUpLMVsPPSzfT3xbbo0+kK2IXNaTZt2nSS/mTL3+lrZypkH9cR2G4CVgPZNJSdrgmSU14+yMZMPDe9pByBZXrmBExRG1G0/kKRuyUFrLOz89PDw8PjVUvwGliVUL3t7CTqeS00GkufJUdgXkuOwGp4Nk4hDilO6Y0c855CVLTuakzZoc99ujyoy3m6zT/MXWpgYKBfcetvfk2R2zo9PV3j3jB0IYGenp5lMzMzIBkEsDQgzpkCT69n+h8s7Zsvac6qs2QTOus14V3FM1uKwqJ9KE5dWvyO9CYOxSf9Vedburq6Nu3cufP2+e4UpxAX7aHinV5Geo7AjJiaCk+vJ6cQa3g23kZ/hW6y/230OrK6VF87X9fT3xS7eu5UOp34Md7EUQPXOJSdhA8TS59lmglPrycB83qGZuM1sBDbQW/ETsLniaXPkoB5LdNsBMxvWntGAlabbMEbsNP1eWLpsyRgXksC5vcMzUjAQmwcgXnZ5p2NgHmR8fR6cgTm9QzNRsBCbATMy0bA8Cwg4F2CgHk9Q7MRsBAbAfOyETA8Cwh4lyBgXs/QbAQsxEbAvGwEDM8CAt4lCJjXMzQbAQuxETAvGwHDs4CAdwkC5vUMzUbAQmwEzMtGwPAsIOBdgoB5PUOzEbAQGwHzshEwPAsIeJcgYF7P0GwELMRGwLxsBAzPAgLeJQiY1zM0GwELsREwLxsBw7OAgHcJAub1DM1GwEJsBMzLRsDwLCDgXYKAeT1DsxGwEBsB87IRMDwLCHiXIGBez9BsBCzERsC8bAQMzwIC3iUImNczNBsBC7ERMC8bAcOzgIB3CQLm9QzNRsBCbATMy0bA8Cwg4F2CgHk9Q7MRsBAbAfOyETA8Cwh4lyBgXs/QbAQsxEbAvGwEDM8CAt4lCJjXMzQbAQuxETAvGwHDs4CAdwkC5vUMzUbAQmwEzMtGwPAsIOBdgoB5PUOzEbAQGwHzshEwPAsIeJcgYF7P0GwELMRGwLxsBAzPAgLeJQiY1zM0GwELsREwLxsBw7OAgHcJAub1DM1GwEJsBMzLRsDwLCDgXYKAeT1DsxGwEBsB87IRMDwLCHiXIGBez9BsBCzERsC8bAQMzwIC3iUImNczNBsBC7ERMC8bAcOzgIB3CQLm9QzNRsBCbATMy0bA8Cwg4F2CgHk9Q7MRsBAbAfOyETA8Cwh4lyBgXs/QbAQsxEbAvGwEDM8CAt4lCJjXMzQbAQuxETAvGwHDs4CAdwkC5vUMzUbAQmwEzMtGwPAsIOBdgoB5PUOzEbAQGwHzshEwPAsIeJcgYF7P0GwELMRGwLxsBAzPAgLeJQiY1zM0GwELsREwLxsBw7OAgHcJAub1DM1GwEJsBMzLRsDwLCDgXYKA1fBcv379ag2/vKOjo1Oft42MjFw29+bavlnbLkpfU5Sm9emNo6Oj36pagoBVCdXb3tvbu2x6OvHzcagCWB6q4GNvj6fXk4Bleg4NDXVOTk7eOTs7e1ZfX9/dU1NTt+r6xvHx8T3NKQYHB1fpa7crWven2ClmQ4rcqqolCFiVUL3t7CTqeS00GkufZZoJT68nAcv0bMRpq+K0Jt1EgbpYgdp34FFYc7pXvvKVj+vp6fmWtv9C1RIErEqo3nZ2EvW8CJjPq2omnptVQvW2E7BMLwVsnY6uzlbAzks32bBhwxZ9Ol2BunC+KbT9HQrTyc3xCy1DwDIfhMxh7CQyoTKGYZmBVGMInjWwMoYSsAykNKROwDT2TEXpQ93d3Wds3779h1VLELAqoXrb2UnU8+IIzOdVNRPPzSqhetsJWKZX4xTikI6o0hs5DnoKcWBg4DSdWhzv6upavXPnzv+cb3qN6e/s7OxvbhseHt7Kmw4yH4iMYTp1u2xmZiZjJEOqBLCsEqq3Hc96XlWj0/8QaN98SXOczpJNjI2NTVTdbjG2dyzGos019ZpXl67fkd7Eofjco+u3KFKbFKnb54x5mq5/Qdt/R1H6Su795QgsVypvHP+Xm+eUMwrLHKX8MXjmW+WM5AgsR6kxpvE2+iv0z/1vo9fR2KX62vm6vk/Xr9brXtcoRmt1BPZdfa1D1x/R10+vWoKAVQnV285Oop7XQqOx9FmmmfD0ehIwr2doNgIWYjvojdhJ+Dyx9FkSMK9lmo2A+U1rz0jAapMteAN2uj5PLH2WBMxrScD8nqEZCViIjSMwL9u8sxEwLzKeXk+OwLyeodkIWIiNgHnZCBieBQS8SxAwr2doNgIWYiNgXjYChmcBAe8SBMzrGZqNgIXYCJiXjYDhWUDAuwQB83qGZiNgITYC5mUjYHgWEPAuQcC8nqHZCFiIjYB52QgYngUEvEsQMK9naDYCFmIjYF42AoZnAQHvEgTM6xmajYCF2AiYl42A4VlAwLsEAfN6hmYjYCE2AuZlI2B4FhDwLkHAvJ6h2QhYiI2AedkIGJ4FBLxLEDCvZ2g2AhZiI2BeNgKGZwEB7xIEzOsZmo2AhdgImJeNgOFZQMC7BAHzeoZmI2AhNgLmZSNgeBYQ8C5BwLyeodkIWIiNgHnZCBieBQS8SxAwr2doNgIWYiNgXjYChmcBAe8SBMzrGZqNgIXYCJiXjYDhWUDAuwQB83qGZiNgITYC5mUjYHgWEPAuQcC8nqHZCFiIjYB52QgYngUEvEsQMK9naDYCFmIjYF42AoZnAQHvEgTM6xmajYCF2AiYl42A4VlAwLsEAfN6hmYjYCE2AuZlI2B4FhDwLkHAvJ6h2QhYiI2AedkIGJ4FBLxLEDCvZ2g2AhZiI2BeNgKGZwEB7xIEzOsZmo2AhdgImJeNgOFZQMC7BAHzeoZmI2AhNgLmZSNgeBYQ8C5BwLyeodkIWIiNgHnZCBieBQS8SxAwr2doNgIWYiNgXjYChmcBAe8SBMzrGZqNgIXYCJiXjYDhWUDAuwQB83qGZiNgITYC5mUjYHgWEPAuQcC8nqHZCFiIjYB52QgYngUEvEsQMK9naDYCFmIjYF42AoZnAQHvEgTM6xmajYCF2AiYl42A4VlAwLsEAfN6hmYjYCE2AuZlI2B4FhDwLkHAvJ6h2QhYiI2AedkIGJ4FBLxLEDCvZ2g2AhZiI2BeNgKGZwEB7xIErIbn+vXrV2v45R0dHZ36vG1kZOSyA2++YcOGKxWkNfr6g7q8bnR09OtVSxCwKqF623t7e5dNT0/XuxGjCViB5wDPTS8yAcv0HBoa6pycnLxzdnb2rL6+vrunpqZu1fWN4+Pje5pTDAwMrFHcLlC0XqbrL+js7LxCkVtVtQQBqxKqt52dRD2vhUZj6bNMM+Hp9SRgmZ6Dg4OrFKytilM6ulqmo7GLFat9c4/CdPT1EcXoixoznMbo37d3dXX179ix496FliFgmQ9C5jB2EplQGcOwzECqMQTPGlgZQwlYBlIaooCtU8DOVpzOa8Rpiz6froBd2JxCwdqtMe8bGxu7qTHm84rcO4eHh79GwDKhDcPYSRgQG1Ng6bPkCMxrmWYjYJmmBCwTagkMY6frexCw9FkSMK8lAavh2TiFOKQjsPRGjqxTiDrNuKe7u/vFB55C1Otj/Xp9rL+5vI7Qtta4KwxFAAEEEGgIaN98SRNDZ8AmdAZsYinidCzmnVKMurT+HelNHIrPPbp+i17f2rRz587bm/dLkOdo+5vTmzhS8PTa1uU5b+JYzO/rSFxbp3KH5D50JH5vpb8nLL3ieLav56IGrHHUlY6+rtBl/9voFapLFbbzdX2frl/dGPMhfV6t174e1OX1Va9/eR9OZksC7CR8zwMsfZY8N72Wrea56AHz8zPj4RBgp+tTxdJn2Wo7XO93fnhma6XnJwE7PM+BI27W9BrjUj0P3mrYWHofMTzb15OAeR97ZkMAAQQQKCRAwApBswwCCCCAgFeAgHk9mQ0BBBBAoJAAASsE3arL6B2h2/TOz5frxxfu1btCT2vV72Mp3O+1a9c+VT8mcq08nyzPWX2+Rj+acOVSuG+teB/WrFlz9PLly78kxx55dut7GNNz9Gc/v9SK39Ni3+f0+2lvu+22r8rze7J8xWLfn6r1CViVUJtvV8DOEMEDulxLwA7tySDLEzTDCemvKej6cl3/N/2M42/P/eXVh7ZC+9363HPP/fndu3f/JP1MqUL2Ze14L5TvLe0n4fmO9Q7Et2qm58rxOALmMWWWRRZYt27d0/WD5rsJmPeB0M7i7xWwq/Tuzi94Z26/2VLIjjnmmC/pefpG/Zzore0ncOjfceMMwccVr/fqfwbeRsAO3ZQZloAAAfM/CBs3bnxG+hU92ln8mnYU6QiXj4BA45TXv+mmz5Llh2X5rsA03EQCOood1af36rJCl7cTMJ4WR4QAAfM+jI3Thylef6qjr+u9s7fnbFu2bDnu4Ycf/nt99+lvB97Wngrx71rPyZfp1mtkd0Hj98q+Xa/PnhufscwteQ2sjHNLr0LAfA9ff39/9xOf+MRPa8YbtLNIv0KND5OATsn+if6n4EG5fol/zrUAAAW6SURBVMA0ZdtMI7s/l136c1aP6vJzuvTqskuWr1nKCARsKT86S+S+pdNde/fuTa+BPXuJ3KWWvRv6P91rdefvk+XbWvabWCJ3fPPmzX2P6EOW98v15/S6zWd1uVSvgX1midzFlrwbsnyx7jinEFvy0eNOP0ZAT+bt2in06//OnqAN6a9gp7+g/XGY6gvorym8SK97fUm3/Fb6y+P6nP5w+B/L8x/rz8Yt9Nx8thz/VobpF4Gny7As02s4fByCAAE7BDxuigACCCCAQI4ApxBzlBiDAAIIILDkBAjYkntIuEMIIIAAAjkCBCxHiTEIIIAAAktOgIAtuYeEO4QAAgggkCNAwHKUGIMAAgggsOQECNiSe0i4QwgggAACOQIELEeJMUe8gH4TwX/oZ4repB+CTT+nVfRDPyj+C/r5sEn96p70O+jSz4fxgQACGQIELAOJIe0joB/i3Krv9lmH81foaI3vaI3f1Rr/1D6yfKcI+AUImN+UGVtY4FADlv4ulcK0dyECAtbCTxDu+pISIGBL6uHgziyWQCMqF2j9XY37MKNTit/Wab3nNH7T+Qf073O0LcXpE/r6u9PpPp16fK1+ldHv6/ot2v4aXf8rnQ78hP4u1TX69683/vLyjT09PW/65Cc/+ePG70J8tbb9tDHXe/R7Jkf1l5q/s3Llym79eZBZ/V2mE/Xvj2j7GRr3v5rj/YriR9P9agR2ZeP2r9K272qt1+rU59fSdt2fi/S1P9T24/TP7zdOi35xsVxZF4HDKUDADqcuc7eMgMJwl+7s7+nym7o85hSitn1KX7vn2GOPfdvMzMzyRx99NP02+W2K2DUpYLr+UUXjLaeeeupHbr755qNWrFjxVI15xn333ffPj3/841d0d3ePa8zXmr/AN8VS0XmDorM/LI3f9n+Xbn9UCpjm/JLm+8bxxx//th/96EcrFcTP6d8b9KdXJhoBu0i3f5Vuf6PGvlfbztTcv6HX0k5WDD+v9Z6/Y8eOezX2aZo+HRGmU5Z8IHDECRCwI+4h5RuKCDRP6x0YMB0NPUlB+K/p6ekVN9xww8ONo6CN+nyewvCSRsAuUcyecbB19feVfltHQu/W+Oc2bv+Y18DmBmzPnj1PUbDueuihh1bs3r37J2l8+lMX+nSC1nhDI2Av0lwvTdsUrV/V+K9q27G6/iwF7MsK2qtTPCcmJtKfxuADgSNWgIAdsQ8t31gdgYMFTL9B/vkKxFc01/1pPoWoQ4FI/938lyJyWuMU4u/pejpy2//RiN4VGpe+tlyXLl2mNObpVQGbnJx8npbYrSA9uTmf7tv5+tpafe3sA1+jO/DoTdtTXN+sy0pdPqugvX3Xrl331LFgLAKtIkDAWuWR4n4eVoE5ATtDC/1S812I+voJisd/Kh4pRP/vLe6NI7Df1fbfmhOc9HpV+qOAb0p/q6pxBHaVrqdTeul1rP2nK5vvQpwboW9+85sn6YjvO0cfffTjrrvuugcb49+r+3DinCOwn53iPDBgc+5Dur9X63aP6HbpNCcfCBxxAgTsiHtI+YYiAnMC9sva6b9aO/30R/32B6vxGth39frXn1x//fUPKBrPVGSemn5m7CABG9bNfqTXtN6oI6oTdT39+2lzAnaT/v2x5hszUoTmvolD6/2z7sM3dNryj/S626/o+o16zWtTes1sviOw5m11+vGXdNSXTkF+uWHw1/rcqXVeHzHhNggsdQECttQfIe5fEYE5b+L4uha8XpdTdblLO//nNd6FeKlCcq6+tlyRuEvXL1PkRg4SsHT67lqNOVmfv63LdbrNW+cE7BX62lW6pD/b/mcKzrgC9bM3cWzatOkknfr7G93mhdo+pXnen94w0ojpY35Obe4RmGKZ7nM6+jslHXnp9imU6bW6/y6CyCIIFBYgYIXBWQ4BBBBAwCNAwDyOzIIAAgggUFiAgBUGZzkEEEAAAY/A/wHOkiVrgEs2xgAAAABJRU5ErkJggg==\">"
      ],
      "text/plain": [
       "<IPython.core.display.HTML object>"
      ]
     },
     "metadata": {},
     "output_type": "display_data"
    },
    {
     "data": {
      "text/plain": [
       "<matplotlib.text.Text at 0x7fea6b0b5f28>"
      ]
     },
     "execution_count": 55,
     "metadata": {},
     "output_type": "execute_result"
    },
    {
     "data": {
      "text/plain": [
       "<matplotlib.text.Text at 0x7fea6b135710>"
      ]
     },
     "execution_count": 55,
     "metadata": {},
     "output_type": "execute_result"
    },
    {
     "data": {
      "text/plain": [
       "([<matplotlib.axis.XTick at 0x7fea6b1769e8>,\n",
       "  <matplotlib.axis.XTick at 0x7fea6b176e80>,\n",
       "  <matplotlib.axis.XTick at 0x7fea6b64c438>,\n",
       "  <matplotlib.axis.XTick at 0x7fea6b459f28>],\n",
       " <a list of 4 Text xticklabel objects>)"
      ]
     },
     "execution_count": 55,
     "metadata": {},
     "output_type": "execute_result"
    }
   ],
   "source": [
    "# preparing the plot\n",
    "data = pd.DataFrame()\n",
    "x = range(1,NUMBER_OF_PINGS+1)\n",
    "\n",
    "plots = dict()\n",
    "fig, ax = plt.subplots()\n",
    "plt.xlabel('iterations')\n",
    "plt.ylabel('ms')\n",
    "plt.xticks(x)"
   ]
  },
  {
   "cell_type": "code",
   "execution_count": 56,
   "metadata": {
    "collapsed": true
   },
   "outputs": [],
   "source": [
    "# preparing a container to put in created checkbox per domain\n",
    "checkboxes = []\n",
    "cb_container = widgets.HBox()\n",
    "display(cb_container)\n",
    "\n",
    "# add button that updates the graph based on the checkboxes\n",
    "button = widgets.Button(description=\"Update the graph\")\n"
   ]
  },
  {
   "cell_type": "code",
   "execution_count": 57,
   "metadata": {
    "collapsed": false
   },
   "outputs": [],
   "source": [
    "# function to deal with the checkbox update button \n",
    "# function to deal with the added domain name\n",
    "def handle_submit(sender):\n",
    "    # a part of the magic inside python : pinging\n",
    "    res = !ping -c {NUMBER_OF_PINGS} {text.value}\n",
    "    hits = res.grep('64 bytes').fields(-2).s.replace(\"time=\",\"\").split()\n",
    "    \n",
    "    if len(hits) == 0:\n",
    "        print(\"Domain gave error on pinging\")\n",
    "    else:\n",
    "        # rebuild plot based on ping result\n",
    "        data = hits\n",
    "        data = data.astype(float)\n",
    "        plots, = ax.plot(x, data, label=text.value)\n",
    "        plt.legend()\n",
    "        plt.draw()\n",
    "\n",
    "        # add a new checkbox for the new domain\n",
    "        checkboxes.append(widgets.Checkbox(description = text.value, value=True, width=90))\n",
    "        cb_container.children=[i for i in checkboxes]\n",
    "\n",
    "        if len(checkboxes) == 1:\n",
    "            display(button)\n"
   ]
  },
  {
   "cell_type": "code",
   "execution_count": 58,
   "metadata": {
    "collapsed": true
   },
   "outputs": [],
   "source": [
    "# function to deal with the checkbox update button \n",
    "def on_button_clicked(b):\n",
    "    for c in cb_container.children:\n",
    "        if not c.value:\n",
    "            plots.set_visible(False)\n",
    "        else:\n",
    "            plots.set_visible(True)\n",
    "       \n",
    "    plt.legend()\n",
    "    plt.draw()\n",
    "    button.on_click(on_button_clicked)"
   ]
  },
  {
   "cell_type": "code",
   "execution_count": 59,
   "metadata": {
    "collapsed": false
   },
   "outputs": [],
   "source": [
    "text.on_submit(handle_submit)\n",
    "\n",
    "plt.show()"
   ]
  }
 ],
 "metadata": {
  "kernelspec": {
   "display_name": "Python [default]",
   "language": "python",
   "name": "python3"
  },
  "language_info": {
   "codemirror_mode": {
    "name": "ipython",
    "version": 3
   },
   "file_extension": ".py",
   "mimetype": "text/x-python",
   "name": "python",
   "nbconvert_exporter": "python",
   "pygments_lexer": "ipython3",
   "version": "3.5.2"
  },
  "widgets": {
   "state": {
    "0fd39317c2034845acb3b3193fc4a770": {
     "views": [
      {
       "cell_index": 15
      }
     ]
    },
    "16f5ce031ec648849838e268c36b6513": {
     "views": [
      {
       "cell_index": 9
      }
     ]
    },
    "17b96a043c904dcb9b299eafdf08309b": {
     "views": [
      {
       "cell_index": 10
      }
     ]
    },
    "2f30c4b5d6bf4368a89269551b661c90": {
     "views": [
      {
       "cell_index": 7
      }
     ]
    },
    "520d86255f6c4ffb857de70a1fe23d43": {
     "views": [
      {
       "cell_index": 11
      }
     ]
    },
    "84d7475b58a346b4b530845a41890fe0": {
     "views": [
      {
       "cell_index": 17
      }
     ]
    },
    "8818529ae6f34a87a51280bbbbf06ba7": {
     "views": [
      {
       "cell_index": 6
      }
     ]
    },
    "8fb6b054ed9d4b25bbc539d1d03b66d1": {
     "views": [
      {
       "cell_index": 5
      }
     ]
    },
    "c25679943ddc4ba494164cc9bbf2c99e": {
     "views": [
      {
       "cell_index": 3
      }
     ]
    },
    "c8c4edcc3d0848f791987705a1ed70e6": {
     "views": [
      {
       "cell_index": 14
      }
     ]
    },
    "f1d0972b367a4a36be57153b03d8c268": {
     "views": [
      {
       "cell_index": 3
      }
     ]
    }
   },
   "version": "1.2.0"
  }
 },
 "nbformat": 4,
 "nbformat_minor": 1
}
