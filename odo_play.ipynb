{
 "cells": [
  {
   "cell_type": "markdown",
   "metadata": {},
   "source": [
    "http://docs.sqlalchemy.org/en/latest/_modules/examples/performance/bulk_inserts.html"
   ]
  },
  {
   "cell_type": "code",
   "execution_count": 1,
   "metadata": {
    "collapsed": false
   },
   "outputs": [],
   "source": [
    "from IPython.core.interactiveshell import InteractiveShell\n",
    "InteractiveShell.ast_node_interactivity = \"all\"\n",
    "\n",
    "# Reload all modules imported with %aimport\n",
    "%load_ext autoreload\n",
    "%autoreload 1"
   ]
  },
  {
   "cell_type": "code",
   "execution_count": 2,
   "metadata": {
    "collapsed": false
   },
   "outputs": [],
   "source": [
    "import pandas as pd\n",
    "idx = pd.IndexSlice"
   ]
  },
  {
   "cell_type": "code",
   "execution_count": 3,
   "metadata": {
    "collapsed": true
   },
   "outputs": [],
   "source": [
    "from odo import *"
   ]
  },
  {
   "cell_type": "code",
   "execution_count": 4,
   "metadata": {
    "collapsed": true
   },
   "outputs": [],
   "source": [
    "from sqlalchemy.ext.declarative import declarative_base\n",
    "from sqlalchemy import Column, Integer, String, create_engine, bindparam\n",
    "from sqlalchemy.orm import Session\n",
    "from sqlalchemy.exc import SQLAlchemyError\n",
    "\n",
    "Base = declarative_base()"
   ]
  },
  {
   "cell_type": "code",
   "execution_count": 5,
   "metadata": {
    "collapsed": true
   },
   "outputs": [],
   "source": [
    "dburl = 'sqlite:////tmp/foo.db'"
   ]
  },
  {
   "cell_type": "code",
   "execution_count": 6,
   "metadata": {
    "collapsed": false
   },
   "outputs": [],
   "source": [
    "from sqlalchemy.ext.declarative import declarative_base\n",
    "from sqlalchemy import Column, Integer, String, Date, Float,create_engine, bindparam\n",
    "from sqlalchemy.orm import Session\n"
   ]
  },
  {
   "cell_type": "code",
   "execution_count": 7,
   "metadata": {
    "collapsed": false
   },
   "outputs": [],
   "source": [
    "Base = declarative_base()\n",
    "\n",
    "class Price(Base):\n",
    "    __tablename__ = \"prices\"\n",
    "    Ticker = Column(String(255), primary_key=True)\n",
    "    Date   = Column(Date, primary_key=True)\n",
    "    AdjClose = Column(Float)\n",
    "    Close   = Column(Float)\n",
    "    High    = Column(Float)\n",
    "    Low     = Column(Float)\n",
    "    Open    = Column(Float)\n",
    "    Volume  = Column(Float)\n",
    "    "
   ]
  },
  {
   "cell_type": "code",
   "execution_count": 8,
   "metadata": {
    "collapsed": true
   },
   "outputs": [],
   "source": [
    "def setup_database(dburl, echo, num):\n",
    "    engine = create_engine(dburl, echo=echo)\n",
    "    Base.metadata.drop_all(engine)\n",
    "    Base.metadata.create_all(engine)\n",
    "    \n",
    "    return engine\n"
   ]
  },
  {
   "cell_type": "code",
   "execution_count": 9,
   "metadata": {
    "collapsed": false
   },
   "outputs": [
    {
     "name": "stdout",
     "output_type": "stream",
     "text": [
      "2018-04-05 12:46:02,896 INFO sqlalchemy.engine.base.Engine SELECT CAST('test plain returns' AS VARCHAR(60)) AS anon_1\n",
      "2018-04-05 12:46:02,897 INFO sqlalchemy.engine.base.Engine ()\n",
      "2018-04-05 12:46:02,899 INFO sqlalchemy.engine.base.Engine SELECT CAST('test unicode returns' AS VARCHAR(60)) AS anon_1\n",
      "2018-04-05 12:46:02,900 INFO sqlalchemy.engine.base.Engine ()\n",
      "2018-04-05 12:46:02,901 INFO sqlalchemy.engine.base.Engine PRAGMA table_info(\"prices\")\n",
      "2018-04-05 12:46:02,902 INFO sqlalchemy.engine.base.Engine ()\n",
      "2018-04-05 12:46:02,904 INFO sqlalchemy.engine.base.Engine \n",
      "DROP TABLE prices\n",
      "2018-04-05 12:46:02,905 INFO sqlalchemy.engine.base.Engine ()\n",
      "2018-04-05 12:46:02,916 INFO sqlalchemy.engine.base.Engine COMMIT\n",
      "2018-04-05 12:46:02,917 INFO sqlalchemy.engine.base.Engine PRAGMA table_info(\"prices\")\n",
      "2018-04-05 12:46:02,917 INFO sqlalchemy.engine.base.Engine ()\n",
      "2018-04-05 12:46:02,919 INFO sqlalchemy.engine.base.Engine \n",
      "CREATE TABLE prices (\n",
      "\t\"Ticker\" VARCHAR(255) NOT NULL, \n",
      "\t\"Date\" DATE NOT NULL, \n",
      "\t\"AdjClose\" FLOAT, \n",
      "\t\"Close\" FLOAT, \n",
      "\t\"High\" FLOAT, \n",
      "\t\"Low\" FLOAT, \n",
      "\t\"Open\" FLOAT, \n",
      "\t\"Volume\" FLOAT, \n",
      "\tPRIMARY KEY (\"Ticker\", \"Date\")\n",
      ")\n",
      "\n",
      "\n",
      "2018-04-05 12:46:02,919 INFO sqlalchemy.engine.base.Engine ()\n",
      "2018-04-05 12:46:02,924 INFO sqlalchemy.engine.base.Engine COMMIT\n"
     ]
    }
   ],
   "source": [
    "engine = setup_database(dburl, True, 0)"
   ]
  },
  {
   "cell_type": "code",
   "execution_count": 10,
   "metadata": {
    "collapsed": false
   },
   "outputs": [],
   "source": [
    "dfs = []\n",
    "\n",
    "for t in (\"a\", \"b\"):\n",
    "    df = pd.read_csv(\"/tmp/\" + t + \".csv\")\n",
    "    df[\"Ticker\"] = t\n",
    "    df = df.rename( columns={ \"Adj Close\": \"AdjClose\"} )\n",
    "    \n",
    "    df[\"Date\"] = pd.to_datetime( df[\"Date\"])\n",
    "    \n",
    "    dfs.append(df)              \n",
    "                         \n",
    "df_big_thin = pd.concat( dfs )"
   ]
  },
  {
   "cell_type": "code",
   "execution_count": 11,
   "metadata": {
    "collapsed": false
   },
   "outputs": [
    {
     "data": {
      "text/plain": [
       "(2883, 8)"
      ]
     },
     "execution_count": 11,
     "metadata": {},
     "output_type": "execute_result"
    }
   ],
   "source": [
    "df_big_thin.shape"
   ]
  },
  {
   "cell_type": "code",
   "execution_count": 12,
   "metadata": {
    "collapsed": false
   },
   "outputs": [],
   "source": [
    "from sqlalchemy.sql import and_, or_, not_, func\n",
    "\n",
    "\n"
   ]
  },
  {
   "cell_type": "code",
   "execution_count": 13,
   "metadata": {
    "collapsed": false
   },
   "outputs": [
    {
     "name": "stdout",
     "output_type": "stream",
     "text": [
      "2018-04-05 12:46:03,236 INFO sqlalchemy.engine.base.Engine BEGIN (implicit)\n",
      "2018-04-05 12:46:03,329 INFO sqlalchemy.engine.base.Engine INSERT INTO prices (\"Ticker\", \"Date\", \"AdjClose\", \"Close\", \"High\", \"Low\", \"Open\", \"Volume\") VALUES (?, ?, ?, ?, ?, ?, ?, ?)\n",
      "2018-04-05 12:46:03,331 INFO sqlalchemy.engine.base.Engine (('a', '2013-02-01', 29.858995, 31.01, 31.74, 30.469998999999998, 31.5, 66789100.0), ('a', '2013-02-04', 29.868622, 31.02, 31.99, 30.76, 31.09, 7695400.0), ('a', '2013-02-05', 29.887882, 31.040001, 31.98, 30.85, 31.25, 5013200.0), ('a', '2013-02-06', 29.878252000000003, 31.030001000000002, 31.43, 30.75, 30.98, 2126100.0), ('a', '2013-02-07', 30.812247999999997, 32.0, 32.73, 31.0, 31.0, 3800800.0), ('a', '2013-02-08', 31.823278000000002, 33.049999, 33.48, 32.299999, 32.310001, 2599300.0), ('a', '2013-02-11', 32.025482000000004, 33.259997999999996, 33.5, 32.880001, 33.060001, 1487200.0), ('a', '2013-02-12', 32.487659, 33.740002000000004, 34.0, 33.150002, 33.400002, 1637300.0)  ... displaying 10 of 2883 total bound parameter sets ...  ('b', '2018-04-02', 3.55, 3.55, 3.65, 3.5, 3.64, 9701500.0), ('b', '2018-04-03', 3.51, 3.51, 3.58, 3.5, 3.57, 2563027.0))\n",
      "2018-04-05 12:46:03,407 INFO sqlalchemy.engine.base.Engine COMMIT\n"
     ]
    }
   ],
   "source": [
    "session_add = Session(bind=engine)\n",
    "rows = df_big_thin.to_dict(\"records\")\n",
    "\n",
    "for row in rows:\n",
    "    rec = Price(**row)\n",
    "    \n",
    "    session_add.add(rec)\n",
    "\n",
    "try:\n",
    "    session_add.flush()\n",
    "except SQLAlchemyError as e:\n",
    "    print(\"Flush error: {}\".format(e))\n",
    "    \n",
    "session_add.commit()    "
   ]
  },
  {
   "cell_type": "code",
   "execution_count": 14,
   "metadata": {
    "collapsed": false
   },
   "outputs": [],
   "source": [
    "rsession = Session(bind=engine)"
   ]
  },
  {
   "cell_type": "markdown",
   "metadata": {},
   "source": [
    "## Find max date per ticker"
   ]
  },
  {
   "cell_type": "code",
   "execution_count": 15,
   "metadata": {
    "collapsed": false
   },
   "outputs": [
    {
     "name": "stdout",
     "output_type": "stream",
     "text": [
      "2018-04-05 12:46:03,527 INFO sqlalchemy.engine.base.Engine BEGIN (implicit)\n",
      "2018-04-05 12:46:03,531 INFO sqlalchemy.engine.base.Engine SELECT prices.\"Ticker\" AS \"prices_Ticker\", prices.\"Date\" AS \"prices_Date\", prices.\"AdjClose\" AS \"prices_AdjClose\", prices.\"Close\" AS \"prices_Close\", prices.\"High\" AS \"prices_High\", prices.\"Low\" AS \"prices_Low\", prices.\"Open\" AS \"prices_Open\", prices.\"Volume\" AS \"prices_Volume\", max(prices.\"Date\") AS max_date \n",
      "FROM prices GROUP BY prices.\"Ticker\"\n",
      "2018-04-05 12:46:03,532 INFO sqlalchemy.engine.base.Engine ()\n",
      "a 2018-04-03\n",
      "b 2018-04-03\n"
     ]
    },
    {
     "data": {
      "text/plain": [
       "{'a': datetime.date(2018, 4, 3), 'b': datetime.date(2018, 4, 3)}"
      ]
     },
     "execution_count": 15,
     "metadata": {},
     "output_type": "execute_result"
    }
   ],
   "source": [
    "# q = session_add.query(Price).filter( and_(Price.Ticker==\"a\", Price.Date>=\"2018-03-27\") )\n",
    "q = rsession.query(Price, Price.Ticker, func.max(Price.Date).label(\"max_date\")).group_by(Price.Ticker)\n",
    "l = q.all()\n",
    "maxDate = {}\n",
    "for a in l:\n",
    "    maxDate[a.Ticker] = a.max_date\n",
    "    print(a.Ticker, a.max_date)\n",
    "\n",
    "maxDate"
   ]
  },
  {
   "cell_type": "code",
   "execution_count": 16,
   "metadata": {
    "collapsed": false
   },
   "outputs": [
    {
     "ename": "FileNotFoundError",
     "evalue": "File b'/tmp/a_up.csv' does not exist",
     "output_type": "error",
     "traceback": [
      "\u001b[0;31m---------------------------------------------------------------------------\u001b[0m",
      "\u001b[0;31mFileNotFoundError\u001b[0m                         Traceback (most recent call last)",
      "\u001b[0;32m<ipython-input-16-ad7bab52df68>\u001b[0m in \u001b[0;36m<module>\u001b[0;34m()\u001b[0m\n\u001b[1;32m      1\u001b[0m \u001b[0mticker_up\u001b[0m \u001b[0;34m=\u001b[0m \u001b[0;34m\"a\"\u001b[0m\u001b[0;34m\u001b[0m\u001b[0m\n\u001b[0;32m----> 2\u001b[0;31m \u001b[0mdf_up\u001b[0m \u001b[0;34m=\u001b[0m \u001b[0mpd\u001b[0m\u001b[0;34m.\u001b[0m\u001b[0mread_csv\u001b[0m\u001b[0;34m(\u001b[0m\u001b[0;34m\"/tmp/\"\u001b[0m \u001b[0;34m+\u001b[0m \u001b[0mticker_up\u001b[0m \u001b[0;34m+\u001b[0m \u001b[0;34m\"_up.csv\"\u001b[0m\u001b[0;34m)\u001b[0m\u001b[0;34m\u001b[0m\u001b[0m\n\u001b[0m",
      "\u001b[0;32m/home/ubuntu/anaconda3/lib/python3.6/site-packages/pandas/io/parsers.py\u001b[0m in \u001b[0;36mparser_f\u001b[0;34m(filepath_or_buffer, sep, delimiter, header, names, index_col, usecols, squeeze, prefix, mangle_dupe_cols, dtype, engine, converters, true_values, false_values, skipinitialspace, skiprows, nrows, na_values, keep_default_na, na_filter, verbose, skip_blank_lines, parse_dates, infer_datetime_format, keep_date_col, date_parser, dayfirst, iterator, chunksize, compression, thousands, decimal, lineterminator, quotechar, quoting, escapechar, comment, encoding, dialect, tupleize_cols, error_bad_lines, warn_bad_lines, skipfooter, skip_footer, doublequote, delim_whitespace, as_recarray, compact_ints, use_unsigned, low_memory, buffer_lines, memory_map, float_precision)\u001b[0m\n\u001b[1;32m    644\u001b[0m                     skip_blank_lines=skip_blank_lines)\n\u001b[1;32m    645\u001b[0m \u001b[0;34m\u001b[0m\u001b[0m\n\u001b[0;32m--> 646\u001b[0;31m         \u001b[0;32mreturn\u001b[0m \u001b[0m_read\u001b[0m\u001b[0;34m(\u001b[0m\u001b[0mfilepath_or_buffer\u001b[0m\u001b[0;34m,\u001b[0m \u001b[0mkwds\u001b[0m\u001b[0;34m)\u001b[0m\u001b[0;34m\u001b[0m\u001b[0m\n\u001b[0m\u001b[1;32m    647\u001b[0m \u001b[0;34m\u001b[0m\u001b[0m\n\u001b[1;32m    648\u001b[0m     \u001b[0mparser_f\u001b[0m\u001b[0;34m.\u001b[0m\u001b[0m__name__\u001b[0m \u001b[0;34m=\u001b[0m \u001b[0mname\u001b[0m\u001b[0;34m\u001b[0m\u001b[0m\n",
      "\u001b[0;32m/home/ubuntu/anaconda3/lib/python3.6/site-packages/pandas/io/parsers.py\u001b[0m in \u001b[0;36m_read\u001b[0;34m(filepath_or_buffer, kwds)\u001b[0m\n\u001b[1;32m    387\u001b[0m \u001b[0;34m\u001b[0m\u001b[0m\n\u001b[1;32m    388\u001b[0m     \u001b[0;31m# Create the parser.\u001b[0m\u001b[0;34m\u001b[0m\u001b[0;34m\u001b[0m\u001b[0m\n\u001b[0;32m--> 389\u001b[0;31m     \u001b[0mparser\u001b[0m \u001b[0;34m=\u001b[0m \u001b[0mTextFileReader\u001b[0m\u001b[0;34m(\u001b[0m\u001b[0mfilepath_or_buffer\u001b[0m\u001b[0;34m,\u001b[0m \u001b[0;34m**\u001b[0m\u001b[0mkwds\u001b[0m\u001b[0;34m)\u001b[0m\u001b[0;34m\u001b[0m\u001b[0m\n\u001b[0m\u001b[1;32m    390\u001b[0m \u001b[0;34m\u001b[0m\u001b[0m\n\u001b[1;32m    391\u001b[0m     \u001b[0;32mif\u001b[0m \u001b[0;34m(\u001b[0m\u001b[0mnrows\u001b[0m \u001b[0;32mis\u001b[0m \u001b[0;32mnot\u001b[0m \u001b[0;32mNone\u001b[0m\u001b[0;34m)\u001b[0m \u001b[0;32mand\u001b[0m \u001b[0;34m(\u001b[0m\u001b[0mchunksize\u001b[0m \u001b[0;32mis\u001b[0m \u001b[0;32mnot\u001b[0m \u001b[0;32mNone\u001b[0m\u001b[0;34m)\u001b[0m\u001b[0;34m:\u001b[0m\u001b[0;34m\u001b[0m\u001b[0m\n",
      "\u001b[0;32m/home/ubuntu/anaconda3/lib/python3.6/site-packages/pandas/io/parsers.py\u001b[0m in \u001b[0;36m__init__\u001b[0;34m(self, f, engine, **kwds)\u001b[0m\n\u001b[1;32m    728\u001b[0m             \u001b[0mself\u001b[0m\u001b[0;34m.\u001b[0m\u001b[0moptions\u001b[0m\u001b[0;34m[\u001b[0m\u001b[0;34m'has_index_names'\u001b[0m\u001b[0;34m]\u001b[0m \u001b[0;34m=\u001b[0m \u001b[0mkwds\u001b[0m\u001b[0;34m[\u001b[0m\u001b[0;34m'has_index_names'\u001b[0m\u001b[0;34m]\u001b[0m\u001b[0;34m\u001b[0m\u001b[0m\n\u001b[1;32m    729\u001b[0m \u001b[0;34m\u001b[0m\u001b[0m\n\u001b[0;32m--> 730\u001b[0;31m         \u001b[0mself\u001b[0m\u001b[0;34m.\u001b[0m\u001b[0m_make_engine\u001b[0m\u001b[0;34m(\u001b[0m\u001b[0mself\u001b[0m\u001b[0;34m.\u001b[0m\u001b[0mengine\u001b[0m\u001b[0;34m)\u001b[0m\u001b[0;34m\u001b[0m\u001b[0m\n\u001b[0m\u001b[1;32m    731\u001b[0m \u001b[0;34m\u001b[0m\u001b[0m\n\u001b[1;32m    732\u001b[0m     \u001b[0;32mdef\u001b[0m \u001b[0mclose\u001b[0m\u001b[0;34m(\u001b[0m\u001b[0mself\u001b[0m\u001b[0;34m)\u001b[0m\u001b[0;34m:\u001b[0m\u001b[0;34m\u001b[0m\u001b[0m\n",
      "\u001b[0;32m/home/ubuntu/anaconda3/lib/python3.6/site-packages/pandas/io/parsers.py\u001b[0m in \u001b[0;36m_make_engine\u001b[0;34m(self, engine)\u001b[0m\n\u001b[1;32m    921\u001b[0m     \u001b[0;32mdef\u001b[0m \u001b[0m_make_engine\u001b[0m\u001b[0;34m(\u001b[0m\u001b[0mself\u001b[0m\u001b[0;34m,\u001b[0m \u001b[0mengine\u001b[0m\u001b[0;34m=\u001b[0m\u001b[0;34m'c'\u001b[0m\u001b[0;34m)\u001b[0m\u001b[0;34m:\u001b[0m\u001b[0;34m\u001b[0m\u001b[0m\n\u001b[1;32m    922\u001b[0m         \u001b[0;32mif\u001b[0m \u001b[0mengine\u001b[0m \u001b[0;34m==\u001b[0m \u001b[0;34m'c'\u001b[0m\u001b[0;34m:\u001b[0m\u001b[0;34m\u001b[0m\u001b[0m\n\u001b[0;32m--> 923\u001b[0;31m             \u001b[0mself\u001b[0m\u001b[0;34m.\u001b[0m\u001b[0m_engine\u001b[0m \u001b[0;34m=\u001b[0m \u001b[0mCParserWrapper\u001b[0m\u001b[0;34m(\u001b[0m\u001b[0mself\u001b[0m\u001b[0;34m.\u001b[0m\u001b[0mf\u001b[0m\u001b[0;34m,\u001b[0m \u001b[0;34m**\u001b[0m\u001b[0mself\u001b[0m\u001b[0;34m.\u001b[0m\u001b[0moptions\u001b[0m\u001b[0;34m)\u001b[0m\u001b[0;34m\u001b[0m\u001b[0m\n\u001b[0m\u001b[1;32m    924\u001b[0m         \u001b[0;32melse\u001b[0m\u001b[0;34m:\u001b[0m\u001b[0;34m\u001b[0m\u001b[0m\n\u001b[1;32m    925\u001b[0m             \u001b[0;32mif\u001b[0m \u001b[0mengine\u001b[0m \u001b[0;34m==\u001b[0m \u001b[0;34m'python'\u001b[0m\u001b[0;34m:\u001b[0m\u001b[0;34m\u001b[0m\u001b[0m\n",
      "\u001b[0;32m/home/ubuntu/anaconda3/lib/python3.6/site-packages/pandas/io/parsers.py\u001b[0m in \u001b[0;36m__init__\u001b[0;34m(self, src, **kwds)\u001b[0m\n\u001b[1;32m   1388\u001b[0m         \u001b[0mkwds\u001b[0m\u001b[0;34m[\u001b[0m\u001b[0;34m'allow_leading_cols'\u001b[0m\u001b[0;34m]\u001b[0m \u001b[0;34m=\u001b[0m \u001b[0mself\u001b[0m\u001b[0;34m.\u001b[0m\u001b[0mindex_col\u001b[0m \u001b[0;32mis\u001b[0m \u001b[0;32mnot\u001b[0m \u001b[0;32mFalse\u001b[0m\u001b[0;34m\u001b[0m\u001b[0m\n\u001b[1;32m   1389\u001b[0m \u001b[0;34m\u001b[0m\u001b[0m\n\u001b[0;32m-> 1390\u001b[0;31m         \u001b[0mself\u001b[0m\u001b[0;34m.\u001b[0m\u001b[0m_reader\u001b[0m \u001b[0;34m=\u001b[0m \u001b[0m_parser\u001b[0m\u001b[0;34m.\u001b[0m\u001b[0mTextReader\u001b[0m\u001b[0;34m(\u001b[0m\u001b[0msrc\u001b[0m\u001b[0;34m,\u001b[0m \u001b[0;34m**\u001b[0m\u001b[0mkwds\u001b[0m\u001b[0;34m)\u001b[0m\u001b[0;34m\u001b[0m\u001b[0m\n\u001b[0m\u001b[1;32m   1391\u001b[0m \u001b[0;34m\u001b[0m\u001b[0m\n\u001b[1;32m   1392\u001b[0m         \u001b[0;31m# XXX\u001b[0m\u001b[0;34m\u001b[0m\u001b[0;34m\u001b[0m\u001b[0m\n",
      "\u001b[0;32mpandas/parser.pyx\u001b[0m in \u001b[0;36mpandas.parser.TextReader.__cinit__ (pandas/parser.c:4184)\u001b[0;34m()\u001b[0m\n",
      "\u001b[0;32mpandas/parser.pyx\u001b[0m in \u001b[0;36mpandas.parser.TextReader._setup_parser_source (pandas/parser.c:8449)\u001b[0;34m()\u001b[0m\n",
      "\u001b[0;31mFileNotFoundError\u001b[0m: File b'/tmp/a_up.csv' does not exist"
     ]
    }
   ],
   "source": [
    "ticker_up = \"a\"\n",
    "df_up = pd.read_csv(\"/tmp/\" + ticker_up + \"_up.csv\")"
   ]
  },
  {
   "cell_type": "code",
   "execution_count": null,
   "metadata": {
    "collapsed": false
   },
   "outputs": [],
   "source": [
    "dates_up = df_up[\"Date\"].tolist()\n",
    "dates_up"
   ]
  },
  {
   "cell_type": "code",
   "execution_count": 17,
   "metadata": {
    "collapsed": false
   },
   "outputs": [
    {
     "ename": "NameError",
     "evalue": "name 'dates_up' is not defined",
     "output_type": "error",
     "traceback": [
      "\u001b[0;31m---------------------------------------------------------------------------\u001b[0m",
      "\u001b[0;31mNameError\u001b[0m                                 Traceback (most recent call last)",
      "\u001b[0;32m<ipython-input-17-24ab47c6f88c>\u001b[0m in \u001b[0;36m<module>\u001b[0;34m()\u001b[0m\n\u001b[0;32m----> 1\u001b[0;31m \u001b[0mq\u001b[0m \u001b[0;34m=\u001b[0m \u001b[0mrsession\u001b[0m\u001b[0;34m.\u001b[0m\u001b[0mquery\u001b[0m\u001b[0;34m(\u001b[0m\u001b[0mPrice\u001b[0m\u001b[0;34m)\u001b[0m\u001b[0;34m.\u001b[0m\u001b[0mfilter\u001b[0m\u001b[0;34m(\u001b[0m \u001b[0mand_\u001b[0m\u001b[0;34m(\u001b[0m\u001b[0mPrice\u001b[0m\u001b[0;34m.\u001b[0m\u001b[0mTicker\u001b[0m \u001b[0;34m==\u001b[0m \u001b[0mticker_up\u001b[0m\u001b[0;34m,\u001b[0m \u001b[0mPrice\u001b[0m\u001b[0;34m.\u001b[0m\u001b[0mDate\u001b[0m\u001b[0;34m.\u001b[0m\u001b[0min_\u001b[0m\u001b[0;34m(\u001b[0m\u001b[0mdates_up\u001b[0m\u001b[0;34m)\u001b[0m\u001b[0;34m)\u001b[0m \u001b[0;34m)\u001b[0m\u001b[0;34m\u001b[0m\u001b[0m\n\u001b[0m\u001b[1;32m      2\u001b[0m \u001b[0ml\u001b[0m \u001b[0;34m=\u001b[0m \u001b[0mq\u001b[0m\u001b[0;34m.\u001b[0m\u001b[0mall\u001b[0m\u001b[0;34m(\u001b[0m\u001b[0;34m)\u001b[0m\u001b[0;34m\u001b[0m\u001b[0m\n\u001b[1;32m      3\u001b[0m \u001b[0;32mfor\u001b[0m \u001b[0ma\u001b[0m \u001b[0;32min\u001b[0m \u001b[0ml\u001b[0m\u001b[0;34m:\u001b[0m\u001b[0;34m\u001b[0m\u001b[0m\n\u001b[1;32m      4\u001b[0m     \u001b[0mprint\u001b[0m\u001b[0;34m(\u001b[0m\u001b[0ma\u001b[0m\u001b[0;34m.\u001b[0m\u001b[0mTicker\u001b[0m\u001b[0;34m,\u001b[0m \u001b[0ma\u001b[0m\u001b[0;34m.\u001b[0m\u001b[0mDate\u001b[0m\u001b[0;34m)\u001b[0m\u001b[0;34m\u001b[0m\u001b[0m\n",
      "\u001b[0;31mNameError\u001b[0m: name 'dates_up' is not defined"
     ]
    }
   ],
   "source": [
    "q = rsession.query(Price).filter( and_(Price.Ticker == ticker_up, Price.Date.in_(dates_up)) )\n",
    "l = q.all()\n",
    "for a in l:\n",
    "    print(a.Ticker, a.Date)\n"
   ]
  },
  {
   "cell_type": "markdown",
   "metadata": {},
   "source": [
    "## Delete rows"
   ]
  },
  {
   "cell_type": "code",
   "execution_count": null,
   "metadata": {
    "collapsed": false
   },
   "outputs": [],
   "source": [
    "q  = rsession.query(Price).filter(and_(Price.Ticker == ticker_up, Price.Date.in_(dates_up)))\n",
    "print(q.all())\n",
    "num_rows = q.delete(synchronize_session=\"fetch\") # or = False\n",
    "print(\"Deleted {} rows\".format(num_rows))"
   ]
  },
  {
   "cell_type": "code",
   "execution_count": null,
   "metadata": {
    "collapsed": false
   },
   "outputs": [],
   "source": [
    "q = rsession.query(Price)\n",
    "resps = q.all()\n",
    "for r in resps[0:10]:\n",
    "    print(r.Ticker, r.Date)\n"
   ]
  },
  {
   "cell_type": "code",
   "execution_count": null,
   "metadata": {
    "collapsed": false
   },
   "outputs": [],
   "source": [
    "type(q)\n",
    "l = q.all()\n",
    "len(l)\n",
    "type(l)\n",
    "l[0]"
   ]
  },
  {
   "cell_type": "markdown",
   "metadata": {},
   "source": [
    "## Read from db; form wide df"
   ]
  },
  {
   "cell_type": "code",
   "execution_count": null,
   "metadata": {
    "collapsed": false
   },
   "outputs": [],
   "source": [
    "df_r = pd.read_sql(rsession.query(Price).statement, rsession.bind)\n",
    "df_r[ \"Dt\" ] = df_r.loc[:,\"Date\"].map( lambda  s: pd.to_datetime(s, infer_datetime_format=True) )\n",
    "df_r = df_r.drop(\"Date\", axis=1)\n",
    "df_r.set_index([\"Dt\", \"Ticker\"], inplace=True)\n",
    "df_w = df_r.unstack(level=1)\n",
    "df_w.tail()\n",
    "\n",
    "df_w.loc[\"2018-03-29\", idx[ \"AdjClose\",:]]"
   ]
  },
  {
   "cell_type": "markdown",
   "metadata": {},
   "source": [
    "## Convert wide df to think table to store in db"
   ]
  },
  {
   "cell_type": "code",
   "execution_count": null,
   "metadata": {
    "collapsed": false
   },
   "outputs": [],
   "source": [
    "df_t = df_w.stack(level=1)\n",
    "df_t.reset_index(inplace=True)\n",
    "df_t.tail()\n",
    "df_t.columns"
   ]
  },
  {
   "cell_type": "code",
   "execution_count": null,
   "metadata": {
    "collapsed": true
   },
   "outputs": [],
   "source": [
    "\n"
   ]
  },
  {
   "cell_type": "code",
   "execution_count": null,
   "metadata": {
    "collapsed": true
   },
   "outputs": [],
   "source": [
    "def test_flush_no_pk(n):\n",
    "    \"\"\"Individual INSERT statements via the ORM, calling upon last row id\"\"\"\n",
    "    session = Session(bind=engine)\n",
    "    for chunk in range(0, n, 1000):\n",
    "        session.add_all([\n",
    "            Customer(\n",
    "                name='customer name %d' % i,\n",
    "                description='customer description %d' % i)\n",
    "            for i in range(chunk, chunk + 1000)\n",
    "        ])\n",
    "        session.flush()\n",
    "    session.commit()\n"
   ]
  },
  {
   "cell_type": "code",
   "execution_count": null,
   "metadata": {
    "collapsed": true
   },
   "outputs": [],
   "source": [
    "fname = \"/tmp/a.csv\"\n",
    "ds = discover( resource(fname) )\n",
    "ds"
   ]
  }
 ],
 "metadata": {
  "kernelspec": {
   "display_name": "Python 3",
   "language": "python",
   "name": "python3"
  },
  "language_info": {
   "codemirror_mode": {
    "name": "ipython",
    "version": 3
   },
   "file_extension": ".py",
   "mimetype": "text/x-python",
   "name": "python",
   "nbconvert_exporter": "python",
   "pygments_lexer": "ipython3",
   "version": "3.6.0"
  }
 },
 "nbformat": 4,
 "nbformat_minor": 2
}
