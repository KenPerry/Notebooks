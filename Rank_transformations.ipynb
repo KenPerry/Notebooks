{
 "cells": [
  {
   "cell_type": "code",
   "execution_count": 1,
   "metadata": {
    "collapsed": false
   },
   "outputs": [],
   "source": [
    "from IPython.core.interactiveshell import InteractiveShell\n",
    "InteractiveShell.ast_node_interactivity = \"all\"\n",
    "\n",
    "# Reload all modules imported with %aimport\n",
    "%load_ext autoreload\n",
    "%autoreload 1"
   ]
  },
  {
   "cell_type": "code",
   "execution_count": 2,
   "metadata": {
    "collapsed": false
   },
   "outputs": [],
   "source": [
    "%aimport trans.data\n",
    "%aimport trans.gtrans\n",
    "%aimport trans.reg\n",
    "%aimport trans.date_manip\n",
    "\n",
    "\n",
    "import pandas as pd\n",
    "idx = pd.IndexSlice\n",
    "\n",
    "from trans.data import GetData\n",
    "from trans.gtrans import *\n",
    "from trans.reg import Reg\n",
    "import datetime as dt\n",
    "import dateutil.parser as dup\n",
    "import datedelta\n",
    "\n",
    "from trans.date_manip import Date_Manipulator\n",
    "\n",
    "gd = GetData()"
   ]
  },
  {
   "cell_type": "code",
   "execution_count": 3,
   "metadata": {
    "collapsed": false
   },
   "outputs": [
    {
     "data": {
      "text/plain": [
       "(4536, 33)"
      ]
     },
     "execution_count": 3,
     "metadata": {},
     "output_type": "execute_result"
    },
    {
     "data": {
      "text/html": [
       "<div>\n",
       "<table border=\"1\" class=\"dataframe\">\n",
       "  <thead>\n",
       "    <tr>\n",
       "      <th></th>\n",
       "      <th colspan=\"6\" halign=\"left\">Adj Close</th>\n",
       "      <th colspan=\"4\" halign=\"left\">Beta 0</th>\n",
       "      <th>...</th>\n",
       "      <th colspan=\"3\" halign=\"left\">Beta 1 rolled fwd</th>\n",
       "      <th colspan=\"7\" halign=\"left\">Pct</th>\n",
       "    </tr>\n",
       "    <tr>\n",
       "      <th></th>\n",
       "      <th>AAPL</th>\n",
       "      <th>AMZN</th>\n",
       "      <th>FB</th>\n",
       "      <th>GOOG</th>\n",
       "      <th>NFLX</th>\n",
       "      <th>SPY</th>\n",
       "      <th>AAPL</th>\n",
       "      <th>AMZN</th>\n",
       "      <th>FB</th>\n",
       "      <th>GOOG</th>\n",
       "      <th>...</th>\n",
       "      <th>FB</th>\n",
       "      <th>GOOG</th>\n",
       "      <th>NFLX</th>\n",
       "      <th>AAPL</th>\n",
       "      <th>AMZN</th>\n",
       "      <th>FB</th>\n",
       "      <th>GOOG</th>\n",
       "      <th>NFLX</th>\n",
       "      <th>SPY</th>\n",
       "      <th>1</th>\n",
       "    </tr>\n",
       "    <tr>\n",
       "      <th>Dt</th>\n",
       "      <th></th>\n",
       "      <th></th>\n",
       "      <th></th>\n",
       "      <th></th>\n",
       "      <th></th>\n",
       "      <th></th>\n",
       "      <th></th>\n",
       "      <th></th>\n",
       "      <th></th>\n",
       "      <th></th>\n",
       "      <th></th>\n",
       "      <th></th>\n",
       "      <th></th>\n",
       "      <th></th>\n",
       "      <th></th>\n",
       "      <th></th>\n",
       "      <th></th>\n",
       "      <th></th>\n",
       "      <th></th>\n",
       "      <th></th>\n",
       "      <th></th>\n",
       "    </tr>\n",
       "  </thead>\n",
       "  <tbody>\n",
       "    <tr>\n",
       "      <th>2017-12-22</th>\n",
       "      <td>175.009995</td>\n",
       "      <td>1168.359985</td>\n",
       "      <td>177.199997</td>\n",
       "      <td>1060.119995</td>\n",
       "      <td>189.940002</td>\n",
       "      <td>267.510010</td>\n",
       "      <td>NaN</td>\n",
       "      <td>NaN</td>\n",
       "      <td>NaN</td>\n",
       "      <td>NaN</td>\n",
       "      <td>...</td>\n",
       "      <td>1.164516</td>\n",
       "      <td>0.837844</td>\n",
       "      <td>2.177337</td>\n",
       "      <td>0.000000</td>\n",
       "      <td>-0.005448</td>\n",
       "      <td>-0.001409</td>\n",
       "      <td>-0.003300</td>\n",
       "      <td>0.006998</td>\n",
       "      <td>-0.000262</td>\n",
       "      <td>1</td>\n",
       "    </tr>\n",
       "    <tr>\n",
       "      <th>2017-12-26</th>\n",
       "      <td>170.570007</td>\n",
       "      <td>1176.760010</td>\n",
       "      <td>175.990005</td>\n",
       "      <td>1056.739990</td>\n",
       "      <td>187.759995</td>\n",
       "      <td>267.190002</td>\n",
       "      <td>NaN</td>\n",
       "      <td>NaN</td>\n",
       "      <td>NaN</td>\n",
       "      <td>NaN</td>\n",
       "      <td>...</td>\n",
       "      <td>1.164516</td>\n",
       "      <td>0.837844</td>\n",
       "      <td>2.177337</td>\n",
       "      <td>-0.025370</td>\n",
       "      <td>0.007190</td>\n",
       "      <td>-0.006828</td>\n",
       "      <td>-0.003188</td>\n",
       "      <td>-0.011477</td>\n",
       "      <td>-0.001196</td>\n",
       "      <td>1</td>\n",
       "    </tr>\n",
       "    <tr>\n",
       "      <th>2017-12-27</th>\n",
       "      <td>170.600006</td>\n",
       "      <td>1182.260010</td>\n",
       "      <td>177.619995</td>\n",
       "      <td>1049.369995</td>\n",
       "      <td>186.240005</td>\n",
       "      <td>267.320007</td>\n",
       "      <td>NaN</td>\n",
       "      <td>NaN</td>\n",
       "      <td>NaN</td>\n",
       "      <td>NaN</td>\n",
       "      <td>...</td>\n",
       "      <td>1.164516</td>\n",
       "      <td>0.837844</td>\n",
       "      <td>2.177337</td>\n",
       "      <td>0.000176</td>\n",
       "      <td>0.004674</td>\n",
       "      <td>0.009262</td>\n",
       "      <td>-0.006974</td>\n",
       "      <td>-0.008095</td>\n",
       "      <td>0.000487</td>\n",
       "      <td>1</td>\n",
       "    </tr>\n",
       "    <tr>\n",
       "      <th>2017-12-28</th>\n",
       "      <td>171.080002</td>\n",
       "      <td>1186.099976</td>\n",
       "      <td>177.919998</td>\n",
       "      <td>1048.140015</td>\n",
       "      <td>192.710007</td>\n",
       "      <td>267.869995</td>\n",
       "      <td>NaN</td>\n",
       "      <td>NaN</td>\n",
       "      <td>NaN</td>\n",
       "      <td>NaN</td>\n",
       "      <td>...</td>\n",
       "      <td>1.164516</td>\n",
       "      <td>0.837844</td>\n",
       "      <td>2.177337</td>\n",
       "      <td>0.002814</td>\n",
       "      <td>0.003248</td>\n",
       "      <td>0.001689</td>\n",
       "      <td>-0.001172</td>\n",
       "      <td>0.034740</td>\n",
       "      <td>0.002057</td>\n",
       "      <td>1</td>\n",
       "    </tr>\n",
       "    <tr>\n",
       "      <th>2017-12-29</th>\n",
       "      <td>169.229996</td>\n",
       "      <td>1169.469971</td>\n",
       "      <td>176.460007</td>\n",
       "      <td>1046.400024</td>\n",
       "      <td>191.960007</td>\n",
       "      <td>266.859985</td>\n",
       "      <td>-0.001793</td>\n",
       "      <td>-0.000217</td>\n",
       "      <td>-0.000183</td>\n",
       "      <td>0.001072</td>\n",
       "      <td>...</td>\n",
       "      <td>0.859952</td>\n",
       "      <td>1.081924</td>\n",
       "      <td>0.908602</td>\n",
       "      <td>-0.010814</td>\n",
       "      <td>-0.014021</td>\n",
       "      <td>-0.008206</td>\n",
       "      <td>-0.001660</td>\n",
       "      <td>-0.003892</td>\n",
       "      <td>-0.003771</td>\n",
       "      <td>1</td>\n",
       "    </tr>\n",
       "  </tbody>\n",
       "</table>\n",
       "<p>5 rows × 33 columns</p>\n",
       "</div>"
      ],
      "text/plain": [
       "             Adj Close                                                    \\\n",
       "                  AAPL         AMZN          FB         GOOG        NFLX   \n",
       "Dt                                                                         \n",
       "2017-12-22  175.009995  1168.359985  177.199997  1060.119995  189.940002   \n",
       "2017-12-26  170.570007  1176.760010  175.990005  1056.739990  187.759995   \n",
       "2017-12-27  170.600006  1182.260010  177.619995  1049.369995  186.240005   \n",
       "2017-12-28  171.080002  1186.099976  177.919998  1048.140015  192.710007   \n",
       "2017-12-29  169.229996  1169.469971  176.460007  1046.400024  191.960007   \n",
       "\n",
       "                          Beta 0                               ...  \\\n",
       "                   SPY      AAPL      AMZN        FB      GOOG ...   \n",
       "Dt                                                             ...   \n",
       "2017-12-22  267.510010       NaN       NaN       NaN       NaN ...   \n",
       "2017-12-26  267.190002       NaN       NaN       NaN       NaN ...   \n",
       "2017-12-27  267.320007       NaN       NaN       NaN       NaN ...   \n",
       "2017-12-28  267.869995       NaN       NaN       NaN       NaN ...   \n",
       "2017-12-29  266.859985 -0.001793 -0.000217 -0.000183  0.001072 ...   \n",
       "\n",
       "           Beta 1 rolled fwd                           Pct            \\\n",
       "                          FB      GOOG      NFLX      AAPL      AMZN   \n",
       "Dt                                                                     \n",
       "2017-12-22          1.164516  0.837844  2.177337  0.000000 -0.005448   \n",
       "2017-12-26          1.164516  0.837844  2.177337 -0.025370  0.007190   \n",
       "2017-12-27          1.164516  0.837844  2.177337  0.000176  0.004674   \n",
       "2017-12-28          1.164516  0.837844  2.177337  0.002814  0.003248   \n",
       "2017-12-29          0.859952  1.081924  0.908602 -0.010814 -0.014021   \n",
       "\n",
       "                                                       \n",
       "                  FB      GOOG      NFLX       SPY  1  \n",
       "Dt                                                     \n",
       "2017-12-22 -0.001409 -0.003300  0.006998 -0.000262  1  \n",
       "2017-12-26 -0.006828 -0.003188 -0.011477 -0.001196  1  \n",
       "2017-12-27  0.009262 -0.006974 -0.008095  0.000487  1  \n",
       "2017-12-28  0.001689 -0.001172  0.034740  0.002057  1  \n",
       "2017-12-29 -0.008206 -0.001660 -0.003892 -0.003771  1  \n",
       "\n",
       "[5 rows x 33 columns]"
      ]
     },
     "execution_count": 3,
     "metadata": {},
     "output_type": "execute_result"
    }
   ],
   "source": [
    "# df = gd.load_data(\"ret_and_beta_df.pkl\")\n",
    "ret_df = gd.load_data(\"ret_and_rolled_beta_df.pkl\")\n",
    "ret_df.shape\n",
    "ret_df.tail()"
   ]
  },
  {
   "cell_type": "code",
   "execution_count": 4,
   "metadata": {
    "collapsed": false
   },
   "outputs": [
    {
     "data": {
      "text/plain": [
       "Timestamp('2000-01-03 00:00:00')"
      ]
     },
     "execution_count": 4,
     "metadata": {},
     "output_type": "execute_result"
    },
    {
     "data": {
      "text/plain": [
       "Timestamp('2017-12-29 00:00:00')"
      ]
     },
     "execution_count": 4,
     "metadata": {},
     "output_type": "execute_result"
    }
   ],
   "source": [
    "i = ret_df.index\n",
    "i.min()\n",
    "i.max()"
   ]
  },
  {
   "cell_type": "code",
   "execution_count": 5,
   "metadata": {
    "collapsed": false
   },
   "outputs": [
    {
     "name": "stdout",
     "output_type": "stream",
     "text": [
      "End 2017-12-15 00:00:00, last 2017-12-31 00:00:00\n"
     ]
    },
    {
     "data": {
      "text/plain": [
       "[datetime.datetime(2017, 3, 31, 0, 0),\n",
       " datetime.datetime(2017, 4, 30, 0, 0),\n",
       " datetime.datetime(2017, 5, 31, 0, 0),\n",
       " datetime.datetime(2017, 6, 30, 0, 0),\n",
       " datetime.datetime(2017, 7, 31, 0, 0),\n",
       " datetime.datetime(2017, 8, 31, 0, 0),\n",
       " datetime.datetime(2017, 9, 30, 0, 0),\n",
       " datetime.datetime(2017, 10, 31, 0, 0),\n",
       " datetime.datetime(2017, 11, 30, 0, 0),\n",
       " datetime.datetime(2017, 12, 31, 0, 0)]"
      ]
     },
     "execution_count": 5,
     "metadata": {},
     "output_type": "execute_result"
    }
   ],
   "source": [
    "from trans.date_manip import Date_Manipulator\n",
    "dm = Date_Manipulator( ret_df.index )\n",
    "monthly = dm.periodic( dup.parse(\"01/01/2018\"), datedelta.datedelta(months=1) )\n",
    "\n",
    "end_of_monthly =  dm.periodic_end_of_month( dup.parse(\"12/15/2017\"))\n",
    "end_of_monthly[-10:]"
   ]
  },
  {
   "cell_type": "code",
   "execution_count": 6,
   "metadata": {
    "collapsed": false
   },
   "outputs": [
    {
     "name": "stdout",
     "output_type": "stream",
     "text": [
      "End 2017-12-15 00:00:00, last 2017-12-31 00:00:00\n"
     ]
    },
    {
     "data": {
      "text/plain": [
       "[Timestamp('2017-02-28 00:00:00'),\n",
       " Timestamp('2017-03-31 00:00:00'),\n",
       " Timestamp('2017-04-28 00:00:00'),\n",
       " Timestamp('2017-05-31 00:00:00'),\n",
       " Timestamp('2017-06-30 00:00:00'),\n",
       " Timestamp('2017-07-31 00:00:00'),\n",
       " Timestamp('2017-08-31 00:00:00'),\n",
       " Timestamp('2017-09-29 00:00:00'),\n",
       " Timestamp('2017-10-31 00:00:00'),\n",
       " Timestamp('2017-11-30 00:00:00')]"
      ]
     },
     "execution_count": 6,
     "metadata": {},
     "output_type": "execute_result"
    }
   ],
   "source": [
    "eom_in_idx = dm.periodic_in_idx_end_of_month( dup.parse(\"12/15/2017\"))\n",
    "eom_in_idx[-10:]"
   ]
  },
  {
   "cell_type": "code",
   "execution_count": 7,
   "metadata": {
    "collapsed": false
   },
   "outputs": [
    {
     "data": {
      "text/plain": [
       "[(Timestamp('2017-02-01 00:00:00'), Timestamp('2017-02-28 00:00:00')),\n",
       " (Timestamp('2017-03-01 00:00:00'), Timestamp('2017-03-31 00:00:00')),\n",
       " (Timestamp('2017-04-03 00:00:00'), Timestamp('2017-04-28 00:00:00')),\n",
       " (Timestamp('2017-05-01 00:00:00'), Timestamp('2017-05-31 00:00:00')),\n",
       " (Timestamp('2017-06-01 00:00:00'), Timestamp('2017-06-30 00:00:00')),\n",
       " (Timestamp('2017-07-03 00:00:00'), Timestamp('2017-07-31 00:00:00')),\n",
       " (Timestamp('2017-08-01 00:00:00'), Timestamp('2017-08-31 00:00:00')),\n",
       " (Timestamp('2017-09-01 00:00:00'), Timestamp('2017-09-29 00:00:00')),\n",
       " (Timestamp('2017-10-02 00:00:00'), Timestamp('2017-10-31 00:00:00')),\n",
       " (Timestamp('2017-11-01 00:00:00'), Timestamp('2017-11-30 00:00:00'))]"
      ]
     },
     "execution_count": 7,
     "metadata": {},
     "output_type": "execute_result"
    }
   ],
   "source": [
    "month_r = dm.range_in_index( eom_in_idx)\n",
    "month_r[-10:]"
   ]
  },
  {
   "cell_type": "code",
   "execution_count": 8,
   "metadata": {
    "collapsed": false
   },
   "outputs": [
    {
     "data": {
      "text/plain": [
       "(215, 33)"
      ]
     },
     "execution_count": 8,
     "metadata": {},
     "output_type": "execute_result"
    }
   ],
   "source": [
    "price_monthly_df = ret_df.loc[ eom_in_idx,: ]\n",
    "price_monthly_df.shape"
   ]
  },
  {
   "cell_type": "markdown",
   "metadata": {},
   "source": [
    "## Create monthly returns"
   ]
  },
  {
   "cell_type": "code",
   "execution_count": 9,
   "metadata": {
    "collapsed": true
   },
   "outputs": [],
   "source": [
    "price_attr = \"Adj Close\"\n",
    "price_attr_shift_1m = price_attr + \" -1m\"\n",
    "\n",
    "ret_attr = \"Pct\"\n",
    "monthly_ret_attr = \"Month \" + ret_attr\n",
    "monthly_rank_attr = monthly_ret_attr + ' rank'"
   ]
  },
  {
   "cell_type": "code",
   "execution_count": 10,
   "metadata": {
    "collapsed": false
   },
   "outputs": [
    {
     "data": {
      "text/html": [
       "<div>\n",
       "<table border=\"1\" class=\"dataframe\">\n",
       "  <thead>\n",
       "    <tr>\n",
       "      <th></th>\n",
       "      <th colspan=\"6\" halign=\"left\">Adj Close -1m</th>\n",
       "      <th colspan=\"6\" halign=\"left\">Month Pct</th>\n",
       "    </tr>\n",
       "    <tr>\n",
       "      <th></th>\n",
       "      <th>AAPL</th>\n",
       "      <th>AMZN</th>\n",
       "      <th>FB</th>\n",
       "      <th>GOOG</th>\n",
       "      <th>NFLX</th>\n",
       "      <th>SPY</th>\n",
       "      <th>AAPL</th>\n",
       "      <th>AMZN</th>\n",
       "      <th>FB</th>\n",
       "      <th>GOOG</th>\n",
       "      <th>NFLX</th>\n",
       "      <th>SPY</th>\n",
       "    </tr>\n",
       "    <tr>\n",
       "      <th>Dt</th>\n",
       "      <th></th>\n",
       "      <th></th>\n",
       "      <th></th>\n",
       "      <th></th>\n",
       "      <th></th>\n",
       "      <th></th>\n",
       "      <th></th>\n",
       "      <th></th>\n",
       "      <th></th>\n",
       "      <th></th>\n",
       "      <th></th>\n",
       "      <th></th>\n",
       "    </tr>\n",
       "  </thead>\n",
       "  <tbody>\n",
       "    <tr>\n",
       "      <th>2017-07-31</th>\n",
       "      <td>142.942795</td>\n",
       "      <td>968.000000</td>\n",
       "      <td>150.979996</td>\n",
       "      <td>908.729980</td>\n",
       "      <td>149.410004</td>\n",
       "      <td>239.382355</td>\n",
       "      <td>0.032704</td>\n",
       "      <td>0.020434</td>\n",
       "      <td>0.121009</td>\n",
       "      <td>0.023957</td>\n",
       "      <td>0.215849</td>\n",
       "      <td>0.020554</td>\n",
       "    </tr>\n",
       "    <tr>\n",
       "      <th>2017-08-31</th>\n",
       "      <td>147.617554</td>\n",
       "      <td>987.780029</td>\n",
       "      <td>169.250000</td>\n",
       "      <td>930.500000</td>\n",
       "      <td>181.660004</td>\n",
       "      <td>244.302643</td>\n",
       "      <td>0.106999</td>\n",
       "      <td>-0.007269</td>\n",
       "      <td>0.016071</td>\n",
       "      <td>0.009490</td>\n",
       "      <td>-0.038258</td>\n",
       "      <td>0.002918</td>\n",
       "    </tr>\n",
       "    <tr>\n",
       "      <th>2017-09-29</th>\n",
       "      <td>163.412552</td>\n",
       "      <td>980.599976</td>\n",
       "      <td>171.970001</td>\n",
       "      <td>939.330017</td>\n",
       "      <td>174.710007</td>\n",
       "      <td>245.015457</td>\n",
       "      <td>-0.060244</td>\n",
       "      <td>-0.019631</td>\n",
       "      <td>-0.006396</td>\n",
       "      <td>0.021058</td>\n",
       "      <td>0.038006</td>\n",
       "      <td>0.020149</td>\n",
       "    </tr>\n",
       "    <tr>\n",
       "      <th>2017-10-31</th>\n",
       "      <td>153.567932</td>\n",
       "      <td>961.349976</td>\n",
       "      <td>170.869995</td>\n",
       "      <td>959.109985</td>\n",
       "      <td>181.350006</td>\n",
       "      <td>249.952377</td>\n",
       "      <td>0.096808</td>\n",
       "      <td>0.149717</td>\n",
       "      <td>0.053784</td>\n",
       "      <td>0.059983</td>\n",
       "      <td>0.083154</td>\n",
       "      <td>0.023564</td>\n",
       "    </tr>\n",
       "    <tr>\n",
       "      <th>2017-11-30</th>\n",
       "      <td>168.434494</td>\n",
       "      <td>1105.280029</td>\n",
       "      <td>180.059998</td>\n",
       "      <td>1016.640015</td>\n",
       "      <td>196.429993</td>\n",
       "      <td>255.842270</td>\n",
       "      <td>0.020278</td>\n",
       "      <td>0.064662</td>\n",
       "      <td>-0.015995</td>\n",
       "      <td>0.004692</td>\n",
       "      <td>-0.045054</td>\n",
       "      <td>0.030566</td>\n",
       "    </tr>\n",
       "  </tbody>\n",
       "</table>\n",
       "</div>"
      ],
      "text/plain": [
       "           Adj Close -1m                                                    \\\n",
       "                    AAPL         AMZN          FB         GOOG        NFLX   \n",
       "Dt                                                                           \n",
       "2017-07-31    142.942795   968.000000  150.979996   908.729980  149.410004   \n",
       "2017-08-31    147.617554   987.780029  169.250000   930.500000  181.660004   \n",
       "2017-09-29    163.412552   980.599976  171.970001   939.330017  174.710007   \n",
       "2017-10-31    153.567932   961.349976  170.869995   959.109985  181.350006   \n",
       "2017-11-30    168.434494  1105.280029  180.059998  1016.640015  196.429993   \n",
       "\n",
       "                       Month Pct                                          \\\n",
       "                   SPY      AAPL      AMZN        FB      GOOG      NFLX   \n",
       "Dt                                                                         \n",
       "2017-07-31  239.382355  0.032704  0.020434  0.121009  0.023957  0.215849   \n",
       "2017-08-31  244.302643  0.106999 -0.007269  0.016071  0.009490 -0.038258   \n",
       "2017-09-29  245.015457 -0.060244 -0.019631 -0.006396  0.021058  0.038006   \n",
       "2017-10-31  249.952377  0.096808  0.149717  0.053784  0.059983  0.083154   \n",
       "2017-11-30  255.842270  0.020278  0.064662 -0.015995  0.004692 -0.045054   \n",
       "\n",
       "                      \n",
       "                 SPY  \n",
       "Dt                    \n",
       "2017-07-31  0.020554  \n",
       "2017-08-31  0.002918  \n",
       "2017-09-29  0.020149  \n",
       "2017-10-31  0.023564  \n",
       "2017-11-30  0.030566  "
      ]
     },
     "execution_count": 10,
     "metadata": {},
     "output_type": "execute_result"
    }
   ],
   "source": [
    "monthly_ret_pl = GenRetAttrTransformer( price_attr, price_attr_shift_1m, monthly_ret_attr, 1 )\n",
    "monthly_ret_df = monthly_ret_pl.fit_transform( price_monthly_df )\n",
    "monthly_ret_df.tail()"
   ]
  },
  {
   "cell_type": "markdown",
   "metadata": {},
   "source": [
    "## Create end-of-month rank (based on monthly return), and use them as rank for each day of following month"
   ]
  },
  {
   "cell_type": "markdown",
   "metadata": {},
   "source": [
    "## Rank ONLY the tickers in the universe (e.g., NOT SPY)"
   ]
  },
  {
   "cell_type": "code",
   "execution_count": 11,
   "metadata": {
    "collapsed": true
   },
   "outputs": [],
   "source": [
    "univ = [\"FB\", \"AAPL\", \"AMZN\", \"NFLX\", \"GOOG\"]"
   ]
  },
  {
   "cell_type": "code",
   "execution_count": 12,
   "metadata": {
    "collapsed": false
   },
   "outputs": [
    {
     "data": {
      "text/html": [
       "<div>\n",
       "<table border=\"1\" class=\"dataframe\">\n",
       "  <thead>\n",
       "    <tr>\n",
       "      <th></th>\n",
       "      <th colspan=\"5\" halign=\"left\">Month Pct rank</th>\n",
       "    </tr>\n",
       "    <tr>\n",
       "      <th></th>\n",
       "      <th>AAPL</th>\n",
       "      <th>AMZN</th>\n",
       "      <th>FB</th>\n",
       "      <th>GOOG</th>\n",
       "      <th>NFLX</th>\n",
       "    </tr>\n",
       "    <tr>\n",
       "      <th>Dt</th>\n",
       "      <th></th>\n",
       "      <th></th>\n",
       "      <th></th>\n",
       "      <th></th>\n",
       "      <th></th>\n",
       "    </tr>\n",
       "  </thead>\n",
       "  <tbody>\n",
       "    <tr>\n",
       "      <th>2017-11-27</th>\n",
       "      <td>4.0</td>\n",
       "      <td>5.0</td>\n",
       "      <td>1.0</td>\n",
       "      <td>2.0</td>\n",
       "      <td>3.0</td>\n",
       "    </tr>\n",
       "    <tr>\n",
       "      <th>2017-11-28</th>\n",
       "      <td>4.0</td>\n",
       "      <td>5.0</td>\n",
       "      <td>1.0</td>\n",
       "      <td>2.0</td>\n",
       "      <td>3.0</td>\n",
       "    </tr>\n",
       "    <tr>\n",
       "      <th>2017-11-29</th>\n",
       "      <td>4.0</td>\n",
       "      <td>5.0</td>\n",
       "      <td>1.0</td>\n",
       "      <td>2.0</td>\n",
       "      <td>3.0</td>\n",
       "    </tr>\n",
       "    <tr>\n",
       "      <th>2017-11-30</th>\n",
       "      <td>4.0</td>\n",
       "      <td>5.0</td>\n",
       "      <td>1.0</td>\n",
       "      <td>2.0</td>\n",
       "      <td>3.0</td>\n",
       "    </tr>\n",
       "    <tr>\n",
       "      <th>2017-12-01</th>\n",
       "      <td>NaN</td>\n",
       "      <td>NaN</td>\n",
       "      <td>NaN</td>\n",
       "      <td>NaN</td>\n",
       "      <td>NaN</td>\n",
       "    </tr>\n",
       "  </tbody>\n",
       "</table>\n",
       "</div>"
      ],
      "text/plain": [
       "           Month Pct rank                    \n",
       "                     AAPL AMZN   FB GOOG NFLX\n",
       "Dt                                           \n",
       "2017-11-27            4.0  5.0  1.0  2.0  3.0\n",
       "2017-11-28            4.0  5.0  1.0  2.0  3.0\n",
       "2017-11-29            4.0  5.0  1.0  2.0  3.0\n",
       "2017-11-30            4.0  5.0  1.0  2.0  3.0\n",
       "2017-12-01            NaN  NaN  NaN  NaN  NaN"
      ]
     },
     "execution_count": 12,
     "metadata": {},
     "output_type": "execute_result"
    }
   ],
   "source": [
    "\n",
    "next_period_rank_pl = GenRankEndOfPeriodAttrTransformer(\n",
    "    monthly_ret_df,\n",
    "    monthly_ret_attr,\n",
    "    univ,\n",
    "    monthly_rank_attr\n",
    ")\n",
    "next_period_rank_df = next_period_rank_pl.fit_transform( ret_df )\n",
    "\n",
    "next_period_rank_df.loc[ \"11/25/2017\":\"12/01/2017\"]"
   ]
  },
  {
   "cell_type": "markdown",
   "metadata": {},
   "source": [
    "## Create HML portfolio return"
   ]
  },
  {
   "cell_type": "code",
   "execution_count": 41,
   "metadata": {
    "collapsed": false
   },
   "outputs": [
    {
     "data": {
      "text/html": [
       "<div>\n",
       "<table border=\"1\" class=\"dataframe\">\n",
       "  <thead>\n",
       "    <tr>\n",
       "      <th></th>\n",
       "      <th colspan=\"5\" halign=\"left\">HML weight</th>\n",
       "      <th colspan=\"8\" halign=\"left\">Pct</th>\n",
       "    </tr>\n",
       "    <tr>\n",
       "      <th></th>\n",
       "      <th>AAPL</th>\n",
       "      <th>AMZN</th>\n",
       "      <th>FB</th>\n",
       "      <th>GOOG</th>\n",
       "      <th>NFLX</th>\n",
       "      <th>1</th>\n",
       "      <th>AAPL</th>\n",
       "      <th>AMZN</th>\n",
       "      <th>FB</th>\n",
       "      <th>GOOG</th>\n",
       "      <th>NFLX</th>\n",
       "      <th>Port</th>\n",
       "      <th>SPY</th>\n",
       "    </tr>\n",
       "    <tr>\n",
       "      <th>Dt</th>\n",
       "      <th></th>\n",
       "      <th></th>\n",
       "      <th></th>\n",
       "      <th></th>\n",
       "      <th></th>\n",
       "      <th></th>\n",
       "      <th></th>\n",
       "      <th></th>\n",
       "      <th></th>\n",
       "      <th></th>\n",
       "      <th></th>\n",
       "      <th></th>\n",
       "      <th></th>\n",
       "    </tr>\n",
       "  </thead>\n",
       "  <tbody>\n",
       "    <tr>\n",
       "      <th>2017-11-27</th>\n",
       "      <td>0.0</td>\n",
       "      <td>1.0</td>\n",
       "      <td>-1.0</td>\n",
       "      <td>0.0</td>\n",
       "      <td>0.0</td>\n",
       "      <td>NaN</td>\n",
       "      <td>-0.0</td>\n",
       "      <td>0.008288</td>\n",
       "      <td>-0.001368</td>\n",
       "      <td>0.0</td>\n",
       "      <td>-0.0</td>\n",
       "      <td>0.006921</td>\n",
       "      <td>NaN</td>\n",
       "    </tr>\n",
       "    <tr>\n",
       "      <th>2017-11-28</th>\n",
       "      <td>0.0</td>\n",
       "      <td>1.0</td>\n",
       "      <td>-1.0</td>\n",
       "      <td>0.0</td>\n",
       "      <td>0.0</td>\n",
       "      <td>NaN</td>\n",
       "      <td>-0.0</td>\n",
       "      <td>-0.001865</td>\n",
       "      <td>0.003333</td>\n",
       "      <td>-0.0</td>\n",
       "      <td>0.0</td>\n",
       "      <td>0.001468</td>\n",
       "      <td>NaN</td>\n",
       "    </tr>\n",
       "    <tr>\n",
       "      <th>2017-11-29</th>\n",
       "      <td>0.0</td>\n",
       "      <td>1.0</td>\n",
       "      <td>-1.0</td>\n",
       "      <td>0.0</td>\n",
       "      <td>0.0</td>\n",
       "      <td>NaN</td>\n",
       "      <td>-0.0</td>\n",
       "      <td>-0.027086</td>\n",
       "      <td>0.039963</td>\n",
       "      <td>-0.0</td>\n",
       "      <td>-0.0</td>\n",
       "      <td>0.012877</td>\n",
       "      <td>NaN</td>\n",
       "    </tr>\n",
       "    <tr>\n",
       "      <th>2017-11-30</th>\n",
       "      <td>0.0</td>\n",
       "      <td>1.0</td>\n",
       "      <td>-1.0</td>\n",
       "      <td>0.0</td>\n",
       "      <td>0.0</td>\n",
       "      <td>NaN</td>\n",
       "      <td>0.0</td>\n",
       "      <td>0.013330</td>\n",
       "      <td>-0.011706</td>\n",
       "      <td>-0.0</td>\n",
       "      <td>-0.0</td>\n",
       "      <td>0.001625</td>\n",
       "      <td>NaN</td>\n",
       "    </tr>\n",
       "    <tr>\n",
       "      <th>2017-12-01</th>\n",
       "      <td>0.0</td>\n",
       "      <td>0.0</td>\n",
       "      <td>0.0</td>\n",
       "      <td>0.0</td>\n",
       "      <td>0.0</td>\n",
       "      <td>NaN</td>\n",
       "      <td>-0.0</td>\n",
       "      <td>-0.000000</td>\n",
       "      <td>-0.000000</td>\n",
       "      <td>-0.0</td>\n",
       "      <td>-0.0</td>\n",
       "      <td>0.000000</td>\n",
       "      <td>NaN</td>\n",
       "    </tr>\n",
       "  </tbody>\n",
       "</table>\n",
       "</div>"
      ],
      "text/plain": [
       "           HML weight                     Pct                                \\\n",
       "                 AAPL AMZN   FB GOOG NFLX   1 AAPL      AMZN        FB GOOG   \n",
       "Dt                                                                            \n",
       "2017-11-27        0.0  1.0 -1.0  0.0  0.0 NaN -0.0  0.008288 -0.001368  0.0   \n",
       "2017-11-28        0.0  1.0 -1.0  0.0  0.0 NaN -0.0 -0.001865  0.003333 -0.0   \n",
       "2017-11-29        0.0  1.0 -1.0  0.0  0.0 NaN -0.0 -0.027086  0.039963 -0.0   \n",
       "2017-11-30        0.0  1.0 -1.0  0.0  0.0 NaN  0.0  0.013330 -0.011706 -0.0   \n",
       "2017-12-01        0.0  0.0  0.0  0.0  0.0 NaN -0.0 -0.000000 -0.000000 -0.0   \n",
       "\n",
       "                               \n",
       "           NFLX      Port SPY  \n",
       "Dt                             \n",
       "2017-11-27 -0.0  0.006921 NaN  \n",
       "2017-11-28  0.0  0.001468 NaN  \n",
       "2017-11-29 -0.0  0.012877 NaN  \n",
       "2017-11-30 -0.0  0.001625 NaN  \n",
       "2017-12-01 -0.0  0.000000 NaN  "
      ]
     },
     "execution_count": 41,
     "metadata": {},
     "output_type": "execute_result"
    }
   ],
   "source": [
    "wt_attr = \"HML weight\"\n",
    "portret_attr = \"Port\"\n",
    "\n",
    "portret_pl = make_pipeline(  GenRankToPortRetTransformer(\n",
    "    ret_attr,\n",
    "    next_period_rank_df,\n",
    "    monthly_rank_attr,\n",
    "    wt_attr,\n",
    "    portret_attr\n",
    ")\n",
    "                          )\n",
    "\n",
    "port_ret_df = portret_pl.fit_transform( ret_df )\n",
    "\n",
    "port_ret_df.loc[ \"11/25/2017\":\"12/01/2017\"]"
   ]
  }
 ],
 "metadata": {
  "kernelspec": {
   "display_name": "Python 3",
   "language": "python",
   "name": "python3"
  },
  "language_info": {
   "codemirror_mode": {
    "name": "ipython",
    "version": 3
   },
   "file_extension": ".py",
   "mimetype": "text/x-python",
   "name": "python",
   "nbconvert_exporter": "python",
   "pygments_lexer": "ipython3",
   "version": "3.6.0"
  }
 },
 "nbformat": 4,
 "nbformat_minor": 2
}
