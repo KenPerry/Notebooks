{
 "cells": [
  {
   "cell_type": "code",
   "execution_count": 1,
   "metadata": {
    "collapsed": true
   },
   "outputs": [],
   "source": [
    "%matplotlib notebook\n",
    "from IPython.core.interactiveshell import InteractiveShell\n",
    "InteractiveShell.ast_node_interactivity = \"all\""
   ]
  },
  {
   "cell_type": "code",
   "execution_count": 11,
   "metadata": {
    "collapsed": true
   },
   "outputs": [],
   "source": [
    "import numpy as np\n",
    "from scipy.ndimage import convolve"
   ]
  },
  {
   "cell_type": "code",
   "execution_count": 19,
   "metadata": {
    "collapsed": false
   },
   "outputs": [
    {
     "data": {
      "text/plain": [
       "array([[ 0,  1,  2,  3,  4,  5,  6,  7],\n",
       "       [ 8,  9, 10, 11, 12, 13, 14, 15],\n",
       "       [16, 17, 18, 19, 20, 21, 22, 23],\n",
       "       [24, 25, 26, 27, 28, 29, 30, 31],\n",
       "       [32, 33, 34, 35, 36, 37, 38, 39],\n",
       "       [40, 41, 42, 43, 44, 45, 46, 47],\n",
       "       [48, 49, 50, 51, 52, 53, 54, 55],\n",
       "       [56, 57, 58, 59, 60, 61, 62, 63]])"
      ]
     },
     "execution_count": 19,
     "metadata": {},
     "output_type": "execute_result"
    }
   ],
   "source": [
    "X = np.arange(64).reshape(8,8)\n",
    "X"
   ]
  },
  {
   "cell_type": "code",
   "execution_count": 7,
   "metadata": {
    "collapsed": true
   },
   "outputs": [],
   "source": [
    "direction_vectors = [\n",
    "        [[0, 1, 0],\n",
    "         [0, 0, 0],\n",
    "         [0, 0, 0]],\n",
    "\n",
    "        [[0, 0, 0],\n",
    "         [1, 0, 0],\n",
    "         [0, 0, 0]],\n",
    "\n",
    "        [[0, 0, 0],\n",
    "         [0, 0, 1],\n",
    "         [0, 0, 0]],\n",
    "\n",
    "        [[0, 0, 0],\n",
    "         [0, 0, 0],\n",
    "         [0, 1, 0]]]\n",
    "\n",
    "shift = lambda x, w: convolve(x.reshape((8, 8)), mode='constant',\n",
    "                                  weights=w).ravel()\n",
    "   "
   ]
  },
  {
   "cell_type": "code",
   "execution_count": 45,
   "metadata": {
    "collapsed": true
   },
   "outputs": [],
   "source": [
    "convolve?"
   ]
  },
  {
   "cell_type": "markdown",
   "metadata": {},
   "source": [
    "# Convolution evaluated at coordinate (i,j) of  (n X n) matrix X:\n",
    "## 1. Find the 3x3 square centered at (i,j)  (Pad X so it is ((n+1) X (n+1) )\n",
    "## 2. Place the 3 x 3 weight matrix over this square and multiply element-wise\n",
    "## 3. Sum up the multiplicands\n",
    "\n",
    "## NOTE: The convolution (f*g)(t) = integral_T { f(T) * g(T -t) }\n",
    "###  so the weight matrix needs to be reversed (i.e., read backwards) since it is g(T-t), not g(t)"
   ]
  },
  {
   "cell_type": "markdown",
   "metadata": {},
   "source": [
    "# Pad X so that, if we go beyond borders, we get zeroes"
   ]
  },
  {
   "cell_type": "code",
   "execution_count": 132,
   "metadata": {
    "collapsed": false
   },
   "outputs": [
    {
     "data": {
      "text/plain": [
       "array([[  0.,   0.,   0.,   0.,   0.,   0.,   0.,   0.,   0.,   0.],\n",
       "       [  0.,   0.,   1.,   2.,   3.,   4.,   5.,   6.,   7.,   0.],\n",
       "       [  0.,   8.,   9.,  10.,  11.,  12.,  13.,  14.,  15.,   0.],\n",
       "       [  0.,  16.,  17.,  18.,  19.,  20.,  21.,  22.,  23.,   0.],\n",
       "       [  0.,  24.,  25.,  26.,  27.,  28.,  29.,  30.,  31.,   0.],\n",
       "       [  0.,  32.,  33.,  34.,  35.,  36.,  37.,  38.,  39.,   0.],\n",
       "       [  0.,  40.,  41.,  42.,  43.,  44.,  45.,  46.,  47.,   0.],\n",
       "       [  0.,  48.,  49.,  50.,  51.,  52.,  53.,  54.,  55.,   0.],\n",
       "       [  0.,  56.,  57.,  58.,  59.,  60.,  61.,  62.,  63.,   0.],\n",
       "       [  0.,   0.,   0.,   0.,   0.,   0.,   0.,   0.,   0.,   0.]])"
      ]
     },
     "execution_count": 132,
     "metadata": {},
     "output_type": "execute_result"
    }
   ],
   "source": [
    "zmat = np.zeros( np.array(X.shape)+2 )\n",
    "zmat[1:-1, 1:-1] += X\n",
    "zmat"
   ]
  },
  {
   "cell_type": "code",
   "execution_count": 199,
   "metadata": {
    "collapsed": false
   },
   "outputs": [
    {
     "data": {
      "text/plain": [
       "1.0"
      ]
     },
     "execution_count": 199,
     "metadata": {},
     "output_type": "execute_result"
    }
   ],
   "source": [
    "def conv(paddedMat, weights, i,j):\n",
    "    # i, j are in original matrix (X) space, not padded matrix space\n",
    "    #   i.e., X = paddedMat[1:-1, 1:-1]\n",
    "    io, jo = i+1, j+1\n",
    "    \n",
    "    # Flatten the 3x3 sub-section of paddedMat centered at (io, jo)\n",
    "    matFlat = np.ravel( paddedMat[io-1:io+1 +1, jo-1:jo+1 +1] )\n",
    "   \n",
    "    # weights need to be reversed\n",
    "    wr = np.ravel(weights)[-1::-1]\n",
    "    \n",
    "    return np.inner(matFlat, wr)\n",
    "    \n",
    "conv(zmat, direction_vectors[3], 1,1)"
   ]
  },
  {
   "cell_type": "markdown",
   "metadata": {},
   "source": [
    "# Evaluate my implementation at 3 discrete points:\n",
    "### rows 1 thru 3 (zero indexed) at column 1"
   ]
  },
  {
   "cell_type": "code",
   "execution_count": 229,
   "metadata": {
    "collapsed": false
   },
   "outputs": [
    {
     "name": "stdout",
     "output_type": "stream",
     "text": [
      "1, 1: 8.0\n",
      "2, 1: 16.0\n",
      "3, 1: 24.0\n"
     ]
    }
   ],
   "source": [
    "for (i,j) in list( zip( np.arange(1,4),[ 1 ]  *3 ) ):\n",
    "    val = conv(zmat, direction_vectors[2], i,j)\n",
    "    print(\"{i:d}, {j:d}: {val}\".format(i=i, j=j, val=val))"
   ]
  },
  {
   "cell_type": "markdown",
   "metadata": {},
   "source": [
    "# Display the entire matrix as computed by the convolve function\n",
    "## The above evaluation of my implementation should match at the selected points"
   ]
  },
  {
   "cell_type": "code",
   "execution_count": 228,
   "metadata": {
    "collapsed": false
   },
   "outputs": [
    {
     "data": {
      "text/plain": [
       "array([[ 0,  0,  1,  2,  3,  4,  5,  6],\n",
       "       [ 0,  8,  9, 10, 11, 12, 13, 14],\n",
       "       [ 0, 16, 17, 18, 19, 20, 21, 22],\n",
       "       [ 0, 24, 25, 26, 27, 28, 29, 30],\n",
       "       [ 0, 32, 33, 34, 35, 36, 37, 38],\n",
       "       [ 0, 40, 41, 42, 43, 44, 45, 46],\n",
       "       [ 0, 48, 49, 50, 51, 52, 53, 54],\n",
       "       [ 0, 56, 57, 58, 59, 60, 61, 62]])"
      ]
     },
     "execution_count": 228,
     "metadata": {},
     "output_type": "execute_result"
    }
   ],
   "source": [
    "convolve(X, mode='constant', weights=direction_vectors[2])"
   ]
  },
  {
   "cell_type": "code",
   "execution_count": null,
   "metadata": {
    "collapsed": true
   },
   "outputs": [],
   "source": [
    " X = np.concatenate([X] +\n",
    "                       [np.apply_along_axis(shift, 1, X, vector)\n",
    "                        for vector in direction_vectors])"
   ]
  }
 ],
 "metadata": {
  "kernelspec": {
   "display_name": "Python [default]",
   "language": "python",
   "name": "python3"
  },
  "language_info": {
   "codemirror_mode": {
    "name": "ipython",
    "version": 3
   },
   "file_extension": ".py",
   "mimetype": "text/x-python",
   "name": "python",
   "nbconvert_exporter": "python",
   "pygments_lexer": "ipython3",
   "version": "3.5.2"
  }
 },
 "nbformat": 4,
 "nbformat_minor": 1
}
