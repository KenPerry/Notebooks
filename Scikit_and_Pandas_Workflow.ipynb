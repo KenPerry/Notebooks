{
 "cells": [
  {
   "cell_type": "markdown",
   "metadata": {},
   "source": [
    "## DataFrameMapper used here IS NO LONGER needed ?\n",
    "## sklearn Transformer has a base class for transformations\n",
    "###  This base classs does NOT assume form of input is numpy array.  Can be a Panda\n",
    "See http://tomaugspurger.github.io/scalable-ml-01\n",
    "    https://www.kaggle.com/jankoch/scikit-learn-pipelines-and-pandas/notebook"
   ]
  },
  {
   "cell_type": "code",
   "execution_count": 2,
   "metadata": {
    "collapsed": true
   },
   "outputs": [],
   "source": [
    "from IPython.core.interactiveshell import InteractiveShell\n",
    "InteractiveShell.ast_node_interactivity = \"all\""
   ]
  },
  {
   "cell_type": "markdown",
   "metadata": {},
   "source": [
    "# Pandas + Scikit workflow\n",
    "\n",
    "Ever since I started doing machine learning I was torn apart between Python and R. R is extremely easy at the beginning and you might create a simple model in a matter of minutes. \n",
    "\n",
    "Python + [Scikit](http://scikit-learn.org/stable/) + [Pandas](http://pandas.pydata.org/) has definitely steeper learning curve. At this point, I prefer Python over R as I find more explicit. It's harder but if you use it properly it's simpler once you start doing something more serious as different libraries tend to play together well.\n",
    "\n",
    "I will present here how I prefer structuring my explorative Python scripts using [`Pipeline`](http://scikit-learn.org/stable/modules/generated/sklearn.pipeline.Pipeline.html), [`sklearn.preprocessing.*`](scikit-learn.org/stable/modules/preprocessing.html), `Pandas` dataframes and [`sklearn-pandas`](https://github.com/paulgb/sklearn-pandas) bridge library.\n",
    "\n",
    "If you want to play with the code, go ahead and download the .ipynb source of this blogpost."
   ]
  },
  {
   "cell_type": "markdown",
   "metadata": {},
   "source": [
    "# Preprocessing\n",
    "\n",
    "Let's go through an example from Kaggle, the [Titanic](https://www.kaggle.com/c/titanic) dataset. The task here is to predict who will survive on Titanic, based on a subset of whole dataset.\n",
    "\n",
    "What I care about is to do as much data preprocessing as possible in Pandas as it's easy to validate the results of it and unlike using numpy, you can manipulate the data based on column names instead of column indexes. A byproduct of that is, that you arrive at a R-ready dataframe and you can e.g. do some explorative analysis using [ggplot2](ggplot2.org).\n",
    "\n",
    "If you wish to see the gist only, go directly to the first usage of `Pipeline`."
   ]
  },
  {
   "cell_type": "code",
   "execution_count": 1,
   "metadata": {
    "collapsed": false
   },
   "outputs": [
    {
     "name": "stderr",
     "output_type": "stream",
     "text": [
      "/opt/conda/lib/python3.5/site-packages/sklearn/cross_validation.py:44: DeprecationWarning: This module was deprecated in version 0.18 in favor of the model_selection module into which all the refactored classes and functions are moved. Also note that the interface of the new CV iterators are different from that of this module. This module will be removed in 0.20.\n",
      "  \"This module will be removed in 0.20.\", DeprecationWarning)\n",
      "/opt/conda/lib/python3.5/site-packages/sklearn/grid_search.py:43: DeprecationWarning: This module was deprecated in version 0.18 in favor of the model_selection module into which all the refactored classes and functions are moved. This module will be removed in 0.20.\n",
      "  DeprecationWarning)\n"
     ]
    }
   ],
   "source": [
    "from __future__ import division\n",
    "import csv as csv\n",
    "import numpy as np\n",
    "\n",
    "import pandas as pd\n",
    "\n",
    "from sklearn.ensemble import RandomForestClassifier\n",
    "from sklearn.cross_validation import KFold, StratifiedKFold, cross_val_score\n",
    "from sklearn.pipeline import Pipeline\n",
    "from sklearn.linear_model import LogisticRegression\n",
    "from sklearn.grid_search import GridSearchCV\n",
    "from sklearn.preprocessing import LabelEncoder, LabelBinarizer\n",
    "\n",
    "from sklearn_pandas import DataFrameMapper"
   ]
  },
  {
   "cell_type": "markdown",
   "metadata": {},
   "source": [
    "Let's load the data from Kaggle Titanic competition."
   ]
  },
  {
   "cell_type": "code",
   "execution_count": 3,
   "metadata": {
    "collapsed": false
   },
   "outputs": [],
   "source": [
    "df_train = pd.read_csv('train.csv', header = 0, index_col = 'PassengerId')\n",
    "df_test = pd.read_csv('test.csv', header = 0, index_col = 'PassengerId')\n",
    "df = pd.concat([df_train, df_test], keys=[\"train\", \"test\"])"
   ]
  },
  {
   "cell_type": "markdown",
   "metadata": {},
   "source": [
    "I concatenated `df_train` and `df_test` above.\n",
    "This simplifies dealing with any with missing data, creating new features and such as I do it once for the whole dataset. \n",
    "Note also the `index_col` argument - this tremendously helps when performing `merges`."
   ]
  },
  {
   "cell_type": "code",
   "execution_count": 4,
   "metadata": {
    "collapsed": false
   },
   "outputs": [],
   "source": [
    "df['Title'] = df['Name'].apply(lambda c: c[c.index(',') + 2 : c.index('.')])\n",
    "df['LastName'] = df['Name'].apply(lambda n: n[0:n.index(',')])\n",
    "df['FamilySize'] = df['SibSp'] + df['Parch'] + 1\n",
    "df.loc[df['Embarked'].isnull(), 'Embarked'] = df['Embarked'].mode()[0]\n",
    "df.loc[df['Fare'].isnull(), 'Fare'] = df['Fare'].mode()[0]\n",
    "df['FamilyID'] = df['LastName'] + ':' + df['FamilySize'].apply(str)\n",
    "df.loc[df['FamilySize'] <= 2, 'FamilyID'] = 'Small_Family'\n",
    "\n",
    "df['AgeOriginallyNaN'] = df['Age'].isnull().astype(int)\n",
    "medians_by_title = pd.DataFrame(df.groupby('Title')['Age'].median()) \\\n",
    "  .rename(columns = {'Age': 'AgeFilledMedianByTitle'})\n",
    "df = df.merge(medians_by_title, left_on = 'Title', right_index = True) \\\n",
    "  .sort_index(level = 0).sort_index(level = 1)"
   ]
  },
  {
   "cell_type": "markdown",
   "metadata": {},
   "source": [
    "Have you noticed I used multiindex when creating `df`? Now, it's simple to split it back!"
   ]
  },
  {
   "cell_type": "code",
   "execution_count": 5,
   "metadata": {
    "collapsed": true
   },
   "outputs": [],
   "source": [
    "df_train = df.ix['train']\n",
    "df_test  = df.ix['test']"
   ]
  },
  {
   "cell_type": "markdown",
   "metadata": {},
   "source": [
    "The purpose of `featurize` function above is to create dummy variables out of categorical ones. In `Scikit` we must be explicit about it as the algorithms accept only `float` variables."
   ]
  },
  {
   "cell_type": "code",
   "execution_count": 6,
   "metadata": {
    "collapsed": false
   },
   "outputs": [],
   "source": [
    "def featurize(features):\n",
    "  transformations = [\n",
    "                            ('Embarked', LabelBinarizer()),\n",
    "                            ('Fare', None),\n",
    "                            ('Parch', None),\n",
    "                            ('Pclass', LabelBinarizer()),\n",
    "                            ('Sex', LabelBinarizer()),\n",
    "                            ('SibSp', None),                                       \n",
    "                            ('Title', LabelBinarizer()),\n",
    "                            ('FamilySize', None),\n",
    "                            ('FamilyID', LabelBinarizer()),\n",
    "                            ('AgeOriginallyNaN', None),\n",
    "                            ('AgeFilledMedianByTitle', None)]\n",
    "\n",
    "  return DataFrameMapper( list(filter(lambda x: x[0] in df.columns, transformations) ) )\n"
   ]
  },
  {
   "cell_type": "code",
   "execution_count": 7,
   "metadata": {
    "collapsed": false
   },
   "outputs": [],
   "source": [
    "features = ['Sex', 'Title', 'FamilySize', 'AgeFilledMedianByTitle',\n",
    "            'Embarked', 'Pclass', 'FamilyID', 'AgeOriginallyNaN']\n",
    "\n",
    "pipeline = Pipeline([('featurize', featurize(features)), ('forest', RandomForestClassifier())])"
   ]
  },
  {
   "cell_type": "markdown",
   "metadata": {},
   "source": [
    "The `pipeline` is a concatenation of transformer `featurize` and classifier `forest`. \n",
    "\n",
    "Note, I used `sklearn-pandas` `DataFrameMapper` adapter to bridge `sklearn` and `pandas` in a seamless way. Now I can put `Pandas` data frames right into the pipeline to fit the model. No awkward jumping from `Pandas` and `SciKit` back and forth!"
   ]
  },
  {
   "cell_type": "code",
   "execution_count": 8,
   "metadata": {
    "collapsed": false
   },
   "outputs": [],
   "source": [
    "X = df_train[df_train.columns.drop('Survived')]\n",
    "y = df_train['Survived']\n",
    "model = pipeline.fit(X = X, y = y)"
   ]
  },
  {
   "cell_type": "markdown",
   "metadata": {},
   "source": [
    "Note, that I put the pandas dataframe `X` and `y` directly, without explicitly transforming into numpy array.\n",
    "\n",
    "I can reuse the pipeline for prediction and rely on pipeline to perform label binarizations the same way it was done for training."
   ]
  },
  {
   "cell_type": "code",
   "execution_count": 9,
   "metadata": {
    "collapsed": false
   },
   "outputs": [],
   "source": [
    "prediction = model.predict(df_test)"
   ]
  },
  {
   "cell_type": "code",
   "execution_count": 10,
   "metadata": {
    "collapsed": false
   },
   "outputs": [
    {
     "data": {
      "text/plain": [
       "array([ 0.,  0.,  0.,  0.,  0.,  0.,  1.,  0.,  1.,  0.,  0.,  0.,  1.,\n",
       "        0.,  1.,  1.,  0.,  0.,  0.,  1.,  1.,  1.,  1.,  0.,  1.,  0.,\n",
       "        1.,  0.,  1.,  0.,  0.,  0.,  1.,  0.,  1.,  0.,  0.,  0.,  0.,\n",
       "        0.,  0.,  1.,  0.,  1.,  1.,  0.,  0.,  0.,  1.,  0.,  0.,  0.,\n",
       "        1.,  1.,  0.,  0.,  0.,  0.,  0.,  1.,  0.,  0.,  0.,  1.,  1.,\n",
       "        1.,  1.,  0.,  0.,  1.,  1.,  0.,  1.,  0.,  1.,  0.,  0.,  1.,\n",
       "        0.,  1.,  1.,  0.,  0.,  0.,  0.,  0.,  1.,  1.,  1.,  1.,  0.,\n",
       "        1.,  1.,  0.,  0.,  0.,  1.,  0.,  0.,  0.,  1.,  0.,  0.,  0.,\n",
       "        0.,  0.,  0.,  0.,  0.,  0.,  0.,  1.,  0.,  1.,  1.,  0.,  0.,\n",
       "        1.,  0.,  1.,  1.,  0.,  1.,  0.,  0.,  1.,  0.,  1.,  0.,  0.,\n",
       "        0.,  0.,  0.,  0.,  0.,  0.,  0.,  0.,  1.,  0.,  0.,  1.,  0.,\n",
       "        0.,  1.,  0.,  0.,  0.,  1.,  0.,  1.,  0.,  0.,  0.,  0.,  0.,\n",
       "        1.,  0.,  1.,  0.,  1.,  1.,  1.,  0.,  0.,  1.,  0.,  0.,  1.,\n",
       "        0.,  0.,  0.,  0.,  0.,  0.,  1.,  1.,  1.,  1.,  1.,  0.,  1.,\n",
       "        1.,  0.,  1.,  0.,  1.,  0.,  0.,  0.,  0.,  0.,  1.,  0.,  1.,\n",
       "        0.,  1.,  0.,  0.,  1.,  0.,  1.,  1.,  1.,  0.,  0.,  1.,  0.,\n",
       "        0.,  0.,  0.,  0.,  0.,  1.,  0.,  0.,  1.,  0.,  1.,  0.,  1.,\n",
       "        0.,  1.,  0.,  1.,  0.,  0.,  1.,  0.,  0.,  0.,  1.,  0.,  0.,\n",
       "        1.,  0.,  1.,  0.,  1.,  1.,  1.,  1.,  0.,  0.,  0.,  0.,  1.,\n",
       "        0.,  1.,  0.,  1.,  0.,  0.,  0.,  0.,  0.,  0.,  0.,  1.,  0.,\n",
       "        0.,  0.,  1.,  1.,  0.,  0.,  0.,  0.,  0.,  0.,  0.,  0.,  1.,\n",
       "        1.,  0.,  1.,  0.,  0.,  0.,  0.,  0.,  1.,  1.,  0.,  1.,  0.,\n",
       "        0.,  0.,  0.,  0.,  0.,  0.,  0.,  1.,  0.,  0.,  1.,  0.,  0.,\n",
       "        0.,  0.,  0.,  0.,  0.,  1.,  1.,  0.,  1.,  0.,  0.,  0.,  0.,\n",
       "        0.,  1.,  1.,  1.,  0.,  0.,  0.,  0.,  0.,  0.,  0.,  1.,  1.,\n",
       "        0.,  1.,  0.,  0.,  0.,  1.,  0.,  0.,  1.,  0.,  0.,  0.,  0.,\n",
       "        0.,  1.,  0.,  0.,  0.,  1.,  1.,  1.,  0.,  1.,  0.,  1.,  1.,\n",
       "        0.,  0.,  0.,  1.,  0.,  1.,  0.,  0.,  1.,  0.,  1.,  1.,  0.,\n",
       "        1.,  0.,  0.,  1.,  1.,  0.,  0.,  1.,  0.,  0.,  1.,  1.,  0.,\n",
       "        0.,  0.,  0.,  0.,  0.,  1.,  0.,  1.,  1.,  0.,  0.,  0.,  0.,\n",
       "        0.,  1.,  1.,  0.,  0.,  1.,  0.,  1.,  0.,  0.,  1.,  0.,  1.,\n",
       "        0.,  1.,  0.,  0.,  0.,  1.,  1.,  1.,  1.,  0.,  0.,  1.,  0.,\n",
       "        0.,  1.])"
      ]
     },
     "execution_count": 10,
     "metadata": {},
     "output_type": "execute_result"
    }
   ],
   "source": [
    "prediction"
   ]
  },
  {
   "cell_type": "markdown",
   "metadata": {},
   "source": [
    "# Fruits - model exploration\n",
    "In R, some of these steps would be easier. For example instead of playing with dummy variables, one would simply use `Survived ~ Sex + Title + FamilySize + ... + AgeOriginallyNaN` and the algorithms would treat factor variables properly. \n",
    "\n",
    "In `Scikit` we had to laboriously prepare the data and pipeline. Let's see what laverage does it provide."
   ]
  },
  {
   "cell_type": "markdown",
   "metadata": {},
   "source": [
    "### Modifying model\n",
    "Creating a model with different set of features or different classifier is very simple."
   ]
  },
  {
   "cell_type": "code",
   "execution_count": 20,
   "metadata": {
    "collapsed": false
   },
   "outputs": [],
   "source": [
    "simple_pipeline = Pipeline([('featurize', featurize(['Sex'])), ('lm', LogisticRegression())])\n",
    "model = simple_pipeline.fit(X = X, y = y).predict(df_test)"
   ]
  },
  {
   "cell_type": "markdown",
   "metadata": {},
   "source": [
    "### Cross validation\n",
    "Say we want to do k fold cross validation to validate our model. According to [documentation](http://scikit-learn.org/stable/modules/generated/sklearn.cross_validation.cross_val_score.html#sklearn.cross_validation.cross_val_score) this should perform a 3-fold cross validation."
   ]
  },
  {
   "cell_type": "code",
   "execution_count": 21,
   "metadata": {
    "collapsed": false
   },
   "outputs": [
    {
     "name": "stderr",
     "output_type": "stream",
     "text": [
      "/opt/conda/lib/python3.5/site-packages/sklearn/base.py:114: DeprecationWarning: Estimator DataFrameMapper modifies parameters in __init__. This behavior is deprecated as of 0.18 and support for this behavior will be removed in 0.20.\n",
      "  % type(estimator).__name__, DeprecationWarning)\n",
      "/opt/conda/lib/python3.5/site-packages/sklearn/base.py:114: DeprecationWarning: Estimator DataFrameMapper modifies parameters in __init__. This behavior is deprecated as of 0.18 and support for this behavior will be removed in 0.20.\n",
      "  % type(estimator).__name__, DeprecationWarning)\n",
      "/opt/conda/lib/python3.5/site-packages/sklearn/base.py:114: DeprecationWarning: Estimator DataFrameMapper modifies parameters in __init__. This behavior is deprecated as of 0.18 and support for this behavior will be removed in 0.20.\n",
      "  % type(estimator).__name__, DeprecationWarning)\n"
     ]
    },
    {
     "data": {
      "text/plain": [
       "array([ 0.77104377,  0.78451178,  0.81818182])"
      ]
     },
     "execution_count": 21,
     "metadata": {},
     "output_type": "execute_result"
    }
   ],
   "source": [
    "cross_val_score(pipeline, X, y, 'accuracy')"
   ]
  },
  {
   "cell_type": "markdown",
   "metadata": {},
   "source": [
    "Looks good! How about k-fold stratified cross validation ?"
   ]
  },
  {
   "cell_type": "code",
   "execution_count": 12,
   "metadata": {
    "collapsed": false
   },
   "outputs": [
    {
     "data": {
      "text/plain": [
       "array([ 0.82222222,  0.83333333,  0.78651685,  0.87640449,  0.83146067,\n",
       "        0.79775281,  0.82022472,  0.78651685,  0.87640449,  0.85227273])"
      ]
     },
     "execution_count": 12,
     "metadata": {},
     "output_type": "execute_result"
    }
   ],
   "source": [
    "stratified_kfold = StratifiedKFold(df_train['Survived'] == 1, n_folds = 10)\n",
    "cross_val_score(simple_pipeline, X, y, 'accuracy', cv = stratified_kfold)"
   ]
  },
  {
   "cell_type": "markdown",
   "metadata": {},
   "source": [
    "That impresses me!"
   ]
  },
  {
   "cell_type": "markdown",
   "metadata": {},
   "source": [
    "### Hyperparameters optimization\n",
    "We have 3 algorithms implemented in `Scikit` to choose from. Let's try Grid Search."
   ]
  },
  {
   "cell_type": "code",
   "execution_count": 18,
   "metadata": {
    "collapsed": false
   },
   "outputs": [
    {
     "data": {
      "text/plain": [
       "RandomForestClassifier(bootstrap=True, class_weight=None, criterion='entropy',\n",
       "            max_depth=None, max_features='auto', max_leaf_nodes=None,\n",
       "            min_samples_leaf=1, min_samples_split=2,\n",
       "            min_weight_fraction_leaf=0.0, n_estimators=16, n_jobs=1,\n",
       "            oob_score=False, random_state=None, verbose=0,\n",
       "            warm_start=False)"
      ]
     },
     "execution_count": 18,
     "metadata": {},
     "output_type": "execute_result"
    }
   ],
   "source": [
    "features = ['Sex', 'Title', 'FamilySize', 'AgeFilledMedianByTitle',\n",
    "            'Embarked', 'Pclass', 'FamilyID', 'AgeOriginallyNaN']\n",
    "\n",
    "pipeline = Pipeline([('featurize', featurize(features)), ('forest', RandomForestClassifier(n_estimators = 10))])\n",
    "\n",
    "pipeline.fit(X, y).predict(df_train)\n",
    "\n",
    "param_grid = dict(forest__n_estimators = [2, 16, 32], forest__criterion = ['gini', 'entropy'])\n",
    "\n",
    "grid_search = GridSearchCV(pipeline, param_grid=param_grid, scoring='accuracy')\n",
    "\n",
    "best_pipeline = grid_search.fit(X, y).best_estimator_\n",
    "best_pipeline.get_params()['forest']\n"
   ]
  },
  {
   "cell_type": "markdown",
   "metadata": {},
   "source": [
    "Turns out the best parameters are: `n_estimators=32` and `crieterion=gini`. \n",
    "\n",
    "Oh wait but how is it scored? The `cv` argument is unset, so we are at 3-fold cross-validation. Let's try out stratified cross validation."
   ]
  },
  {
   "cell_type": "code",
   "execution_count": 15,
   "metadata": {
    "collapsed": false
   },
   "outputs": [
    {
     "data": {
      "text/plain": [
       "RandomForestClassifier(bootstrap=True, class_weight=None, criterion='gini',\n",
       "            max_depth=None, max_features='auto', max_leaf_nodes=None,\n",
       "            min_samples_leaf=1, min_samples_split=2,\n",
       "            min_weight_fraction_leaf=0.0, n_estimators=16, n_jobs=1,\n",
       "            oob_score=False, random_state=None, verbose=0,\n",
       "            warm_start=False)"
      ]
     },
     "execution_count": 15,
     "metadata": {},
     "output_type": "execute_result"
    }
   ],
   "source": [
    "grid_search = GridSearchCV(pipeline, param_grid=param_grid, cv = stratified_kfold, scoring='accuracy')\n",
    "best_pipeline = grid_search.fit(X, y).best_estimator_\n",
    "best_pipeline.get_params()['forest']"
   ]
  },
  {
   "cell_type": "markdown",
   "metadata": {},
   "source": [
    "Oh, now we got `criterion=gini` but `n_estimators=16`.\n",
    "If you want to verify that indeed stratified 10-fold cross validation was performed, you can set e.g. `verbose = 10` as argument to `GridSearchCV`."
   ]
  },
  {
   "cell_type": "markdown",
   "metadata": {},
   "source": [
    "### Interfacing with R\n",
    "Last but not least structuring the code like I did above gives makes laveraging R using `rpy2` very simple, as you have a R ready variables, mainly `df`, `df_test` and `df_train`. \n",
    "\n",
    "I myself do that to plot using R's excellent `ggplot`."
   ]
  },
  {
   "cell_type": "code",
   "execution_count": 16,
   "metadata": {
    "collapsed": false
   },
   "outputs": [],
   "source": [
    "%load_ext rpy2.ipython\n",
    "%Rpush df"
   ]
  },
  {
   "cell_type": "code",
   "execution_count": 17,
   "metadata": {
    "collapsed": false
   },
   "outputs": [
    {
     "data": {
      "image/png": "[encoded data removed]"
     },
     "metadata": {},
     "output_type": "display_data"
    }
   ],
   "source": [
    "%%R\n",
    "library(ggplot2)\n",
    "\n",
    "ggplot(df) +\n",
    "  geom_bar(aes(Sex), stat = \"bin\") + \n",
    "  geom_bar(aes(Sex, fill = factor(Survived)), stat = \"bin\", position = \"dodge\") +\n",
    "  scale_fill_manual(values=c(\"#DD3333\", \"#33CC66\", \"#eeee00\"))"
   ]
  },
  {
   "cell_type": "markdown",
   "metadata": {},
   "source": [
    "# Summary\n",
    "\n",
    "The last thing that I am missing in this picture is mapping between column names in pandas dataframe and column indexes in numpy arrays. That would be very useful if you want to e.g. display a tree from random forest for inspection.\n",
    "\n",
    "Let me know if you know a way!"
   ]
  }
 ],
 "metadata": {
  "anaconda-cloud": {},
  "kernelspec": {
   "display_name": "Python [default]",
   "language": "python",
   "name": "python3"
  },
  "language_info": {
   "codemirror_mode": {
    "name": "ipython",
    "version": 3
   },
   "file_extension": ".py",
   "mimetype": "text/x-python",
   "name": "python",
   "nbconvert_exporter": "python",
   "pygments_lexer": "ipython3",
   "version": "3.5.2"
  }
 },
 "nbformat": 4,
 "nbformat_minor": 0
}
