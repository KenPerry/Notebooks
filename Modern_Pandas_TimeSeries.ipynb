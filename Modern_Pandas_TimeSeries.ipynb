{
 "cells": [
  {
   "cell_type": "markdown",
   "metadata": {},
   "source": [
    "# From\n",
    "http://tomaugspurger.github.io/modern-7-timeseries"
   ]
  },
  {
   "cell_type": "code",
   "execution_count": 1,
   "metadata": {
    "collapsed": true
   },
   "outputs": [],
   "source": [
    "from IPython.core.interactiveshell import InteractiveShell\n",
    "InteractiveShell.ast_node_interactivity = \"all\""
   ]
  },
  {
   "cell_type": "code",
   "execution_count": 2,
   "metadata": {
    "collapsed": true
   },
   "outputs": [],
   "source": [
    "%matplotlib inline\n",
    "\n",
    "import os\n",
    "import numpy as np\n",
    "import pandas as pd\n",
    "# import pandas_datareader.data as web\n",
    "import seaborn as sns\n",
    "import matplotlib.pyplot as plt\n",
    "sns.set(style='ticks', context='talk')\n",
    "\n",
    "if int(os.environ.get(\"MODERN_PANDAS_EPUB\", 0)):\n",
    "    import prep # noqa"
   ]
  },
  {
   "cell_type": "markdown",
   "metadata": {},
   "source": [
    "## NOTE: pandas_datareader is obsolete\n",
    "### replacing with pandas.io.data DataReader\n",
    "\n",
    "### See: \n",
    "https://stackoverflow.com/questions/43665016/python-pandas-datareader"
   ]
  },
  {
   "cell_type": "code",
   "execution_count": 7,
   "metadata": {
    "collapsed": false
   },
   "outputs": [],
   "source": [
    "import pandas_datareader as pdr\n",
    "\n",
    "symbols = ['GS', 'MSFT', 'GOOG', 'AAPL']\n",
    "\n",
    "import datetime\n",
    "start = datetime.datetime(2006, 1, 1)\n",
    "end = datetime.datetime(2010, 1, 1)\n",
    "\n",
    "data = dict((sym, pdr.DataReader(sym, \"yahoo\", start, end))\n",
    "          for sym in symbols)\n",
    "           \n",
    "gs = data['GS']"
   ]
  },
  {
   "cell_type": "code",
   "execution_count": 8,
   "metadata": {
    "collapsed": false
   },
   "outputs": [
    {
     "data": {
      "text/html": [
       "<div>\n",
       "<table border=\"1\" class=\"dataframe\">\n",
       "  <thead>\n",
       "    <tr style=\"text-align: right;\">\n",
       "      <th></th>\n",
       "      <th>Open</th>\n",
       "      <th>High</th>\n",
       "      <th>Low</th>\n",
       "      <th>Close</th>\n",
       "      <th>Adj Close</th>\n",
       "      <th>Volume</th>\n",
       "    </tr>\n",
       "    <tr>\n",
       "      <th>Date</th>\n",
       "      <th></th>\n",
       "      <th></th>\n",
       "      <th></th>\n",
       "      <th></th>\n",
       "      <th></th>\n",
       "      <th></th>\n",
       "    </tr>\n",
       "  </thead>\n",
       "  <tbody>\n",
       "    <tr>\n",
       "      <th>2006-01-03</th>\n",
       "      <td>126.70</td>\n",
       "      <td>129.44</td>\n",
       "      <td>124.23</td>\n",
       "      <td>128.87</td>\n",
       "      <td>112.34</td>\n",
       "      <td>6188700</td>\n",
       "    </tr>\n",
       "    <tr>\n",
       "      <th>2006-01-04</th>\n",
       "      <td>127.35</td>\n",
       "      <td>128.91</td>\n",
       "      <td>126.38</td>\n",
       "      <td>127.09</td>\n",
       "      <td>110.79</td>\n",
       "      <td>4861600</td>\n",
       "    </tr>\n",
       "    <tr>\n",
       "      <th>2006-01-05</th>\n",
       "      <td>126.00</td>\n",
       "      <td>127.32</td>\n",
       "      <td>125.61</td>\n",
       "      <td>127.04</td>\n",
       "      <td>110.74</td>\n",
       "      <td>3717400</td>\n",
       "    </tr>\n",
       "    <tr>\n",
       "      <th>2006-01-06</th>\n",
       "      <td>127.29</td>\n",
       "      <td>129.25</td>\n",
       "      <td>127.29</td>\n",
       "      <td>128.84</td>\n",
       "      <td>112.31</td>\n",
       "      <td>4319600</td>\n",
       "    </tr>\n",
       "    <tr>\n",
       "      <th>2006-01-09</th>\n",
       "      <td>128.50</td>\n",
       "      <td>130.62</td>\n",
       "      <td>128.00</td>\n",
       "      <td>130.39</td>\n",
       "      <td>113.66</td>\n",
       "      <td>4723500</td>\n",
       "    </tr>\n",
       "  </tbody>\n",
       "</table>\n",
       "</div>"
      ],
      "text/plain": [
       "              Open    High     Low   Close  Adj Close   Volume\n",
       "Date                                                          \n",
       "2006-01-03  126.70  129.44  124.23  128.87     112.34  6188700\n",
       "2006-01-04  127.35  128.91  126.38  127.09     110.79  4861600\n",
       "2006-01-05  126.00  127.32  125.61  127.04     110.74  3717400\n",
       "2006-01-06  127.29  129.25  127.29  128.84     112.31  4319600\n",
       "2006-01-09  128.50  130.62  128.00  130.39     113.66  4723500"
      ]
     },
     "execution_count": 8,
     "metadata": {},
     "output_type": "execute_result"
    }
   ],
   "source": [
    "#gs = web.DataReader(\"GS\", data_source='yahoo', start='2006-01-01',\n",
    "#                    end='2010-01-01')\n",
    "gs.head().round(2)"
   ]
  },
  {
   "cell_type": "markdown",
   "metadata": {},
   "source": [
    "## Index is a pandas.Timestamp"
   ]
  },
  {
   "cell_type": "code",
   "execution_count": 9,
   "metadata": {
    "collapsed": false
   },
   "outputs": [
    {
     "data": {
      "text/plain": [
       "Timestamp('2006-01-03 00:00:00')"
      ]
     },
     "execution_count": 9,
     "metadata": {},
     "output_type": "execute_result"
    }
   ],
   "source": [
    "gs.index[0]"
   ]
  },
  {
   "cell_type": "markdown",
   "metadata": {},
   "source": [
    "A Timestamp is mostly compatible with the datetime.datetime class, but much amenable to storage in arrays.\n",
    "\n",
    "Working with Timestamps can be awkward, so Series and DataFrames with DatetimeIndexes have some special slicing rules. The first special case is partial-string indexing. Say we wanted to select all the days in 2006. Even with Timestamp's convenient constructors, it's a pai\n",
    "\n"
   ]
  },
  {
   "cell_type": "code",
   "execution_count": 10,
   "metadata": {
    "collapsed": false
   },
   "outputs": [
    {
     "data": {
      "text/html": [
       "<div>\n",
       "<table border=\"1\" class=\"dataframe\">\n",
       "  <thead>\n",
       "    <tr style=\"text-align: right;\">\n",
       "      <th></th>\n",
       "      <th>Open</th>\n",
       "      <th>High</th>\n",
       "      <th>Low</th>\n",
       "      <th>Close</th>\n",
       "      <th>Adj Close</th>\n",
       "      <th>Volume</th>\n",
       "    </tr>\n",
       "    <tr>\n",
       "      <th>Date</th>\n",
       "      <th></th>\n",
       "      <th></th>\n",
       "      <th></th>\n",
       "      <th></th>\n",
       "      <th></th>\n",
       "      <th></th>\n",
       "    </tr>\n",
       "  </thead>\n",
       "  <tbody>\n",
       "    <tr>\n",
       "      <th>2006-01-03</th>\n",
       "      <td>126.699997</td>\n",
       "      <td>129.440002</td>\n",
       "      <td>124.230003</td>\n",
       "      <td>128.869995</td>\n",
       "      <td>112.337547</td>\n",
       "      <td>6188700</td>\n",
       "    </tr>\n",
       "    <tr>\n",
       "      <th>2006-01-04</th>\n",
       "      <td>127.349998</td>\n",
       "      <td>128.910004</td>\n",
       "      <td>126.379997</td>\n",
       "      <td>127.089996</td>\n",
       "      <td>110.785889</td>\n",
       "      <td>4861600</td>\n",
       "    </tr>\n",
       "    <tr>\n",
       "      <th>2006-01-05</th>\n",
       "      <td>126.000000</td>\n",
       "      <td>127.320000</td>\n",
       "      <td>125.610001</td>\n",
       "      <td>127.040001</td>\n",
       "      <td>110.742340</td>\n",
       "      <td>3717400</td>\n",
       "    </tr>\n",
       "    <tr>\n",
       "      <th>2006-01-06</th>\n",
       "      <td>127.290001</td>\n",
       "      <td>129.250000</td>\n",
       "      <td>127.290001</td>\n",
       "      <td>128.839996</td>\n",
       "      <td>112.311401</td>\n",
       "      <td>4319600</td>\n",
       "    </tr>\n",
       "    <tr>\n",
       "      <th>2006-01-09</th>\n",
       "      <td>128.500000</td>\n",
       "      <td>130.619995</td>\n",
       "      <td>128.000000</td>\n",
       "      <td>130.389999</td>\n",
       "      <td>113.662605</td>\n",
       "      <td>4723500</td>\n",
       "    </tr>\n",
       "  </tbody>\n",
       "</table>\n",
       "</div>"
      ],
      "text/plain": [
       "                  Open        High         Low       Close   Adj Close  \\\n",
       "Date                                                                     \n",
       "2006-01-03  126.699997  129.440002  124.230003  128.869995  112.337547   \n",
       "2006-01-04  127.349998  128.910004  126.379997  127.089996  110.785889   \n",
       "2006-01-05  126.000000  127.320000  125.610001  127.040001  110.742340   \n",
       "2006-01-06  127.290001  129.250000  127.290001  128.839996  112.311401   \n",
       "2006-01-09  128.500000  130.619995  128.000000  130.389999  113.662605   \n",
       "\n",
       "             Volume  \n",
       "Date                 \n",
       "2006-01-03  6188700  \n",
       "2006-01-04  4861600  \n",
       "2006-01-05  3717400  \n",
       "2006-01-06  4319600  \n",
       "2006-01-09  4723500  "
      ]
     },
     "execution_count": 10,
     "metadata": {},
     "output_type": "execute_result"
    }
   ],
   "source": [
    "gs.loc[pd.Timestamp('2006-01-01'):pd.Timestamp('2006-12-31')].head()"
   ]
  },
  {
   "cell_type": "markdown",
   "metadata": {},
   "source": [
    "Thanks to partial-string indexing, it's as simple as"
   ]
  },
  {
   "cell_type": "code",
   "execution_count": 11,
   "metadata": {
    "collapsed": false
   },
   "outputs": [
    {
     "data": {
      "text/html": [
       "<div>\n",
       "<table border=\"1\" class=\"dataframe\">\n",
       "  <thead>\n",
       "    <tr style=\"text-align: right;\">\n",
       "      <th></th>\n",
       "      <th>Open</th>\n",
       "      <th>High</th>\n",
       "      <th>Low</th>\n",
       "      <th>Close</th>\n",
       "      <th>Adj Close</th>\n",
       "      <th>Volume</th>\n",
       "    </tr>\n",
       "    <tr>\n",
       "      <th>Date</th>\n",
       "      <th></th>\n",
       "      <th></th>\n",
       "      <th></th>\n",
       "      <th></th>\n",
       "      <th></th>\n",
       "      <th></th>\n",
       "    </tr>\n",
       "  </thead>\n",
       "  <tbody>\n",
       "    <tr>\n",
       "      <th>2006-01-03</th>\n",
       "      <td>126.699997</td>\n",
       "      <td>129.440002</td>\n",
       "      <td>124.230003</td>\n",
       "      <td>128.869995</td>\n",
       "      <td>112.337547</td>\n",
       "      <td>6188700</td>\n",
       "    </tr>\n",
       "    <tr>\n",
       "      <th>2006-01-04</th>\n",
       "      <td>127.349998</td>\n",
       "      <td>128.910004</td>\n",
       "      <td>126.379997</td>\n",
       "      <td>127.089996</td>\n",
       "      <td>110.785889</td>\n",
       "      <td>4861600</td>\n",
       "    </tr>\n",
       "    <tr>\n",
       "      <th>2006-01-05</th>\n",
       "      <td>126.000000</td>\n",
       "      <td>127.320000</td>\n",
       "      <td>125.610001</td>\n",
       "      <td>127.040001</td>\n",
       "      <td>110.742340</td>\n",
       "      <td>3717400</td>\n",
       "    </tr>\n",
       "    <tr>\n",
       "      <th>2006-01-06</th>\n",
       "      <td>127.290001</td>\n",
       "      <td>129.250000</td>\n",
       "      <td>127.290001</td>\n",
       "      <td>128.839996</td>\n",
       "      <td>112.311401</td>\n",
       "      <td>4319600</td>\n",
       "    </tr>\n",
       "    <tr>\n",
       "      <th>2006-01-09</th>\n",
       "      <td>128.500000</td>\n",
       "      <td>130.619995</td>\n",
       "      <td>128.000000</td>\n",
       "      <td>130.389999</td>\n",
       "      <td>113.662605</td>\n",
       "      <td>4723500</td>\n",
       "    </tr>\n",
       "  </tbody>\n",
       "</table>\n",
       "</div>"
      ],
      "text/plain": [
       "                  Open        High         Low       Close   Adj Close  \\\n",
       "Date                                                                     \n",
       "2006-01-03  126.699997  129.440002  124.230003  128.869995  112.337547   \n",
       "2006-01-04  127.349998  128.910004  126.379997  127.089996  110.785889   \n",
       "2006-01-05  126.000000  127.320000  125.610001  127.040001  110.742340   \n",
       "2006-01-06  127.290001  129.250000  127.290001  128.839996  112.311401   \n",
       "2006-01-09  128.500000  130.619995  128.000000  130.389999  113.662605   \n",
       "\n",
       "             Volume  \n",
       "Date                 \n",
       "2006-01-03  6188700  \n",
       "2006-01-04  4861600  \n",
       "2006-01-05  3717400  \n",
       "2006-01-06  4319600  \n",
       "2006-01-09  4723500  "
      ]
     },
     "execution_count": 11,
     "metadata": {},
     "output_type": "execute_result"
    }
   ],
   "source": [
    "gs.loc['2006'].head()"
   ]
  },
  {
   "cell_type": "markdown",
   "metadata": {},
   "source": [
    "## Change data frequency by resampling\n",
    "\n",
    "### NOTE: the frequency arg. is given in CALENDAR days, NOT number of data points\n",
    "So each element is exactly 5 days apart"
   ]
  },
  {
   "cell_type": "code",
   "execution_count": 14,
   "metadata": {
    "collapsed": false
   },
   "outputs": [
    {
     "data": {
      "text/html": [
       "<div>\n",
       "<table border=\"1\" class=\"dataframe\">\n",
       "  <thead>\n",
       "    <tr style=\"text-align: right;\">\n",
       "      <th></th>\n",
       "      <th>Open</th>\n",
       "      <th>High</th>\n",
       "      <th>Low</th>\n",
       "      <th>Close</th>\n",
       "      <th>Adj Close</th>\n",
       "      <th>Volume</th>\n",
       "    </tr>\n",
       "    <tr>\n",
       "      <th>Date</th>\n",
       "      <th></th>\n",
       "      <th></th>\n",
       "      <th></th>\n",
       "      <th></th>\n",
       "      <th></th>\n",
       "      <th></th>\n",
       "    </tr>\n",
       "  </thead>\n",
       "  <tbody>\n",
       "    <tr>\n",
       "      <th>2006-01-03</th>\n",
       "      <td>126.834999</td>\n",
       "      <td>128.730002</td>\n",
       "      <td>125.877501</td>\n",
       "      <td>127.959997</td>\n",
       "      <td>111.544294</td>\n",
       "      <td>4771825</td>\n",
       "    </tr>\n",
       "    <tr>\n",
       "      <th>2006-01-08</th>\n",
       "      <td>130.349998</td>\n",
       "      <td>132.645000</td>\n",
       "      <td>130.205002</td>\n",
       "      <td>131.660000</td>\n",
       "      <td>114.769649</td>\n",
       "      <td>4664300</td>\n",
       "    </tr>\n",
       "    <tr>\n",
       "      <th>2006-01-13</th>\n",
       "      <td>131.510002</td>\n",
       "      <td>133.395005</td>\n",
       "      <td>131.244995</td>\n",
       "      <td>132.924995</td>\n",
       "      <td>115.872357</td>\n",
       "      <td>3258250</td>\n",
       "    </tr>\n",
       "    <tr>\n",
       "      <th>2006-01-18</th>\n",
       "      <td>132.210002</td>\n",
       "      <td>133.853333</td>\n",
       "      <td>131.656667</td>\n",
       "      <td>132.543335</td>\n",
       "      <td>115.611125</td>\n",
       "      <td>4997766</td>\n",
       "    </tr>\n",
       "    <tr>\n",
       "      <th>2006-01-23</th>\n",
       "      <td>133.771997</td>\n",
       "      <td>136.083997</td>\n",
       "      <td>133.310001</td>\n",
       "      <td>135.153998</td>\n",
       "      <td>118.035918</td>\n",
       "      <td>3968500</td>\n",
       "    </tr>\n",
       "  </tbody>\n",
       "</table>\n",
       "</div>"
      ],
      "text/plain": [
       "                  Open        High         Low       Close   Adj Close  \\\n",
       "Date                                                                     \n",
       "2006-01-03  126.834999  128.730002  125.877501  127.959997  111.544294   \n",
       "2006-01-08  130.349998  132.645000  130.205002  131.660000  114.769649   \n",
       "2006-01-13  131.510002  133.395005  131.244995  132.924995  115.872357   \n",
       "2006-01-18  132.210002  133.853333  131.656667  132.543335  115.611125   \n",
       "2006-01-23  133.771997  136.083997  133.310001  135.153998  118.035918   \n",
       "\n",
       "             Volume  \n",
       "Date                 \n",
       "2006-01-03  4771825  \n",
       "2006-01-08  4664300  \n",
       "2006-01-13  3258250  \n",
       "2006-01-18  4997766  \n",
       "2006-01-23  3968500  "
      ]
     },
     "execution_count": 14,
     "metadata": {},
     "output_type": "execute_result"
    }
   ],
   "source": [
    "gs.resample(\"5d\").mean().head()"
   ]
  },
  {
   "cell_type": "markdown",
   "metadata": {},
   "source": [
    "## NOTE: 01/01/2006 is a Sunday, so weeks begin on Sunday ?"
   ]
  },
  {
   "cell_type": "code",
   "execution_count": 15,
   "metadata": {
    "collapsed": false
   },
   "outputs": [
    {
     "data": {
      "text/html": [
       "<div>\n",
       "<table border=\"1\" class=\"dataframe\">\n",
       "  <thead>\n",
       "    <tr>\n",
       "      <th></th>\n",
       "      <th colspan=\"2\" halign=\"left\">Open</th>\n",
       "      <th colspan=\"2\" halign=\"left\">High</th>\n",
       "      <th colspan=\"2\" halign=\"left\">Low</th>\n",
       "      <th colspan=\"2\" halign=\"left\">Close</th>\n",
       "      <th colspan=\"2\" halign=\"left\">Adj Close</th>\n",
       "      <th colspan=\"2\" halign=\"left\">Volume</th>\n",
       "    </tr>\n",
       "    <tr>\n",
       "      <th></th>\n",
       "      <th>mean</th>\n",
       "      <th>sum</th>\n",
       "      <th>mean</th>\n",
       "      <th>sum</th>\n",
       "      <th>mean</th>\n",
       "      <th>sum</th>\n",
       "      <th>mean</th>\n",
       "      <th>sum</th>\n",
       "      <th>mean</th>\n",
       "      <th>sum</th>\n",
       "      <th>mean</th>\n",
       "      <th>sum</th>\n",
       "    </tr>\n",
       "    <tr>\n",
       "      <th>Date</th>\n",
       "      <th></th>\n",
       "      <th></th>\n",
       "      <th></th>\n",
       "      <th></th>\n",
       "      <th></th>\n",
       "      <th></th>\n",
       "      <th></th>\n",
       "      <th></th>\n",
       "      <th></th>\n",
       "      <th></th>\n",
       "      <th></th>\n",
       "      <th></th>\n",
       "    </tr>\n",
       "  </thead>\n",
       "  <tbody>\n",
       "    <tr>\n",
       "      <th>2006-01-08</th>\n",
       "      <td>126.834999</td>\n",
       "      <td>507.339996</td>\n",
       "      <td>128.730002</td>\n",
       "      <td>514.920006</td>\n",
       "      <td>125.877501</td>\n",
       "      <td>503.510002</td>\n",
       "      <td>127.959997</td>\n",
       "      <td>511.839988</td>\n",
       "      <td>111.544294</td>\n",
       "      <td>446.177177</td>\n",
       "      <td>4771825</td>\n",
       "      <td>19087300</td>\n",
       "    </tr>\n",
       "    <tr>\n",
       "      <th>2006-01-15</th>\n",
       "      <td>130.684000</td>\n",
       "      <td>653.419998</td>\n",
       "      <td>132.848001</td>\n",
       "      <td>664.240006</td>\n",
       "      <td>130.544000</td>\n",
       "      <td>652.720001</td>\n",
       "      <td>131.979999</td>\n",
       "      <td>659.899994</td>\n",
       "      <td>115.048592</td>\n",
       "      <td>575.242958</td>\n",
       "      <td>4310420</td>\n",
       "      <td>21552100</td>\n",
       "    </tr>\n",
       "    <tr>\n",
       "      <th>2006-01-22</th>\n",
       "      <td>131.907501</td>\n",
       "      <td>527.630005</td>\n",
       "      <td>133.672501</td>\n",
       "      <td>534.690003</td>\n",
       "      <td>131.389999</td>\n",
       "      <td>525.559998</td>\n",
       "      <td>132.555000</td>\n",
       "      <td>530.220000</td>\n",
       "      <td>115.603432</td>\n",
       "      <td>462.413728</td>\n",
       "      <td>4653725</td>\n",
       "      <td>18614900</td>\n",
       "    </tr>\n",
       "    <tr>\n",
       "      <th>2006-01-29</th>\n",
       "      <td>133.771997</td>\n",
       "      <td>668.859986</td>\n",
       "      <td>136.083997</td>\n",
       "      <td>680.419983</td>\n",
       "      <td>133.310001</td>\n",
       "      <td>666.550003</td>\n",
       "      <td>135.153998</td>\n",
       "      <td>675.769989</td>\n",
       "      <td>118.035918</td>\n",
       "      <td>590.179588</td>\n",
       "      <td>3968500</td>\n",
       "      <td>19842500</td>\n",
       "    </tr>\n",
       "    <tr>\n",
       "      <th>2006-02-05</th>\n",
       "      <td>140.900000</td>\n",
       "      <td>704.500000</td>\n",
       "      <td>142.467999</td>\n",
       "      <td>712.339996</td>\n",
       "      <td>139.937998</td>\n",
       "      <td>699.689988</td>\n",
       "      <td>141.618002</td>\n",
       "      <td>708.090011</td>\n",
       "      <td>123.681204</td>\n",
       "      <td>618.406020</td>\n",
       "      <td>3920120</td>\n",
       "      <td>19600600</td>\n",
       "    </tr>\n",
       "  </tbody>\n",
       "</table>\n",
       "</div>"
      ],
      "text/plain": [
       "                  Open                    High                     Low  \\\n",
       "                  mean         sum        mean         sum        mean   \n",
       "Date                                                                     \n",
       "2006-01-08  126.834999  507.339996  128.730002  514.920006  125.877501   \n",
       "2006-01-15  130.684000  653.419998  132.848001  664.240006  130.544000   \n",
       "2006-01-22  131.907501  527.630005  133.672501  534.690003  131.389999   \n",
       "2006-01-29  133.771997  668.859986  136.083997  680.419983  133.310001   \n",
       "2006-02-05  140.900000  704.500000  142.467999  712.339996  139.937998   \n",
       "\n",
       "                             Close               Adj Close              \\\n",
       "                   sum        mean         sum        mean         sum   \n",
       "Date                                                                     \n",
       "2006-01-08  503.510002  127.959997  511.839988  111.544294  446.177177   \n",
       "2006-01-15  652.720001  131.979999  659.899994  115.048592  575.242958   \n",
       "2006-01-22  525.559998  132.555000  530.220000  115.603432  462.413728   \n",
       "2006-01-29  666.550003  135.153998  675.769989  118.035918  590.179588   \n",
       "2006-02-05  699.689988  141.618002  708.090011  123.681204  618.406020   \n",
       "\n",
       "             Volume            \n",
       "               mean       sum  \n",
       "Date                           \n",
       "2006-01-08  4771825  19087300  \n",
       "2006-01-15  4310420  21552100  \n",
       "2006-01-22  4653725  18614900  \n",
       "2006-01-29  3968500  19842500  \n",
       "2006-02-05  3920120  19600600  "
      ]
     },
     "execution_count": 15,
     "metadata": {},
     "output_type": "execute_result"
    }
   ],
   "source": [
    "gs.resample(\"W\").agg(['mean', 'sum']).head()"
   ]
  },
  {
   "cell_type": "markdown",
   "metadata": {},
   "source": [
    "## Upsample to higher frequency"
   ]
  },
  {
   "cell_type": "code",
   "execution_count": 16,
   "metadata": {
    "collapsed": false
   },
   "outputs": [
    {
     "data": {
      "text/html": [
       "<div>\n",
       "<table border=\"1\" class=\"dataframe\">\n",
       "  <thead>\n",
       "    <tr style=\"text-align: right;\">\n",
       "      <th></th>\n",
       "      <th>Open</th>\n",
       "      <th>High</th>\n",
       "      <th>Low</th>\n",
       "      <th>Close</th>\n",
       "      <th>Adj Close</th>\n",
       "      <th>Volume</th>\n",
       "    </tr>\n",
       "    <tr>\n",
       "      <th>Date</th>\n",
       "      <th></th>\n",
       "      <th></th>\n",
       "      <th></th>\n",
       "      <th></th>\n",
       "      <th></th>\n",
       "      <th></th>\n",
       "    </tr>\n",
       "  </thead>\n",
       "  <tbody>\n",
       "    <tr>\n",
       "      <th>2006-01-03 00:00:00</th>\n",
       "      <td>126.699997</td>\n",
       "      <td>129.440002</td>\n",
       "      <td>124.230003</td>\n",
       "      <td>128.869995</td>\n",
       "      <td>112.337547</td>\n",
       "      <td>6188700.0</td>\n",
       "    </tr>\n",
       "    <tr>\n",
       "      <th>2006-01-03 06:00:00</th>\n",
       "      <td>NaN</td>\n",
       "      <td>NaN</td>\n",
       "      <td>NaN</td>\n",
       "      <td>NaN</td>\n",
       "      <td>NaN</td>\n",
       "      <td>NaN</td>\n",
       "    </tr>\n",
       "    <tr>\n",
       "      <th>2006-01-03 12:00:00</th>\n",
       "      <td>NaN</td>\n",
       "      <td>NaN</td>\n",
       "      <td>NaN</td>\n",
       "      <td>NaN</td>\n",
       "      <td>NaN</td>\n",
       "      <td>NaN</td>\n",
       "    </tr>\n",
       "    <tr>\n",
       "      <th>2006-01-03 18:00:00</th>\n",
       "      <td>NaN</td>\n",
       "      <td>NaN</td>\n",
       "      <td>NaN</td>\n",
       "      <td>NaN</td>\n",
       "      <td>NaN</td>\n",
       "      <td>NaN</td>\n",
       "    </tr>\n",
       "    <tr>\n",
       "      <th>2006-01-04 00:00:00</th>\n",
       "      <td>127.349998</td>\n",
       "      <td>128.910004</td>\n",
       "      <td>126.379997</td>\n",
       "      <td>127.089996</td>\n",
       "      <td>110.785889</td>\n",
       "      <td>4861600.0</td>\n",
       "    </tr>\n",
       "  </tbody>\n",
       "</table>\n",
       "</div>"
      ],
      "text/plain": [
       "                           Open        High         Low       Close  \\\n",
       "Date                                                                  \n",
       "2006-01-03 00:00:00  126.699997  129.440002  124.230003  128.869995   \n",
       "2006-01-03 06:00:00         NaN         NaN         NaN         NaN   \n",
       "2006-01-03 12:00:00         NaN         NaN         NaN         NaN   \n",
       "2006-01-03 18:00:00         NaN         NaN         NaN         NaN   \n",
       "2006-01-04 00:00:00  127.349998  128.910004  126.379997  127.089996   \n",
       "\n",
       "                      Adj Close     Volume  \n",
       "Date                                        \n",
       "2006-01-03 00:00:00  112.337547  6188700.0  \n",
       "2006-01-03 06:00:00         NaN        NaN  \n",
       "2006-01-03 12:00:00         NaN        NaN  \n",
       "2006-01-03 18:00:00         NaN        NaN  \n",
       "2006-01-04 00:00:00  110.785889  4861600.0  "
      ]
     },
     "execution_count": 16,
     "metadata": {},
     "output_type": "execute_result"
    }
   ],
   "source": [
    "gs.resample(\"6H\").mean().head()"
   ]
  },
  {
   "cell_type": "markdown",
   "metadata": {},
   "source": [
    "## Rolling timeseries\n",
    "### NOTE: POST Pandas 0.19, can have rolling series can have a frequency if index is pd.Timestamp\n",
    "###     does NOT have to be integer positions to be rolling, can be rolling '2d'"
   ]
  },
  {
   "cell_type": "code",
   "execution_count": 36,
   "metadata": {
    "collapsed": false
   },
   "outputs": [
    {
     "data": {
      "text/plain": [
       "'0.18.1'"
      ]
     },
     "execution_count": 36,
     "metadata": {},
     "output_type": "execute_result"
    }
   ],
   "source": [
    "pd.__version__"
   ]
  },
  {
   "cell_type": "code",
   "execution_count": 24,
   "metadata": {
    "collapsed": false
   },
   "outputs": [
    {
     "data": {
      "text/html": [
       "<div>\n",
       "<table border=\"1\" class=\"dataframe\">\n",
       "  <thead>\n",
       "    <tr style=\"text-align: right;\">\n",
       "      <th></th>\n",
       "      <th>B</th>\n",
       "    </tr>\n",
       "  </thead>\n",
       "  <tbody>\n",
       "    <tr>\n",
       "      <th>0</th>\n",
       "      <td>0.0</td>\n",
       "    </tr>\n",
       "    <tr>\n",
       "      <th>1</th>\n",
       "      <td>1.0</td>\n",
       "    </tr>\n",
       "    <tr>\n",
       "      <th>2</th>\n",
       "      <td>2.0</td>\n",
       "    </tr>\n",
       "    <tr>\n",
       "      <th>3</th>\n",
       "      <td>NaN</td>\n",
       "    </tr>\n",
       "    <tr>\n",
       "      <th>4</th>\n",
       "      <td>4.0</td>\n",
       "    </tr>\n",
       "    <tr>\n",
       "      <th>5</th>\n",
       "      <td>5.0</td>\n",
       "    </tr>\n",
       "  </tbody>\n",
       "</table>\n",
       "</div>"
      ],
      "text/plain": [
       "     B\n",
       "0  0.0\n",
       "1  1.0\n",
       "2  2.0\n",
       "3  NaN\n",
       "4  4.0\n",
       "5  5.0"
      ]
     },
     "execution_count": 24,
     "metadata": {},
     "output_type": "execute_result"
    },
    {
     "data": {
      "text/html": [
       "<div>\n",
       "<table border=\"1\" class=\"dataframe\">\n",
       "  <thead>\n",
       "    <tr style=\"text-align: right;\">\n",
       "      <th></th>\n",
       "      <th>B</th>\n",
       "    </tr>\n",
       "  </thead>\n",
       "  <tbody>\n",
       "    <tr>\n",
       "      <th>0</th>\n",
       "      <td>NaN</td>\n",
       "    </tr>\n",
       "    <tr>\n",
       "      <th>1</th>\n",
       "      <td>1.0</td>\n",
       "    </tr>\n",
       "    <tr>\n",
       "      <th>2</th>\n",
       "      <td>3.0</td>\n",
       "    </tr>\n",
       "    <tr>\n",
       "      <th>3</th>\n",
       "      <td>NaN</td>\n",
       "    </tr>\n",
       "    <tr>\n",
       "      <th>4</th>\n",
       "      <td>NaN</td>\n",
       "    </tr>\n",
       "    <tr>\n",
       "      <th>5</th>\n",
       "      <td>9.0</td>\n",
       "    </tr>\n",
       "  </tbody>\n",
       "</table>\n",
       "</div>"
      ],
      "text/plain": [
       "     B\n",
       "0  NaN\n",
       "1  1.0\n",
       "2  3.0\n",
       "3  NaN\n",
       "4  NaN\n",
       "5  9.0"
      ]
     },
     "execution_count": 24,
     "metadata": {},
     "output_type": "execute_result"
    }
   ],
   "source": [
    "df = pd.DataFrame({'B': [0, 1, 2, np.nan, 4, 5]})\n",
    "df\n",
    "df.rolling(2).sum()"
   ]
  },
  {
   "cell_type": "code",
   "execution_count": 35,
   "metadata": {
    "collapsed": false
   },
   "outputs": [
    {
     "data": {
      "text/html": [
       "<div>\n",
       "<table border=\"1\" class=\"dataframe\">\n",
       "  <thead>\n",
       "    <tr style=\"text-align: right;\">\n",
       "      <th></th>\n",
       "      <th>B</th>\n",
       "    </tr>\n",
       "  </thead>\n",
       "  <tbody>\n",
       "    <tr>\n",
       "      <th>2013-01-01 09:00:00</th>\n",
       "      <td>0.0</td>\n",
       "    </tr>\n",
       "    <tr>\n",
       "      <th>2013-01-01 09:00:02</th>\n",
       "      <td>1.0</td>\n",
       "    </tr>\n",
       "    <tr>\n",
       "      <th>2013-01-01 09:00:03</th>\n",
       "      <td>2.0</td>\n",
       "    </tr>\n",
       "    <tr>\n",
       "      <th>2013-01-01 09:00:05</th>\n",
       "      <td>NaN</td>\n",
       "    </tr>\n",
       "    <tr>\n",
       "      <th>2013-01-01 09:00:06</th>\n",
       "      <td>4.0</td>\n",
       "    </tr>\n",
       "    <tr>\n",
       "      <th>2013-01-01 10:00:00</th>\n",
       "      <td>5.0</td>\n",
       "    </tr>\n",
       "    <tr>\n",
       "      <th>2013-01-01 10:01:00</th>\n",
       "      <td>6.0</td>\n",
       "    </tr>\n",
       "  </tbody>\n",
       "</table>\n",
       "</div>"
      ],
      "text/plain": [
       "                       B\n",
       "2013-01-01 09:00:00  0.0\n",
       "2013-01-01 09:00:02  1.0\n",
       "2013-01-01 09:00:03  2.0\n",
       "2013-01-01 09:00:05  NaN\n",
       "2013-01-01 09:00:06  4.0\n",
       "2013-01-01 10:00:00  5.0\n",
       "2013-01-01 10:01:00  6.0"
      ]
     },
     "execution_count": 35,
     "metadata": {},
     "output_type": "execute_result"
    },
    {
     "ename": "TypeError",
     "evalue": "rolling() missing 1 required positional argument: 'window'",
     "output_type": "error",
     "traceback": [
      "\u001b[0;31m\u001b[0m",
      "\u001b[0;31mTypeError\u001b[0mTraceback (most recent call last)",
      "\u001b[0;32m<ipython-input-35-73d533e99295>\u001b[0m in \u001b[0;36m<module>\u001b[0;34m()\u001b[0m\n\u001b[1;32m     10\u001b[0m \u001b[0;34m\u001b[0m\u001b[0m\n\u001b[1;32m     11\u001b[0m \u001b[0mdf\u001b[0m\u001b[0;34m\u001b[0m\u001b[0m\n\u001b[0;32m---> 12\u001b[0;31m \u001b[0mdf\u001b[0m\u001b[0;34m.\u001b[0m\u001b[0mrolling\u001b[0m\u001b[0;34m(\u001b[0m\u001b[0mfreq\u001b[0m\u001b[0;34m=\u001b[0m\u001b[0;34m'2s'\u001b[0m\u001b[0;34m)\u001b[0m\u001b[0;34m.\u001b[0m\u001b[0msum\u001b[0m\u001b[0;34m(\u001b[0m\u001b[0;34m)\u001b[0m\u001b[0;34m\u001b[0m\u001b[0m\n\u001b[0m",
      "\u001b[0;31mTypeError\u001b[0m: rolling() missing 1 required positional argument: 'window'"
     ]
    }
   ],
   "source": [
    "df = pd.DataFrame({'B': [0, 1, 2, np.nan, 4, 5, 6]},\n",
    "....:                 index = [pd.Timestamp('20130101 09:00:00'),\n",
    "....:                          pd.Timestamp('20130101 09:00:02'),\n",
    "....:                          pd.Timestamp('20130101 09:00:03'),\n",
    "....:                          pd.Timestamp('20130101 09:00:05'),\n",
    "....:                          pd.Timestamp('20130101 09:00:06'),\n",
    "                              pd.Timestamp('20130101 10:00:00'),\n",
    "                               pd.Timestamp('20130101 10:01:00')\n",
    "                              ])\n",
    "\n",
    "df\n",
    "df.rolling(freq='2s').sum()"
   ]
  },
  {
   "cell_type": "code",
   "execution_count": null,
   "metadata": {
    "collapsed": true
   },
   "outputs": [],
   "source": [
    "gs.Close.plot(label='Raw')\n",
    "gs.Close.rolling(28).mean().plot(label='28D MA')"
   ]
  },
  {
   "cell_type": "code",
   "execution_count": 27,
   "metadata": {
    "collapsed": false
   },
   "outputs": [
    {
     "data": {
      "text/plain": [
       "DatetimeIndex(['2006-01-03', '2006-01-04', '2006-01-05', '2006-01-06',\n",
       "               '2006-01-09', '2006-01-10', '2006-01-11', '2006-01-12',\n",
       "               '2006-01-13', '2006-01-17',\n",
       "               ...\n",
       "               '2009-12-17', '2009-12-18', '2009-12-21', '2009-12-22',\n",
       "               '2009-12-23', '2009-12-24', '2009-12-28', '2009-12-29',\n",
       "               '2009-12-30', '2009-12-31'],\n",
       "              dtype='datetime64[ns]', name='Date', length=1007, freq=None)"
      ]
     },
     "execution_count": 27,
     "metadata": {},
     "output_type": "execute_result"
    }
   ],
   "source": [
    "gs.index"
   ]
  },
  {
   "cell_type": "code",
   "execution_count": 18,
   "metadata": {
    "collapsed": false
   },
   "outputs": [
    {
     "data": {
      "text/plain": [
       "Rolling [window=28,center=False,axis=0]"
      ]
     },
     "execution_count": 18,
     "metadata": {},
     "output_type": "execute_result"
    }
   ],
   "source": [
    "gs.Close.rolling(28)"
   ]
  },
  {
   "cell_type": "code",
   "execution_count": 17,
   "metadata": {
    "collapsed": false
   },
   "outputs": [
    {
     "data": {
      "text/plain": [
       "<matplotlib.axes._subplots.AxesSubplot at 0x7f8269e75a58>"
      ]
     },
     "execution_count": 17,
     "metadata": {},
     "output_type": "execute_result"
    },
    {
     "data": {
      "text/plain": [
       "<matplotlib.axes._subplots.AxesSubplot at 0x7f8269e75a58>"
      ]
     },
     "execution_count": 17,
     "metadata": {},
     "output_type": "execute_result"
    },
    {
     "data": {
      "text/plain": [
       "<matplotlib.axes._subplots.AxesSubplot at 0x7f8269e75a58>"
      ]
     },
     "execution_count": 17,
     "metadata": {},
     "output_type": "execute_result"
    },
    {
     "data": {
      "text/plain": [
       "<matplotlib.axes._subplots.AxesSubplot at 0x7f8269e75a58>"
      ]
     },
     "execution_count": 17,
     "metadata": {},
     "output_type": "execute_result"
    },
    {
     "data": {
      "text/plain": [
       "<matplotlib.legend.Legend at 0x7f8269e3f550>"
      ]
     },
     "execution_count": 17,
     "metadata": {},
     "output_type": "execute_result"
    },
    {
     "data": {
      "text/plain": [
       "<matplotlib.text.Text at 0x7f8267938748>"
      ]
     },
     "execution_count": 17,
     "metadata": {},
     "output_type": "execute_result"
    },
    {
     "data": {
      "image/png": "[encoded data removed]",
      "text/plain": [
       "<matplotlib.figure.Figure at 0x7f8269e6f9e8>"
      ]
     },
     "metadata": {},
     "output_type": "display_data"
    }
   ],
   "source": [
    "gs.Close.expanding().mean().plot(label='Expanding Average')\n",
    "gs.Close.ewm(alpha=0.03).mean().plot(label='EWMA($\\\\alpha=.03$)')\n",
    "\n",
    "plt.legend(bbox_to_anchor=(1.25, .5))\n",
    "plt.tight_layout()\n",
    "plt.ylabel(\"Close ($)\")\n",
    "sns.despine()"
   ]
  },
  {
   "cell_type": "code",
   "execution_count": 37,
   "metadata": {
    "collapsed": false
   },
   "outputs": [
    {
     "data": {
      "text/plain": [
       "Rolling [window=30,center=True,axis=0]"
      ]
     },
     "execution_count": 37,
     "metadata": {},
     "output_type": "execute_result"
    }
   ],
   "source": [
    "roll = gs.Close.rolling(30, center=True)\n",
    "roll"
   ]
  },
  {
   "cell_type": "code",
   "execution_count": 45,
   "metadata": {
    "collapsed": false
   },
   "outputs": [
    {
     "data": {
      "text/plain": [
       "<matplotlib.collections.PolyCollection at 0x7f82671cd160>"
      ]
     },
     "execution_count": 45,
     "metadata": {},
     "output_type": "execute_result"
    },
    {
     "data": {
      "text/plain": [
       "<matplotlib.text.Text at 0x7f8267175c50>"
      ]
     },
     "execution_count": 45,
     "metadata": {},
     "output_type": "execute_result"
    },
    {
     "data": {
      "image/png": "[encoded data removed]",
      "text/plain": [
       "<matplotlib.figure.Figure at 0x7f82671b3e80>"
      ]
     },
     "metadata": {},
     "output_type": "display_data"
    }
   ],
   "source": [
    "m = roll.agg(['mean', 'std'])\n",
    "ax = m['mean'].plot()\n",
    "ax.fill_between(m.index, m['mean'] - m['std'], m['mean'] + m['std'],\n",
    "                alpha=.25\n",
    "               )\n",
    "plt.tight_layout()\n",
    "plt.ylabel(\"Close ($)\")\n",
    "sns.despine()"
   ]
  },
  {
   "cell_type": "markdown",
   "metadata": {},
   "source": [
    "## DateOffset"
   ]
  },
  {
   "cell_type": "code",
   "execution_count": 46,
   "metadata": {
    "collapsed": false
   },
   "outputs": [
    {
     "data": {
      "text/plain": [
       "DatetimeIndex(['2006-01-03', '2006-01-04', '2006-01-05', '2006-01-06',\n",
       "               '2006-01-09', '2006-01-10', '2006-01-11', '2006-01-12',\n",
       "               '2006-01-13', '2006-01-17',\n",
       "               ...\n",
       "               '2009-12-17', '2009-12-18', '2009-12-21', '2009-12-22',\n",
       "               '2009-12-23', '2009-12-24', '2009-12-28', '2009-12-29',\n",
       "               '2009-12-30', '2009-12-31'],\n",
       "              dtype='datetime64[ns]', name='Date', length=1007, freq=None)"
      ]
     },
     "execution_count": 46,
     "metadata": {},
     "output_type": "execute_result"
    },
    {
     "data": {
      "text/plain": [
       "DatetimeIndex(['2006-04-01', '2006-04-02', '2006-04-03', '2006-04-04',\n",
       "               '2006-04-07', '2006-04-08', '2006-04-09', '2006-04-10',\n",
       "               '2006-04-11', '2006-04-15',\n",
       "               ...\n",
       "               '2010-03-15', '2010-03-16', '2010-03-19', '2010-03-20',\n",
       "               '2010-03-21', '2010-03-22', '2010-03-26', '2010-03-27',\n",
       "               '2010-03-28', '2010-03-29'],\n",
       "              dtype='datetime64[ns]', name='Date', length=1007, freq=None)"
      ]
     },
     "execution_count": 46,
     "metadata": {},
     "output_type": "execute_result"
    }
   ],
   "source": [
    "gs.index\n",
    "gs.index + pd.DateOffset(months=3, days=-2)"
   ]
  },
  {
   "cell_type": "markdown",
   "metadata": {},
   "source": [
    "## Holiday calendars"
   ]
  },
  {
   "cell_type": "code",
   "execution_count": 48,
   "metadata": {
    "collapsed": false
   },
   "outputs": [
    {
     "data": {
      "text/plain": [
       "DatetimeIndex(['2015-10-12', '2016-10-10', '2017-10-09', '2018-10-08',\n",
       "               '2019-10-14'],\n",
       "              dtype='datetime64[ns]', freq='WOM-2MON')"
      ]
     },
     "execution_count": 48,
     "metadata": {},
     "output_type": "execute_result"
    }
   ],
   "source": [
    "from pandas.tseries.holiday import USColumbusDay\n",
    "USColumbusDay.dates('2015-01-01', '2020-01-01')\n"
   ]
  },
  {
   "cell_type": "markdown",
   "metadata": {},
   "source": [
    "## Create own trading calendar\n",
    "See https://stackoverflow.com/questions/33094297/create-trading-holiday-calendar-with-pandas"
   ]
  },
  {
   "cell_type": "code",
   "execution_count": 67,
   "metadata": {
    "collapsed": false
   },
   "outputs": [
    {
     "data": {
      "text/plain": [
       "list"
      ]
     },
     "execution_count": 67,
     "metadata": {},
     "output_type": "execute_result"
    },
    {
     "data": {
      "text/plain": [
       "pandas.tseries.holiday.Holiday"
      ]
     },
     "execution_count": 67,
     "metadata": {},
     "output_type": "execute_result"
    },
    {
     "name": "stdout",
     "output_type": "stream",
     "text": [
      "Original calendar has  6  rules:\n",
      " [Holiday: New Years Day (month=1, day=1, observance=<function nearest_workday at 0x7f82671ddd90>), Holiday: Dr. Martin Luther King Jr. (month=1, day=1, offset=<DateOffset: kwds={'weekday': MO(+3)}>), Holiday: Presidents Day (month=2, day=1, offset=<DateOffset: kwds={'weekday': MO(+3)}>), Holiday: MemorialDay (month=5, day=31, offset=<DateOffset: kwds={'weekday': MO(-1)}>), Holiday: July 4th (month=7, day=4, observance=<function nearest_workday at 0x7f82671ddd90>), Holiday: Labor Day (month=9, day=1, offset=<DateOffset: kwds={'weekday': MO(+1)}>)] \n",
      "\n",
      "\n",
      "\n",
      "\n",
      "Modified calendar has  7  rules:\n",
      " [Holiday: Presidents Day (month=2, day=1, offset=<DateOffset: kwds={'weekday': MO(+3)}>), Holiday: Good Friday (month=1, day=1, offset=[<Easter>, <-2 * Days>]), Holiday: New Years Day (month=1, day=1, observance=<function nearest_workday at 0x7f82671ddd90>), Holiday: Dr. Martin Luther King Jr. (month=1, day=1, offset=<DateOffset: kwds={'weekday': MO(+3)}>), Holiday: MemorialDay (month=5, day=31, offset=<DateOffset: kwds={'weekday': MO(-1)}>), Holiday: July 4th (month=7, day=4, observance=<function nearest_workday at 0x7f82671ddd90>), Holiday: Labor Day (month=9, day=1, offset=<DateOffset: kwds={'weekday': MO(+1)}>)] \n",
      "\n",
      "\n"
     ]
    }
   ],
   "source": [
    "from pandas.tseries.holiday import get_calendar, HolidayCalendarFactory, GoodFriday\n",
    "from datetime import datetime\n",
    "\n",
    "cal = get_calendar('USFederalHolidayCalendar')  # Create calendar instance\n",
    "type(cal.rules)\n",
    "type(cal.rules[0])\n",
    "print (\"Original calendar has \", len(cal.rules), \" rules:\\n\", cal.rules, \"\\n\\n\")\n",
    "                            # Remove Columbus Day rule\n",
    "tradingCal = HolidayCalendarFactory('TradingCalendar', cal, GoodFriday)\n",
    "\n",
    "\n",
    "#new instance of class since rules changed on underlying object\n",
    "cal1 = tradingCal()\n",
    "print(\"\\n\")\n",
    "print (\"Modified calendar has \", len(cal1.rules), \" rules:\\n\", cal1.rules, \"\\n\\n\")\n"
   ]
  },
  {
   "cell_type": "markdown",
   "metadata": {},
   "source": [
    "## Timezones"
   ]
  },
  {
   "cell_type": "code",
   "execution_count": 79,
   "metadata": {
    "collapsed": false
   },
   "outputs": [
    {
     "data": {
      "text/html": [
       "<div>\n",
       "<table border=\"1\" class=\"dataframe\">\n",
       "  <thead>\n",
       "    <tr style=\"text-align: right;\">\n",
       "      <th></th>\n",
       "      <th>Open</th>\n",
       "      <th>High</th>\n",
       "      <th>Low</th>\n",
       "      <th>Close</th>\n",
       "      <th>Adj Close</th>\n",
       "      <th>Volume</th>\n",
       "    </tr>\n",
       "    <tr>\n",
       "      <th>Date</th>\n",
       "      <th></th>\n",
       "      <th></th>\n",
       "      <th></th>\n",
       "      <th></th>\n",
       "      <th></th>\n",
       "      <th></th>\n",
       "    </tr>\n",
       "  </thead>\n",
       "  <tbody>\n",
       "    <tr>\n",
       "      <th>2006-01-03 00:00:00-05:00</th>\n",
       "      <td>126.699997</td>\n",
       "      <td>129.440002</td>\n",
       "      <td>124.230003</td>\n",
       "      <td>128.869995</td>\n",
       "      <td>112.337547</td>\n",
       "      <td>6188700</td>\n",
       "    </tr>\n",
       "    <tr>\n",
       "      <th>2006-01-04 00:00:00-05:00</th>\n",
       "      <td>127.349998</td>\n",
       "      <td>128.910004</td>\n",
       "      <td>126.379997</td>\n",
       "      <td>127.089996</td>\n",
       "      <td>110.785889</td>\n",
       "      <td>4861600</td>\n",
       "    </tr>\n",
       "    <tr>\n",
       "      <th>2006-01-05 00:00:00-05:00</th>\n",
       "      <td>126.000000</td>\n",
       "      <td>127.320000</td>\n",
       "      <td>125.610001</td>\n",
       "      <td>127.040001</td>\n",
       "      <td>110.742340</td>\n",
       "      <td>3717400</td>\n",
       "    </tr>\n",
       "    <tr>\n",
       "      <th>2006-01-06 00:00:00-05:00</th>\n",
       "      <td>127.290001</td>\n",
       "      <td>129.250000</td>\n",
       "      <td>127.290001</td>\n",
       "      <td>128.839996</td>\n",
       "      <td>112.311401</td>\n",
       "      <td>4319600</td>\n",
       "    </tr>\n",
       "    <tr>\n",
       "      <th>2006-01-09 00:00:00-05:00</th>\n",
       "      <td>128.500000</td>\n",
       "      <td>130.619995</td>\n",
       "      <td>128.000000</td>\n",
       "      <td>130.389999</td>\n",
       "      <td>113.662605</td>\n",
       "      <td>4723500</td>\n",
       "    </tr>\n",
       "  </tbody>\n",
       "</table>\n",
       "</div>"
      ],
      "text/plain": [
       "                                 Open        High         Low       Close  \\\n",
       "Date                                                                        \n",
       "2006-01-03 00:00:00-05:00  126.699997  129.440002  124.230003  128.869995   \n",
       "2006-01-04 00:00:00-05:00  127.349998  128.910004  126.379997  127.089996   \n",
       "2006-01-05 00:00:00-05:00  126.000000  127.320000  125.610001  127.040001   \n",
       "2006-01-06 00:00:00-05:00  127.290001  129.250000  127.290001  128.839996   \n",
       "2006-01-09 00:00:00-05:00  128.500000  130.619995  128.000000  130.389999   \n",
       "\n",
       "                            Adj Close   Volume  \n",
       "Date                                            \n",
       "2006-01-03 00:00:00-05:00  112.337547  6188700  \n",
       "2006-01-04 00:00:00-05:00  110.785889  4861600  \n",
       "2006-01-05 00:00:00-05:00  110.742340  3717400  \n",
       "2006-01-06 00:00:00-05:00  112.311401  4319600  \n",
       "2006-01-09 00:00:00-05:00  113.662605  4723500  "
      ]
     },
     "execution_count": 79,
     "metadata": {},
     "output_type": "execute_result"
    },
    {
     "data": {
      "text/html": [
       "<div>\n",
       "<table border=\"1\" class=\"dataframe\">\n",
       "  <thead>\n",
       "    <tr style=\"text-align: right;\">\n",
       "      <th></th>\n",
       "      <th>Open</th>\n",
       "      <th>High</th>\n",
       "      <th>Low</th>\n",
       "      <th>Close</th>\n",
       "      <th>Adj Close</th>\n",
       "      <th>Volume</th>\n",
       "    </tr>\n",
       "    <tr>\n",
       "      <th>Date</th>\n",
       "      <th></th>\n",
       "      <th></th>\n",
       "      <th></th>\n",
       "      <th></th>\n",
       "      <th></th>\n",
       "      <th></th>\n",
       "    </tr>\n",
       "  </thead>\n",
       "  <tbody>\n",
       "    <tr>\n",
       "      <th>2006-01-03 05:00:00+00:00</th>\n",
       "      <td>126.699997</td>\n",
       "      <td>129.440002</td>\n",
       "      <td>124.230003</td>\n",
       "      <td>128.869995</td>\n",
       "      <td>112.337547</td>\n",
       "      <td>6188700</td>\n",
       "    </tr>\n",
       "    <tr>\n",
       "      <th>2006-01-04 05:00:00+00:00</th>\n",
       "      <td>127.349998</td>\n",
       "      <td>128.910004</td>\n",
       "      <td>126.379997</td>\n",
       "      <td>127.089996</td>\n",
       "      <td>110.785889</td>\n",
       "      <td>4861600</td>\n",
       "    </tr>\n",
       "    <tr>\n",
       "      <th>2006-01-05 05:00:00+00:00</th>\n",
       "      <td>126.000000</td>\n",
       "      <td>127.320000</td>\n",
       "      <td>125.610001</td>\n",
       "      <td>127.040001</td>\n",
       "      <td>110.742340</td>\n",
       "      <td>3717400</td>\n",
       "    </tr>\n",
       "    <tr>\n",
       "      <th>2006-01-06 05:00:00+00:00</th>\n",
       "      <td>127.290001</td>\n",
       "      <td>129.250000</td>\n",
       "      <td>127.290001</td>\n",
       "      <td>128.839996</td>\n",
       "      <td>112.311401</td>\n",
       "      <td>4319600</td>\n",
       "    </tr>\n",
       "    <tr>\n",
       "      <th>2006-01-09 05:00:00+00:00</th>\n",
       "      <td>128.500000</td>\n",
       "      <td>130.619995</td>\n",
       "      <td>128.000000</td>\n",
       "      <td>130.389999</td>\n",
       "      <td>113.662605</td>\n",
       "      <td>4723500</td>\n",
       "    </tr>\n",
       "  </tbody>\n",
       "</table>\n",
       "</div>"
      ],
      "text/plain": [
       "                                 Open        High         Low       Close  \\\n",
       "Date                                                                        \n",
       "2006-01-03 05:00:00+00:00  126.699997  129.440002  124.230003  128.869995   \n",
       "2006-01-04 05:00:00+00:00  127.349998  128.910004  126.379997  127.089996   \n",
       "2006-01-05 05:00:00+00:00  126.000000  127.320000  125.610001  127.040001   \n",
       "2006-01-06 05:00:00+00:00  127.290001  129.250000  127.290001  128.839996   \n",
       "2006-01-09 05:00:00+00:00  128.500000  130.619995  128.000000  130.389999   \n",
       "\n",
       "                            Adj Close   Volume  \n",
       "Date                                            \n",
       "2006-01-03 05:00:00+00:00  112.337547  6188700  \n",
       "2006-01-04 05:00:00+00:00  110.785889  4861600  \n",
       "2006-01-05 05:00:00+00:00  110.742340  3717400  \n",
       "2006-01-06 05:00:00+00:00  112.311401  4319600  \n",
       "2006-01-09 05:00:00+00:00  113.662605  4723500  "
      ]
     },
     "execution_count": 79,
     "metadata": {},
     "output_type": "execute_result"
    }
   ],
   "source": [
    "# tz naiive -> tz aware..... to desired UTC\n",
    "(gs.tz_localize('US/Eastern').\n",
    "    # tz_convert('UTC').\n",
    "    head()\n",
    ")\n",
    "\n",
    "(gs.tz_localize('US/Eastern').\n",
    "    tz_convert('UTC').\n",
    "    head()\n",
    ")"
   ]
  },
  {
   "cell_type": "markdown",
   "metadata": {},
   "source": [
    "# Modelling Timeseries\n",
    "## Won't work as this depends on \"utils\" which seems to be local to the author of the webpage"
   ]
  },
  {
   "cell_type": "code",
   "execution_count": 80,
   "metadata": {
    "collapsed": false
   },
   "outputs": [
    {
     "ename": "ImportError",
     "evalue": "No module named 'utils'",
     "output_type": "error",
     "traceback": [
      "\u001b[0;31m\u001b[0m",
      "\u001b[0;31mImportError\u001b[0mTraceback (most recent call last)",
      "\u001b[0;32m<ipython-input-80-8443616e805e>\u001b[0m in \u001b[0;36m<module>\u001b[0;34m()\u001b[0m\n\u001b[1;32m      3\u001b[0m \u001b[0;32mimport\u001b[0m \u001b[0mglob\u001b[0m\u001b[0;34m\u001b[0m\u001b[0m\n\u001b[1;32m      4\u001b[0m \u001b[0;32mimport\u001b[0m \u001b[0mzipfile\u001b[0m\u001b[0;34m\u001b[0m\u001b[0m\n\u001b[0;32m----> 5\u001b[0;31m \u001b[0;32mfrom\u001b[0m \u001b[0mutils\u001b[0m \u001b[0;32mimport\u001b[0m \u001b[0mdownload_timeseries\u001b[0m\u001b[0;34m\u001b[0m\u001b[0m\n\u001b[0m\u001b[1;32m      6\u001b[0m \u001b[0;34m\u001b[0m\u001b[0m\n\u001b[1;32m      7\u001b[0m \u001b[0;32mimport\u001b[0m \u001b[0mstatsmodels\u001b[0m\u001b[0;34m.\u001b[0m\u001b[0mapi\u001b[0m \u001b[0;32mas\u001b[0m \u001b[0msm\u001b[0m\u001b[0;34m\u001b[0m\u001b[0m\n",
      "\u001b[0;31mImportError\u001b[0m: No module named 'utils'"
     ]
    }
   ],
   "source": [
    "import os\n",
    "import io\n",
    "import glob\n",
    "import zipfile\n",
    "from utils import download_timeseries\n",
    "\n",
    "import statsmodels.api as sm\n",
    "\n",
    "\n",
    "def download_many(start, end):\n",
    "    months = pd.period_range(start, end=end, freq='M')\n",
    "    # We could easily parallelize this loop.\n",
    "    for i, month in enumerate(months):\n",
    "        download_timeseries(month)\n",
    "\n",
    "\n",
    "def time_to_datetime(df, columns):\n",
    "    '''\n",
    "    Combine all time items into datetimes.\n",
    "\n",
    "    2014-01-01,1149.0 -> 2014-01-01T11:49:00\n",
    "    '''\n",
    "    def converter(col):\n",
    "        timepart = (col.astype(str)\n",
    "                       .str.replace('\\.0$', '')  # NaNs force float dtype\n",
    "                       .str.pad(4, fillchar='0'))\n",
    "        return  pd.to_datetime(df['fl_date'] + ' ' +\n",
    "                               timepart.str.slice(0, 2) + ':' +\n",
    "                               timepart.str.slice(2, 4),\n",
    "                               errors='coerce')\n",
    "        return datetime_part\n",
    "    df[columns] = df[columns].apply(converter)\n",
    "    return df\n",
    "\n",
    "\n",
    "def read_one(fp):\n",
    "    df = (pd.read_csv(fp, encoding='latin1')\n",
    "            .rename(columns=str.lower)\n",
    "            .drop('unnamed: 6', axis=1)\n",
    "            .pipe(time_to_datetime, ['dep_time', 'arr_time', 'crs_arr_time',\n",
    "                                     'crs_dep_time'])\n",
    "            .assign(fl_date=lambda x: pd.to_datetime(x['fl_date'])))\n",
    "    return df"
   ]
  }
 ],
 "metadata": {
  "anaconda-cloud": {},
  "kernelspec": {
   "display_name": "Python [default]",
   "language": "python",
   "name": "python3"
  },
  "language_info": {
   "codemirror_mode": {
    "name": "ipython",
    "version": 3
   },
   "file_extension": ".py",
   "mimetype": "text/x-python",
   "name": "python",
   "nbconvert_exporter": "python",
   "pygments_lexer": "ipython3",
   "version": "3.5.2"
  }
 },
 "nbformat": 4,
 "nbformat_minor": 1
}
